{
 "cells": [
  {
   "cell_type": "code",
   "execution_count": 1,
   "metadata": {},
   "outputs": [],
   "source": [
    "import os\n",
    "import pandas as pd\n",
    "import numpy as np\n",
    "import warnings\n",
    "warnings.filterwarnings('ignore')\n",
    "import datetime\n",
    "import dsp as dsp\n",
    "    "
   ]
  },
  {
   "cell_type": "markdown",
   "metadata": {},
   "source": [
    "# Daily selection"
   ]
  },
  {
   "cell_type": "markdown",
   "metadata": {},
   "source": [
    "___"
   ]
  },
  {
   "cell_type": "markdown",
   "metadata": {},
   "source": [
    "### Simples"
   ]
  },
  {
   "cell_type": "code",
   "execution_count": 2,
   "metadata": {},
   "outputs": [
    {
     "data": {
      "text/html": [
       "<div>\n",
       "<style scoped>\n",
       "    .dataframe tbody tr th:only-of-type {\n",
       "        vertical-align: middle;\n",
       "    }\n",
       "\n",
       "    .dataframe tbody tr th {\n",
       "        vertical-align: top;\n",
       "    }\n",
       "\n",
       "    .dataframe thead th {\n",
       "        text-align: right;\n",
       "    }\n",
       "</style>\n",
       "<table border=\"1\" class=\"dataframe\">\n",
       "  <thead>\n",
       "    <tr style=\"text-align: right;\">\n",
       "      <th></th>\n",
       "      <th>hora</th>\n",
       "      <th>date</th>\n",
       "      <th>area_league</th>\n",
       "      <th>team1</th>\n",
       "      <th>team2</th>\n",
       "      <th>team1_odds</th>\n",
       "      <th>draw_odds</th>\n",
       "      <th>team2_odds</th>\n",
       "      <th>objetivo</th>\n",
       "    </tr>\n",
       "  </thead>\n",
       "  <tbody>\n",
       "    <tr>\n",
       "      <th>18</th>\n",
       "      <td>19:15</td>\n",
       "      <td>2020-07-07</td>\n",
       "      <td>/soccer/england/premier-league/arsenal-leicest...</td>\n",
       "      <td>Arsenal</td>\n",
       "      <td>Leicester</td>\n",
       "      <td>2.35</td>\n",
       "      <td>3.50</td>\n",
       "      <td>3.11</td>\n",
       "      <td>TEAM1</td>\n",
       "    </tr>\n",
       "    <tr>\n",
       "      <th>20</th>\n",
       "      <td>20:00</td>\n",
       "      <td>2020-07-07</td>\n",
       "      <td>/soccer/spain/laliga/celta-vigo-atl-madrid-pns...</td>\n",
       "      <td>CeltaVigo</td>\n",
       "      <td>Atl.Madrid</td>\n",
       "      <td>4.18</td>\n",
       "      <td>3.27</td>\n",
       "      <td>2.04</td>\n",
       "      <td>TEAM1</td>\n",
       "    </tr>\n",
       "    <tr>\n",
       "      <th>19</th>\n",
       "      <td>17:30</td>\n",
       "      <td>2020-07-07</td>\n",
       "      <td>/soccer/spain/laliga/valencia-valladolid-4jE43...</td>\n",
       "      <td>Valencia</td>\n",
       "      <td>Valladolid</td>\n",
       "      <td>1.98</td>\n",
       "      <td>3.27</td>\n",
       "      <td>4.43</td>\n",
       "      <td>TEAM1</td>\n",
       "    </tr>\n",
       "  </tbody>\n",
       "</table>\n",
       "</div>"
      ],
      "text/plain": [
       "     hora        date                                        area_league  \\\n",
       "18  19:15  2020-07-07  /soccer/england/premier-league/arsenal-leicest...   \n",
       "20  20:00  2020-07-07  /soccer/spain/laliga/celta-vigo-atl-madrid-pns...   \n",
       "19  17:30  2020-07-07  /soccer/spain/laliga/valencia-valladolid-4jE43...   \n",
       "\n",
       "        team1       team2  team1_odds  draw_odds  team2_odds objetivo  \n",
       "18    Arsenal   Leicester        2.35       3.50        3.11    TEAM1  \n",
       "20  CeltaVigo  Atl.Madrid        4.18       3.27        2.04    TEAM1  \n",
       "19   Valencia  Valladolid        1.98       3.27        4.43    TEAM1  "
      ]
     },
     "execution_count": 2,
     "metadata": {},
     "output_type": "execute_result"
    }
   ],
   "source": [
    "df_prediccion = dsp.load_data(tbl=\"tbl_prediccion_machin7\")\n",
    "dsp.daily_prediction(df_prediccion)"
   ]
  },
  {
   "cell_type": "markdown",
   "metadata": {},
   "source": [
    "### ONE-SHOT"
   ]
  },
  {
   "cell_type": "code",
   "execution_count": 3,
   "metadata": {},
   "outputs": [
    {
     "data": {
      "text/html": [
       "<div>\n",
       "<style scoped>\n",
       "    .dataframe tbody tr th:only-of-type {\n",
       "        vertical-align: middle;\n",
       "    }\n",
       "\n",
       "    .dataframe tbody tr th {\n",
       "        vertical-align: top;\n",
       "    }\n",
       "\n",
       "    .dataframe thead th {\n",
       "        text-align: right;\n",
       "    }\n",
       "</style>\n",
       "<table border=\"1\" class=\"dataframe\">\n",
       "  <thead>\n",
       "    <tr style=\"text-align: right;\">\n",
       "      <th></th>\n",
       "      <th>hora</th>\n",
       "      <th>date</th>\n",
       "      <th>area_league</th>\n",
       "      <th>team1</th>\n",
       "      <th>team2</th>\n",
       "      <th>team1_odds</th>\n",
       "      <th>draw_odds</th>\n",
       "      <th>team2_odds</th>\n",
       "      <th>objetivo</th>\n",
       "    </tr>\n",
       "  </thead>\n",
       "  <tbody>\n",
       "    <tr>\n",
       "      <th>6</th>\n",
       "      <td>17:30</td>\n",
       "      <td>2020-07-07</td>\n",
       "      <td>/soccer/spain/laliga/valencia-valladolid-4jE43...</td>\n",
       "      <td>Valencia</td>\n",
       "      <td>Valladolid</td>\n",
       "      <td>1.98</td>\n",
       "      <td>3.27</td>\n",
       "      <td>4.43</td>\n",
       "      <td>TEAM1</td>\n",
       "    </tr>\n",
       "  </tbody>\n",
       "</table>\n",
       "</div>"
      ],
      "text/plain": [
       "    hora        date                                        area_league  \\\n",
       "6  17:30  2020-07-07  /soccer/spain/laliga/valencia-valladolid-4jE43...   \n",
       "\n",
       "      team1       team2  team1_odds  draw_odds  team2_odds objetivo  \n",
       "6  Valencia  Valladolid        1.98       3.27        4.43    TEAM1  "
      ]
     },
     "execution_count": 3,
     "metadata": {},
     "output_type": "execute_result"
    }
   ],
   "source": [
    "df_prediccion = dsp.load_data(tbl=\"tbl_prediccion_machin8\")\n",
    "dsp.daily_prediction(df_prediccion)"
   ]
  },
  {
   "cell_type": "markdown",
   "metadata": {},
   "source": [
    "### DOBLE en secuencia"
   ]
  },
  {
   "cell_type": "code",
   "execution_count": 4,
   "metadata": {},
   "outputs": [
    {
     "data": {
      "text/html": [
       "<div>\n",
       "<style scoped>\n",
       "    .dataframe tbody tr th:only-of-type {\n",
       "        vertical-align: middle;\n",
       "    }\n",
       "\n",
       "    .dataframe tbody tr th {\n",
       "        vertical-align: top;\n",
       "    }\n",
       "\n",
       "    .dataframe thead th {\n",
       "        text-align: right;\n",
       "    }\n",
       "</style>\n",
       "<table border=\"1\" class=\"dataframe\">\n",
       "  <thead>\n",
       "    <tr style=\"text-align: right;\">\n",
       "      <th></th>\n",
       "      <th>hora</th>\n",
       "      <th>date</th>\n",
       "      <th>area_league</th>\n",
       "      <th>team1</th>\n",
       "      <th>team2</th>\n",
       "      <th>team1_odds</th>\n",
       "      <th>draw_odds</th>\n",
       "      <th>team2_odds</th>\n",
       "      <th>objetivo</th>\n",
       "    </tr>\n",
       "  </thead>\n",
       "  <tbody>\n",
       "    <tr>\n",
       "      <th>12</th>\n",
       "      <td>17:30</td>\n",
       "      <td>2020-07-07</td>\n",
       "      <td>/soccer/spain/laliga/valencia-valladolid-4jE43...</td>\n",
       "      <td>Valencia</td>\n",
       "      <td>Valladolid</td>\n",
       "      <td>1.98</td>\n",
       "      <td>3.27</td>\n",
       "      <td>4.43</td>\n",
       "      <td>TEAM1</td>\n",
       "    </tr>\n",
       "  </tbody>\n",
       "</table>\n",
       "</div>"
      ],
      "text/plain": [
       "     hora        date                                        area_league  \\\n",
       "12  17:30  2020-07-07  /soccer/spain/laliga/valencia-valladolid-4jE43...   \n",
       "\n",
       "       team1       team2  team1_odds  draw_odds  team2_odds objetivo  \n",
       "12  Valencia  Valladolid        1.98       3.27        4.43    TEAM1  "
      ]
     },
     "execution_count": 4,
     "metadata": {},
     "output_type": "execute_result"
    }
   ],
   "source": [
    "df_prediccion = dsp.load_data(tbl=\"tbl_prediccion_machin9\")\n",
    "dsp.daily_prediction(df_prediccion)"
   ]
  },
  {
   "cell_type": "markdown",
   "metadata": {},
   "source": [
    "### TAN!! SPECIAL SELECTION"
   ]
  },
  {
   "cell_type": "code",
   "execution_count": 5,
   "metadata": {},
   "outputs": [
    {
     "data": {
      "text/html": [
       "<div>\n",
       "<style scoped>\n",
       "    .dataframe tbody tr th:only-of-type {\n",
       "        vertical-align: middle;\n",
       "    }\n",
       "\n",
       "    .dataframe tbody tr th {\n",
       "        vertical-align: top;\n",
       "    }\n",
       "\n",
       "    .dataframe thead th {\n",
       "        text-align: right;\n",
       "    }\n",
       "</style>\n",
       "<table border=\"1\" class=\"dataframe\">\n",
       "  <thead>\n",
       "    <tr style=\"text-align: right;\">\n",
       "      <th></th>\n",
       "      <th>hora</th>\n",
       "      <th>date</th>\n",
       "      <th>area_league</th>\n",
       "      <th>team1</th>\n",
       "      <th>team2</th>\n",
       "      <th>team1_odds</th>\n",
       "      <th>draw_odds</th>\n",
       "      <th>team2_odds</th>\n",
       "      <th>objetivo</th>\n",
       "    </tr>\n",
       "  </thead>\n",
       "  <tbody>\n",
       "    <tr>\n",
       "      <th>59</th>\n",
       "      <td>18:00</td>\n",
       "      <td>2020-07-07</td>\n",
       "      <td>/soccer/bulgaria/parva-liga/botev-plovdiv-etar...</td>\n",
       "      <td>BotevPlovdiv</td>\n",
       "      <td>Etar</td>\n",
       "      <td>1.90</td>\n",
       "      <td>3.37</td>\n",
       "      <td>3.85</td>\n",
       "      <td>TEAM1</td>\n",
       "    </tr>\n",
       "    <tr>\n",
       "      <th>57</th>\n",
       "      <td>17:00</td>\n",
       "      <td>2020-07-07</td>\n",
       "      <td>/soccer/england/premier-league/watford-norwich...</td>\n",
       "      <td>Watford</td>\n",
       "      <td>Norwich</td>\n",
       "      <td>1.68</td>\n",
       "      <td>3.95</td>\n",
       "      <td>5.42</td>\n",
       "      <td>TEAM1</td>\n",
       "    </tr>\n",
       "    <tr>\n",
       "      <th>60</th>\n",
       "      <td>17:00</td>\n",
       "      <td>2020-07-07</td>\n",
       "      <td>/soccer/norway/obos-ligaen/lillestrom-ham-kam-...</td>\n",
       "      <td>Lillestrom</td>\n",
       "      <td>Ham-Kam</td>\n",
       "      <td>1.47</td>\n",
       "      <td>4.44</td>\n",
       "      <td>6.30</td>\n",
       "      <td>TEAM1</td>\n",
       "    </tr>\n",
       "    <tr>\n",
       "      <th>58</th>\n",
       "      <td>18:30</td>\n",
       "      <td>2020-07-07</td>\n",
       "      <td>/soccer/switzerland/super-league/xamax-zurich-...</td>\n",
       "      <td>Xamax</td>\n",
       "      <td>Zurich</td>\n",
       "      <td>2.94</td>\n",
       "      <td>3.65</td>\n",
       "      <td>2.24</td>\n",
       "      <td>TEAM2</td>\n",
       "    </tr>\n",
       "  </tbody>\n",
       "</table>\n",
       "</div>"
      ],
      "text/plain": [
       "     hora        date                                        area_league  \\\n",
       "59  18:00  2020-07-07  /soccer/bulgaria/parva-liga/botev-plovdiv-etar...   \n",
       "57  17:00  2020-07-07  /soccer/england/premier-league/watford-norwich...   \n",
       "60  17:00  2020-07-07  /soccer/norway/obos-ligaen/lillestrom-ham-kam-...   \n",
       "58  18:30  2020-07-07  /soccer/switzerland/super-league/xamax-zurich-...   \n",
       "\n",
       "           team1    team2  team1_odds  draw_odds  team2_odds objetivo  \n",
       "59  BotevPlovdiv     Etar        1.90       3.37        3.85    TEAM1  \n",
       "57       Watford  Norwich        1.68       3.95        5.42    TEAM1  \n",
       "60    Lillestrom  Ham-Kam        1.47       4.44        6.30    TEAM1  \n",
       "58         Xamax   Zurich        2.94       3.65        2.24    TEAM2  "
      ]
     },
     "execution_count": 5,
     "metadata": {},
     "output_type": "execute_result"
    }
   ],
   "source": [
    "df_prediccion = dsp.load_data(tbl=\"tbl_prediccion_machinTAN\")\n",
    "dsp.daily_prediction(df_prediccion)"
   ]
  },
  {
   "cell_type": "markdown",
   "metadata": {},
   "source": [
    "___"
   ]
  },
  {
   "cell_type": "markdown",
   "metadata": {},
   "source": [
    "### Daily predictions machin3."
   ]
  },
  {
   "cell_type": "code",
   "execution_count": 6,
   "metadata": {},
   "outputs": [
    {
     "data": {
      "text/html": [
       "<div>\n",
       "<style scoped>\n",
       "    .dataframe tbody tr th:only-of-type {\n",
       "        vertical-align: middle;\n",
       "    }\n",
       "\n",
       "    .dataframe tbody tr th {\n",
       "        vertical-align: top;\n",
       "    }\n",
       "\n",
       "    .dataframe thead th {\n",
       "        text-align: right;\n",
       "    }\n",
       "</style>\n",
       "<table border=\"1\" class=\"dataframe\">\n",
       "  <thead>\n",
       "    <tr style=\"text-align: right;\">\n",
       "      <th></th>\n",
       "      <th>hora</th>\n",
       "      <th>date</th>\n",
       "      <th>area_league</th>\n",
       "      <th>team1</th>\n",
       "      <th>team2</th>\n",
       "      <th>team1_odds</th>\n",
       "      <th>draw_odds</th>\n",
       "      <th>team2_odds</th>\n",
       "      <th>objetivo</th>\n",
       "    </tr>\n",
       "  </thead>\n",
       "  <tbody>\n",
       "    <tr>\n",
       "      <th>54</th>\n",
       "      <td>18:00</td>\n",
       "      <td>2020-07-07</td>\n",
       "      <td>/soccer/czech-republic/1-liga/bohemians-1905-m...</td>\n",
       "      <td>Bohemians1905</td>\n",
       "      <td>MladaBoleslav</td>\n",
       "      <td>1.99</td>\n",
       "      <td>3.51</td>\n",
       "      <td>3.61</td>\n",
       "      <td>TEAM1</td>\n",
       "    </tr>\n",
       "  </tbody>\n",
       "</table>\n",
       "</div>"
      ],
      "text/plain": [
       "     hora        date                                        area_league  \\\n",
       "54  18:00  2020-07-07  /soccer/czech-republic/1-liga/bohemians-1905-m...   \n",
       "\n",
       "            team1          team2  team1_odds  draw_odds  team2_odds objetivo  \n",
       "54  Bohemians1905  MladaBoleslav        1.99       3.51        3.61    TEAM1  "
      ]
     },
     "execution_count": 6,
     "metadata": {},
     "output_type": "execute_result"
    }
   ],
   "source": [
    "df_prediccion = dsp.load_data(tbl=\"tbl_prediccion_machin3\")\n",
    "dsp.daily_prediction(df_prediccion)"
   ]
  },
  {
   "cell_type": "markdown",
   "metadata": {},
   "source": [
    "### Daily predictions machin6  "
   ]
  },
  {
   "cell_type": "markdown",
   "metadata": {},
   "source": [
    "Objetivo > .50 TEAM1  | Objetivo < .50 TEAM2"
   ]
  },
  {
   "cell_type": "code",
   "execution_count": 7,
   "metadata": {},
   "outputs": [
    {
     "data": {
      "text/html": [
       "<div>\n",
       "<style scoped>\n",
       "    .dataframe tbody tr th:only-of-type {\n",
       "        vertical-align: middle;\n",
       "    }\n",
       "\n",
       "    .dataframe tbody tr th {\n",
       "        vertical-align: top;\n",
       "    }\n",
       "\n",
       "    .dataframe thead th {\n",
       "        text-align: right;\n",
       "    }\n",
       "</style>\n",
       "<table border=\"1\" class=\"dataframe\">\n",
       "  <thead>\n",
       "    <tr style=\"text-align: right;\">\n",
       "      <th></th>\n",
       "      <th>hora</th>\n",
       "      <th>date</th>\n",
       "      <th>area_league</th>\n",
       "      <th>team1</th>\n",
       "      <th>team2</th>\n",
       "      <th>team1_odds</th>\n",
       "      <th>draw_odds</th>\n",
       "      <th>team2_odds</th>\n",
       "      <th>objetivo</th>\n",
       "    </tr>\n",
       "  </thead>\n",
       "  <tbody>\n",
       "    <tr>\n",
       "      <th>311</th>\n",
       "      <td>18:00</td>\n",
       "      <td>2020-07-07</td>\n",
       "      <td>/soccer/slovenia/prva-liga/celje-domzale-nLOTW...</td>\n",
       "      <td>Celje</td>\n",
       "      <td>Domzale</td>\n",
       "      <td>1.70</td>\n",
       "      <td>3.70</td>\n",
       "      <td>4.15</td>\n",
       "      <td>0.647381</td>\n",
       "    </tr>\n",
       "    <tr>\n",
       "      <th>309</th>\n",
       "      <td>17:30</td>\n",
       "      <td>2020-07-07</td>\n",
       "      <td>/soccer/spain/laliga/valencia-valladolid-4jE43...</td>\n",
       "      <td>Valencia</td>\n",
       "      <td>Valladolid</td>\n",
       "      <td>1.98</td>\n",
       "      <td>3.27</td>\n",
       "      <td>4.43</td>\n",
       "      <td>0.628665</td>\n",
       "    </tr>\n",
       "    <tr>\n",
       "      <th>314</th>\n",
       "      <td>17:00</td>\n",
       "      <td>2020-07-07</td>\n",
       "      <td>/soccer/england/premier-league/watford-norwich...</td>\n",
       "      <td>Watford</td>\n",
       "      <td>Norwich</td>\n",
       "      <td>1.68</td>\n",
       "      <td>3.95</td>\n",
       "      <td>5.42</td>\n",
       "      <td>0.608997</td>\n",
       "    </tr>\n",
       "    <tr>\n",
       "      <th>315</th>\n",
       "      <td>19:15</td>\n",
       "      <td>2020-07-07</td>\n",
       "      <td>/soccer/england/premier-league/arsenal-leicest...</td>\n",
       "      <td>Arsenal</td>\n",
       "      <td>Leicester</td>\n",
       "      <td>2.35</td>\n",
       "      <td>3.50</td>\n",
       "      <td>3.11</td>\n",
       "      <td>0.599282</td>\n",
       "    </tr>\n",
       "    <tr>\n",
       "      <th>318</th>\n",
       "      <td>16:00</td>\n",
       "      <td>2020-07-07</td>\n",
       "      <td>/soccer/estonia/esiliiga/tammeka-tartu-nomme-u...</td>\n",
       "      <td>TammekaU21</td>\n",
       "      <td>NommeUtd</td>\n",
       "      <td>6.05</td>\n",
       "      <td>5.26</td>\n",
       "      <td>1.34</td>\n",
       "      <td>0.525719</td>\n",
       "    </tr>\n",
       "    <tr>\n",
       "      <th>310</th>\n",
       "      <td>20:00</td>\n",
       "      <td>2020-07-07</td>\n",
       "      <td>/soccer/spain/laliga/celta-vigo-atl-madrid-pns...</td>\n",
       "      <td>CeltaVigo</td>\n",
       "      <td>Atl.Madrid</td>\n",
       "      <td>4.18</td>\n",
       "      <td>3.27</td>\n",
       "      <td>2.04</td>\n",
       "      <td>0.525719</td>\n",
       "    </tr>\n",
       "    <tr>\n",
       "      <th>312</th>\n",
       "      <td>18:30</td>\n",
       "      <td>2020-07-07</td>\n",
       "      <td>/soccer/switzerland/super-league/xamax-zurich-...</td>\n",
       "      <td>Xamax</td>\n",
       "      <td>Zurich</td>\n",
       "      <td>2.94</td>\n",
       "      <td>3.65</td>\n",
       "      <td>2.24</td>\n",
       "      <td>0.440180</td>\n",
       "    </tr>\n",
       "    <tr>\n",
       "      <th>307</th>\n",
       "      <td>17:30</td>\n",
       "      <td>2020-07-07</td>\n",
       "      <td>/soccer/italy/serie-a/lecce-lazio-2ZFKtbSi/</td>\n",
       "      <td>Lecce</td>\n",
       "      <td>Lazio</td>\n",
       "      <td>9.08</td>\n",
       "      <td>5.40</td>\n",
       "      <td>1.35</td>\n",
       "      <td>0.306465</td>\n",
       "    </tr>\n",
       "    <tr>\n",
       "      <th>316</th>\n",
       "      <td>18:00</td>\n",
       "      <td>2020-07-07</td>\n",
       "      <td>/soccer/bulgaria/parva-liga/botev-plovdiv-etar...</td>\n",
       "      <td>BotevPlovdiv</td>\n",
       "      <td>Etar</td>\n",
       "      <td>1.90</td>\n",
       "      <td>3.37</td>\n",
       "      <td>3.85</td>\n",
       "      <td>0.266142</td>\n",
       "    </tr>\n",
       "    <tr>\n",
       "      <th>317</th>\n",
       "      <td>17:00</td>\n",
       "      <td>2020-07-07</td>\n",
       "      <td>/soccer/norway/obos-ligaen/lillestrom-ham-kam-...</td>\n",
       "      <td>Lillestrom</td>\n",
       "      <td>Ham-Kam</td>\n",
       "      <td>1.47</td>\n",
       "      <td>4.44</td>\n",
       "      <td>6.30</td>\n",
       "      <td>0.246488</td>\n",
       "    </tr>\n",
       "    <tr>\n",
       "      <th>313</th>\n",
       "      <td>17:00</td>\n",
       "      <td>2020-07-07</td>\n",
       "      <td>/soccer/england/premier-league/crystal-palace-...</td>\n",
       "      <td>CrystalPalace</td>\n",
       "      <td>Chelsea</td>\n",
       "      <td>7.67</td>\n",
       "      <td>4.43</td>\n",
       "      <td>1.47</td>\n",
       "      <td>0.230857</td>\n",
       "    </tr>\n",
       "    <tr>\n",
       "      <th>308</th>\n",
       "      <td>19:45</td>\n",
       "      <td>2020-07-07</td>\n",
       "      <td>/soccer/italy/serie-a/ac-milan-juventus-lWBGsvDo/</td>\n",
       "      <td>ACMilan</td>\n",
       "      <td>Juventus</td>\n",
       "      <td>3.56</td>\n",
       "      <td>3.45</td>\n",
       "      <td>2.15</td>\n",
       "      <td>0.205932</td>\n",
       "    </tr>\n",
       "  </tbody>\n",
       "</table>\n",
       "</div>"
      ],
      "text/plain": [
       "      hora        date                                        area_league  \\\n",
       "311  18:00  2020-07-07  /soccer/slovenia/prva-liga/celje-domzale-nLOTW...   \n",
       "309  17:30  2020-07-07  /soccer/spain/laliga/valencia-valladolid-4jE43...   \n",
       "314  17:00  2020-07-07  /soccer/england/premier-league/watford-norwich...   \n",
       "315  19:15  2020-07-07  /soccer/england/premier-league/arsenal-leicest...   \n",
       "318  16:00  2020-07-07  /soccer/estonia/esiliiga/tammeka-tartu-nomme-u...   \n",
       "310  20:00  2020-07-07  /soccer/spain/laliga/celta-vigo-atl-madrid-pns...   \n",
       "312  18:30  2020-07-07  /soccer/switzerland/super-league/xamax-zurich-...   \n",
       "307  17:30  2020-07-07        /soccer/italy/serie-a/lecce-lazio-2ZFKtbSi/   \n",
       "316  18:00  2020-07-07  /soccer/bulgaria/parva-liga/botev-plovdiv-etar...   \n",
       "317  17:00  2020-07-07  /soccer/norway/obos-ligaen/lillestrom-ham-kam-...   \n",
       "313  17:00  2020-07-07  /soccer/england/premier-league/crystal-palace-...   \n",
       "308  19:45  2020-07-07  /soccer/italy/serie-a/ac-milan-juventus-lWBGsvDo/   \n",
       "\n",
       "             team1       team2  team1_odds  draw_odds  team2_odds  objetivo  \n",
       "311          Celje     Domzale        1.70       3.70        4.15  0.647381  \n",
       "309       Valencia  Valladolid        1.98       3.27        4.43  0.628665  \n",
       "314        Watford     Norwich        1.68       3.95        5.42  0.608997  \n",
       "315        Arsenal   Leicester        2.35       3.50        3.11  0.599282  \n",
       "318     TammekaU21    NommeUtd        6.05       5.26        1.34  0.525719  \n",
       "310      CeltaVigo  Atl.Madrid        4.18       3.27        2.04  0.525719  \n",
       "312          Xamax      Zurich        2.94       3.65        2.24  0.440180  \n",
       "307          Lecce       Lazio        9.08       5.40        1.35  0.306465  \n",
       "316   BotevPlovdiv        Etar        1.90       3.37        3.85  0.266142  \n",
       "317     Lillestrom     Ham-Kam        1.47       4.44        6.30  0.246488  \n",
       "313  CrystalPalace     Chelsea        7.67       4.43        1.47  0.230857  \n",
       "308        ACMilan    Juventus        3.56       3.45        2.15  0.205932  "
      ]
     },
     "execution_count": 7,
     "metadata": {},
     "output_type": "execute_result"
    }
   ],
   "source": [
    "df_prediccion = dsp.load_data(tbl=\"tbl_prediccion_machin6\")\n",
    "dp = dsp.daily_prediction(df_prediccion)\n",
    "dp.sort_values(by=['objetivo'],ascending=False)"
   ]
  },
  {
   "cell_type": "markdown",
   "metadata": {},
   "source": [
    "___"
   ]
  },
  {
   "cell_type": "markdown",
   "metadata": {},
   "source": [
    "## EXPERIMENTAL "
   ]
  },
  {
   "cell_type": "markdown",
   "metadata": {},
   "source": [
    "### Daily model 53"
   ]
  },
  {
   "cell_type": "code",
   "execution_count": 8,
   "metadata": {},
   "outputs": [
    {
     "data": {
      "text/html": [
       "<div>\n",
       "<style scoped>\n",
       "    .dataframe tbody tr th:only-of-type {\n",
       "        vertical-align: middle;\n",
       "    }\n",
       "\n",
       "    .dataframe tbody tr th {\n",
       "        vertical-align: top;\n",
       "    }\n",
       "\n",
       "    .dataframe thead th {\n",
       "        text-align: right;\n",
       "    }\n",
       "</style>\n",
       "<table border=\"1\" class=\"dataframe\">\n",
       "  <thead>\n",
       "    <tr style=\"text-align: right;\">\n",
       "      <th></th>\n",
       "      <th>hora</th>\n",
       "      <th>date</th>\n",
       "      <th>area_league</th>\n",
       "      <th>team1</th>\n",
       "      <th>team2</th>\n",
       "      <th>team1_odds</th>\n",
       "      <th>draw_odds</th>\n",
       "      <th>team2_odds</th>\n",
       "      <th>objetivo</th>\n",
       "    </tr>\n",
       "  </thead>\n",
       "  <tbody>\n",
       "    <tr>\n",
       "      <th>28</th>\n",
       "      <td>15:30</td>\n",
       "      <td>2020-07-07</td>\n",
       "      <td>/soccer/turkey/super-lig/genclerbirligi-fenerb...</td>\n",
       "      <td>Genclerbirligi</td>\n",
       "      <td>Fenerbahce</td>\n",
       "      <td>3.95</td>\n",
       "      <td>3.81</td>\n",
       "      <td>1.87</td>\n",
       "      <td>TEAM2</td>\n",
       "    </tr>\n",
       "  </tbody>\n",
       "</table>\n",
       "</div>"
      ],
      "text/plain": [
       "     hora        date                                        area_league  \\\n",
       "28  15:30  2020-07-07  /soccer/turkey/super-lig/genclerbirligi-fenerb...   \n",
       "\n",
       "             team1       team2  team1_odds  draw_odds  team2_odds objetivo  \n",
       "28  Genclerbirligi  Fenerbahce        3.95       3.81        1.87    TEAM2  "
      ]
     },
     "execution_count": 8,
     "metadata": {},
     "output_type": "execute_result"
    }
   ],
   "source": [
    "df_prediccion = dsp.load_data(tbl=\"tbl_prediccion_53\")\n",
    "dsp.daily_prediction(df_prediccion)"
   ]
  },
  {
   "cell_type": "code",
   "execution_count": 9,
   "metadata": {},
   "outputs": [
    {
     "data": {
      "text/html": [
       "<div>\n",
       "<style scoped>\n",
       "    .dataframe tbody tr th:only-of-type {\n",
       "        vertical-align: middle;\n",
       "    }\n",
       "\n",
       "    .dataframe tbody tr th {\n",
       "        vertical-align: top;\n",
       "    }\n",
       "\n",
       "    .dataframe thead th {\n",
       "        text-align: right;\n",
       "    }\n",
       "</style>\n",
       "<table border=\"1\" class=\"dataframe\">\n",
       "  <thead>\n",
       "    <tr style=\"text-align: right;\">\n",
       "      <th></th>\n",
       "      <th>hora</th>\n",
       "      <th>date</th>\n",
       "      <th>area_league</th>\n",
       "      <th>team1</th>\n",
       "      <th>team2</th>\n",
       "      <th>team1_odds</th>\n",
       "      <th>draw_odds</th>\n",
       "      <th>team2_odds</th>\n",
       "      <th>objetivo</th>\n",
       "    </tr>\n",
       "  </thead>\n",
       "  <tbody>\n",
       "    <tr>\n",
       "      <th>762</th>\n",
       "      <td>17:30</td>\n",
       "      <td>2020-07-07</td>\n",
       "      <td>/soccer/spain/laliga2/mirandes-elche-OWjZ4qIG/</td>\n",
       "      <td>Mirandes</td>\n",
       "      <td>Elche</td>\n",
       "      <td>2.40</td>\n",
       "      <td>3.00</td>\n",
       "      <td>3.23</td>\n",
       "      <td>TEAM1</td>\n",
       "    </tr>\n",
       "    <tr>\n",
       "      <th>763</th>\n",
       "      <td>18:30</td>\n",
       "      <td>2020-07-07</td>\n",
       "      <td>/soccer/switzerland/super-league/xamax-zurich-...</td>\n",
       "      <td>Xamax</td>\n",
       "      <td>Zurich</td>\n",
       "      <td>2.94</td>\n",
       "      <td>3.65</td>\n",
       "      <td>2.24</td>\n",
       "      <td>TEAM2</td>\n",
       "    </tr>\n",
       "    <tr>\n",
       "      <th>759</th>\n",
       "      <td>15:30</td>\n",
       "      <td>2020-07-07</td>\n",
       "      <td>/soccer/turkey/super-lig/genclerbirligi-fenerb...</td>\n",
       "      <td>Genclerbirligi</td>\n",
       "      <td>Fenerbahce</td>\n",
       "      <td>3.95</td>\n",
       "      <td>3.81</td>\n",
       "      <td>1.87</td>\n",
       "      <td>TEAM2</td>\n",
       "    </tr>\n",
       "  </tbody>\n",
       "</table>\n",
       "</div>"
      ],
      "text/plain": [
       "      hora        date                                        area_league  \\\n",
       "762  17:30  2020-07-07     /soccer/spain/laliga2/mirandes-elche-OWjZ4qIG/   \n",
       "763  18:30  2020-07-07  /soccer/switzerland/super-league/xamax-zurich-...   \n",
       "759  15:30  2020-07-07  /soccer/turkey/super-lig/genclerbirligi-fenerb...   \n",
       "\n",
       "              team1       team2  team1_odds  draw_odds  team2_odds objetivo  \n",
       "762        Mirandes       Elche        2.40       3.00        3.23    TEAM1  \n",
       "763           Xamax      Zurich        2.94       3.65        2.24    TEAM2  \n",
       "759  Genclerbirligi  Fenerbahce        3.95       3.81        1.87    TEAM2  "
      ]
     },
     "execution_count": 9,
     "metadata": {},
     "output_type": "execute_result"
    }
   ],
   "source": [
    "df_prediccion = dsp.load_data(tbl=\"tbl_prediccion_50\")\n",
    "dsp.daily_prediction(df_prediccion)"
   ]
  },
  {
   "cell_type": "markdown",
   "metadata": {},
   "source": [
    "### Daily predictions machin4 EMPATE"
   ]
  },
  {
   "cell_type": "code",
   "execution_count": 10,
   "metadata": {},
   "outputs": [
    {
     "data": {
      "text/html": [
       "<div>\n",
       "<style scoped>\n",
       "    .dataframe tbody tr th:only-of-type {\n",
       "        vertical-align: middle;\n",
       "    }\n",
       "\n",
       "    .dataframe tbody tr th {\n",
       "        vertical-align: top;\n",
       "    }\n",
       "\n",
       "    .dataframe thead th {\n",
       "        text-align: right;\n",
       "    }\n",
       "</style>\n",
       "<table border=\"1\" class=\"dataframe\">\n",
       "  <thead>\n",
       "    <tr style=\"text-align: right;\">\n",
       "      <th></th>\n",
       "      <th>hora</th>\n",
       "      <th>date</th>\n",
       "      <th>area_league</th>\n",
       "      <th>team1</th>\n",
       "      <th>team2</th>\n",
       "      <th>team1_odds</th>\n",
       "      <th>draw_odds</th>\n",
       "      <th>team2_odds</th>\n",
       "      <th>objetivo</th>\n",
       "    </tr>\n",
       "  </thead>\n",
       "  <tbody>\n",
       "  </tbody>\n",
       "</table>\n",
       "</div>"
      ],
      "text/plain": [
       "Empty DataFrame\n",
       "Columns: [hora, date, area_league, team1, team2, team1_odds, draw_odds, team2_odds, objetivo]\n",
       "Index: []"
      ]
     },
     "execution_count": 10,
     "metadata": {},
     "output_type": "execute_result"
    }
   ],
   "source": [
    "df_prediccion = dsp.load_data(tbl=\"tbl_prediccion_machin4\")\n",
    "dsp.daily_prediction(df_prediccion)"
   ]
  },
  {
   "cell_type": "markdown",
   "metadata": {},
   "source": [
    "### Daily predictions machin5"
   ]
  },
  {
   "cell_type": "code",
   "execution_count": 11,
   "metadata": {},
   "outputs": [
    {
     "data": {
      "text/html": [
       "<div>\n",
       "<style scoped>\n",
       "    .dataframe tbody tr th:only-of-type {\n",
       "        vertical-align: middle;\n",
       "    }\n",
       "\n",
       "    .dataframe tbody tr th {\n",
       "        vertical-align: top;\n",
       "    }\n",
       "\n",
       "    .dataframe thead th {\n",
       "        text-align: right;\n",
       "    }\n",
       "</style>\n",
       "<table border=\"1\" class=\"dataframe\">\n",
       "  <thead>\n",
       "    <tr style=\"text-align: right;\">\n",
       "      <th></th>\n",
       "      <th>hora</th>\n",
       "      <th>date</th>\n",
       "      <th>area_league</th>\n",
       "      <th>team1</th>\n",
       "      <th>team2</th>\n",
       "      <th>team1_odds</th>\n",
       "      <th>draw_odds</th>\n",
       "      <th>team2_odds</th>\n",
       "      <th>objetivo</th>\n",
       "    </tr>\n",
       "  </thead>\n",
       "  <tbody>\n",
       "  </tbody>\n",
       "</table>\n",
       "</div>"
      ],
      "text/plain": [
       "Empty DataFrame\n",
       "Columns: [hora, date, area_league, team1, team2, team1_odds, draw_odds, team2_odds, objetivo]\n",
       "Index: []"
      ]
     },
     "execution_count": 11,
     "metadata": {},
     "output_type": "execute_result"
    }
   ],
   "source": [
    "df_prediccion = dsp.load_data(tbl=\"tbl_prediccion_machin5\")\n",
    "dsp.daily_prediction(df_prediccion)"
   ]
  },
  {
   "cell_type": "code",
   "execution_count": null,
   "metadata": {},
   "outputs": [],
   "source": []
  }
 ],
 "metadata": {
  "kernelspec": {
   "display_name": "Python 3",
   "language": "python",
   "name": "python3"
  },
  "language_info": {
   "codemirror_mode": {
    "name": "ipython",
    "version": 3
   },
   "file_extension": ".py",
   "mimetype": "text/x-python",
   "name": "python",
   "nbconvert_exporter": "python",
   "pygments_lexer": "ipython3",
   "version": "3.7.3"
  }
 },
 "nbformat": 4,
 "nbformat_minor": 2
}
