{
 "cells": [
  {
   "cell_type": "code",
   "execution_count": 1,
   "metadata": {},
   "outputs": [],
   "source": [
    "import os\n",
    "import pandas as pd\n",
    "import numpy as np\n",
    "import warnings\n",
    "warnings.filterwarnings('ignore')\n",
    "import datetime\n",
    "import dsp"
   ]
  },
  {
   "cell_type": "markdown",
   "metadata": {},
   "source": [
    "# Daily selection"
   ]
  },
  {
   "cell_type": "markdown",
   "metadata": {},
   "source": [
    "___"
   ]
  },
  {
   "cell_type": "code",
   "execution_count": 2,
   "metadata": {},
   "outputs": [
    {
     "data": {
      "text/html": [
       "<div>\n",
       "<style scoped>\n",
       "    .dataframe tbody tr th:only-of-type {\n",
       "        vertical-align: middle;\n",
       "    }\n",
       "\n",
       "    .dataframe tbody tr th {\n",
       "        vertical-align: top;\n",
       "    }\n",
       "\n",
       "    .dataframe thead th {\n",
       "        text-align: right;\n",
       "    }\n",
       "</style>\n",
       "<table border=\"1\" class=\"dataframe\">\n",
       "  <thead>\n",
       "    <tr style=\"text-align: right;\">\n",
       "      <th></th>\n",
       "      <th>date</th>\n",
       "      <th>hora</th>\n",
       "      <th>sport</th>\n",
       "      <th>area</th>\n",
       "      <th>league</th>\n",
       "      <th>team1</th>\n",
       "      <th>team2</th>\n",
       "      <th>objetivo</th>\n",
       "      <th>odd</th>\n",
       "      <th>criterio</th>\n",
       "      <th>outcome</th>\n",
       "    </tr>\n",
       "  </thead>\n",
       "  <tbody>\n",
       "    <tr>\n",
       "      <th>61</th>\n",
       "      <td>21/06/2021</td>\n",
       "      <td>18:05</td>\n",
       "      <td>baseball</td>\n",
       "      <td>usa</td>\n",
       "      <td>mlb</td>\n",
       "      <td>Baltimore Orioles</td>\n",
       "      <td>Houston Astros</td>\n",
       "      <td>10.5</td>\n",
       "      <td>1.9</td>\n",
       "      <td>100</td>\n",
       "      <td>OVER</td>\n",
       "    </tr>\n",
       "  </tbody>\n",
       "</table>\n",
       "</div>"
      ],
      "text/plain": [
       "          date   hora     sport area league              team1  \\\n",
       "61  21/06/2021  18:05  baseball  usa    mlb  Baltimore Orioles   \n",
       "\n",
       "             team2 objetivo  odd  criterio outcome  \n",
       "61  Houston Astros     10.5  1.9       100    OVER  "
      ]
     },
     "execution_count": 2,
     "metadata": {},
     "output_type": "execute_result"
    }
   ],
   "source": [
    "df_prediccion = dsp.load_data(tbl=\"tbl_prediccion_premium_seleccion\")\n",
    "df=dsp.daily_prediction_criterio(df_prediccion)\n",
    "dsp.correcion_horario(df)"
   ]
  },
  {
   "cell_type": "code",
   "execution_count": 3,
   "metadata": {},
   "outputs": [
    {
     "data": {
      "text/html": [
       "<div>\n",
       "<style scoped>\n",
       "    .dataframe tbody tr th:only-of-type {\n",
       "        vertical-align: middle;\n",
       "    }\n",
       "\n",
       "    .dataframe tbody tr th {\n",
       "        vertical-align: top;\n",
       "    }\n",
       "\n",
       "    .dataframe thead th {\n",
       "        text-align: right;\n",
       "    }\n",
       "</style>\n",
       "<table border=\"1\" class=\"dataframe\">\n",
       "  <thead>\n",
       "    <tr style=\"text-align: right;\">\n",
       "      <th></th>\n",
       "      <th>hora</th>\n",
       "      <th>date</th>\n",
       "      <th>area_league</th>\n",
       "      <th>team1</th>\n",
       "      <th>team2</th>\n",
       "      <th>team1_odds</th>\n",
       "      <th>draw_odds</th>\n",
       "      <th>team2_odds</th>\n",
       "      <th>objetivo</th>\n",
       "    </tr>\n",
       "  </thead>\n",
       "  <tbody>\n",
       "  </tbody>\n",
       "</table>\n",
       "</div>"
      ],
      "text/plain": [
       "Empty DataFrame\n",
       "Columns: [hora, date, area_league, team1, team2, team1_odds, draw_odds, team2_odds, objetivo]\n",
       "Index: []"
      ]
     },
     "execution_count": 3,
     "metadata": {},
     "output_type": "execute_result"
    }
   ],
   "source": [
    "df_prediccion = dsp.load_data(tbl=\"tbl_stevehudson_soccer\")\n",
    "df=dsp.daily_prediction(df_prediccion)\n",
    "dsp.correcion_horario(df)"
   ]
  },
  {
   "cell_type": "code",
   "execution_count": 4,
   "metadata": {},
   "outputs": [
    {
     "data": {
      "text/html": [
       "<div>\n",
       "<style scoped>\n",
       "    .dataframe tbody tr th:only-of-type {\n",
       "        vertical-align: middle;\n",
       "    }\n",
       "\n",
       "    .dataframe tbody tr th {\n",
       "        vertical-align: top;\n",
       "    }\n",
       "\n",
       "    .dataframe thead th {\n",
       "        text-align: right;\n",
       "    }\n",
       "</style>\n",
       "<table border=\"1\" class=\"dataframe\">\n",
       "  <thead>\n",
       "    <tr style=\"text-align: right;\">\n",
       "      <th></th>\n",
       "      <th>date</th>\n",
       "      <th>hora</th>\n",
       "      <th>sport</th>\n",
       "      <th>area</th>\n",
       "      <th>league</th>\n",
       "      <th>team1</th>\n",
       "      <th>team2</th>\n",
       "      <th>objetivo</th>\n",
       "      <th>odd</th>\n",
       "      <th>criterio</th>\n",
       "      <th>outcome</th>\n",
       "    </tr>\n",
       "  </thead>\n",
       "  <tbody>\n",
       "  </tbody>\n",
       "</table>\n",
       "</div>"
      ],
      "text/plain": [
       "Empty DataFrame\n",
       "Columns: [date, hora, sport, area, league, team1, team2, objetivo, odd, criterio, outcome]\n",
       "Index: []"
      ]
     },
     "execution_count": 4,
     "metadata": {},
     "output_type": "execute_result"
    }
   ],
   "source": [
    "df_prediccion = dsp.load_data(tbl=\"tbl_prediccion_premium_ou\")\n",
    "df=dsp.daily_prediction_criterio(df_prediccion)\n",
    "df['objetivo'] = df['objetivo']-5\n",
    "dsp.correcion_horario(df)"
   ]
  },
  {
   "cell_type": "code",
   "execution_count": 5,
   "metadata": {},
   "outputs": [
    {
     "data": {
      "text/html": [
       "<div>\n",
       "<style scoped>\n",
       "    .dataframe tbody tr th:only-of-type {\n",
       "        vertical-align: middle;\n",
       "    }\n",
       "\n",
       "    .dataframe tbody tr th {\n",
       "        vertical-align: top;\n",
       "    }\n",
       "\n",
       "    .dataframe thead th {\n",
       "        text-align: right;\n",
       "    }\n",
       "</style>\n",
       "<table border=\"1\" class=\"dataframe\">\n",
       "  <thead>\n",
       "    <tr style=\"text-align: right;\">\n",
       "      <th></th>\n",
       "      <th>date</th>\n",
       "      <th>hora</th>\n",
       "      <th>sport</th>\n",
       "      <th>area</th>\n",
       "      <th>league</th>\n",
       "      <th>team1</th>\n",
       "      <th>team2</th>\n",
       "      <th>objetivo</th>\n",
       "      <th>odd</th>\n",
       "      <th>criterio</th>\n",
       "      <th>outcome</th>\n",
       "    </tr>\n",
       "  </thead>\n",
       "  <tbody>\n",
       "    <tr>\n",
       "      <th>106</th>\n",
       "      <td>21/06/2021</td>\n",
       "      <td>18:05</td>\n",
       "      <td>baseball</td>\n",
       "      <td>usa</td>\n",
       "      <td>mlb</td>\n",
       "      <td>Baltimore Orioles</td>\n",
       "      <td>Houston Astros</td>\n",
       "      <td>10.5</td>\n",
       "      <td>1.9</td>\n",
       "      <td>100</td>\n",
       "      <td>OVER</td>\n",
       "    </tr>\n",
       "    <tr>\n",
       "      <th>107</th>\n",
       "      <td>21/06/2021</td>\n",
       "      <td>19:05</td>\n",
       "      <td>baseball</td>\n",
       "      <td>usa</td>\n",
       "      <td>mlb</td>\n",
       "      <td>Texas Rangers</td>\n",
       "      <td>Oakland Athletics</td>\n",
       "      <td>8.0</td>\n",
       "      <td>1.9</td>\n",
       "      <td>100</td>\n",
       "      <td>UNDER</td>\n",
       "    </tr>\n",
       "  </tbody>\n",
       "</table>\n",
       "</div>"
      ],
      "text/plain": [
       "           date   hora     sport area league              team1  \\\n",
       "106  21/06/2021  18:05  baseball  usa    mlb  Baltimore Orioles   \n",
       "107  21/06/2021  19:05  baseball  usa    mlb      Texas Rangers   \n",
       "\n",
       "                 team2  objetivo  odd  criterio outcome  \n",
       "106     Houston Astros      10.5  1.9       100    OVER  \n",
       "107  Oakland Athletics       8.0  1.9       100   UNDER  "
      ]
     },
     "execution_count": 5,
     "metadata": {},
     "output_type": "execute_result"
    }
   ],
   "source": [
    "df_prediccion = dsp.load_data(tbl=\"tbl_prediccion_premium_ou_base\")\n",
    "df=dsp.daily_prediction_criterio(df_prediccion)\n",
    "df['objetivo'] = df['objetivo']-2\n",
    "dsp.correcion_horario(df)"
   ]
  },
  {
   "cell_type": "code",
   "execution_count": 6,
   "metadata": {},
   "outputs": [
    {
     "data": {
      "text/html": [
       "<div>\n",
       "<style scoped>\n",
       "    .dataframe tbody tr th:only-of-type {\n",
       "        vertical-align: middle;\n",
       "    }\n",
       "\n",
       "    .dataframe tbody tr th {\n",
       "        vertical-align: top;\n",
       "    }\n",
       "\n",
       "    .dataframe thead th {\n",
       "        text-align: right;\n",
       "    }\n",
       "</style>\n",
       "<table border=\"1\" class=\"dataframe\">\n",
       "  <thead>\n",
       "    <tr style=\"text-align: right;\">\n",
       "      <th></th>\n",
       "      <th>date</th>\n",
       "      <th>hora</th>\n",
       "      <th>sport</th>\n",
       "      <th>area</th>\n",
       "      <th>league</th>\n",
       "      <th>team1</th>\n",
       "      <th>team2</th>\n",
       "      <th>objetivo</th>\n",
       "      <th>odd</th>\n",
       "      <th>criterio</th>\n",
       "      <th>outcome</th>\n",
       "    </tr>\n",
       "  </thead>\n",
       "  <tbody>\n",
       "  </tbody>\n",
       "</table>\n",
       "</div>"
      ],
      "text/plain": [
       "Empty DataFrame\n",
       "Columns: [date, hora, sport, area, league, team1, team2, objetivo, odd, criterio, outcome]\n",
       "Index: []"
      ]
     },
     "execution_count": 6,
     "metadata": {},
     "output_type": "execute_result"
    }
   ],
   "source": [
    "df_prediccion = dsp.load_data(tbl=\"tbl_prediccion_premium_ou_hockey\")\n",
    "df=dsp.daily_prediction_criterio(df_prediccion)\n",
    "df['objetivo'] = df['objetivo']-1\n",
    "dsp.correcion_horario(df)"
   ]
  },
  {
   "cell_type": "code",
   "execution_count": 7,
   "metadata": {},
   "outputs": [
    {
     "data": {
      "text/html": [
       "<div>\n",
       "<style scoped>\n",
       "    .dataframe tbody tr th:only-of-type {\n",
       "        vertical-align: middle;\n",
       "    }\n",
       "\n",
       "    .dataframe tbody tr th {\n",
       "        vertical-align: top;\n",
       "    }\n",
       "\n",
       "    .dataframe thead th {\n",
       "        text-align: right;\n",
       "    }\n",
       "</style>\n",
       "<table border=\"1\" class=\"dataframe\">\n",
       "  <thead>\n",
       "    <tr style=\"text-align: right;\">\n",
       "      <th></th>\n",
       "      <th>date</th>\n",
       "      <th>hora</th>\n",
       "      <th>sport</th>\n",
       "      <th>area</th>\n",
       "      <th>league</th>\n",
       "      <th>team1</th>\n",
       "      <th>team2</th>\n",
       "      <th>objetivo</th>\n",
       "      <th>odd</th>\n",
       "      <th>criterio</th>\n",
       "      <th>outcome</th>\n",
       "    </tr>\n",
       "  </thead>\n",
       "  <tbody>\n",
       "  </tbody>\n",
       "</table>\n",
       "</div>"
      ],
      "text/plain": [
       "Empty DataFrame\n",
       "Columns: [date, hora, sport, area, league, team1, team2, objetivo, odd, criterio, outcome]\n",
       "Index: []"
      ]
     },
     "execution_count": 7,
     "metadata": {},
     "output_type": "execute_result"
    }
   ],
   "source": [
    "df_prediccion = dsp.load_data(tbl=\"tbl_prediccion_premium_ou_soccer\")\n",
    "df=dsp.daily_prediction_criterio(df_prediccion)\n",
    "df['objetivo'] = df['objetivo']-1\n",
    "dsp.correcion_horario(df)\n"
   ]
  },
  {
   "cell_type": "code",
   "execution_count": 8,
   "metadata": {},
   "outputs": [
    {
     "data": {
      "text/html": [
       "<div>\n",
       "<style scoped>\n",
       "    .dataframe tbody tr th:only-of-type {\n",
       "        vertical-align: middle;\n",
       "    }\n",
       "\n",
       "    .dataframe tbody tr th {\n",
       "        vertical-align: top;\n",
       "    }\n",
       "\n",
       "    .dataframe thead th {\n",
       "        text-align: right;\n",
       "    }\n",
       "</style>\n",
       "<table border=\"1\" class=\"dataframe\">\n",
       "  <thead>\n",
       "    <tr style=\"text-align: right;\">\n",
       "      <th></th>\n",
       "      <th>date</th>\n",
       "      <th>hora</th>\n",
       "      <th>sport</th>\n",
       "      <th>area</th>\n",
       "      <th>league</th>\n",
       "      <th>team1</th>\n",
       "      <th>team2</th>\n",
       "      <th>objetivo</th>\n",
       "      <th>odd</th>\n",
       "      <th>criterio</th>\n",
       "      <th>outcome</th>\n",
       "    </tr>\n",
       "  </thead>\n",
       "  <tbody>\n",
       "  </tbody>\n",
       "</table>\n",
       "</div>"
      ],
      "text/plain": [
       "Empty DataFrame\n",
       "Columns: [date, hora, sport, area, league, team1, team2, objetivo, odd, criterio, outcome]\n",
       "Index: []"
      ]
     },
     "execution_count": 8,
     "metadata": {},
     "output_type": "execute_result"
    }
   ],
   "source": [
    "df_prediccion = dsp.load_data(tbl=\"tbl_prediccion_premium_hp\")\n",
    "df=dsp.daily_prediction_criterio(df_prediccion)\n",
    "dsp.correcion_horario(df)"
   ]
  },
  {
   "cell_type": "code",
   "execution_count": 9,
   "metadata": {},
   "outputs": [
    {
     "data": {
      "text/html": [
       "<div>\n",
       "<style scoped>\n",
       "    .dataframe tbody tr th:only-of-type {\n",
       "        vertical-align: middle;\n",
       "    }\n",
       "\n",
       "    .dataframe tbody tr th {\n",
       "        vertical-align: top;\n",
       "    }\n",
       "\n",
       "    .dataframe thead th {\n",
       "        text-align: right;\n",
       "    }\n",
       "</style>\n",
       "<table border=\"1\" class=\"dataframe\">\n",
       "  <thead>\n",
       "    <tr style=\"text-align: right;\">\n",
       "      <th></th>\n",
       "      <th>date</th>\n",
       "      <th>hora</th>\n",
       "      <th>sport</th>\n",
       "      <th>area</th>\n",
       "      <th>league</th>\n",
       "      <th>team1</th>\n",
       "      <th>team2</th>\n",
       "      <th>objetivo</th>\n",
       "      <th>odd</th>\n",
       "      <th>criterio</th>\n",
       "      <th>outcome</th>\n",
       "    </tr>\n",
       "  </thead>\n",
       "  <tbody>\n",
       "  </tbody>\n",
       "</table>\n",
       "</div>"
      ],
      "text/plain": [
       "Empty DataFrame\n",
       "Columns: [date, hora, sport, area, league, team1, team2, objetivo, odd, criterio, outcome]\n",
       "Index: []"
      ]
     },
     "execution_count": 9,
     "metadata": {},
     "output_type": "execute_result"
    }
   ],
   "source": [
    "df_prediccion = dsp.load_data(tbl=\"tbl_prediccion_premium_empate_soccer\")\n",
    "df=dsp.daily_prediction_criterio(df_prediccion)\n",
    "dsp.correcion_horario(df)"
   ]
  },
  {
   "cell_type": "code",
   "execution_count": 10,
   "metadata": {},
   "outputs": [
    {
     "data": {
      "text/html": [
       "<div>\n",
       "<style scoped>\n",
       "    .dataframe tbody tr th:only-of-type {\n",
       "        vertical-align: middle;\n",
       "    }\n",
       "\n",
       "    .dataframe tbody tr th {\n",
       "        vertical-align: top;\n",
       "    }\n",
       "\n",
       "    .dataframe thead th {\n",
       "        text-align: right;\n",
       "    }\n",
       "</style>\n",
       "<table border=\"1\" class=\"dataframe\">\n",
       "  <thead>\n",
       "    <tr style=\"text-align: right;\">\n",
       "      <th></th>\n",
       "      <th>date</th>\n",
       "      <th>hora</th>\n",
       "      <th>sport</th>\n",
       "      <th>area</th>\n",
       "      <th>league</th>\n",
       "      <th>team1</th>\n",
       "      <th>team2</th>\n",
       "      <th>objetivo</th>\n",
       "      <th>odd</th>\n",
       "      <th>criterio</th>\n",
       "      <th>outcome</th>\n",
       "    </tr>\n",
       "  </thead>\n",
       "  <tbody>\n",
       "  </tbody>\n",
       "</table>\n",
       "</div>"
      ],
      "text/plain": [
       "Empty DataFrame\n",
       "Columns: [date, hora, sport, area, league, team1, team2, objetivo, odd, criterio, outcome]\n",
       "Index: []"
      ]
     },
     "execution_count": 10,
     "metadata": {},
     "output_type": "execute_result"
    }
   ],
   "source": [
    "df_prediccion = dsp.load_data(tbl=\"tbl_prediccion_premium_model2_soccer\")\n",
    "df=dsp.daily_prediction_criterio(df_prediccion)\n",
    "dsp.correcion_horario(df)"
   ]
  },
  {
   "cell_type": "code",
   "execution_count": 11,
   "metadata": {},
   "outputs": [
    {
     "data": {
      "text/html": [
       "<div>\n",
       "<style scoped>\n",
       "    .dataframe tbody tr th:only-of-type {\n",
       "        vertical-align: middle;\n",
       "    }\n",
       "\n",
       "    .dataframe tbody tr th {\n",
       "        vertical-align: top;\n",
       "    }\n",
       "\n",
       "    .dataframe thead th {\n",
       "        text-align: right;\n",
       "    }\n",
       "</style>\n",
       "<table border=\"1\" class=\"dataframe\">\n",
       "  <thead>\n",
       "    <tr style=\"text-align: right;\">\n",
       "      <th></th>\n",
       "      <th>date</th>\n",
       "      <th>hora</th>\n",
       "      <th>sport</th>\n",
       "      <th>area</th>\n",
       "      <th>league</th>\n",
       "      <th>team1</th>\n",
       "      <th>team2</th>\n",
       "      <th>objetivo</th>\n",
       "      <th>odd</th>\n",
       "      <th>criterio</th>\n",
       "      <th>outcome</th>\n",
       "    </tr>\n",
       "  </thead>\n",
       "  <tbody>\n",
       "  </tbody>\n",
       "</table>\n",
       "</div>"
      ],
      "text/plain": [
       "Empty DataFrame\n",
       "Columns: [date, hora, sport, area, league, team1, team2, objetivo, odd, criterio, outcome]\n",
       "Index: []"
      ]
     },
     "execution_count": 11,
     "metadata": {},
     "output_type": "execute_result"
    }
   ],
   "source": [
    "df_prediccion = dsp.load_data(tbl=\"tbl_prediccion_premium_model_soccer\")\n",
    "df=dsp.daily_prediction_criterio(df_prediccion)\n",
    "dsp.correcion_horario(df)"
   ]
  },
  {
   "cell_type": "code",
   "execution_count": null,
   "metadata": {},
   "outputs": [],
   "source": []
  },
  {
   "cell_type": "code",
   "execution_count": 12,
   "metadata": {},
   "outputs": [
    {
     "data": {
      "text/html": [
       "<div>\n",
       "<style scoped>\n",
       "    .dataframe tbody tr th:only-of-type {\n",
       "        vertical-align: middle;\n",
       "    }\n",
       "\n",
       "    .dataframe tbody tr th {\n",
       "        vertical-align: top;\n",
       "    }\n",
       "\n",
       "    .dataframe thead th {\n",
       "        text-align: right;\n",
       "    }\n",
       "</style>\n",
       "<table border=\"1\" class=\"dataframe\">\n",
       "  <thead>\n",
       "    <tr style=\"text-align: right;\">\n",
       "      <th></th>\n",
       "      <th>hora</th>\n",
       "      <th>date</th>\n",
       "      <th>area</th>\n",
       "      <th>league</th>\n",
       "      <th>team1</th>\n",
       "      <th>team2</th>\n",
       "      <th>team1_odds</th>\n",
       "      <th>draw_odds</th>\n",
       "      <th>team2_odds</th>\n",
       "      <th>objetivo</th>\n",
       "      <th>Rating</th>\n",
       "      <th>auc</th>\n",
       "    </tr>\n",
       "  </thead>\n",
       "  <tbody>\n",
       "    <tr>\n",
       "      <th>4529</th>\n",
       "      <td>10:30</td>\n",
       "      <td>22/06/2021</td>\n",
       "      <td>soccer@finland</td>\n",
       "      <td>ykkonen</td>\n",
       "      <td>TPS</td>\n",
       "      <td>Ekenas</td>\n",
       "      <td>1.73</td>\n",
       "      <td>3.75</td>\n",
       "      <td>4.34</td>\n",
       "      <td>TEAM2</td>\n",
       "      <td>24.548312</td>\n",
       "      <td>54</td>\n",
       "    </tr>\n",
       "  </tbody>\n",
       "</table>\n",
       "</div>"
      ],
      "text/plain": [
       "       hora        date            area   league team1   team2  team1_odds  \\\n",
       "4529  10:30  22/06/2021  soccer@finland  ykkonen   TPS  Ekenas        1.73   \n",
       "\n",
       "      draw_odds  team2_odds objetivo     Rating  auc  \n",
       "4529       3.75        4.34    TEAM2  24.548312   54  "
      ]
     },
     "execution_count": 12,
     "metadata": {},
     "output_type": "execute_result"
    }
   ],
   "source": [
    "df_prediccion = dsp.load_data(tbl=\"tbl_prediccion_0\")\n",
    "df = dsp.daily_prediction_model(df_prediccion)\n",
    "dsp.correcion_horario(df)"
   ]
  },
  {
   "cell_type": "code",
   "execution_count": null,
   "metadata": {},
   "outputs": [],
   "source": []
  },
  {
   "cell_type": "code",
   "execution_count": 13,
   "metadata": {},
   "outputs": [
    {
     "data": {
      "text/html": [
       "<div>\n",
       "<style scoped>\n",
       "    .dataframe tbody tr th:only-of-type {\n",
       "        vertical-align: middle;\n",
       "    }\n",
       "\n",
       "    .dataframe tbody tr th {\n",
       "        vertical-align: top;\n",
       "    }\n",
       "\n",
       "    .dataframe thead th {\n",
       "        text-align: right;\n",
       "    }\n",
       "</style>\n",
       "<table border=\"1\" class=\"dataframe\">\n",
       "  <thead>\n",
       "    <tr style=\"text-align: right;\">\n",
       "      <th></th>\n",
       "      <th>hora</th>\n",
       "      <th>date</th>\n",
       "      <th>area</th>\n",
       "      <th>league</th>\n",
       "      <th>team1</th>\n",
       "      <th>team2</th>\n",
       "      <th>team1_odds</th>\n",
       "      <th>draw_odds</th>\n",
       "      <th>team2_odds</th>\n",
       "      <th>objetivo</th>\n",
       "      <th>Rating</th>\n",
       "      <th>auc</th>\n",
       "    </tr>\n",
       "  </thead>\n",
       "  <tbody>\n",
       "    <tr>\n",
       "      <th>4518</th>\n",
       "      <td>10:30</td>\n",
       "      <td>22/06/2021</td>\n",
       "      <td>soccer@finland</td>\n",
       "      <td>ykkonen</td>\n",
       "      <td>VPS</td>\n",
       "      <td>Rovaniemi</td>\n",
       "      <td>2.18</td>\n",
       "      <td>3.49</td>\n",
       "      <td>3.06</td>\n",
       "      <td>TEAM1</td>\n",
       "      <td>136.139237</td>\n",
       "      <td>47</td>\n",
       "    </tr>\n",
       "    <tr>\n",
       "      <th>4529</th>\n",
       "      <td>10:30</td>\n",
       "      <td>22/06/2021</td>\n",
       "      <td>soccer@finland</td>\n",
       "      <td>ykkonen</td>\n",
       "      <td>TPS</td>\n",
       "      <td>Ekenas</td>\n",
       "      <td>1.73</td>\n",
       "      <td>3.75</td>\n",
       "      <td>4.34</td>\n",
       "      <td>TEAM2</td>\n",
       "      <td>24.548312</td>\n",
       "      <td>54</td>\n",
       "    </tr>\n",
       "  </tbody>\n",
       "</table>\n",
       "</div>"
      ],
      "text/plain": [
       "       hora        date            area   league team1      team2  team1_odds  \\\n",
       "4518  10:30  22/06/2021  soccer@finland  ykkonen   VPS  Rovaniemi        2.18   \n",
       "4529  10:30  22/06/2021  soccer@finland  ykkonen   TPS     Ekenas        1.73   \n",
       "\n",
       "      draw_odds  team2_odds objetivo      Rating  auc  \n",
       "4518       3.49        3.06    TEAM1  136.139237   47  \n",
       "4529       3.75        4.34    TEAM2   24.548312   54  "
      ]
     },
     "execution_count": 13,
     "metadata": {},
     "output_type": "execute_result"
    }
   ],
   "source": [
    "df_prediccion = dsp.load_data(tbl=\"tbl_prediccion_0\")\n",
    "df = dsp.daily_prediction_model(df_prediccion,min_auc=0,min_games=5)\n",
    "dsp.correcion_horario(df)"
   ]
  },
  {
   "cell_type": "code",
   "execution_count": 14,
   "metadata": {},
   "outputs": [
    {
     "data": {
      "text/html": [
       "<div>\n",
       "<style scoped>\n",
       "    .dataframe tbody tr th:only-of-type {\n",
       "        vertical-align: middle;\n",
       "    }\n",
       "\n",
       "    .dataframe tbody tr th {\n",
       "        vertical-align: top;\n",
       "    }\n",
       "\n",
       "    .dataframe thead th {\n",
       "        text-align: right;\n",
       "    }\n",
       "</style>\n",
       "<table border=\"1\" class=\"dataframe\">\n",
       "  <thead>\n",
       "    <tr style=\"text-align: right;\">\n",
       "      <th></th>\n",
       "      <th>date</th>\n",
       "      <th>hora</th>\n",
       "      <th>sport</th>\n",
       "      <th>area</th>\n",
       "      <th>league</th>\n",
       "      <th>team1</th>\n",
       "      <th>team2</th>\n",
       "      <th>objetivo</th>\n",
       "      <th>odd</th>\n",
       "      <th>m_criterio</th>\n",
       "    </tr>\n",
       "  </thead>\n",
       "  <tbody>\n",
       "    <tr>\n",
       "      <th>898</th>\n",
       "      <td>22/06/2021</td>\n",
       "      <td>14:30</td>\n",
       "      <td>soccer</td>\n",
       "      <td>brazil</td>\n",
       "      <td>serie-b</td>\n",
       "      <td>Confianca</td>\n",
       "      <td>Vila Nova FC</td>\n",
       "      <td>X2</td>\n",
       "      <td>3.31</td>\n",
       "      <td>100.0</td>\n",
       "    </tr>\n",
       "  </tbody>\n",
       "</table>\n",
       "</div>"
      ],
      "text/plain": [
       "           date   hora   sport    area   league      team1         team2  \\\n",
       "898  22/06/2021  14:30  soccer  brazil  serie-b  Confianca  Vila Nova FC   \n",
       "\n",
       "    objetivo   odd  m_criterio  \n",
       "898       X2  3.31       100.0  "
      ]
     },
     "execution_count": 14,
     "metadata": {},
     "output_type": "execute_result"
    }
   ],
   "source": [
    "df_prediccion = dsp.load_data(tbl=\"tbl_prediccion_premium_magic\")\n",
    "df = dsp.daily_prediction_criterio(df_prediccion)\n",
    "dsp.correcion_horario(df)"
   ]
  },
  {
   "cell_type": "markdown",
   "metadata": {},
   "source": [
    "## NHL CLUSTER FALLO"
   ]
  },
  {
   "cell_type": "code",
   "execution_count": 15,
   "metadata": {},
   "outputs": [
    {
     "data": {
      "text/html": [
       "<div>\n",
       "<style scoped>\n",
       "    .dataframe tbody tr th:only-of-type {\n",
       "        vertical-align: middle;\n",
       "    }\n",
       "\n",
       "    .dataframe tbody tr th {\n",
       "        vertical-align: top;\n",
       "    }\n",
       "\n",
       "    .dataframe thead th {\n",
       "        text-align: right;\n",
       "    }\n",
       "</style>\n",
       "<table border=\"1\" class=\"dataframe\">\n",
       "  <thead>\n",
       "    <tr style=\"text-align: right;\">\n",
       "      <th></th>\n",
       "      <th>hora</th>\n",
       "      <th>date</th>\n",
       "      <th>area_league</th>\n",
       "      <th>team1</th>\n",
       "      <th>team2</th>\n",
       "      <th>team1_odds</th>\n",
       "      <th>draw_odds</th>\n",
       "      <th>team2_odds</th>\n",
       "      <th>objetivo</th>\n",
       "    </tr>\n",
       "  </thead>\n",
       "  <tbody>\n",
       "  </tbody>\n",
       "</table>\n",
       "</div>"
      ],
      "text/plain": [
       "Empty DataFrame\n",
       "Columns: [hora, date, area_league, team1, team2, team1_odds, draw_odds, team2_odds, objetivo]\n",
       "Index: []"
      ]
     },
     "execution_count": 15,
     "metadata": {},
     "output_type": "execute_result"
    }
   ],
   "source": [
    "df_prediccion = dsp.load_data(tbl=\"tbl_fallo_nhl\")\n",
    "dsp.daily_prediction(df_prediccion)"
   ]
  },
  {
   "cell_type": "code",
   "execution_count": 16,
   "metadata": {},
   "outputs": [
    {
     "data": {
      "text/html": [
       "<div>\n",
       "<style scoped>\n",
       "    .dataframe tbody tr th:only-of-type {\n",
       "        vertical-align: middle;\n",
       "    }\n",
       "\n",
       "    .dataframe tbody tr th {\n",
       "        vertical-align: top;\n",
       "    }\n",
       "\n",
       "    .dataframe thead th {\n",
       "        text-align: right;\n",
       "    }\n",
       "</style>\n",
       "<table border=\"1\" class=\"dataframe\">\n",
       "  <thead>\n",
       "    <tr style=\"text-align: right;\">\n",
       "      <th></th>\n",
       "      <th>hora</th>\n",
       "      <th>date</th>\n",
       "      <th>area_league</th>\n",
       "      <th>team1</th>\n",
       "      <th>team2</th>\n",
       "      <th>team1_odds</th>\n",
       "      <th>draw_odds</th>\n",
       "      <th>team2_odds</th>\n",
       "      <th>objetivo</th>\n",
       "    </tr>\n",
       "  </thead>\n",
       "  <tbody>\n",
       "  </tbody>\n",
       "</table>\n",
       "</div>"
      ],
      "text/plain": [
       "Empty DataFrame\n",
       "Columns: [hora, date, area_league, team1, team2, team1_odds, draw_odds, team2_odds, objetivo]\n",
       "Index: []"
      ]
     },
     "execution_count": 16,
     "metadata": {},
     "output_type": "execute_result"
    }
   ],
   "source": [
    "df_prediccion = dsp.load_data(tbl=\"tbl_fallo_nhl_original\")\n",
    "dsp.daily_prediction(df_prediccion)"
   ]
  },
  {
   "cell_type": "markdown",
   "metadata": {},
   "source": [
    "### TAN!! SPECIAL SELECTION"
   ]
  },
  {
   "cell_type": "code",
   "execution_count": 17,
   "metadata": {},
   "outputs": [
    {
     "data": {
      "text/html": [
       "<div>\n",
       "<style scoped>\n",
       "    .dataframe tbody tr th:only-of-type {\n",
       "        vertical-align: middle;\n",
       "    }\n",
       "\n",
       "    .dataframe tbody tr th {\n",
       "        vertical-align: top;\n",
       "    }\n",
       "\n",
       "    .dataframe thead th {\n",
       "        text-align: right;\n",
       "    }\n",
       "</style>\n",
       "<table border=\"1\" class=\"dataframe\">\n",
       "  <thead>\n",
       "    <tr style=\"text-align: right;\">\n",
       "      <th></th>\n",
       "      <th>hora</th>\n",
       "      <th>date</th>\n",
       "      <th>area_league</th>\n",
       "      <th>team1</th>\n",
       "      <th>team2</th>\n",
       "      <th>team1_odds</th>\n",
       "      <th>draw_odds</th>\n",
       "      <th>team2_odds</th>\n",
       "      <th>objetivo</th>\n",
       "    </tr>\n",
       "  </thead>\n",
       "  <tbody>\n",
       "    <tr>\n",
       "      <th>2473</th>\n",
       "      <td>11:00</td>\n",
       "      <td>22/06/2021</td>\n",
       "      <td>/soccer/norway/obos-ligaen/aalesund-stjordals-...</td>\n",
       "      <td>Aalesund</td>\n",
       "      <td>Stjordals Blink</td>\n",
       "      <td>1.42</td>\n",
       "      <td>4.65</td>\n",
       "      <td>6.65</td>\n",
       "      <td>TEAM1</td>\n",
       "    </tr>\n",
       "  </tbody>\n",
       "</table>\n",
       "</div>"
      ],
      "text/plain": [
       "       hora        date                                        area_league  \\\n",
       "2473  11:00  22/06/2021  /soccer/norway/obos-ligaen/aalesund-stjordals-...   \n",
       "\n",
       "         team1            team2  team1_odds  draw_odds  team2_odds objetivo  \n",
       "2473  Aalesund  Stjordals Blink        1.42       4.65        6.65    TEAM1  "
      ]
     },
     "execution_count": 17,
     "metadata": {},
     "output_type": "execute_result"
    }
   ],
   "source": [
    "df_prediccion = dsp.load_data(tbl=\"tbl_prediccion_machinTAN\")\n",
    "df=dsp.daily_prediction(df_prediccion)\n",
    "dsp.correcion_horario(df)"
   ]
  },
  {
   "cell_type": "code",
   "execution_count": 18,
   "metadata": {},
   "outputs": [
    {
     "data": {
      "text/html": [
       "<div>\n",
       "<style scoped>\n",
       "    .dataframe tbody tr th:only-of-type {\n",
       "        vertical-align: middle;\n",
       "    }\n",
       "\n",
       "    .dataframe tbody tr th {\n",
       "        vertical-align: top;\n",
       "    }\n",
       "\n",
       "    .dataframe thead th {\n",
       "        text-align: right;\n",
       "    }\n",
       "</style>\n",
       "<table border=\"1\" class=\"dataframe\">\n",
       "  <thead>\n",
       "    <tr style=\"text-align: right;\">\n",
       "      <th></th>\n",
       "      <th>hora</th>\n",
       "      <th>date</th>\n",
       "      <th>area_league</th>\n",
       "      <th>team1</th>\n",
       "      <th>team2</th>\n",
       "      <th>team1_odds</th>\n",
       "      <th>draw_odds</th>\n",
       "      <th>team2_odds</th>\n",
       "      <th>objetivo</th>\n",
       "    </tr>\n",
       "  </thead>\n",
       "  <tbody>\n",
       "  </tbody>\n",
       "</table>\n",
       "</div>"
      ],
      "text/plain": [
       "Empty DataFrame\n",
       "Columns: [hora, date, area_league, team1, team2, team1_odds, draw_odds, team2_odds, objetivo]\n",
       "Index: []"
      ]
     },
     "execution_count": 18,
     "metadata": {},
     "output_type": "execute_result"
    }
   ],
   "source": [
    "df_prediccion = dsp.load_data(tbl=\"tbl_fallo_hockey\")\n",
    "dsp.daily_prediction(df_prediccion)"
   ]
  },
  {
   "cell_type": "markdown",
   "metadata": {},
   "source": [
    "____"
   ]
  },
  {
   "cell_type": "markdown",
   "metadata": {},
   "source": [
    "-----"
   ]
  },
  {
   "cell_type": "markdown",
   "metadata": {},
   "source": [
    "### Gana Favorito en ODDs finales."
   ]
  },
  {
   "cell_type": "code",
   "execution_count": 19,
   "metadata": {},
   "outputs": [
    {
     "data": {
      "text/html": [
       "<div>\n",
       "<style scoped>\n",
       "    .dataframe tbody tr th:only-of-type {\n",
       "        vertical-align: middle;\n",
       "    }\n",
       "\n",
       "    .dataframe tbody tr th {\n",
       "        vertical-align: top;\n",
       "    }\n",
       "\n",
       "    .dataframe thead th {\n",
       "        text-align: right;\n",
       "    }\n",
       "</style>\n",
       "<table border=\"1\" class=\"dataframe\">\n",
       "  <thead>\n",
       "    <tr style=\"text-align: right;\">\n",
       "      <th></th>\n",
       "      <th>hora</th>\n",
       "      <th>date</th>\n",
       "      <th>area_league</th>\n",
       "      <th>team1</th>\n",
       "      <th>team2</th>\n",
       "      <th>team1_odds</th>\n",
       "      <th>draw_odds</th>\n",
       "      <th>team2_odds</th>\n",
       "      <th>objetivo</th>\n",
       "    </tr>\n",
       "  </thead>\n",
       "  <tbody>\n",
       "  </tbody>\n",
       "</table>\n",
       "</div>"
      ],
      "text/plain": [
       "Empty DataFrame\n",
       "Columns: [hora, date, area_league, team1, team2, team1_odds, draw_odds, team2_odds, objetivo]\n",
       "Index: []"
      ]
     },
     "execution_count": 19,
     "metadata": {},
     "output_type": "execute_result"
    }
   ],
   "source": [
    "df_prediccion = dsp.load_data(tbl=\"tbl_prediccion_machin_inversos\")\n",
    "dsp.daily_prediction(df_prediccion)"
   ]
  },
  {
   "cell_type": "markdown",
   "metadata": {},
   "source": [
    "## GANA 1 si objetivo es mayor a 0.52, GANA 2 si es menor a 49 "
   ]
  },
  {
   "cell_type": "code",
   "execution_count": 20,
   "metadata": {},
   "outputs": [
    {
     "data": {
      "text/html": [
       "<div>\n",
       "<style scoped>\n",
       "    .dataframe tbody tr th:only-of-type {\n",
       "        vertical-align: middle;\n",
       "    }\n",
       "\n",
       "    .dataframe tbody tr th {\n",
       "        vertical-align: top;\n",
       "    }\n",
       "\n",
       "    .dataframe thead th {\n",
       "        text-align: right;\n",
       "    }\n",
       "</style>\n",
       "<table border=\"1\" class=\"dataframe\">\n",
       "  <thead>\n",
       "    <tr style=\"text-align: right;\">\n",
       "      <th></th>\n",
       "      <th>hora</th>\n",
       "      <th>date</th>\n",
       "      <th>area_league</th>\n",
       "      <th>team1</th>\n",
       "      <th>team2</th>\n",
       "      <th>team1_odds</th>\n",
       "      <th>draw_odds</th>\n",
       "      <th>team2_odds</th>\n",
       "      <th>objetivo</th>\n",
       "    </tr>\n",
       "  </thead>\n",
       "  <tbody>\n",
       "  </tbody>\n",
       "</table>\n",
       "</div>"
      ],
      "text/plain": [
       "Empty DataFrame\n",
       "Columns: [hora, date, area_league, team1, team2, team1_odds, draw_odds, team2_odds, objetivo]\n",
       "Index: []"
      ]
     },
     "execution_count": 20,
     "metadata": {},
     "output_type": "execute_result"
    }
   ],
   "source": [
    "df_prediccion = dsp.load_data(tbl=\"tbl_prediccion_machin6_glicko\")\n",
    "dsp.daily_prediction(df_prediccion)"
   ]
  },
  {
   "cell_type": "markdown",
   "metadata": {},
   "source": [
    "### Premium"
   ]
  },
  {
   "cell_type": "code",
   "execution_count": 21,
   "metadata": {},
   "outputs": [
    {
     "data": {
      "text/html": [
       "<div>\n",
       "<style scoped>\n",
       "    .dataframe tbody tr th:only-of-type {\n",
       "        vertical-align: middle;\n",
       "    }\n",
       "\n",
       "    .dataframe tbody tr th {\n",
       "        vertical-align: top;\n",
       "    }\n",
       "\n",
       "    .dataframe thead th {\n",
       "        text-align: right;\n",
       "    }\n",
       "</style>\n",
       "<table border=\"1\" class=\"dataframe\">\n",
       "  <thead>\n",
       "    <tr style=\"text-align: right;\">\n",
       "      <th></th>\n",
       "      <th>date</th>\n",
       "      <th>hora</th>\n",
       "      <th>sport</th>\n",
       "      <th>area</th>\n",
       "      <th>league</th>\n",
       "      <th>team1</th>\n",
       "      <th>team2</th>\n",
       "      <th>objetivo</th>\n",
       "      <th>outcome</th>\n",
       "      <th>odd</th>\n",
       "      <th>m_criterio</th>\n",
       "    </tr>\n",
       "  </thead>\n",
       "  <tbody>\n",
       "    <tr>\n",
       "      <th>1713</th>\n",
       "      <td>2021-06-22</td>\n",
       "      <td>20:30</td>\n",
       "      <td>soccer</td>\n",
       "      <td>brazil</td>\n",
       "      <td>serie-b</td>\n",
       "      <td>Confianca</td>\n",
       "      <td>Vila Nova FC</td>\n",
       "      <td>X2</td>\n",
       "      <td>1.000000</td>\n",
       "      <td>3.31</td>\n",
       "      <td>100</td>\n",
       "    </tr>\n",
       "    <tr>\n",
       "      <th>1714</th>\n",
       "      <td>2021-06-22</td>\n",
       "      <td>00:05</td>\n",
       "      <td>baseball</td>\n",
       "      <td>usa</td>\n",
       "      <td>mlb</td>\n",
       "      <td>Baltimore Orioles</td>\n",
       "      <td>Houston Astros</td>\n",
       "      <td>UNDER</td>\n",
       "      <td>0.529258</td>\n",
       "      <td>1.90</td>\n",
       "      <td>100</td>\n",
       "    </tr>\n",
       "  </tbody>\n",
       "</table>\n",
       "</div>"
      ],
      "text/plain": [
       "            date   hora     sport    area   league              team1  \\\n",
       "1713  2021-06-22  20:30    soccer  brazil  serie-b          Confianca   \n",
       "1714  2021-06-22  00:05  baseball     usa      mlb  Baltimore Orioles   \n",
       "\n",
       "               team2 objetivo   outcome   odd  m_criterio  \n",
       "1713    Vila Nova FC       X2  1.000000  3.31         100  \n",
       "1714  Houston Astros    UNDER  0.529258  1.90         100  "
      ]
     },
     "execution_count": 21,
     "metadata": {},
     "output_type": "execute_result"
    }
   ],
   "source": [
    "df_prediccion = dsp.load_data(tbl=\"tbl_prediccion_premium\")\n",
    "dsp.daily_prediction_criterio(df_prediccion)"
   ]
  },
  {
   "cell_type": "markdown",
   "metadata": {},
   "source": [
    "### Criterio"
   ]
  },
  {
   "cell_type": "code",
   "execution_count": 22,
   "metadata": {},
   "outputs": [
    {
     "data": {
      "text/html": [
       "<div>\n",
       "<style scoped>\n",
       "    .dataframe tbody tr th:only-of-type {\n",
       "        vertical-align: middle;\n",
       "    }\n",
       "\n",
       "    .dataframe tbody tr th {\n",
       "        vertical-align: top;\n",
       "    }\n",
       "\n",
       "    .dataframe thead th {\n",
       "        text-align: right;\n",
       "    }\n",
       "</style>\n",
       "<table border=\"1\" class=\"dataframe\">\n",
       "  <thead>\n",
       "    <tr style=\"text-align: right;\">\n",
       "      <th></th>\n",
       "      <th>date</th>\n",
       "      <th>hora</th>\n",
       "      <th>sport</th>\n",
       "      <th>area</th>\n",
       "      <th>league</th>\n",
       "      <th>team1</th>\n",
       "      <th>team2</th>\n",
       "      <th>objetivo</th>\n",
       "      <th>odd</th>\n",
       "      <th>m_criterio</th>\n",
       "    </tr>\n",
       "  </thead>\n",
       "  <tbody>\n",
       "    <tr>\n",
       "      <th>1583</th>\n",
       "      <td>2021-06-22</td>\n",
       "      <td>20:30</td>\n",
       "      <td>soccer</td>\n",
       "      <td>brazil</td>\n",
       "      <td>serie-b</td>\n",
       "      <td>Brusque</td>\n",
       "      <td>Sampaio Correa</td>\n",
       "      <td>TEAM2</td>\n",
       "      <td>3.51</td>\n",
       "      <td>273</td>\n",
       "    </tr>\n",
       "    <tr>\n",
       "      <th>1582</th>\n",
       "      <td>2021-06-22</td>\n",
       "      <td>09:45</td>\n",
       "      <td>baseball</td>\n",
       "      <td>japan</td>\n",
       "      <td>npb</td>\n",
       "      <td>Chiba Lotte Marines</td>\n",
       "      <td>Fukuoka S. Hawks</td>\n",
       "      <td>TEAM1</td>\n",
       "      <td>1.90</td>\n",
       "      <td>135</td>\n",
       "    </tr>\n",
       "    <tr>\n",
       "      <th>1579</th>\n",
       "      <td>2021-06-22</td>\n",
       "      <td>17:00</td>\n",
       "      <td>soccer</td>\n",
       "      <td>norway</td>\n",
       "      <td>obos-ligaen</td>\n",
       "      <td>Aalesund</td>\n",
       "      <td>Stjordals Blink</td>\n",
       "      <td>TEAM1</td>\n",
       "      <td>1.42</td>\n",
       "      <td>115</td>\n",
       "    </tr>\n",
       "    <tr>\n",
       "      <th>1580</th>\n",
       "      <td>2021-06-22</td>\n",
       "      <td>16:45</td>\n",
       "      <td>soccer</td>\n",
       "      <td>uruguay</td>\n",
       "      <td>primera-division</td>\n",
       "      <td>Liverpool M.</td>\n",
       "      <td>Fenix</td>\n",
       "      <td>TEAM1</td>\n",
       "      <td>1.64</td>\n",
       "      <td>265</td>\n",
       "    </tr>\n",
       "    <tr>\n",
       "      <th>1581</th>\n",
       "      <td>2021-06-22</td>\n",
       "      <td>16:00</td>\n",
       "      <td>soccer</td>\n",
       "      <td>uzbekistan</td>\n",
       "      <td>super-league</td>\n",
       "      <td>AGMK</td>\n",
       "      <td>Qizilqum</td>\n",
       "      <td>TEAM1</td>\n",
       "      <td>1.54</td>\n",
       "      <td>212</td>\n",
       "    </tr>\n",
       "  </tbody>\n",
       "</table>\n",
       "</div>"
      ],
      "text/plain": [
       "            date   hora     sport        area            league  \\\n",
       "1583  2021-06-22  20:30    soccer      brazil           serie-b   \n",
       "1582  2021-06-22  09:45  baseball       japan               npb   \n",
       "1579  2021-06-22  17:00    soccer      norway       obos-ligaen   \n",
       "1580  2021-06-22  16:45    soccer     uruguay  primera-division   \n",
       "1581  2021-06-22  16:00    soccer  uzbekistan      super-league   \n",
       "\n",
       "                    team1             team2 objetivo   odd  m_criterio  \n",
       "1583              Brusque    Sampaio Correa    TEAM2  3.51         273  \n",
       "1582  Chiba Lotte Marines  Fukuoka S. Hawks    TEAM1  1.90         135  \n",
       "1579             Aalesund   Stjordals Blink    TEAM1  1.42         115  \n",
       "1580         Liverpool M.             Fenix    TEAM1  1.64         265  \n",
       "1581                 AGMK          Qizilqum    TEAM1  1.54         212  "
      ]
     },
     "execution_count": 22,
     "metadata": {},
     "output_type": "execute_result"
    }
   ],
   "source": [
    "df_prediccion = dsp.load_data(tbl=\"tbl_prediccion_machinTAN_criterio\")\n",
    "dsp.daily_prediction_criterio(df_prediccion)"
   ]
  },
  {
   "cell_type": "markdown",
   "metadata": {},
   "source": [
    "___"
   ]
  },
  {
   "cell_type": "code",
   "execution_count": 23,
   "metadata": {},
   "outputs": [
    {
     "data": {
      "text/html": [
       "<div>\n",
       "<style scoped>\n",
       "    .dataframe tbody tr th:only-of-type {\n",
       "        vertical-align: middle;\n",
       "    }\n",
       "\n",
       "    .dataframe tbody tr th {\n",
       "        vertical-align: top;\n",
       "    }\n",
       "\n",
       "    .dataframe thead th {\n",
       "        text-align: right;\n",
       "    }\n",
       "</style>\n",
       "<table border=\"1\" class=\"dataframe\">\n",
       "  <thead>\n",
       "    <tr style=\"text-align: right;\">\n",
       "      <th></th>\n",
       "      <th>hora</th>\n",
       "      <th>date</th>\n",
       "      <th>area_league</th>\n",
       "      <th>team1</th>\n",
       "      <th>team2</th>\n",
       "      <th>team1_odds</th>\n",
       "      <th>draw_odds</th>\n",
       "      <th>team2_odds</th>\n",
       "      <th>objetivo</th>\n",
       "    </tr>\n",
       "  </thead>\n",
       "  <tbody>\n",
       "    <tr>\n",
       "      <th>1856</th>\n",
       "      <td>17:00</td>\n",
       "      <td>2021-06-22</td>\n",
       "      <td>/soccer/norway/obos-ligaen/aalesund-stjordals-...</td>\n",
       "      <td>Aalesund</td>\n",
       "      <td>Stjordals Blink</td>\n",
       "      <td>1.42</td>\n",
       "      <td>4.65</td>\n",
       "      <td>6.65</td>\n",
       "      <td>TEAM1</td>\n",
       "    </tr>\n",
       "    <tr>\n",
       "      <th>1857</th>\n",
       "      <td>16:45</td>\n",
       "      <td>2021-06-22</td>\n",
       "      <td>/soccer/uruguay/primera-division/liverpool-m-f...</td>\n",
       "      <td>Liverpool M.</td>\n",
       "      <td>Fenix</td>\n",
       "      <td>1.64</td>\n",
       "      <td>3.66</td>\n",
       "      <td>5.24</td>\n",
       "      <td>TEAM1</td>\n",
       "    </tr>\n",
       "    <tr>\n",
       "      <th>1858</th>\n",
       "      <td>16:00</td>\n",
       "      <td>2021-06-22</td>\n",
       "      <td>/soccer/uzbekistan/super-league/agmk-qizilqum-...</td>\n",
       "      <td>AGMK</td>\n",
       "      <td>Qizilqum</td>\n",
       "      <td>1.54</td>\n",
       "      <td>3.81</td>\n",
       "      <td>6.13</td>\n",
       "      <td>TEAM1</td>\n",
       "    </tr>\n",
       "  </tbody>\n",
       "</table>\n",
       "</div>"
      ],
      "text/plain": [
       "       hora        date                                        area_league  \\\n",
       "1856  17:00  2021-06-22  /soccer/norway/obos-ligaen/aalesund-stjordals-...   \n",
       "1857  16:45  2021-06-22  /soccer/uruguay/primera-division/liverpool-m-f...   \n",
       "1858  16:00  2021-06-22  /soccer/uzbekistan/super-league/agmk-qizilqum-...   \n",
       "\n",
       "             team1            team2  team1_odds  draw_odds  team2_odds  \\\n",
       "1856      Aalesund  Stjordals Blink        1.42       4.65        6.65   \n",
       "1857  Liverpool M.            Fenix        1.64       3.66        5.24   \n",
       "1858          AGMK         Qizilqum        1.54       3.81        6.13   \n",
       "\n",
       "     objetivo  \n",
       "1856    TEAM1  \n",
       "1857    TEAM1  \n",
       "1858    TEAM1  "
      ]
     },
     "execution_count": 23,
     "metadata": {},
     "output_type": "execute_result"
    }
   ],
   "source": [
    "df_prediccion = dsp.load_data(tbl=\"tbl_prediccion_machinTAN11\")\n",
    "dsp.daily_prediction(df_prediccion)"
   ]
  },
  {
   "cell_type": "code",
   "execution_count": 24,
   "metadata": {},
   "outputs": [
    {
     "data": {
      "text/html": [
       "<div>\n",
       "<style scoped>\n",
       "    .dataframe tbody tr th:only-of-type {\n",
       "        vertical-align: middle;\n",
       "    }\n",
       "\n",
       "    .dataframe tbody tr th {\n",
       "        vertical-align: top;\n",
       "    }\n",
       "\n",
       "    .dataframe thead th {\n",
       "        text-align: right;\n",
       "    }\n",
       "</style>\n",
       "<table border=\"1\" class=\"dataframe\">\n",
       "  <thead>\n",
       "    <tr style=\"text-align: right;\">\n",
       "      <th></th>\n",
       "      <th>date</th>\n",
       "      <th>hora</th>\n",
       "      <th>sport</th>\n",
       "      <th>area</th>\n",
       "      <th>league</th>\n",
       "      <th>team1</th>\n",
       "      <th>team2</th>\n",
       "      <th>objetivo</th>\n",
       "      <th>odd</th>\n",
       "      <th>m_criterio</th>\n",
       "    </tr>\n",
       "  </thead>\n",
       "  <tbody>\n",
       "  </tbody>\n",
       "</table>\n",
       "</div>"
      ],
      "text/plain": [
       "Empty DataFrame\n",
       "Columns: [date, hora, sport, area, league, team1, team2, objetivo, odd, m_criterio]\n",
       "Index: []"
      ]
     },
     "execution_count": 24,
     "metadata": {},
     "output_type": "execute_result"
    }
   ],
   "source": [
    "df_prediccion = dsp.load_data(tbl=\"tbl_prediccion_machinTAN_criterio2\")\n",
    "dsp.daily_prediction_criterio(df_prediccion)"
   ]
  },
  {
   "cell_type": "code",
   "execution_count": 25,
   "metadata": {},
   "outputs": [
    {
     "data": {
      "text/html": [
       "<div>\n",
       "<style scoped>\n",
       "    .dataframe tbody tr th:only-of-type {\n",
       "        vertical-align: middle;\n",
       "    }\n",
       "\n",
       "    .dataframe tbody tr th {\n",
       "        vertical-align: top;\n",
       "    }\n",
       "\n",
       "    .dataframe thead th {\n",
       "        text-align: right;\n",
       "    }\n",
       "</style>\n",
       "<table border=\"1\" class=\"dataframe\">\n",
       "  <thead>\n",
       "    <tr style=\"text-align: right;\">\n",
       "      <th></th>\n",
       "      <th>date</th>\n",
       "      <th>hora</th>\n",
       "      <th>sport</th>\n",
       "      <th>area</th>\n",
       "      <th>league</th>\n",
       "      <th>team1</th>\n",
       "      <th>team2</th>\n",
       "      <th>objetivo</th>\n",
       "      <th>odd</th>\n",
       "      <th>m_criterio</th>\n",
       "    </tr>\n",
       "  </thead>\n",
       "  <tbody>\n",
       "  </tbody>\n",
       "</table>\n",
       "</div>"
      ],
      "text/plain": [
       "Empty DataFrame\n",
       "Columns: [date, hora, sport, area, league, team1, team2, objetivo, odd, m_criterio]\n",
       "Index: []"
      ]
     },
     "execution_count": 25,
     "metadata": {},
     "output_type": "execute_result"
    }
   ],
   "source": [
    "df_prediccion = dsp.load_data(tbl=\"tbl_prediccion_machinTAN_criterio3\")\n",
    "dsp.daily_prediction_criterio(df_prediccion)"
   ]
  },
  {
   "cell_type": "markdown",
   "metadata": {},
   "source": [
    "### OVER UNDER"
   ]
  },
  {
   "cell_type": "code",
   "execution_count": 26,
   "metadata": {},
   "outputs": [
    {
     "data": {
      "text/html": [
       "<div>\n",
       "<style scoped>\n",
       "    .dataframe tbody tr th:only-of-type {\n",
       "        vertical-align: middle;\n",
       "    }\n",
       "\n",
       "    .dataframe tbody tr th {\n",
       "        vertical-align: top;\n",
       "    }\n",
       "\n",
       "    .dataframe thead th {\n",
       "        text-align: right;\n",
       "    }\n",
       "</style>\n",
       "<table border=\"1\" class=\"dataframe\">\n",
       "  <thead>\n",
       "    <tr style=\"text-align: right;\">\n",
       "      <th></th>\n",
       "      <th>date</th>\n",
       "      <th>hora</th>\n",
       "      <th>sport</th>\n",
       "      <th>area</th>\n",
       "      <th>league</th>\n",
       "      <th>team1</th>\n",
       "      <th>team2</th>\n",
       "      <th>objetivo</th>\n",
       "      <th>odd</th>\n",
       "      <th>criterio</th>\n",
       "      <th>outcome</th>\n",
       "    </tr>\n",
       "  </thead>\n",
       "  <tbody>\n",
       "    <tr>\n",
       "      <th>2490</th>\n",
       "      <td>2021-06-22</td>\n",
       "      <td>17:00</td>\n",
       "      <td>soccer</td>\n",
       "      <td>norway</td>\n",
       "      <td>obos-ligaen</td>\n",
       "      <td>Grorud</td>\n",
       "      <td>Start</td>\n",
       "      <td>4.0</td>\n",
       "      <td>1.27</td>\n",
       "      <td>100</td>\n",
       "      <td>0.877120</td>\n",
       "    </tr>\n",
       "    <tr>\n",
       "      <th>2487</th>\n",
       "      <td>2021-06-22</td>\n",
       "      <td>00:05</td>\n",
       "      <td>baseball</td>\n",
       "      <td>usa</td>\n",
       "      <td>mlb</td>\n",
       "      <td>Baltimore Orioles</td>\n",
       "      <td>Houston Astros</td>\n",
       "      <td>12.5</td>\n",
       "      <td>1.48</td>\n",
       "      <td>100</td>\n",
       "      <td>0.529258</td>\n",
       "    </tr>\n",
       "    <tr>\n",
       "      <th>2488</th>\n",
       "      <td>2021-06-22</td>\n",
       "      <td>01:05</td>\n",
       "      <td>baseball</td>\n",
       "      <td>usa</td>\n",
       "      <td>mlb</td>\n",
       "      <td>Texas Rangers</td>\n",
       "      <td>Oakland Athletics</td>\n",
       "      <td>10.0</td>\n",
       "      <td>1.41</td>\n",
       "      <td>100</td>\n",
       "      <td>0.828166</td>\n",
       "    </tr>\n",
       "    <tr>\n",
       "      <th>2489</th>\n",
       "      <td>2021-06-22</td>\n",
       "      <td>01:00</td>\n",
       "      <td>hockey</td>\n",
       "      <td>usa</td>\n",
       "      <td>nhl</td>\n",
       "      <td>Tampa Bay Lightning</td>\n",
       "      <td>New York Islanders</td>\n",
       "      <td>6.0</td>\n",
       "      <td>1.37</td>\n",
       "      <td>100</td>\n",
       "      <td>0.605255</td>\n",
       "    </tr>\n",
       "  </tbody>\n",
       "</table>\n",
       "</div>"
      ],
      "text/plain": [
       "            date   hora     sport    area       league                team1  \\\n",
       "2490  2021-06-22  17:00    soccer  norway  obos-ligaen               Grorud   \n",
       "2487  2021-06-22  00:05  baseball     usa          mlb    Baltimore Orioles   \n",
       "2488  2021-06-22  01:05  baseball     usa          mlb        Texas Rangers   \n",
       "2489  2021-06-22  01:00    hockey     usa          nhl  Tampa Bay Lightning   \n",
       "\n",
       "                   team2  objetivo   odd  criterio   outcome  \n",
       "2490               Start       4.0  1.27       100  0.877120  \n",
       "2487      Houston Astros      12.5  1.48       100  0.529258  \n",
       "2488   Oakland Athletics      10.0  1.41       100  0.828166  \n",
       "2489  New York Islanders       6.0  1.37       100  0.605255  "
      ]
     },
     "execution_count": 26,
     "metadata": {},
     "output_type": "execute_result"
    }
   ],
   "source": [
    "df_prediccion = dsp.load_data(tbl=\"tbl_prediccion_base1\")\n",
    "dsp.daily_prediction_criterio(df_prediccion)"
   ]
  },
  {
   "cell_type": "code",
   "execution_count": 27,
   "metadata": {},
   "outputs": [
    {
     "data": {
      "text/html": [
       "<div>\n",
       "<style scoped>\n",
       "    .dataframe tbody tr th:only-of-type {\n",
       "        vertical-align: middle;\n",
       "    }\n",
       "\n",
       "    .dataframe tbody tr th {\n",
       "        vertical-align: top;\n",
       "    }\n",
       "\n",
       "    .dataframe thead th {\n",
       "        text-align: right;\n",
       "    }\n",
       "</style>\n",
       "<table border=\"1\" class=\"dataframe\">\n",
       "  <thead>\n",
       "    <tr style=\"text-align: right;\">\n",
       "      <th></th>\n",
       "      <th>date</th>\n",
       "      <th>hora</th>\n",
       "      <th>sport</th>\n",
       "      <th>area</th>\n",
       "      <th>league</th>\n",
       "      <th>team1</th>\n",
       "      <th>team2</th>\n",
       "      <th>objetivo</th>\n",
       "      <th>odd</th>\n",
       "      <th>criterio</th>\n",
       "      <th>outcome</th>\n",
       "    </tr>\n",
       "  </thead>\n",
       "  <tbody>\n",
       "    <tr>\n",
       "      <th>551</th>\n",
       "      <td>2021-06-22</td>\n",
       "      <td>01:05</td>\n",
       "      <td>baseball</td>\n",
       "      <td>usa</td>\n",
       "      <td>mlb</td>\n",
       "      <td>Chicago Cubs</td>\n",
       "      <td>Cleveland Indians</td>\n",
       "      <td>-1.0</td>\n",
       "      <td>1.9</td>\n",
       "      <td>100</td>\n",
       "      <td>0.479208</td>\n",
       "    </tr>\n",
       "    <tr>\n",
       "      <th>550</th>\n",
       "      <td>2021-06-22</td>\n",
       "      <td>01:00</td>\n",
       "      <td>hockey</td>\n",
       "      <td>usa</td>\n",
       "      <td>nhl</td>\n",
       "      <td>Tampa Bay Lightning</td>\n",
       "      <td>New York Islanders</td>\n",
       "      <td>-0.5</td>\n",
       "      <td>1.9</td>\n",
       "      <td>100</td>\n",
       "      <td>0.394452</td>\n",
       "    </tr>\n",
       "  </tbody>\n",
       "</table>\n",
       "</div>"
      ],
      "text/plain": [
       "           date   hora     sport area league                team1  \\\n",
       "551  2021-06-22  01:05  baseball  usa    mlb         Chicago Cubs   \n",
       "550  2021-06-22  01:00    hockey  usa    nhl  Tampa Bay Lightning   \n",
       "\n",
       "                  team2  objetivo  odd  criterio   outcome  \n",
       "551   Cleveland Indians      -1.0  1.9       100  0.479208  \n",
       "550  New York Islanders      -0.5  1.9       100  0.394452  "
      ]
     },
     "execution_count": 27,
     "metadata": {},
     "output_type": "execute_result"
    }
   ],
   "source": [
    "df_prediccion = dsp.load_data(tbl=\"tbl_prediccion_handicap1\")\n",
    "dsp.daily_prediction_criterio(df_prediccion)"
   ]
  },
  {
   "cell_type": "markdown",
   "metadata": {},
   "source": [
    "## NBA"
   ]
  },
  {
   "cell_type": "code",
   "execution_count": 28,
   "metadata": {},
   "outputs": [
    {
     "data": {
      "text/html": [
       "<div>\n",
       "<style scoped>\n",
       "    .dataframe tbody tr th:only-of-type {\n",
       "        vertical-align: middle;\n",
       "    }\n",
       "\n",
       "    .dataframe tbody tr th {\n",
       "        vertical-align: top;\n",
       "    }\n",
       "\n",
       "    .dataframe thead th {\n",
       "        text-align: right;\n",
       "    }\n",
       "</style>\n",
       "<table border=\"1\" class=\"dataframe\">\n",
       "  <thead>\n",
       "    <tr style=\"text-align: right;\">\n",
       "      <th></th>\n",
       "      <th>hora</th>\n",
       "      <th>date</th>\n",
       "      <th>area_league</th>\n",
       "      <th>team1</th>\n",
       "      <th>team2</th>\n",
       "      <th>team1_odds</th>\n",
       "      <th>draw_odds</th>\n",
       "      <th>team2_odds</th>\n",
       "      <th>objetivo</th>\n",
       "    </tr>\n",
       "  </thead>\n",
       "  <tbody>\n",
       "  </tbody>\n",
       "</table>\n",
       "</div>"
      ],
      "text/plain": [
       "Empty DataFrame\n",
       "Columns: [hora, date, area_league, team1, team2, team1_odds, draw_odds, team2_odds, objetivo]\n",
       "Index: []"
      ]
     },
     "execution_count": 28,
     "metadata": {},
     "output_type": "execute_result"
    }
   ],
   "source": [
    "df_prediccion = dsp.load_data(tbl=\"tbl_prediccion_machin_nba\")\n",
    "dsp.daily_prediction(df_prediccion)"
   ]
  },
  {
   "cell_type": "markdown",
   "metadata": {},
   "source": [
    "## NBA CLUSTER FALLO"
   ]
  },
  {
   "cell_type": "code",
   "execution_count": 29,
   "metadata": {},
   "outputs": [
    {
     "data": {
      "text/html": [
       "<div>\n",
       "<style scoped>\n",
       "    .dataframe tbody tr th:only-of-type {\n",
       "        vertical-align: middle;\n",
       "    }\n",
       "\n",
       "    .dataframe tbody tr th {\n",
       "        vertical-align: top;\n",
       "    }\n",
       "\n",
       "    .dataframe thead th {\n",
       "        text-align: right;\n",
       "    }\n",
       "</style>\n",
       "<table border=\"1\" class=\"dataframe\">\n",
       "  <thead>\n",
       "    <tr style=\"text-align: right;\">\n",
       "      <th></th>\n",
       "      <th>hora</th>\n",
       "      <th>date</th>\n",
       "      <th>area_league</th>\n",
       "      <th>team1</th>\n",
       "      <th>team2</th>\n",
       "      <th>team1_odds</th>\n",
       "      <th>draw_odds</th>\n",
       "      <th>team2_odds</th>\n",
       "      <th>objetivo</th>\n",
       "    </tr>\n",
       "  </thead>\n",
       "  <tbody>\n",
       "  </tbody>\n",
       "</table>\n",
       "</div>"
      ],
      "text/plain": [
       "Empty DataFrame\n",
       "Columns: [hora, date, area_league, team1, team2, team1_odds, draw_odds, team2_odds, objetivo]\n",
       "Index: []"
      ]
     },
     "execution_count": 29,
     "metadata": {},
     "output_type": "execute_result"
    }
   ],
   "source": [
    "df_prediccion = dsp.load_data(tbl=\"tbl_fallo_nba\")\n",
    "dsp.daily_prediction(df_prediccion)\n"
   ]
  },
  {
   "cell_type": "markdown",
   "metadata": {},
   "source": [
    "## NBA FALLO SIN FILTRO"
   ]
  },
  {
   "cell_type": "code",
   "execution_count": 30,
   "metadata": {},
   "outputs": [
    {
     "data": {
      "text/html": [
       "<div>\n",
       "<style scoped>\n",
       "    .dataframe tbody tr th:only-of-type {\n",
       "        vertical-align: middle;\n",
       "    }\n",
       "\n",
       "    .dataframe tbody tr th {\n",
       "        vertical-align: top;\n",
       "    }\n",
       "\n",
       "    .dataframe thead th {\n",
       "        text-align: right;\n",
       "    }\n",
       "</style>\n",
       "<table border=\"1\" class=\"dataframe\">\n",
       "  <thead>\n",
       "    <tr style=\"text-align: right;\">\n",
       "      <th></th>\n",
       "      <th>hora</th>\n",
       "      <th>date</th>\n",
       "      <th>area_league</th>\n",
       "      <th>team1</th>\n",
       "      <th>team2</th>\n",
       "      <th>team1_odds</th>\n",
       "      <th>draw_odds</th>\n",
       "      <th>team2_odds</th>\n",
       "      <th>objetivo</th>\n",
       "    </tr>\n",
       "  </thead>\n",
       "  <tbody>\n",
       "  </tbody>\n",
       "</table>\n",
       "</div>"
      ],
      "text/plain": [
       "Empty DataFrame\n",
       "Columns: [hora, date, area_league, team1, team2, team1_odds, draw_odds, team2_odds, objetivo]\n",
       "Index: []"
      ]
     },
     "execution_count": 30,
     "metadata": {},
     "output_type": "execute_result"
    }
   ],
   "source": [
    "df_prediccion = dsp.load_data(tbl=\"tbl_fallo2_nba\")\n",
    "dsp.daily_prediction(df_prediccion)"
   ]
  },
  {
   "cell_type": "markdown",
   "metadata": {},
   "source": [
    "### MLB FALLO"
   ]
  },
  {
   "cell_type": "code",
   "execution_count": 31,
   "metadata": {},
   "outputs": [
    {
     "data": {
      "text/html": [
       "<div>\n",
       "<style scoped>\n",
       "    .dataframe tbody tr th:only-of-type {\n",
       "        vertical-align: middle;\n",
       "    }\n",
       "\n",
       "    .dataframe tbody tr th {\n",
       "        vertical-align: top;\n",
       "    }\n",
       "\n",
       "    .dataframe thead th {\n",
       "        text-align: right;\n",
       "    }\n",
       "</style>\n",
       "<table border=\"1\" class=\"dataframe\">\n",
       "  <thead>\n",
       "    <tr style=\"text-align: right;\">\n",
       "      <th></th>\n",
       "      <th>hora</th>\n",
       "      <th>date</th>\n",
       "      <th>area_league</th>\n",
       "      <th>team1</th>\n",
       "      <th>team2</th>\n",
       "      <th>team1_odds</th>\n",
       "      <th>draw_odds</th>\n",
       "      <th>team2_odds</th>\n",
       "      <th>objetivo</th>\n",
       "    </tr>\n",
       "  </thead>\n",
       "  <tbody>\n",
       "  </tbody>\n",
       "</table>\n",
       "</div>"
      ],
      "text/plain": [
       "Empty DataFrame\n",
       "Columns: [hora, date, area_league, team1, team2, team1_odds, draw_odds, team2_odds, objetivo]\n",
       "Index: []"
      ]
     },
     "execution_count": 31,
     "metadata": {},
     "output_type": "execute_result"
    }
   ],
   "source": [
    "df_prediccion = dsp.load_data(tbl=\"tbl_fallo_mlb\")\n",
    "dsp.daily_prediction(df_prediccion)\n"
   ]
  },
  {
   "cell_type": "markdown",
   "metadata": {},
   "source": [
    "## NHL"
   ]
  },
  {
   "cell_type": "code",
   "execution_count": 32,
   "metadata": {},
   "outputs": [
    {
     "data": {
      "text/html": [
       "<div>\n",
       "<style scoped>\n",
       "    .dataframe tbody tr th:only-of-type {\n",
       "        vertical-align: middle;\n",
       "    }\n",
       "\n",
       "    .dataframe tbody tr th {\n",
       "        vertical-align: top;\n",
       "    }\n",
       "\n",
       "    .dataframe thead th {\n",
       "        text-align: right;\n",
       "    }\n",
       "</style>\n",
       "<table border=\"1\" class=\"dataframe\">\n",
       "  <thead>\n",
       "    <tr style=\"text-align: right;\">\n",
       "      <th></th>\n",
       "      <th>hora</th>\n",
       "      <th>date</th>\n",
       "      <th>area_league</th>\n",
       "      <th>team1</th>\n",
       "      <th>team2</th>\n",
       "      <th>team1_odds</th>\n",
       "      <th>draw_odds</th>\n",
       "      <th>team2_odds</th>\n",
       "      <th>objetivo</th>\n",
       "    </tr>\n",
       "  </thead>\n",
       "  <tbody>\n",
       "    <tr>\n",
       "      <th>957</th>\n",
       "      <td>01:00</td>\n",
       "      <td>2021-06-22</td>\n",
       "      <td>/hockey/usa/nhl/tampa-bay-lightning-new-york-i...</td>\n",
       "      <td>Tampa Bay Lightning</td>\n",
       "      <td>New York Islanders</td>\n",
       "      <td>1.94</td>\n",
       "      <td>4.14</td>\n",
       "      <td>3.41</td>\n",
       "      <td>0.599513</td>\n",
       "    </tr>\n",
       "  </tbody>\n",
       "</table>\n",
       "</div>"
      ],
      "text/plain": [
       "      hora        date                                        area_league  \\\n",
       "957  01:00  2021-06-22  /hockey/usa/nhl/tampa-bay-lightning-new-york-i...   \n",
       "\n",
       "                   team1               team2  team1_odds  draw_odds  \\\n",
       "957  Tampa Bay Lightning  New York Islanders        1.94       4.14   \n",
       "\n",
       "     team2_odds  objetivo  \n",
       "957        3.41  0.599513  "
      ]
     },
     "execution_count": 32,
     "metadata": {},
     "output_type": "execute_result"
    }
   ],
   "source": [
    "df_prediccion = dsp.load_data(tbl=\"tbl_prediccion_machin_nhl\")\n",
    "dsp.daily_prediction(df_prediccion)"
   ]
  },
  {
   "cell_type": "markdown",
   "metadata": {},
   "source": [
    "### MLB"
   ]
  },
  {
   "cell_type": "code",
   "execution_count": 33,
   "metadata": {},
   "outputs": [
    {
     "data": {
      "text/html": [
       "<div>\n",
       "<style scoped>\n",
       "    .dataframe tbody tr th:only-of-type {\n",
       "        vertical-align: middle;\n",
       "    }\n",
       "\n",
       "    .dataframe tbody tr th {\n",
       "        vertical-align: top;\n",
       "    }\n",
       "\n",
       "    .dataframe thead th {\n",
       "        text-align: right;\n",
       "    }\n",
       "</style>\n",
       "<table border=\"1\" class=\"dataframe\">\n",
       "  <thead>\n",
       "    <tr style=\"text-align: right;\">\n",
       "      <th></th>\n",
       "      <th>hora</th>\n",
       "      <th>date</th>\n",
       "      <th>area_league</th>\n",
       "      <th>team1</th>\n",
       "      <th>team2</th>\n",
       "      <th>team1_odds</th>\n",
       "      <th>draw_odds</th>\n",
       "      <th>team2_odds</th>\n",
       "      <th>objetivo</th>\n",
       "    </tr>\n",
       "  </thead>\n",
       "  <tbody>\n",
       "    <tr>\n",
       "      <th>279</th>\n",
       "      <td>01:10</td>\n",
       "      <td>2021-06-22</td>\n",
       "      <td>/baseball/usa/mlb/new-york-mets-atlanta-braves...</td>\n",
       "      <td>New York Mets</td>\n",
       "      <td>Atlanta Braves</td>\n",
       "      <td>2.14</td>\n",
       "      <td>0</td>\n",
       "      <td>1.77</td>\n",
       "      <td>TEAM2</td>\n",
       "    </tr>\n",
       "  </tbody>\n",
       "</table>\n",
       "</div>"
      ],
      "text/plain": [
       "      hora        date                                        area_league  \\\n",
       "279  01:10  2021-06-22  /baseball/usa/mlb/new-york-mets-atlanta-braves...   \n",
       "\n",
       "             team1           team2 team1_odds  draw_odds team2_odds objetivo  \n",
       "279  New York Mets  Atlanta Braves       2.14          0       1.77    TEAM2  "
      ]
     },
     "execution_count": 33,
     "metadata": {},
     "output_type": "execute_result"
    }
   ],
   "source": [
    "df_prediccion = dsp.load_data(tbl=\"tbl_prediccion_machin_base1\")\n",
    "dp = dsp.daily_prediction(df_prediccion)\n",
    "dp.sort_values(by=['hora'],ascending=True)"
   ]
  },
  {
   "cell_type": "markdown",
   "metadata": {},
   "source": [
    "## SOCCER"
   ]
  },
  {
   "cell_type": "code",
   "execution_count": 34,
   "metadata": {},
   "outputs": [
    {
     "data": {
      "text/html": [
       "<div>\n",
       "<style scoped>\n",
       "    .dataframe tbody tr th:only-of-type {\n",
       "        vertical-align: middle;\n",
       "    }\n",
       "\n",
       "    .dataframe tbody tr th {\n",
       "        vertical-align: top;\n",
       "    }\n",
       "\n",
       "    .dataframe thead th {\n",
       "        text-align: right;\n",
       "    }\n",
       "</style>\n",
       "<table border=\"1\" class=\"dataframe\">\n",
       "  <thead>\n",
       "    <tr style=\"text-align: right;\">\n",
       "      <th></th>\n",
       "      <th>hora</th>\n",
       "      <th>date</th>\n",
       "      <th>area_league</th>\n",
       "      <th>team1</th>\n",
       "      <th>team2</th>\n",
       "      <th>team1_odds</th>\n",
       "      <th>draw_odds</th>\n",
       "      <th>team2_odds</th>\n",
       "      <th>objetivo</th>\n",
       "    </tr>\n",
       "  </thead>\n",
       "  <tbody>\n",
       "  </tbody>\n",
       "</table>\n",
       "</div>"
      ],
      "text/plain": [
       "Empty DataFrame\n",
       "Columns: [hora, date, area_league, team1, team2, team1_odds, draw_odds, team2_odds, objetivo]\n",
       "Index: []"
      ]
     },
     "execution_count": 34,
     "metadata": {},
     "output_type": "execute_result"
    }
   ],
   "source": [
    "df_prediccion = dsp.load_data(tbl=\"tbl_prediccion_machin_soccer\")\n",
    "dsp.daily_prediction(df_prediccion)"
   ]
  },
  {
   "cell_type": "markdown",
   "metadata": {},
   "source": [
    "### SOCCER CLUSTER FALLO"
   ]
  },
  {
   "cell_type": "code",
   "execution_count": 35,
   "metadata": {},
   "outputs": [
    {
     "data": {
      "text/html": [
       "<div>\n",
       "<style scoped>\n",
       "    .dataframe tbody tr th:only-of-type {\n",
       "        vertical-align: middle;\n",
       "    }\n",
       "\n",
       "    .dataframe tbody tr th {\n",
       "        vertical-align: top;\n",
       "    }\n",
       "\n",
       "    .dataframe thead th {\n",
       "        text-align: right;\n",
       "    }\n",
       "</style>\n",
       "<table border=\"1\" class=\"dataframe\">\n",
       "  <thead>\n",
       "    <tr style=\"text-align: right;\">\n",
       "      <th></th>\n",
       "      <th>hora</th>\n",
       "      <th>date</th>\n",
       "      <th>area_league</th>\n",
       "      <th>team1</th>\n",
       "      <th>team2</th>\n",
       "      <th>team1_odds</th>\n",
       "      <th>draw_odds</th>\n",
       "      <th>team2_odds</th>\n",
       "      <th>objetivo</th>\n",
       "    </tr>\n",
       "  </thead>\n",
       "  <tbody>\n",
       "  </tbody>\n",
       "</table>\n",
       "</div>"
      ],
      "text/plain": [
       "Empty DataFrame\n",
       "Columns: [hora, date, area_league, team1, team2, team1_odds, draw_odds, team2_odds, objetivo]\n",
       "Index: []"
      ]
     },
     "execution_count": 35,
     "metadata": {},
     "output_type": "execute_result"
    }
   ],
   "source": [
    "df_prediccion = dsp.load_data(tbl=\"tbl_fallo_soccer\")\n",
    "dsp.daily_prediction(df_prediccion)"
   ]
  },
  {
   "cell_type": "markdown",
   "metadata": {},
   "source": [
    "### SOCCER EMPATE SECUENCIA"
   ]
  },
  {
   "cell_type": "code",
   "execution_count": 36,
   "metadata": {},
   "outputs": [
    {
     "data": {
      "text/html": [
       "<div>\n",
       "<style scoped>\n",
       "    .dataframe tbody tr th:only-of-type {\n",
       "        vertical-align: middle;\n",
       "    }\n",
       "\n",
       "    .dataframe tbody tr th {\n",
       "        vertical-align: top;\n",
       "    }\n",
       "\n",
       "    .dataframe thead th {\n",
       "        text-align: right;\n",
       "    }\n",
       "</style>\n",
       "<table border=\"1\" class=\"dataframe\">\n",
       "  <thead>\n",
       "    <tr style=\"text-align: right;\">\n",
       "      <th></th>\n",
       "      <th>hora</th>\n",
       "      <th>date</th>\n",
       "      <th>area_league</th>\n",
       "      <th>team1</th>\n",
       "      <th>team2</th>\n",
       "      <th>team1_odds</th>\n",
       "      <th>draw_odds</th>\n",
       "      <th>team2_odds</th>\n",
       "      <th>objetivo</th>\n",
       "    </tr>\n",
       "  </thead>\n",
       "  <tbody>\n",
       "    <tr>\n",
       "      <th>810</th>\n",
       "      <td>20:30</td>\n",
       "      <td>2021-06-22</td>\n",
       "      <td>soccer/brazil_serie-b</td>\n",
       "      <td>Confianca</td>\n",
       "      <td>Vila Nova FC</td>\n",
       "      <td>2.25</td>\n",
       "      <td>3.12</td>\n",
       "      <td>3.31</td>\n",
       "      <td>2-Vila Nova FC-0.48</td>\n",
       "    </tr>\n",
       "    <tr>\n",
       "      <th>809</th>\n",
       "      <td>14:00</td>\n",
       "      <td>2021-06-22</td>\n",
       "      <td>soccer/tanzania_ligi-kuu-bara</td>\n",
       "      <td>Tanzania Prisons</td>\n",
       "      <td>Coastal Union</td>\n",
       "      <td>1.75</td>\n",
       "      <td>3.05</td>\n",
       "      <td>5.13</td>\n",
       "      <td>1-Tanzania Prisons-0.2</td>\n",
       "    </tr>\n",
       "  </tbody>\n",
       "</table>\n",
       "</div>"
      ],
      "text/plain": [
       "      hora        date                    area_league             team1  \\\n",
       "810  20:30  2021-06-22          soccer/brazil_serie-b         Confianca   \n",
       "809  14:00  2021-06-22  soccer/tanzania_ligi-kuu-bara  Tanzania Prisons   \n",
       "\n",
       "             team2  team1_odds  draw_odds  team2_odds                objetivo  \n",
       "810   Vila Nova FC        2.25       3.12        3.31     2-Vila Nova FC-0.48  \n",
       "809  Coastal Union        1.75       3.05        5.13  1-Tanzania Prisons-0.2  "
      ]
     },
     "execution_count": 36,
     "metadata": {},
     "output_type": "execute_result"
    }
   ],
   "source": [
    "df_prediccion = dsp.load_data(tbl=\"tbl_empate_soccer\")\n",
    "dsp.daily_prediction(df_prediccion)"
   ]
  },
  {
   "cell_type": "markdown",
   "metadata": {},
   "source": [
    "###  MILAN - más negativo -77"
   ]
  },
  {
   "cell_type": "code",
   "execution_count": 37,
   "metadata": {},
   "outputs": [
    {
     "data": {
      "text/html": [
       "<div>\n",
       "<style scoped>\n",
       "    .dataframe tbody tr th:only-of-type {\n",
       "        vertical-align: middle;\n",
       "    }\n",
       "\n",
       "    .dataframe tbody tr th {\n",
       "        vertical-align: top;\n",
       "    }\n",
       "\n",
       "    .dataframe thead th {\n",
       "        text-align: right;\n",
       "    }\n",
       "</style>\n",
       "<table border=\"1\" class=\"dataframe\">\n",
       "  <thead>\n",
       "    <tr style=\"text-align: right;\">\n",
       "      <th></th>\n",
       "      <th>hora</th>\n",
       "      <th>date</th>\n",
       "      <th>area_league</th>\n",
       "      <th>team1</th>\n",
       "      <th>team2</th>\n",
       "      <th>team1_odds</th>\n",
       "      <th>draw_odds</th>\n",
       "      <th>team2_odds</th>\n",
       "      <th>objetivo</th>\n",
       "    </tr>\n",
       "  </thead>\n",
       "  <tbody>\n",
       "    <tr>\n",
       "      <th>732</th>\n",
       "      <td>17:00</td>\n",
       "      <td>2021-06-22</td>\n",
       "      <td>soccer/norway_obos-ligaen</td>\n",
       "      <td>Ull/Kisa</td>\n",
       "      <td>Fredrikstad</td>\n",
       "      <td>2.93</td>\n",
       "      <td>3.87</td>\n",
       "      <td>2.15</td>\n",
       "      <td>FALLO-1-Ull/Kisa--0.04</td>\n",
       "    </tr>\n",
       "  </tbody>\n",
       "</table>\n",
       "</div>"
      ],
      "text/plain": [
       "      hora        date                area_league     team1        team2  \\\n",
       "732  17:00  2021-06-22  soccer/norway_obos-ligaen  Ull/Kisa  Fredrikstad   \n",
       "\n",
       "     team1_odds  draw_odds  team2_odds                objetivo  \n",
       "732        2.93       3.87        2.15  FALLO-1-Ull/Kisa--0.04  "
      ]
     },
     "execution_count": 37,
     "metadata": {},
     "output_type": "execute_result"
    }
   ],
   "source": [
    "df_prediccion = dsp.load_data(tbl=\"tbl_favorito_soccer_MILAN\")\n",
    "dsp.daily_prediction(df_prediccion)"
   ]
  },
  {
   "cell_type": "markdown",
   "metadata": {},
   "source": [
    "## CRB - más positivo .49"
   ]
  },
  {
   "cell_type": "code",
   "execution_count": 38,
   "metadata": {},
   "outputs": [
    {
     "data": {
      "text/html": [
       "<div>\n",
       "<style scoped>\n",
       "    .dataframe tbody tr th:only-of-type {\n",
       "        vertical-align: middle;\n",
       "    }\n",
       "\n",
       "    .dataframe tbody tr th {\n",
       "        vertical-align: top;\n",
       "    }\n",
       "\n",
       "    .dataframe thead th {\n",
       "        text-align: right;\n",
       "    }\n",
       "</style>\n",
       "<table border=\"1\" class=\"dataframe\">\n",
       "  <thead>\n",
       "    <tr style=\"text-align: right;\">\n",
       "      <th></th>\n",
       "      <th>hora</th>\n",
       "      <th>date</th>\n",
       "      <th>area_league</th>\n",
       "      <th>team1</th>\n",
       "      <th>team2</th>\n",
       "      <th>team1_odds</th>\n",
       "      <th>draw_odds</th>\n",
       "      <th>team2_odds</th>\n",
       "      <th>objetivo</th>\n",
       "    </tr>\n",
       "  </thead>\n",
       "  <tbody>\n",
       "    <tr>\n",
       "      <th>153</th>\n",
       "      <td>20:30</td>\n",
       "      <td>2021-06-22</td>\n",
       "      <td>soccer/brazil_serie-b</td>\n",
       "      <td>Brusque</td>\n",
       "      <td>Sampaio Correa</td>\n",
       "      <td>2.04</td>\n",
       "      <td>3.43</td>\n",
       "      <td>3.51</td>\n",
       "      <td>FAVORITO-1-Sampaio Correa-0.05</td>\n",
       "    </tr>\n",
       "    <tr>\n",
       "      <th>154</th>\n",
       "      <td>23:00</td>\n",
       "      <td>2021-06-22</td>\n",
       "      <td>soccer/brazil_serie-b</td>\n",
       "      <td>Ponte Preta</td>\n",
       "      <td>Operario</td>\n",
       "      <td>2.42</td>\n",
       "      <td>2.95</td>\n",
       "      <td>3.15</td>\n",
       "      <td>FAVORITO-1-Operario-0.49</td>\n",
       "    </tr>\n",
       "    <tr>\n",
       "      <th>152</th>\n",
       "      <td>17:00</td>\n",
       "      <td>2021-06-22</td>\n",
       "      <td>soccer/norway_obos-ligaen</td>\n",
       "      <td>Asane</td>\n",
       "      <td>Sandnes</td>\n",
       "      <td>2.08</td>\n",
       "      <td>3.74</td>\n",
       "      <td>3.19</td>\n",
       "      <td>FAVORITO-1-Sandnes-0.49</td>\n",
       "    </tr>\n",
       "  </tbody>\n",
       "</table>\n",
       "</div>"
      ],
      "text/plain": [
       "      hora        date                area_league        team1  \\\n",
       "153  20:30  2021-06-22      soccer/brazil_serie-b      Brusque   \n",
       "154  23:00  2021-06-22      soccer/brazil_serie-b  Ponte Preta   \n",
       "152  17:00  2021-06-22  soccer/norway_obos-ligaen        Asane   \n",
       "\n",
       "              team2  team1_odds  draw_odds  team2_odds  \\\n",
       "153  Sampaio Correa        2.04       3.43        3.51   \n",
       "154        Operario        2.42       2.95        3.15   \n",
       "152         Sandnes        2.08       3.74        3.19   \n",
       "\n",
       "                           objetivo  \n",
       "153  FAVORITO-1-Sampaio Correa-0.05  \n",
       "154        FAVORITO-1-Operario-0.49  \n",
       "152         FAVORITO-1-Sandnes-0.49  "
      ]
     },
     "execution_count": 38,
     "metadata": {},
     "output_type": "execute_result"
    }
   ],
   "source": [
    "df_prediccion = dsp.load_data(tbl=\"tbl_favorito_soccer_CRB\")\n",
    "dsp.daily_prediction(df_prediccion)"
   ]
  },
  {
   "cell_type": "markdown",
   "metadata": {},
   "source": [
    "### LIGA MX"
   ]
  },
  {
   "cell_type": "code",
   "execution_count": 39,
   "metadata": {},
   "outputs": [
    {
     "data": {
      "text/html": [
       "<div>\n",
       "<style scoped>\n",
       "    .dataframe tbody tr th:only-of-type {\n",
       "        vertical-align: middle;\n",
       "    }\n",
       "\n",
       "    .dataframe tbody tr th {\n",
       "        vertical-align: top;\n",
       "    }\n",
       "\n",
       "    .dataframe thead th {\n",
       "        text-align: right;\n",
       "    }\n",
       "</style>\n",
       "<table border=\"1\" class=\"dataframe\">\n",
       "  <thead>\n",
       "    <tr style=\"text-align: right;\">\n",
       "      <th></th>\n",
       "      <th>date</th>\n",
       "      <th>hora</th>\n",
       "      <th>sport</th>\n",
       "      <th>area</th>\n",
       "      <th>league</th>\n",
       "      <th>team1</th>\n",
       "      <th>team2</th>\n",
       "      <th>objetivo</th>\n",
       "      <th>outcome</th>\n",
       "      <th>odd</th>\n",
       "      <th>m_criterio</th>\n",
       "    </tr>\n",
       "  </thead>\n",
       "  <tbody>\n",
       "  </tbody>\n",
       "</table>\n",
       "</div>"
      ],
      "text/plain": [
       "Empty DataFrame\n",
       "Columns: [date, hora, sport, area, league, team1, team2, objetivo, outcome, odd, m_criterio]\n",
       "Index: []"
      ]
     },
     "execution_count": 39,
     "metadata": {},
     "output_type": "execute_result"
    }
   ],
   "source": [
    "df_prediccion = dsp.load_data(tbl=\"tbl_prediccion_machin_mx1\")\n",
    "dsp.daily_prediction_criterio(df_prediccion)"
   ]
  },
  {
   "cell_type": "markdown",
   "metadata": {},
   "source": [
    "### NFL"
   ]
  },
  {
   "cell_type": "code",
   "execution_count": 40,
   "metadata": {},
   "outputs": [
    {
     "data": {
      "text/html": [
       "<div>\n",
       "<style scoped>\n",
       "    .dataframe tbody tr th:only-of-type {\n",
       "        vertical-align: middle;\n",
       "    }\n",
       "\n",
       "    .dataframe tbody tr th {\n",
       "        vertical-align: top;\n",
       "    }\n",
       "\n",
       "    .dataframe thead th {\n",
       "        text-align: right;\n",
       "    }\n",
       "</style>\n",
       "<table border=\"1\" class=\"dataframe\">\n",
       "  <thead>\n",
       "    <tr style=\"text-align: right;\">\n",
       "      <th></th>\n",
       "      <th>date</th>\n",
       "      <th>hora</th>\n",
       "      <th>sport</th>\n",
       "      <th>area</th>\n",
       "      <th>league</th>\n",
       "      <th>team1</th>\n",
       "      <th>team2</th>\n",
       "      <th>objetivo</th>\n",
       "      <th>outcome</th>\n",
       "      <th>odd</th>\n",
       "      <th>m_criterio</th>\n",
       "    </tr>\n",
       "  </thead>\n",
       "  <tbody>\n",
       "  </tbody>\n",
       "</table>\n",
       "</div>"
      ],
      "text/plain": [
       "Empty DataFrame\n",
       "Columns: [date, hora, sport, area, league, team1, team2, objetivo, outcome, odd, m_criterio]\n",
       "Index: []"
      ]
     },
     "execution_count": 40,
     "metadata": {},
     "output_type": "execute_result"
    }
   ],
   "source": [
    "df_prediccion = dsp.load_data(tbl=\"tbl_prediccion_machin_nfl1\")\n",
    "dsp.daily_prediction_criterio(df_prediccion)"
   ]
  },
  {
   "cell_type": "markdown",
   "metadata": {},
   "source": [
    "### HOCKEY"
   ]
  },
  {
   "cell_type": "code",
   "execution_count": 41,
   "metadata": {},
   "outputs": [
    {
     "data": {
      "text/html": [
       "<div>\n",
       "<style scoped>\n",
       "    .dataframe tbody tr th:only-of-type {\n",
       "        vertical-align: middle;\n",
       "    }\n",
       "\n",
       "    .dataframe tbody tr th {\n",
       "        vertical-align: top;\n",
       "    }\n",
       "\n",
       "    .dataframe thead th {\n",
       "        text-align: right;\n",
       "    }\n",
       "</style>\n",
       "<table border=\"1\" class=\"dataframe\">\n",
       "  <thead>\n",
       "    <tr style=\"text-align: right;\">\n",
       "      <th></th>\n",
       "      <th>hora</th>\n",
       "      <th>date</th>\n",
       "      <th>area_league</th>\n",
       "      <th>team1</th>\n",
       "      <th>team2</th>\n",
       "      <th>team1_odds</th>\n",
       "      <th>draw_odds</th>\n",
       "      <th>team2_odds</th>\n",
       "      <th>objetivo</th>\n",
       "    </tr>\n",
       "  </thead>\n",
       "  <tbody>\n",
       "  </tbody>\n",
       "</table>\n",
       "</div>"
      ],
      "text/plain": [
       "Empty DataFrame\n",
       "Columns: [hora, date, area_league, team1, team2, team1_odds, draw_odds, team2_odds, objetivo]\n",
       "Index: []"
      ]
     },
     "execution_count": 41,
     "metadata": {},
     "output_type": "execute_result"
    }
   ],
   "source": [
    "df_prediccion = dsp.load_data(tbl=\"tbl_prediccion_machin_hockey\")\n",
    "dsp.daily_prediction(df_prediccion)"
   ]
  },
  {
   "cell_type": "markdown",
   "metadata": {},
   "source": [
    "### Daily predictions machin3."
   ]
  },
  {
   "cell_type": "code",
   "execution_count": 42,
   "metadata": {},
   "outputs": [
    {
     "data": {
      "text/html": [
       "<div>\n",
       "<style scoped>\n",
       "    .dataframe tbody tr th:only-of-type {\n",
       "        vertical-align: middle;\n",
       "    }\n",
       "\n",
       "    .dataframe tbody tr th {\n",
       "        vertical-align: top;\n",
       "    }\n",
       "\n",
       "    .dataframe thead th {\n",
       "        text-align: right;\n",
       "    }\n",
       "</style>\n",
       "<table border=\"1\" class=\"dataframe\">\n",
       "  <thead>\n",
       "    <tr style=\"text-align: right;\">\n",
       "      <th></th>\n",
       "      <th>hora</th>\n",
       "      <th>date</th>\n",
       "      <th>area_league</th>\n",
       "      <th>team1</th>\n",
       "      <th>team2</th>\n",
       "      <th>team1_odds</th>\n",
       "      <th>draw_odds</th>\n",
       "      <th>team2_odds</th>\n",
       "      <th>objetivo</th>\n",
       "    </tr>\n",
       "  </thead>\n",
       "  <tbody>\n",
       "    <tr>\n",
       "      <th>834</th>\n",
       "      <td>23:00</td>\n",
       "      <td>2021-06-22</td>\n",
       "      <td>/soccer/brazil/serie-b/goias-avai-AH2OSLI9/</td>\n",
       "      <td>Goias</td>\n",
       "      <td>Avai</td>\n",
       "      <td>2.38</td>\n",
       "      <td>2.82</td>\n",
       "      <td>3.40</td>\n",
       "      <td>TEAM1</td>\n",
       "    </tr>\n",
       "    <tr>\n",
       "      <th>833</th>\n",
       "      <td>17:00</td>\n",
       "      <td>2021-06-22</td>\n",
       "      <td>/soccer/tanzania/ligi-kuu-bara/simba-mbeya-cit...</td>\n",
       "      <td>Simba</td>\n",
       "      <td>Mbeya City</td>\n",
       "      <td>1.18</td>\n",
       "      <td>5.89</td>\n",
       "      <td>14.70</td>\n",
       "      <td>TEAM1</td>\n",
       "    </tr>\n",
       "    <tr>\n",
       "      <th>832</th>\n",
       "      <td>14:00</td>\n",
       "      <td>2021-06-22</td>\n",
       "      <td>/soccer/tanzania/ligi-kuu-bara/tanzania-prison...</td>\n",
       "      <td>Tanzania Prisons</td>\n",
       "      <td>Coastal Union</td>\n",
       "      <td>1.75</td>\n",
       "      <td>3.05</td>\n",
       "      <td>5.13</td>\n",
       "      <td>TEAM1</td>\n",
       "    </tr>\n",
       "  </tbody>\n",
       "</table>\n",
       "</div>"
      ],
      "text/plain": [
       "      hora        date                                        area_league  \\\n",
       "834  23:00  2021-06-22        /soccer/brazil/serie-b/goias-avai-AH2OSLI9/   \n",
       "833  17:00  2021-06-22  /soccer/tanzania/ligi-kuu-bara/simba-mbeya-cit...   \n",
       "832  14:00  2021-06-22  /soccer/tanzania/ligi-kuu-bara/tanzania-prison...   \n",
       "\n",
       "                team1          team2  team1_odds  draw_odds  team2_odds  \\\n",
       "834             Goias           Avai        2.38       2.82        3.40   \n",
       "833             Simba     Mbeya City        1.18       5.89       14.70   \n",
       "832  Tanzania Prisons  Coastal Union        1.75       3.05        5.13   \n",
       "\n",
       "    objetivo  \n",
       "834    TEAM1  \n",
       "833    TEAM1  \n",
       "832    TEAM1  "
      ]
     },
     "execution_count": 42,
     "metadata": {},
     "output_type": "execute_result"
    }
   ],
   "source": [
    "df_prediccion = dsp.load_data(tbl=\"tbl_prediccion_machin3\")\n",
    "dsp.daily_prediction(df_prediccion)"
   ]
  },
  {
   "cell_type": "markdown",
   "metadata": {},
   "source": [
    "### Daily predictions machin6  "
   ]
  },
  {
   "cell_type": "markdown",
   "metadata": {},
   "source": [
    "Objetivo > .50 TEAM1  | Objetivo < .50 TEAM2"
   ]
  },
  {
   "cell_type": "code",
   "execution_count": 43,
   "metadata": {},
   "outputs": [
    {
     "data": {
      "text/html": [
       "<div>\n",
       "<style scoped>\n",
       "    .dataframe tbody tr th:only-of-type {\n",
       "        vertical-align: middle;\n",
       "    }\n",
       "\n",
       "    .dataframe tbody tr th {\n",
       "        vertical-align: top;\n",
       "    }\n",
       "\n",
       "    .dataframe thead th {\n",
       "        text-align: right;\n",
       "    }\n",
       "</style>\n",
       "<table border=\"1\" class=\"dataframe\">\n",
       "  <thead>\n",
       "    <tr style=\"text-align: right;\">\n",
       "      <th></th>\n",
       "      <th>hora</th>\n",
       "      <th>date</th>\n",
       "      <th>area_league</th>\n",
       "      <th>team1</th>\n",
       "      <th>team2</th>\n",
       "      <th>team1_odds</th>\n",
       "      <th>draw_odds</th>\n",
       "      <th>team2_odds</th>\n",
       "      <th>objetivo</th>\n",
       "    </tr>\n",
       "  </thead>\n",
       "  <tbody>\n",
       "    <tr>\n",
       "      <th>8511</th>\n",
       "      <td>17:00</td>\n",
       "      <td>2021-06-22</td>\n",
       "      <td>/soccer/norway/obos-ligaen/aalesund-stjordals-...</td>\n",
       "      <td>Aalesund</td>\n",
       "      <td>Stjordals Blink</td>\n",
       "      <td>1.42</td>\n",
       "      <td>4.65</td>\n",
       "      <td>6.65</td>\n",
       "      <td>0.703376</td>\n",
       "    </tr>\n",
       "    <tr>\n",
       "      <th>8504</th>\n",
       "      <td>16:30</td>\n",
       "      <td>2021-06-22</td>\n",
       "      <td>/soccer/finland/ykkonen/tps-ekenas-if-84GsAGlC/</td>\n",
       "      <td>TPS</td>\n",
       "      <td>Ekenas</td>\n",
       "      <td>1.73</td>\n",
       "      <td>3.75</td>\n",
       "      <td>4.34</td>\n",
       "      <td>0.607649</td>\n",
       "    </tr>\n",
       "    <tr>\n",
       "      <th>8512</th>\n",
       "      <td>19:00</td>\n",
       "      <td>2021-06-22</td>\n",
       "      <td>/soccer/norway/obos-ligaen/ham-kam-sogndal-ri6...</td>\n",
       "      <td>Ham-Kam</td>\n",
       "      <td>Sogndal</td>\n",
       "      <td>2.51</td>\n",
       "      <td>3.20</td>\n",
       "      <td>2.84</td>\n",
       "      <td>0.607162</td>\n",
       "    </tr>\n",
       "    <tr>\n",
       "      <th>8508</th>\n",
       "      <td>17:00</td>\n",
       "      <td>2021-06-22</td>\n",
       "      <td>/soccer/norway/obos-ligaen/asane-sandnes-ulf-G...</td>\n",
       "      <td>Asane</td>\n",
       "      <td>Sandnes</td>\n",
       "      <td>2.08</td>\n",
       "      <td>3.74</td>\n",
       "      <td>3.19</td>\n",
       "      <td>0.576004</td>\n",
       "    </tr>\n",
       "    <tr>\n",
       "      <th>8503</th>\n",
       "      <td>16:30</td>\n",
       "      <td>2021-06-22</td>\n",
       "      <td>/soccer/finland/ykkonen/vps-rops-rovaniemi-UDH...</td>\n",
       "      <td>VPS</td>\n",
       "      <td>Rovaniemi</td>\n",
       "      <td>2.18</td>\n",
       "      <td>3.49</td>\n",
       "      <td>3.06</td>\n",
       "      <td>0.566298</td>\n",
       "    </tr>\n",
       "    <tr>\n",
       "      <th>8506</th>\n",
       "      <td>17:00</td>\n",
       "      <td>2021-06-22</td>\n",
       "      <td>/soccer/norway/obos-ligaen/bryne-kfum-oslo-KAd...</td>\n",
       "      <td>Bryne</td>\n",
       "      <td>KFUM Oslo</td>\n",
       "      <td>1.82</td>\n",
       "      <td>3.69</td>\n",
       "      <td>4.05</td>\n",
       "      <td>0.560426</td>\n",
       "    </tr>\n",
       "    <tr>\n",
       "      <th>8509</th>\n",
       "      <td>17:00</td>\n",
       "      <td>2021-06-22</td>\n",
       "      <td>/soccer/norway/obos-ligaen/jerv-strommen-fTlp7...</td>\n",
       "      <td>Jerv</td>\n",
       "      <td>Strommen</td>\n",
       "      <td>1.75</td>\n",
       "      <td>3.77</td>\n",
       "      <td>4.34</td>\n",
       "      <td>0.550895</td>\n",
       "    </tr>\n",
       "    <tr>\n",
       "      <th>8507</th>\n",
       "      <td>17:00</td>\n",
       "      <td>2021-06-22</td>\n",
       "      <td>/soccer/norway/obos-ligaen/grorud-start-YD0y9mdc/</td>\n",
       "      <td>Grorud</td>\n",
       "      <td>Start</td>\n",
       "      <td>3.04</td>\n",
       "      <td>3.63</td>\n",
       "      <td>2.16</td>\n",
       "      <td>0.486873</td>\n",
       "    </tr>\n",
       "    <tr>\n",
       "      <th>8510</th>\n",
       "      <td>17:00</td>\n",
       "      <td>2021-06-22</td>\n",
       "      <td>/soccer/norway/obos-ligaen/ranheim-raufoss-O2g...</td>\n",
       "      <td>Ranheim</td>\n",
       "      <td>Raufoss</td>\n",
       "      <td>1.94</td>\n",
       "      <td>3.77</td>\n",
       "      <td>3.54</td>\n",
       "      <td>0.480126</td>\n",
       "    </tr>\n",
       "    <tr>\n",
       "      <th>8505</th>\n",
       "      <td>17:00</td>\n",
       "      <td>2021-06-22</td>\n",
       "      <td>/soccer/norway/obos-ligaen/ull-kisa-fredriksta...</td>\n",
       "      <td>Ull/Kisa</td>\n",
       "      <td>Fredrikstad</td>\n",
       "      <td>2.93</td>\n",
       "      <td>3.87</td>\n",
       "      <td>2.15</td>\n",
       "      <td>0.446736</td>\n",
       "    </tr>\n",
       "  </tbody>\n",
       "</table>\n",
       "</div>"
      ],
      "text/plain": [
       "       hora        date                                        area_league  \\\n",
       "8511  17:00  2021-06-22  /soccer/norway/obos-ligaen/aalesund-stjordals-...   \n",
       "8504  16:30  2021-06-22    /soccer/finland/ykkonen/tps-ekenas-if-84GsAGlC/   \n",
       "8512  19:00  2021-06-22  /soccer/norway/obos-ligaen/ham-kam-sogndal-ri6...   \n",
       "8508  17:00  2021-06-22  /soccer/norway/obos-ligaen/asane-sandnes-ulf-G...   \n",
       "8503  16:30  2021-06-22  /soccer/finland/ykkonen/vps-rops-rovaniemi-UDH...   \n",
       "8506  17:00  2021-06-22  /soccer/norway/obos-ligaen/bryne-kfum-oslo-KAd...   \n",
       "8509  17:00  2021-06-22  /soccer/norway/obos-ligaen/jerv-strommen-fTlp7...   \n",
       "8507  17:00  2021-06-22  /soccer/norway/obos-ligaen/grorud-start-YD0y9mdc/   \n",
       "8510  17:00  2021-06-22  /soccer/norway/obos-ligaen/ranheim-raufoss-O2g...   \n",
       "8505  17:00  2021-06-22  /soccer/norway/obos-ligaen/ull-kisa-fredriksta...   \n",
       "\n",
       "         team1            team2  team1_odds  draw_odds  team2_odds  objetivo  \n",
       "8511  Aalesund  Stjordals Blink        1.42       4.65        6.65  0.703376  \n",
       "8504       TPS           Ekenas        1.73       3.75        4.34  0.607649  \n",
       "8512   Ham-Kam          Sogndal        2.51       3.20        2.84  0.607162  \n",
       "8508     Asane          Sandnes        2.08       3.74        3.19  0.576004  \n",
       "8503       VPS        Rovaniemi        2.18       3.49        3.06  0.566298  \n",
       "8506     Bryne        KFUM Oslo        1.82       3.69        4.05  0.560426  \n",
       "8509      Jerv         Strommen        1.75       3.77        4.34  0.550895  \n",
       "8507    Grorud            Start        3.04       3.63        2.16  0.486873  \n",
       "8510   Ranheim          Raufoss        1.94       3.77        3.54  0.480126  \n",
       "8505  Ull/Kisa      Fredrikstad        2.93       3.87        2.15  0.446736  "
      ]
     },
     "execution_count": 43,
     "metadata": {},
     "output_type": "execute_result"
    }
   ],
   "source": [
    "df_prediccion = dsp.load_data(tbl=\"tbl_prediccion_machin6\")\n",
    "dp = dsp.daily_prediction(df_prediccion)\n",
    "dp.sort_values(by=['objetivo'],ascending=False)"
   ]
  },
  {
   "cell_type": "markdown",
   "metadata": {},
   "source": [
    "___"
   ]
  },
  {
   "cell_type": "markdown",
   "metadata": {},
   "source": [
    "## EXPERIMENTAL "
   ]
  },
  {
   "cell_type": "markdown",
   "metadata": {},
   "source": [
    "### Daily model 53"
   ]
  },
  {
   "cell_type": "code",
   "execution_count": 44,
   "metadata": {},
   "outputs": [
    {
     "data": {
      "text/html": [
       "<div>\n",
       "<style scoped>\n",
       "    .dataframe tbody tr th:only-of-type {\n",
       "        vertical-align: middle;\n",
       "    }\n",
       "\n",
       "    .dataframe tbody tr th {\n",
       "        vertical-align: top;\n",
       "    }\n",
       "\n",
       "    .dataframe thead th {\n",
       "        text-align: right;\n",
       "    }\n",
       "</style>\n",
       "<table border=\"1\" class=\"dataframe\">\n",
       "  <thead>\n",
       "    <tr style=\"text-align: right;\">\n",
       "      <th></th>\n",
       "      <th>hora</th>\n",
       "      <th>date</th>\n",
       "      <th>area_league</th>\n",
       "      <th>team1</th>\n",
       "      <th>team2</th>\n",
       "      <th>team1_odds</th>\n",
       "      <th>draw_odds</th>\n",
       "      <th>team2_odds</th>\n",
       "      <th>objetivo</th>\n",
       "    </tr>\n",
       "  </thead>\n",
       "  <tbody>\n",
       "    <tr>\n",
       "      <th>2024</th>\n",
       "      <td>16:30</td>\n",
       "      <td>2021-06-22</td>\n",
       "      <td>/soccer/finland/ykkonen/tps-ekenas-if-84GsAGlC/</td>\n",
       "      <td>TPS</td>\n",
       "      <td>Ekenas</td>\n",
       "      <td>1.73</td>\n",
       "      <td>3.75</td>\n",
       "      <td>4.34</td>\n",
       "      <td>TEAM2</td>\n",
       "    </tr>\n",
       "  </tbody>\n",
       "</table>\n",
       "</div>"
      ],
      "text/plain": [
       "       hora        date                                      area_league  \\\n",
       "2024  16:30  2021-06-22  /soccer/finland/ykkonen/tps-ekenas-if-84GsAGlC/   \n",
       "\n",
       "     team1   team2  team1_odds  draw_odds  team2_odds objetivo  \n",
       "2024   TPS  Ekenas        1.73       3.75        4.34    TEAM2  "
      ]
     },
     "execution_count": 44,
     "metadata": {},
     "output_type": "execute_result"
    }
   ],
   "source": [
    "df_prediccion = dsp.load_data(tbl=\"tbl_prediccion_53\")\n",
    "dsp.daily_prediction(df_prediccion)"
   ]
  },
  {
   "cell_type": "code",
   "execution_count": 45,
   "metadata": {},
   "outputs": [
    {
     "data": {
      "text/html": [
       "<div>\n",
       "<style scoped>\n",
       "    .dataframe tbody tr th:only-of-type {\n",
       "        vertical-align: middle;\n",
       "    }\n",
       "\n",
       "    .dataframe tbody tr th {\n",
       "        vertical-align: top;\n",
       "    }\n",
       "\n",
       "    .dataframe thead th {\n",
       "        text-align: right;\n",
       "    }\n",
       "</style>\n",
       "<table border=\"1\" class=\"dataframe\">\n",
       "  <thead>\n",
       "    <tr style=\"text-align: right;\">\n",
       "      <th></th>\n",
       "      <th>hora</th>\n",
       "      <th>date</th>\n",
       "      <th>area_league</th>\n",
       "      <th>team1</th>\n",
       "      <th>team2</th>\n",
       "      <th>team1_odds</th>\n",
       "      <th>draw_odds</th>\n",
       "      <th>team2_odds</th>\n",
       "      <th>objetivo</th>\n",
       "    </tr>\n",
       "  </thead>\n",
       "  <tbody>\n",
       "    <tr>\n",
       "      <th>9880</th>\n",
       "      <td>20:30</td>\n",
       "      <td>2021-06-22</td>\n",
       "      <td>/soccer/brazil/serie-b/confianca-vila-nova-fc-...</td>\n",
       "      <td>Confianca</td>\n",
       "      <td>Vila Nova FC</td>\n",
       "      <td>2.25</td>\n",
       "      <td>3.12</td>\n",
       "      <td>3.31</td>\n",
       "      <td>DRAW</td>\n",
       "    </tr>\n",
       "    <tr>\n",
       "      <th>9885</th>\n",
       "      <td>23:00</td>\n",
       "      <td>2021-06-22</td>\n",
       "      <td>/soccer/brazil/serie-b/goias-avai-AH2OSLI9/</td>\n",
       "      <td>Goias</td>\n",
       "      <td>Avai</td>\n",
       "      <td>2.38</td>\n",
       "      <td>2.82</td>\n",
       "      <td>3.40</td>\n",
       "      <td>TEAM1</td>\n",
       "    </tr>\n",
       "    <tr>\n",
       "      <th>9882</th>\n",
       "      <td>23:00</td>\n",
       "      <td>2021-06-22</td>\n",
       "      <td>/soccer/brazil/serie-b/ponte-preta-operario-l8...</td>\n",
       "      <td>Ponte Preta</td>\n",
       "      <td>Operario</td>\n",
       "      <td>2.42</td>\n",
       "      <td>2.95</td>\n",
       "      <td>3.15</td>\n",
       "      <td>DRAW</td>\n",
       "    </tr>\n",
       "    <tr>\n",
       "      <th>9886</th>\n",
       "      <td>23:00</td>\n",
       "      <td>2021-06-22</td>\n",
       "      <td>/soccer/brazil/serie-b/ponte-preta-operario-l8...</td>\n",
       "      <td>Ponte Preta</td>\n",
       "      <td>Operario</td>\n",
       "      <td>2.42</td>\n",
       "      <td>2.95</td>\n",
       "      <td>3.15</td>\n",
       "      <td>TEAM1</td>\n",
       "    </tr>\n",
       "    <tr>\n",
       "      <th>9889</th>\n",
       "      <td>16:30</td>\n",
       "      <td>2021-06-22</td>\n",
       "      <td>/soccer/finland/ykkonen/tps-ekenas-if-84GsAGlC/</td>\n",
       "      <td>TPS</td>\n",
       "      <td>Ekenas</td>\n",
       "      <td>1.73</td>\n",
       "      <td>3.75</td>\n",
       "      <td>4.34</td>\n",
       "      <td>TEAM2</td>\n",
       "    </tr>\n",
       "  </tbody>\n",
       "</table>\n",
       "</div>"
      ],
      "text/plain": [
       "       hora        date                                        area_league  \\\n",
       "9880  20:30  2021-06-22  /soccer/brazil/serie-b/confianca-vila-nova-fc-...   \n",
       "9885  23:00  2021-06-22        /soccer/brazil/serie-b/goias-avai-AH2OSLI9/   \n",
       "9882  23:00  2021-06-22  /soccer/brazil/serie-b/ponte-preta-operario-l8...   \n",
       "9886  23:00  2021-06-22  /soccer/brazil/serie-b/ponte-preta-operario-l8...   \n",
       "9889  16:30  2021-06-22    /soccer/finland/ykkonen/tps-ekenas-if-84GsAGlC/   \n",
       "\n",
       "            team1         team2  team1_odds  draw_odds  team2_odds objetivo  \n",
       "9880    Confianca  Vila Nova FC        2.25       3.12        3.31     DRAW  \n",
       "9885        Goias          Avai        2.38       2.82        3.40    TEAM1  \n",
       "9882  Ponte Preta      Operario        2.42       2.95        3.15     DRAW  \n",
       "9886  Ponte Preta      Operario        2.42       2.95        3.15    TEAM1  \n",
       "9889          TPS        Ekenas        1.73       3.75        4.34    TEAM2  "
      ]
     },
     "execution_count": 45,
     "metadata": {},
     "output_type": "execute_result"
    }
   ],
   "source": [
    "df_prediccion = dsp.load_data(tbl=\"tbl_prediccion_50\")\n",
    "dsp.daily_prediction(df_prediccion)"
   ]
  },
  {
   "cell_type": "markdown",
   "metadata": {},
   "source": [
    "### Daily predictions machin4 EMPATE"
   ]
  },
  {
   "cell_type": "code",
   "execution_count": 46,
   "metadata": {},
   "outputs": [
    {
     "data": {
      "text/html": [
       "<div>\n",
       "<style scoped>\n",
       "    .dataframe tbody tr th:only-of-type {\n",
       "        vertical-align: middle;\n",
       "    }\n",
       "\n",
       "    .dataframe tbody tr th {\n",
       "        vertical-align: top;\n",
       "    }\n",
       "\n",
       "    .dataframe thead th {\n",
       "        text-align: right;\n",
       "    }\n",
       "</style>\n",
       "<table border=\"1\" class=\"dataframe\">\n",
       "  <thead>\n",
       "    <tr style=\"text-align: right;\">\n",
       "      <th></th>\n",
       "      <th>hora</th>\n",
       "      <th>date</th>\n",
       "      <th>area_league</th>\n",
       "      <th>team1</th>\n",
       "      <th>team2</th>\n",
       "      <th>team1_odds</th>\n",
       "      <th>draw_odds</th>\n",
       "      <th>team2_odds</th>\n",
       "      <th>objetivo</th>\n",
       "    </tr>\n",
       "  </thead>\n",
       "  <tbody>\n",
       "  </tbody>\n",
       "</table>\n",
       "</div>"
      ],
      "text/plain": [
       "Empty DataFrame\n",
       "Columns: [hora, date, area_league, team1, team2, team1_odds, draw_odds, team2_odds, objetivo]\n",
       "Index: []"
      ]
     },
     "execution_count": 46,
     "metadata": {},
     "output_type": "execute_result"
    }
   ],
   "source": [
    "df_prediccion = dsp.load_data(tbl=\"tbl_prediccion_machin4\")\n",
    "dsp.daily_prediction(df_prediccion)"
   ]
  },
  {
   "cell_type": "markdown",
   "metadata": {},
   "source": [
    "### Daily predictions machin5"
   ]
  },
  {
   "cell_type": "code",
   "execution_count": 47,
   "metadata": {},
   "outputs": [
    {
     "data": {
      "text/html": [
       "<div>\n",
       "<style scoped>\n",
       "    .dataframe tbody tr th:only-of-type {\n",
       "        vertical-align: middle;\n",
       "    }\n",
       "\n",
       "    .dataframe tbody tr th {\n",
       "        vertical-align: top;\n",
       "    }\n",
       "\n",
       "    .dataframe thead th {\n",
       "        text-align: right;\n",
       "    }\n",
       "</style>\n",
       "<table border=\"1\" class=\"dataframe\">\n",
       "  <thead>\n",
       "    <tr style=\"text-align: right;\">\n",
       "      <th></th>\n",
       "      <th>hora</th>\n",
       "      <th>date</th>\n",
       "      <th>area_league</th>\n",
       "      <th>team1</th>\n",
       "      <th>team2</th>\n",
       "      <th>team1_odds</th>\n",
       "      <th>draw_odds</th>\n",
       "      <th>team2_odds</th>\n",
       "      <th>objetivo</th>\n",
       "    </tr>\n",
       "  </thead>\n",
       "  <tbody>\n",
       "  </tbody>\n",
       "</table>\n",
       "</div>"
      ],
      "text/plain": [
       "Empty DataFrame\n",
       "Columns: [hora, date, area_league, team1, team2, team1_odds, draw_odds, team2_odds, objetivo]\n",
       "Index: []"
      ]
     },
     "execution_count": 47,
     "metadata": {},
     "output_type": "execute_result"
    }
   ],
   "source": [
    "df_prediccion = dsp.load_data(tbl=\"tbl_prediccion_machin5\")\n",
    "dsp.daily_prediction(df_prediccion)"
   ]
  },
  {
   "cell_type": "code",
   "execution_count": null,
   "metadata": {},
   "outputs": [],
   "source": []
  }
 ],
 "metadata": {
  "kernelspec": {
   "display_name": "Python 3",
   "language": "python",
   "name": "python3"
  },
  "language_info": {
   "codemirror_mode": {
    "name": "ipython",
    "version": 3
   },
   "file_extension": ".py",
   "mimetype": "text/x-python",
   "name": "python",
   "nbconvert_exporter": "python",
   "pygments_lexer": "ipython3",
   "version": "3.7.3"
  }
 },
 "nbformat": 4,
 "nbformat_minor": 2
}
