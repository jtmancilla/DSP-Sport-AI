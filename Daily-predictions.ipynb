{
 "cells": [
  {
   "cell_type": "code",
   "execution_count": 1,
   "metadata": {},
   "outputs": [],
   "source": [
    "import os\n",
    "import pandas as pd\n",
    "import numpy as np\n",
    "import warnings\n",
    "warnings.filterwarnings('ignore')\n",
    "import datetime\n",
    "import dsp as dsp\n",
    "    "
   ]
  },
  {
   "cell_type": "markdown",
   "metadata": {},
   "source": [
    "### Daily predictions"
   ]
  },
  {
   "cell_type": "code",
   "execution_count": 2,
   "metadata": {},
   "outputs": [],
   "source": [
    "df_prediccion = dsp.load_data()"
   ]
  },
  {
   "cell_type": "code",
   "execution_count": 3,
   "metadata": {},
   "outputs": [
    {
     "data": {
      "text/html": [
       "<div>\n",
       "<style scoped>\n",
       "    .dataframe tbody tr th:only-of-type {\n",
       "        vertical-align: middle;\n",
       "    }\n",
       "\n",
       "    .dataframe tbody tr th {\n",
       "        vertical-align: top;\n",
       "    }\n",
       "\n",
       "    .dataframe thead th {\n",
       "        text-align: right;\n",
       "    }\n",
       "</style>\n",
       "<table border=\"1\" class=\"dataframe\">\n",
       "  <thead>\n",
       "    <tr style=\"text-align: right;\">\n",
       "      <th></th>\n",
       "      <th>hora</th>\n",
       "      <th>date</th>\n",
       "      <th>area_league</th>\n",
       "      <th>team1</th>\n",
       "      <th>team2</th>\n",
       "      <th>team1_odds</th>\n",
       "      <th>draw_odds</th>\n",
       "      <th>team2_odds</th>\n",
       "      <th>objetivo</th>\n",
       "    </tr>\n",
       "  </thead>\n",
       "  <tbody>\n",
       "    <tr>\n",
       "      <th>441</th>\n",
       "      <td>02:30</td>\n",
       "      <td>2020-06-25</td>\n",
       "      <td>/soccer/costa-rica/primera-division/alajuelens...</td>\n",
       "      <td>Alajuelense</td>\n",
       "      <td>Saprissa</td>\n",
       "      <td>2.66</td>\n",
       "      <td>3.14</td>\n",
       "      <td>2.67</td>\n",
       "      <td>TEAM2</td>\n",
       "    </tr>\n",
       "    <tr>\n",
       "      <th>442</th>\n",
       "      <td>17:00</td>\n",
       "      <td>2020-06-25</td>\n",
       "      <td>/soccer/england/premier-league/southampton-ars...</td>\n",
       "      <td>Southampton</td>\n",
       "      <td>Arsenal</td>\n",
       "      <td>2.61</td>\n",
       "      <td>3.49</td>\n",
       "      <td>2.76</td>\n",
       "      <td>TEAM1</td>\n",
       "    </tr>\n",
       "    <tr>\n",
       "      <th>437</th>\n",
       "      <td>16:00</td>\n",
       "      <td>2020-06-25</td>\n",
       "      <td>/soccer/montenegro/prva-crnogorska-liga/rudar-...</td>\n",
       "      <td>Rudar</td>\n",
       "      <td>Titograd</td>\n",
       "      <td>2.37</td>\n",
       "      <td>3.12</td>\n",
       "      <td>2.80</td>\n",
       "      <td>TEAM2</td>\n",
       "    </tr>\n",
       "    <tr>\n",
       "      <th>447</th>\n",
       "      <td>16:00</td>\n",
       "      <td>2020-06-25</td>\n",
       "      <td>/soccer/montenegro/prva-crnogorska-liga/rudar-...</td>\n",
       "      <td>Rudar</td>\n",
       "      <td>Titograd</td>\n",
       "      <td>2.37</td>\n",
       "      <td>3.12</td>\n",
       "      <td>2.80</td>\n",
       "      <td>TEAM1</td>\n",
       "    </tr>\n",
       "    <tr>\n",
       "      <th>446</th>\n",
       "      <td>17:30</td>\n",
       "      <td>2020-06-25</td>\n",
       "      <td>/soccer/spain/laliga2/almeria-alcorcon-rwo8xLMk/</td>\n",
       "      <td>Almeria</td>\n",
       "      <td>Alcorcon</td>\n",
       "      <td>1.89</td>\n",
       "      <td>3.20</td>\n",
       "      <td>4.64</td>\n",
       "      <td>TEAM1</td>\n",
       "    </tr>\n",
       "  </tbody>\n",
       "</table>\n",
       "</div>"
      ],
      "text/plain": [
       "      hora        date                                        area_league  \\\n",
       "441  02:30  2020-06-25  /soccer/costa-rica/primera-division/alajuelens...   \n",
       "442  17:00  2020-06-25  /soccer/england/premier-league/southampton-ars...   \n",
       "437  16:00  2020-06-25  /soccer/montenegro/prva-crnogorska-liga/rudar-...   \n",
       "447  16:00  2020-06-25  /soccer/montenegro/prva-crnogorska-liga/rudar-...   \n",
       "446  17:30  2020-06-25   /soccer/spain/laliga2/almeria-alcorcon-rwo8xLMk/   \n",
       "\n",
       "           team1     team2  team1_odds  draw_odds  team2_odds objetivo  \n",
       "441  Alajuelense  Saprissa        2.66       3.14        2.67    TEAM2  \n",
       "442  Southampton   Arsenal        2.61       3.49        2.76    TEAM1  \n",
       "437        Rudar  Titograd        2.37       3.12        2.80    TEAM2  \n",
       "447        Rudar  Titograd        2.37       3.12        2.80    TEAM1  \n",
       "446      Almeria  Alcorcon        1.89       3.20        4.64    TEAM1  "
      ]
     },
     "execution_count": 3,
     "metadata": {},
     "output_type": "execute_result"
    }
   ],
   "source": [
    "dsp.daily_prediction(df_prediccion)\n"
   ]
  },
  {
   "cell_type": "code",
   "execution_count": null,
   "metadata": {},
   "outputs": [],
   "source": []
  }
 ],
 "metadata": {
  "kernelspec": {
   "display_name": "Python 3",
   "language": "python",
   "name": "python3"
  },
  "language_info": {
   "codemirror_mode": {
    "name": "ipython",
    "version": 3
   },
   "file_extension": ".py",
   "mimetype": "text/x-python",
   "name": "python",
   "nbconvert_exporter": "python",
   "pygments_lexer": "ipython3",
   "version": "3.7.3"
  }
 },
 "nbformat": 4,
 "nbformat_minor": 2
}
