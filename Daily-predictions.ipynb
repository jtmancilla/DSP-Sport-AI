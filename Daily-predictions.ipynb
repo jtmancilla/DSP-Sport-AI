{
 "cells": [
  {
   "cell_type": "code",
   "execution_count": 1,
   "metadata": {},
   "outputs": [],
   "source": [
    "import os\n",
    "import pandas as pd\n",
    "import numpy as np\n",
    "import warnings\n",
    "warnings.filterwarnings('ignore')\n",
    "import datetime\n",
    "import dsp as dsp\n",
    "    "
   ]
  },
  {
   "cell_type": "markdown",
   "metadata": {},
   "source": [
    "### Daily predictions"
   ]
  },
  {
   "cell_type": "code",
   "execution_count": 2,
   "metadata": {},
   "outputs": [],
   "source": [
    "df_prediccion = dsp.load_data()"
   ]
  },
  {
   "cell_type": "code",
   "execution_count": 3,
   "metadata": {},
   "outputs": [
    {
     "data": {
      "text/html": [
       "<div>\n",
       "<style scoped>\n",
       "    .dataframe tbody tr th:only-of-type {\n",
       "        vertical-align: middle;\n",
       "    }\n",
       "\n",
       "    .dataframe tbody tr th {\n",
       "        vertical-align: top;\n",
       "    }\n",
       "\n",
       "    .dataframe thead th {\n",
       "        text-align: right;\n",
       "    }\n",
       "</style>\n",
       "<table border=\"1\" class=\"dataframe\">\n",
       "  <thead>\n",
       "    <tr style=\"text-align: right;\">\n",
       "      <th></th>\n",
       "      <th>hora</th>\n",
       "      <th>date</th>\n",
       "      <th>area_league</th>\n",
       "      <th>team1</th>\n",
       "      <th>team2</th>\n",
       "      <th>team1_odds</th>\n",
       "      <th>draw_odds</th>\n",
       "      <th>team2_odds</th>\n",
       "      <th>objetivo</th>\n",
       "    </tr>\n",
       "  </thead>\n",
       "  <tbody>\n",
       "    <tr>\n",
       "      <th>388</th>\n",
       "      <td>17:00</td>\n",
       "      <td>2020-06-22</td>\n",
       "      <td>/soccer/denmark/superliga/lyngby-odense-lfCaxVzG/</td>\n",
       "      <td>Lyngby</td>\n",
       "      <td>Odense</td>\n",
       "      <td>2.97</td>\n",
       "      <td>3.38</td>\n",
       "      <td>2.37</td>\n",
       "      <td>DRAW</td>\n",
       "    </tr>\n",
       "    <tr>\n",
       "      <th>387</th>\n",
       "      <td>20:00</td>\n",
       "      <td>2020-06-22</td>\n",
       "      <td>/soccer/portugal/primeira-liga/portimonense-ma...</td>\n",
       "      <td>Portimonense</td>\n",
       "      <td>Maritimo</td>\n",
       "      <td>2.20</td>\n",
       "      <td>3.22</td>\n",
       "      <td>3.50</td>\n",
       "      <td>TEAM2</td>\n",
       "    </tr>\n",
       "    <tr>\n",
       "      <th>383</th>\n",
       "      <td>17:30</td>\n",
       "      <td>2020-06-22</td>\n",
       "      <td>/soccer/sweden/division-1-norra/haninge-taby-f...</td>\n",
       "      <td>Haninge</td>\n",
       "      <td>Taby</td>\n",
       "      <td>1.97</td>\n",
       "      <td>3.75</td>\n",
       "      <td>3.08</td>\n",
       "      <td>DRAW</td>\n",
       "    </tr>\n",
       "    <tr>\n",
       "      <th>390</th>\n",
       "      <td>18:00</td>\n",
       "      <td>2020-06-22</td>\n",
       "      <td>/soccer/turkey/super-lig/alanyaspor-trabzonspo...</td>\n",
       "      <td>Alanyaspor</td>\n",
       "      <td>Trabzonspor</td>\n",
       "      <td>2.82</td>\n",
       "      <td>3.40</td>\n",
       "      <td>2.48</td>\n",
       "      <td>TEAM1</td>\n",
       "    </tr>\n",
       "  </tbody>\n",
       "</table>\n",
       "</div>"
      ],
      "text/plain": [
       "      hora        date                                        area_league  \\\n",
       "388  17:00  2020-06-22  /soccer/denmark/superliga/lyngby-odense-lfCaxVzG/   \n",
       "387  20:00  2020-06-22  /soccer/portugal/primeira-liga/portimonense-ma...   \n",
       "383  17:30  2020-06-22  /soccer/sweden/division-1-norra/haninge-taby-f...   \n",
       "390  18:00  2020-06-22  /soccer/turkey/super-lig/alanyaspor-trabzonspo...   \n",
       "\n",
       "            team1        team2  team1_odds  draw_odds  team2_odds objetivo  \n",
       "388        Lyngby       Odense        2.97       3.38        2.37     DRAW  \n",
       "387  Portimonense     Maritimo        2.20       3.22        3.50    TEAM2  \n",
       "383       Haninge         Taby        1.97       3.75        3.08     DRAW  \n",
       "390    Alanyaspor  Trabzonspor        2.82       3.40        2.48    TEAM1  "
      ]
     },
     "execution_count": 3,
     "metadata": {},
     "output_type": "execute_result"
    }
   ],
   "source": [
    "dsp.daily_prediction(df_prediccion)\n"
   ]
  },
  {
   "cell_type": "code",
   "execution_count": null,
   "metadata": {},
   "outputs": [],
   "source": []
  }
 ],
 "metadata": {
  "kernelspec": {
   "display_name": "Python 3",
   "language": "python",
   "name": "python3"
  },
  "language_info": {
   "codemirror_mode": {
    "name": "ipython",
    "version": 3
   },
   "file_extension": ".py",
   "mimetype": "text/x-python",
   "name": "python",
   "nbconvert_exporter": "python",
   "pygments_lexer": "ipython3",
   "version": "3.7.3"
  }
 },
 "nbformat": 4,
 "nbformat_minor": 2
}
