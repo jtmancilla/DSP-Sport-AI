{
 "cells": [
  {
   "cell_type": "code",
   "execution_count": 1,
   "metadata": {},
   "outputs": [],
   "source": [
    "import os\n",
    "import pandas as pd\n",
    "import numpy as np\n",
    "import warnings\n",
    "warnings.filterwarnings('ignore')\n",
    "import datetime\n",
    "import dsp"
   ]
  },
  {
   "cell_type": "markdown",
   "metadata": {},
   "source": [
    "# Daily selection"
   ]
  },
  {
   "cell_type": "markdown",
   "metadata": {},
   "source": [
    "___"
   ]
  },
  {
   "cell_type": "code",
   "execution_count": 2,
   "metadata": {},
   "outputs": [
    {
     "data": {
      "text/html": [
       "<div>\n",
       "<style scoped>\n",
       "    .dataframe tbody tr th:only-of-type {\n",
       "        vertical-align: middle;\n",
       "    }\n",
       "\n",
       "    .dataframe tbody tr th {\n",
       "        vertical-align: top;\n",
       "    }\n",
       "\n",
       "    .dataframe thead th {\n",
       "        text-align: right;\n",
       "    }\n",
       "</style>\n",
       "<table border=\"1\" class=\"dataframe\">\n",
       "  <thead>\n",
       "    <tr style=\"text-align: right;\">\n",
       "      <th></th>\n",
       "      <th>date</th>\n",
       "      <th>hora</th>\n",
       "      <th>sport</th>\n",
       "      <th>area</th>\n",
       "      <th>league</th>\n",
       "      <th>team1</th>\n",
       "      <th>team2</th>\n",
       "      <th>objetivo</th>\n",
       "      <th>odd</th>\n",
       "      <th>criterio</th>\n",
       "      <th>outcome</th>\n",
       "    </tr>\n",
       "  </thead>\n",
       "  <tbody>\n",
       "    <tr>\n",
       "      <th>43</th>\n",
       "      <td>16/06/2021</td>\n",
       "      <td>18:07</td>\n",
       "      <td>baseball</td>\n",
       "      <td>usa</td>\n",
       "      <td>mlb</td>\n",
       "      <td>Toronto Blue Jays</td>\n",
       "      <td>New York Yankees</td>\n",
       "      <td>1.5</td>\n",
       "      <td>1.9</td>\n",
       "      <td>100</td>\n",
       "      <td>Toronto Blue Jays</td>\n",
       "    </tr>\n",
       "    <tr>\n",
       "      <th>44</th>\n",
       "      <td>16/06/2021</td>\n",
       "      <td>18:10</td>\n",
       "      <td>baseball</td>\n",
       "      <td>usa</td>\n",
       "      <td>mlb</td>\n",
       "      <td>Cleveland Indians</td>\n",
       "      <td>Baltimore Orioles</td>\n",
       "      <td>7.5</td>\n",
       "      <td>1.9</td>\n",
       "      <td>100</td>\n",
       "      <td>OVER</td>\n",
       "    </tr>\n",
       "  </tbody>\n",
       "</table>\n",
       "</div>"
      ],
      "text/plain": [
       "          date   hora     sport area league              team1  \\\n",
       "43  16/06/2021  18:07  baseball  usa    mlb  Toronto Blue Jays   \n",
       "44  16/06/2021  18:10  baseball  usa    mlb  Cleveland Indians   \n",
       "\n",
       "                team2 objetivo  odd  criterio            outcome  \n",
       "43   New York Yankees      1.5  1.9       100  Toronto Blue Jays  \n",
       "44  Baltimore Orioles      7.5  1.9       100               OVER  "
      ]
     },
     "execution_count": 2,
     "metadata": {},
     "output_type": "execute_result"
    }
   ],
   "source": [
    "df_prediccion = dsp.load_data(tbl=\"tbl_prediccion_premium_seleccion\")\n",
    "df=dsp.daily_prediction_criterio(df_prediccion)\n",
    "dsp.correcion_horario(df)"
   ]
  },
  {
   "cell_type": "code",
   "execution_count": 3,
   "metadata": {},
   "outputs": [
    {
     "data": {
      "text/html": [
       "<div>\n",
       "<style scoped>\n",
       "    .dataframe tbody tr th:only-of-type {\n",
       "        vertical-align: middle;\n",
       "    }\n",
       "\n",
       "    .dataframe tbody tr th {\n",
       "        vertical-align: top;\n",
       "    }\n",
       "\n",
       "    .dataframe thead th {\n",
       "        text-align: right;\n",
       "    }\n",
       "</style>\n",
       "<table border=\"1\" class=\"dataframe\">\n",
       "  <thead>\n",
       "    <tr style=\"text-align: right;\">\n",
       "      <th></th>\n",
       "      <th>hora</th>\n",
       "      <th>date</th>\n",
       "      <th>area_league</th>\n",
       "      <th>team1</th>\n",
       "      <th>team2</th>\n",
       "      <th>team1_odds</th>\n",
       "      <th>draw_odds</th>\n",
       "      <th>team2_odds</th>\n",
       "      <th>objetivo</th>\n",
       "    </tr>\n",
       "  </thead>\n",
       "  <tbody>\n",
       "    <tr>\n",
       "      <th>95</th>\n",
       "      <td>12:30</td>\n",
       "      <td>17/06/2021</td>\n",
       "      <td>soccer/faroe-islands_premier-league</td>\n",
       "      <td>HB Torshavn</td>\n",
       "      <td>TB Tvoroyri</td>\n",
       "      <td>1.04</td>\n",
       "      <td>14.0</td>\n",
       "      <td>27.25</td>\n",
       "      <td>2-HB Torshavn--0.62</td>\n",
       "    </tr>\n",
       "  </tbody>\n",
       "</table>\n",
       "</div>"
      ],
      "text/plain": [
       "     hora        date                          area_league        team1  \\\n",
       "95  12:30  17/06/2021  soccer/faroe-islands_premier-league  HB Torshavn   \n",
       "\n",
       "          team2  team1_odds  draw_odds  team2_odds             objetivo  \n",
       "95  TB Tvoroyri        1.04       14.0       27.25  2-HB Torshavn--0.62  "
      ]
     },
     "execution_count": 3,
     "metadata": {},
     "output_type": "execute_result"
    }
   ],
   "source": [
    "df_prediccion = dsp.load_data(tbl=\"tbl_stevehudson_soccer\")\n",
    "df=dsp.daily_prediction(df_prediccion)\n",
    "dsp.correcion_horario(df)"
   ]
  },
  {
   "cell_type": "code",
   "execution_count": 4,
   "metadata": {},
   "outputs": [
    {
     "data": {
      "text/html": [
       "<div>\n",
       "<style scoped>\n",
       "    .dataframe tbody tr th:only-of-type {\n",
       "        vertical-align: middle;\n",
       "    }\n",
       "\n",
       "    .dataframe tbody tr th {\n",
       "        vertical-align: top;\n",
       "    }\n",
       "\n",
       "    .dataframe thead th {\n",
       "        text-align: right;\n",
       "    }\n",
       "</style>\n",
       "<table border=\"1\" class=\"dataframe\">\n",
       "  <thead>\n",
       "    <tr style=\"text-align: right;\">\n",
       "      <th></th>\n",
       "      <th>date</th>\n",
       "      <th>hora</th>\n",
       "      <th>sport</th>\n",
       "      <th>area</th>\n",
       "      <th>league</th>\n",
       "      <th>team1</th>\n",
       "      <th>team2</th>\n",
       "      <th>objetivo</th>\n",
       "      <th>odd</th>\n",
       "      <th>criterio</th>\n",
       "      <th>outcome</th>\n",
       "    </tr>\n",
       "  </thead>\n",
       "  <tbody>\n",
       "  </tbody>\n",
       "</table>\n",
       "</div>"
      ],
      "text/plain": [
       "Empty DataFrame\n",
       "Columns: [date, hora, sport, area, league, team1, team2, objetivo, odd, criterio, outcome]\n",
       "Index: []"
      ]
     },
     "execution_count": 4,
     "metadata": {},
     "output_type": "execute_result"
    }
   ],
   "source": [
    "df_prediccion = dsp.load_data(tbl=\"tbl_prediccion_premium_ou\")\n",
    "df=dsp.daily_prediction_criterio(df_prediccion)\n",
    "df['objetivo'] = df['objetivo']-5\n",
    "dsp.correcion_horario(df)"
   ]
  },
  {
   "cell_type": "code",
   "execution_count": 5,
   "metadata": {},
   "outputs": [
    {
     "data": {
      "text/html": [
       "<div>\n",
       "<style scoped>\n",
       "    .dataframe tbody tr th:only-of-type {\n",
       "        vertical-align: middle;\n",
       "    }\n",
       "\n",
       "    .dataframe tbody tr th {\n",
       "        vertical-align: top;\n",
       "    }\n",
       "\n",
       "    .dataframe thead th {\n",
       "        text-align: right;\n",
       "    }\n",
       "</style>\n",
       "<table border=\"1\" class=\"dataframe\">\n",
       "  <thead>\n",
       "    <tr style=\"text-align: right;\">\n",
       "      <th></th>\n",
       "      <th>date</th>\n",
       "      <th>hora</th>\n",
       "      <th>sport</th>\n",
       "      <th>area</th>\n",
       "      <th>league</th>\n",
       "      <th>team1</th>\n",
       "      <th>team2</th>\n",
       "      <th>objetivo</th>\n",
       "      <th>odd</th>\n",
       "      <th>criterio</th>\n",
       "      <th>outcome</th>\n",
       "    </tr>\n",
       "  </thead>\n",
       "  <tbody>\n",
       "    <tr>\n",
       "      <th>97</th>\n",
       "      <td>16/06/2021</td>\n",
       "      <td>18:10</td>\n",
       "      <td>baseball</td>\n",
       "      <td>usa</td>\n",
       "      <td>mlb</td>\n",
       "      <td>Cleveland Indians</td>\n",
       "      <td>Baltimore Orioles</td>\n",
       "      <td>7.5</td>\n",
       "      <td>1.9</td>\n",
       "      <td>100</td>\n",
       "      <td>OVER</td>\n",
       "    </tr>\n",
       "  </tbody>\n",
       "</table>\n",
       "</div>"
      ],
      "text/plain": [
       "          date   hora     sport area league              team1  \\\n",
       "97  16/06/2021  18:10  baseball  usa    mlb  Cleveland Indians   \n",
       "\n",
       "                team2  objetivo  odd  criterio outcome  \n",
       "97  Baltimore Orioles       7.5  1.9       100    OVER  "
      ]
     },
     "execution_count": 5,
     "metadata": {},
     "output_type": "execute_result"
    }
   ],
   "source": [
    "df_prediccion = dsp.load_data(tbl=\"tbl_prediccion_premium_ou_base\")\n",
    "df=dsp.daily_prediction_criterio(df_prediccion)\n",
    "df['objetivo'] = df['objetivo']-2\n",
    "dsp.correcion_horario(df)"
   ]
  },
  {
   "cell_type": "code",
   "execution_count": 6,
   "metadata": {},
   "outputs": [
    {
     "data": {
      "text/html": [
       "<div>\n",
       "<style scoped>\n",
       "    .dataframe tbody tr th:only-of-type {\n",
       "        vertical-align: middle;\n",
       "    }\n",
       "\n",
       "    .dataframe tbody tr th {\n",
       "        vertical-align: top;\n",
       "    }\n",
       "\n",
       "    .dataframe thead th {\n",
       "        text-align: right;\n",
       "    }\n",
       "</style>\n",
       "<table border=\"1\" class=\"dataframe\">\n",
       "  <thead>\n",
       "    <tr style=\"text-align: right;\">\n",
       "      <th></th>\n",
       "      <th>date</th>\n",
       "      <th>hora</th>\n",
       "      <th>sport</th>\n",
       "      <th>area</th>\n",
       "      <th>league</th>\n",
       "      <th>team1</th>\n",
       "      <th>team2</th>\n",
       "      <th>objetivo</th>\n",
       "      <th>odd</th>\n",
       "      <th>criterio</th>\n",
       "      <th>outcome</th>\n",
       "    </tr>\n",
       "  </thead>\n",
       "  <tbody>\n",
       "  </tbody>\n",
       "</table>\n",
       "</div>"
      ],
      "text/plain": [
       "Empty DataFrame\n",
       "Columns: [date, hora, sport, area, league, team1, team2, objetivo, odd, criterio, outcome]\n",
       "Index: []"
      ]
     },
     "execution_count": 6,
     "metadata": {},
     "output_type": "execute_result"
    }
   ],
   "source": [
    "df_prediccion = dsp.load_data(tbl=\"tbl_prediccion_premium_ou_hockey\")\n",
    "df=dsp.daily_prediction_criterio(df_prediccion)\n",
    "df['objetivo'] = df['objetivo']-1\n",
    "dsp.correcion_horario(df)"
   ]
  },
  {
   "cell_type": "code",
   "execution_count": 7,
   "metadata": {},
   "outputs": [
    {
     "data": {
      "text/html": [
       "<div>\n",
       "<style scoped>\n",
       "    .dataframe tbody tr th:only-of-type {\n",
       "        vertical-align: middle;\n",
       "    }\n",
       "\n",
       "    .dataframe tbody tr th {\n",
       "        vertical-align: top;\n",
       "    }\n",
       "\n",
       "    .dataframe thead th {\n",
       "        text-align: right;\n",
       "    }\n",
       "</style>\n",
       "<table border=\"1\" class=\"dataframe\">\n",
       "  <thead>\n",
       "    <tr style=\"text-align: right;\">\n",
       "      <th></th>\n",
       "      <th>date</th>\n",
       "      <th>hora</th>\n",
       "      <th>sport</th>\n",
       "      <th>area</th>\n",
       "      <th>league</th>\n",
       "      <th>team1</th>\n",
       "      <th>team2</th>\n",
       "      <th>objetivo</th>\n",
       "      <th>odd</th>\n",
       "      <th>criterio</th>\n",
       "      <th>outcome</th>\n",
       "    </tr>\n",
       "  </thead>\n",
       "  <tbody>\n",
       "  </tbody>\n",
       "</table>\n",
       "</div>"
      ],
      "text/plain": [
       "Empty DataFrame\n",
       "Columns: [date, hora, sport, area, league, team1, team2, objetivo, odd, criterio, outcome]\n",
       "Index: []"
      ]
     },
     "execution_count": 7,
     "metadata": {},
     "output_type": "execute_result"
    }
   ],
   "source": [
    "df_prediccion = dsp.load_data(tbl=\"tbl_prediccion_premium_ou_soccer\")\n",
    "df=dsp.daily_prediction_criterio(df_prediccion)\n",
    "df['objetivo'] = df['objetivo']-1\n",
    "dsp.correcion_horario(df)\n"
   ]
  },
  {
   "cell_type": "code",
   "execution_count": 8,
   "metadata": {},
   "outputs": [
    {
     "data": {
      "text/html": [
       "<div>\n",
       "<style scoped>\n",
       "    .dataframe tbody tr th:only-of-type {\n",
       "        vertical-align: middle;\n",
       "    }\n",
       "\n",
       "    .dataframe tbody tr th {\n",
       "        vertical-align: top;\n",
       "    }\n",
       "\n",
       "    .dataframe thead th {\n",
       "        text-align: right;\n",
       "    }\n",
       "</style>\n",
       "<table border=\"1\" class=\"dataframe\">\n",
       "  <thead>\n",
       "    <tr style=\"text-align: right;\">\n",
       "      <th></th>\n",
       "      <th>date</th>\n",
       "      <th>hora</th>\n",
       "      <th>sport</th>\n",
       "      <th>area</th>\n",
       "      <th>league</th>\n",
       "      <th>team1</th>\n",
       "      <th>team2</th>\n",
       "      <th>objetivo</th>\n",
       "      <th>odd</th>\n",
       "      <th>criterio</th>\n",
       "      <th>outcome</th>\n",
       "    </tr>\n",
       "  </thead>\n",
       "  <tbody>\n",
       "    <tr>\n",
       "      <th>121</th>\n",
       "      <td>16/06/2021</td>\n",
       "      <td>18:07</td>\n",
       "      <td>baseball</td>\n",
       "      <td>usa</td>\n",
       "      <td>mlb</td>\n",
       "      <td>Toronto Blue Jays</td>\n",
       "      <td>New York Yankees</td>\n",
       "      <td>1.5</td>\n",
       "      <td>1.9</td>\n",
       "      <td>100</td>\n",
       "      <td>Toronto Blue Jays</td>\n",
       "    </tr>\n",
       "    <tr>\n",
       "      <th>123</th>\n",
       "      <td>16/06/2021</td>\n",
       "      <td>18:30</td>\n",
       "      <td>basketball</td>\n",
       "      <td>usa</td>\n",
       "      <td>nba</td>\n",
       "      <td>Philadelphia 76ers</td>\n",
       "      <td>Atlanta Hawks</td>\n",
       "      <td>7.5</td>\n",
       "      <td>1.9</td>\n",
       "      <td>100</td>\n",
       "      <td>Atlanta Hawks</td>\n",
       "    </tr>\n",
       "  </tbody>\n",
       "</table>\n",
       "</div>"
      ],
      "text/plain": [
       "           date   hora       sport area league               team1  \\\n",
       "121  16/06/2021  18:07    baseball  usa    mlb   Toronto Blue Jays   \n",
       "123  16/06/2021  18:30  basketball  usa    nba  Philadelphia 76ers   \n",
       "\n",
       "                team2  objetivo  odd  criterio            outcome  \n",
       "121  New York Yankees       1.5  1.9       100  Toronto Blue Jays  \n",
       "123     Atlanta Hawks       7.5  1.9       100      Atlanta Hawks  "
      ]
     },
     "execution_count": 8,
     "metadata": {},
     "output_type": "execute_result"
    }
   ],
   "source": [
    "df_prediccion = dsp.load_data(tbl=\"tbl_prediccion_premium_hp\")\n",
    "df=dsp.daily_prediction_criterio(df_prediccion)\n",
    "dsp.correcion_horario(df)"
   ]
  },
  {
   "cell_type": "code",
   "execution_count": 9,
   "metadata": {},
   "outputs": [
    {
     "data": {
      "text/html": [
       "<div>\n",
       "<style scoped>\n",
       "    .dataframe tbody tr th:only-of-type {\n",
       "        vertical-align: middle;\n",
       "    }\n",
       "\n",
       "    .dataframe tbody tr th {\n",
       "        vertical-align: top;\n",
       "    }\n",
       "\n",
       "    .dataframe thead th {\n",
       "        text-align: right;\n",
       "    }\n",
       "</style>\n",
       "<table border=\"1\" class=\"dataframe\">\n",
       "  <thead>\n",
       "    <tr style=\"text-align: right;\">\n",
       "      <th></th>\n",
       "      <th>date</th>\n",
       "      <th>hora</th>\n",
       "      <th>sport</th>\n",
       "      <th>area</th>\n",
       "      <th>league</th>\n",
       "      <th>team1</th>\n",
       "      <th>team2</th>\n",
       "      <th>objetivo</th>\n",
       "      <th>odd</th>\n",
       "      <th>criterio</th>\n",
       "      <th>outcome</th>\n",
       "    </tr>\n",
       "  </thead>\n",
       "  <tbody>\n",
       "  </tbody>\n",
       "</table>\n",
       "</div>"
      ],
      "text/plain": [
       "Empty DataFrame\n",
       "Columns: [date, hora, sport, area, league, team1, team2, objetivo, odd, criterio, outcome]\n",
       "Index: []"
      ]
     },
     "execution_count": 9,
     "metadata": {},
     "output_type": "execute_result"
    }
   ],
   "source": [
    "df_prediccion = dsp.load_data(tbl=\"tbl_prediccion_premium_empate_soccer\")\n",
    "df=dsp.daily_prediction_criterio(df_prediccion)\n",
    "dsp.correcion_horario(df)"
   ]
  },
  {
   "cell_type": "code",
   "execution_count": 10,
   "metadata": {},
   "outputs": [
    {
     "data": {
      "text/html": [
       "<div>\n",
       "<style scoped>\n",
       "    .dataframe tbody tr th:only-of-type {\n",
       "        vertical-align: middle;\n",
       "    }\n",
       "\n",
       "    .dataframe tbody tr th {\n",
       "        vertical-align: top;\n",
       "    }\n",
       "\n",
       "    .dataframe thead th {\n",
       "        text-align: right;\n",
       "    }\n",
       "</style>\n",
       "<table border=\"1\" class=\"dataframe\">\n",
       "  <thead>\n",
       "    <tr style=\"text-align: right;\">\n",
       "      <th></th>\n",
       "      <th>date</th>\n",
       "      <th>hora</th>\n",
       "      <th>sport</th>\n",
       "      <th>area</th>\n",
       "      <th>league</th>\n",
       "      <th>team1</th>\n",
       "      <th>team2</th>\n",
       "      <th>objetivo</th>\n",
       "      <th>odd</th>\n",
       "      <th>criterio</th>\n",
       "      <th>outcome</th>\n",
       "    </tr>\n",
       "  </thead>\n",
       "  <tbody>\n",
       "  </tbody>\n",
       "</table>\n",
       "</div>"
      ],
      "text/plain": [
       "Empty DataFrame\n",
       "Columns: [date, hora, sport, area, league, team1, team2, objetivo, odd, criterio, outcome]\n",
       "Index: []"
      ]
     },
     "execution_count": 10,
     "metadata": {},
     "output_type": "execute_result"
    }
   ],
   "source": [
    "df_prediccion = dsp.load_data(tbl=\"tbl_prediccion_premium_model2_soccer\")\n",
    "df=dsp.daily_prediction_criterio(df_prediccion)\n",
    "dsp.correcion_horario(df)"
   ]
  },
  {
   "cell_type": "code",
   "execution_count": 11,
   "metadata": {},
   "outputs": [
    {
     "data": {
      "text/html": [
       "<div>\n",
       "<style scoped>\n",
       "    .dataframe tbody tr th:only-of-type {\n",
       "        vertical-align: middle;\n",
       "    }\n",
       "\n",
       "    .dataframe tbody tr th {\n",
       "        vertical-align: top;\n",
       "    }\n",
       "\n",
       "    .dataframe thead th {\n",
       "        text-align: right;\n",
       "    }\n",
       "</style>\n",
       "<table border=\"1\" class=\"dataframe\">\n",
       "  <thead>\n",
       "    <tr style=\"text-align: right;\">\n",
       "      <th></th>\n",
       "      <th>date</th>\n",
       "      <th>hora</th>\n",
       "      <th>sport</th>\n",
       "      <th>area</th>\n",
       "      <th>league</th>\n",
       "      <th>team1</th>\n",
       "      <th>team2</th>\n",
       "      <th>objetivo</th>\n",
       "      <th>odd</th>\n",
       "      <th>criterio</th>\n",
       "      <th>outcome</th>\n",
       "    </tr>\n",
       "  </thead>\n",
       "  <tbody>\n",
       "  </tbody>\n",
       "</table>\n",
       "</div>"
      ],
      "text/plain": [
       "Empty DataFrame\n",
       "Columns: [date, hora, sport, area, league, team1, team2, objetivo, odd, criterio, outcome]\n",
       "Index: []"
      ]
     },
     "execution_count": 11,
     "metadata": {},
     "output_type": "execute_result"
    }
   ],
   "source": [
    "df_prediccion = dsp.load_data(tbl=\"tbl_prediccion_premium_model_soccer\")\n",
    "df=dsp.daily_prediction_criterio(df_prediccion)\n",
    "dsp.correcion_horario(df)"
   ]
  },
  {
   "cell_type": "code",
   "execution_count": null,
   "metadata": {},
   "outputs": [],
   "source": []
  },
  {
   "cell_type": "code",
   "execution_count": 12,
   "metadata": {},
   "outputs": [
    {
     "data": {
      "text/html": [
       "<div>\n",
       "<style scoped>\n",
       "    .dataframe tbody tr th:only-of-type {\n",
       "        vertical-align: middle;\n",
       "    }\n",
       "\n",
       "    .dataframe tbody tr th {\n",
       "        vertical-align: top;\n",
       "    }\n",
       "\n",
       "    .dataframe thead th {\n",
       "        text-align: right;\n",
       "    }\n",
       "</style>\n",
       "<table border=\"1\" class=\"dataframe\">\n",
       "  <thead>\n",
       "    <tr style=\"text-align: right;\">\n",
       "      <th></th>\n",
       "      <th>hora</th>\n",
       "      <th>date</th>\n",
       "      <th>area</th>\n",
       "      <th>league</th>\n",
       "      <th>team1</th>\n",
       "      <th>team2</th>\n",
       "      <th>team1_odds</th>\n",
       "      <th>draw_odds</th>\n",
       "      <th>team2_odds</th>\n",
       "      <th>objetivo</th>\n",
       "      <th>Rating</th>\n",
       "      <th>auc</th>\n",
       "    </tr>\n",
       "  </thead>\n",
       "  <tbody>\n",
       "  </tbody>\n",
       "</table>\n",
       "</div>"
      ],
      "text/plain": [
       "Empty DataFrame\n",
       "Columns: [hora, date, area, league, team1, team2, team1_odds, draw_odds, team2_odds, objetivo, Rating, auc]\n",
       "Index: []"
      ]
     },
     "execution_count": 12,
     "metadata": {},
     "output_type": "execute_result"
    }
   ],
   "source": [
    "df_prediccion = dsp.load_data(tbl=\"tbl_prediccion_0\")\n",
    "df = dsp.daily_prediction_model(df_prediccion)\n",
    "dsp.correcion_horario(df)"
   ]
  },
  {
   "cell_type": "code",
   "execution_count": null,
   "metadata": {},
   "outputs": [],
   "source": []
  },
  {
   "cell_type": "code",
   "execution_count": 13,
   "metadata": {},
   "outputs": [
    {
     "data": {
      "text/html": [
       "<div>\n",
       "<style scoped>\n",
       "    .dataframe tbody tr th:only-of-type {\n",
       "        vertical-align: middle;\n",
       "    }\n",
       "\n",
       "    .dataframe tbody tr th {\n",
       "        vertical-align: top;\n",
       "    }\n",
       "\n",
       "    .dataframe thead th {\n",
       "        text-align: right;\n",
       "    }\n",
       "</style>\n",
       "<table border=\"1\" class=\"dataframe\">\n",
       "  <thead>\n",
       "    <tr style=\"text-align: right;\">\n",
       "      <th></th>\n",
       "      <th>hora</th>\n",
       "      <th>date</th>\n",
       "      <th>area</th>\n",
       "      <th>league</th>\n",
       "      <th>team1</th>\n",
       "      <th>team2</th>\n",
       "      <th>team1_odds</th>\n",
       "      <th>draw_odds</th>\n",
       "      <th>team2_odds</th>\n",
       "      <th>objetivo</th>\n",
       "      <th>Rating</th>\n",
       "      <th>auc</th>\n",
       "    </tr>\n",
       "  </thead>\n",
       "  <tbody>\n",
       "  </tbody>\n",
       "</table>\n",
       "</div>"
      ],
      "text/plain": [
       "Empty DataFrame\n",
       "Columns: [hora, date, area, league, team1, team2, team1_odds, draw_odds, team2_odds, objetivo, Rating, auc]\n",
       "Index: []"
      ]
     },
     "execution_count": 13,
     "metadata": {},
     "output_type": "execute_result"
    }
   ],
   "source": [
    "df_prediccion = dsp.load_data(tbl=\"tbl_prediccion_0\")\n",
    "df = dsp.daily_prediction_model(df_prediccion,min_auc=0,min_games=5)\n",
    "dsp.correcion_horario(df)"
   ]
  },
  {
   "cell_type": "code",
   "execution_count": 14,
   "metadata": {},
   "outputs": [
    {
     "data": {
      "text/html": [
       "<div>\n",
       "<style scoped>\n",
       "    .dataframe tbody tr th:only-of-type {\n",
       "        vertical-align: middle;\n",
       "    }\n",
       "\n",
       "    .dataframe tbody tr th {\n",
       "        vertical-align: top;\n",
       "    }\n",
       "\n",
       "    .dataframe thead th {\n",
       "        text-align: right;\n",
       "    }\n",
       "</style>\n",
       "<table border=\"1\" class=\"dataframe\">\n",
       "  <thead>\n",
       "    <tr style=\"text-align: right;\">\n",
       "      <th></th>\n",
       "      <th>date</th>\n",
       "      <th>hora</th>\n",
       "      <th>sport</th>\n",
       "      <th>area</th>\n",
       "      <th>league</th>\n",
       "      <th>team1</th>\n",
       "      <th>team2</th>\n",
       "      <th>objetivo</th>\n",
       "      <th>odd</th>\n",
       "      <th>m_criterio</th>\n",
       "    </tr>\n",
       "  </thead>\n",
       "  <tbody>\n",
       "    <tr>\n",
       "      <th>890</th>\n",
       "      <td>17/06/2021</td>\n",
       "      <td>10:00</td>\n",
       "      <td>soccer</td>\n",
       "      <td>egypt</td>\n",
       "      <td>premier-league</td>\n",
       "      <td>El Ismaily</td>\n",
       "      <td>Ghazl El Mahallah</td>\n",
       "      <td>X1</td>\n",
       "      <td>1.68</td>\n",
       "      <td>268.0</td>\n",
       "    </tr>\n",
       "    <tr>\n",
       "      <th>889</th>\n",
       "      <td>17/06/2021</td>\n",
       "      <td>13:00</td>\n",
       "      <td>soccer</td>\n",
       "      <td>uruguay</td>\n",
       "      <td>primera-division</td>\n",
       "      <td>Plaza Colonia</td>\n",
       "      <td>Liverpool M.</td>\n",
       "      <td>X2</td>\n",
       "      <td>2.37</td>\n",
       "      <td>375.0</td>\n",
       "    </tr>\n",
       "    <tr>\n",
       "      <th>888</th>\n",
       "      <td>17/06/2021</td>\n",
       "      <td>17:00</td>\n",
       "      <td>soccer</td>\n",
       "      <td>brazil</td>\n",
       "      <td>serie-b</td>\n",
       "      <td>Londrina</td>\n",
       "      <td>Botafogo RJ</td>\n",
       "      <td>X2</td>\n",
       "      <td>2.35</td>\n",
       "      <td>100.0</td>\n",
       "    </tr>\n",
       "  </tbody>\n",
       "</table>\n",
       "</div>"
      ],
      "text/plain": [
       "           date   hora   sport     area            league          team1  \\\n",
       "890  17/06/2021  10:00  soccer    egypt    premier-league     El Ismaily   \n",
       "889  17/06/2021  13:00  soccer  uruguay  primera-division  Plaza Colonia   \n",
       "888  17/06/2021  17:00  soccer   brazil           serie-b       Londrina   \n",
       "\n",
       "                 team2 objetivo   odd  m_criterio  \n",
       "890  Ghazl El Mahallah       X1  1.68       268.0  \n",
       "889       Liverpool M.       X2  2.37       375.0  \n",
       "888        Botafogo RJ       X2  2.35       100.0  "
      ]
     },
     "execution_count": 14,
     "metadata": {},
     "output_type": "execute_result"
    }
   ],
   "source": [
    "df_prediccion = dsp.load_data(tbl=\"tbl_prediccion_premium_magic\")\n",
    "df = dsp.daily_prediction_criterio(df_prediccion)\n",
    "dsp.correcion_horario(df)"
   ]
  },
  {
   "cell_type": "markdown",
   "metadata": {},
   "source": [
    "## NHL CLUSTER FALLO"
   ]
  },
  {
   "cell_type": "code",
   "execution_count": 15,
   "metadata": {},
   "outputs": [
    {
     "data": {
      "text/html": [
       "<div>\n",
       "<style scoped>\n",
       "    .dataframe tbody tr th:only-of-type {\n",
       "        vertical-align: middle;\n",
       "    }\n",
       "\n",
       "    .dataframe tbody tr th {\n",
       "        vertical-align: top;\n",
       "    }\n",
       "\n",
       "    .dataframe thead th {\n",
       "        text-align: right;\n",
       "    }\n",
       "</style>\n",
       "<table border=\"1\" class=\"dataframe\">\n",
       "  <thead>\n",
       "    <tr style=\"text-align: right;\">\n",
       "      <th></th>\n",
       "      <th>hora</th>\n",
       "      <th>date</th>\n",
       "      <th>area_league</th>\n",
       "      <th>team1</th>\n",
       "      <th>team2</th>\n",
       "      <th>team1_odds</th>\n",
       "      <th>draw_odds</th>\n",
       "      <th>team2_odds</th>\n",
       "      <th>objetivo</th>\n",
       "    </tr>\n",
       "  </thead>\n",
       "  <tbody>\n",
       "  </tbody>\n",
       "</table>\n",
       "</div>"
      ],
      "text/plain": [
       "Empty DataFrame\n",
       "Columns: [hora, date, area_league, team1, team2, team1_odds, draw_odds, team2_odds, objetivo]\n",
       "Index: []"
      ]
     },
     "execution_count": 15,
     "metadata": {},
     "output_type": "execute_result"
    }
   ],
   "source": [
    "df_prediccion = dsp.load_data(tbl=\"tbl_fallo_nhl\")\n",
    "dsp.daily_prediction(df_prediccion)"
   ]
  },
  {
   "cell_type": "code",
   "execution_count": 16,
   "metadata": {},
   "outputs": [
    {
     "data": {
      "text/html": [
       "<div>\n",
       "<style scoped>\n",
       "    .dataframe tbody tr th:only-of-type {\n",
       "        vertical-align: middle;\n",
       "    }\n",
       "\n",
       "    .dataframe tbody tr th {\n",
       "        vertical-align: top;\n",
       "    }\n",
       "\n",
       "    .dataframe thead th {\n",
       "        text-align: right;\n",
       "    }\n",
       "</style>\n",
       "<table border=\"1\" class=\"dataframe\">\n",
       "  <thead>\n",
       "    <tr style=\"text-align: right;\">\n",
       "      <th></th>\n",
       "      <th>hora</th>\n",
       "      <th>date</th>\n",
       "      <th>area_league</th>\n",
       "      <th>team1</th>\n",
       "      <th>team2</th>\n",
       "      <th>team1_odds</th>\n",
       "      <th>draw_odds</th>\n",
       "      <th>team2_odds</th>\n",
       "      <th>objetivo</th>\n",
       "    </tr>\n",
       "  </thead>\n",
       "  <tbody>\n",
       "  </tbody>\n",
       "</table>\n",
       "</div>"
      ],
      "text/plain": [
       "Empty DataFrame\n",
       "Columns: [hora, date, area_league, team1, team2, team1_odds, draw_odds, team2_odds, objetivo]\n",
       "Index: []"
      ]
     },
     "execution_count": 16,
     "metadata": {},
     "output_type": "execute_result"
    }
   ],
   "source": [
    "df_prediccion = dsp.load_data(tbl=\"tbl_fallo_nhl_original\")\n",
    "dsp.daily_prediction(df_prediccion)"
   ]
  },
  {
   "cell_type": "markdown",
   "metadata": {},
   "source": [
    "### TAN!! SPECIAL SELECTION"
   ]
  },
  {
   "cell_type": "code",
   "execution_count": 17,
   "metadata": {},
   "outputs": [
    {
     "data": {
      "text/html": [
       "<div>\n",
       "<style scoped>\n",
       "    .dataframe tbody tr th:only-of-type {\n",
       "        vertical-align: middle;\n",
       "    }\n",
       "\n",
       "    .dataframe tbody tr th {\n",
       "        vertical-align: top;\n",
       "    }\n",
       "\n",
       "    .dataframe thead th {\n",
       "        text-align: right;\n",
       "    }\n",
       "</style>\n",
       "<table border=\"1\" class=\"dataframe\">\n",
       "  <thead>\n",
       "    <tr style=\"text-align: right;\">\n",
       "      <th></th>\n",
       "      <th>hora</th>\n",
       "      <th>date</th>\n",
       "      <th>area_league</th>\n",
       "      <th>team1</th>\n",
       "      <th>team2</th>\n",
       "      <th>team1_odds</th>\n",
       "      <th>draw_odds</th>\n",
       "      <th>team2_odds</th>\n",
       "      <th>objetivo</th>\n",
       "    </tr>\n",
       "  </thead>\n",
       "  <tbody>\n",
       "    <tr>\n",
       "      <th>2457</th>\n",
       "      <td>12:30</td>\n",
       "      <td>17/06/2021</td>\n",
       "      <td>/soccer/faroe-islands/premier-league/hb-torsha...</td>\n",
       "      <td>HB Torshavn</td>\n",
       "      <td>TB Tvoroyri</td>\n",
       "      <td>1.04</td>\n",
       "      <td>14.0</td>\n",
       "      <td>27.25</td>\n",
       "      <td>TEAM1</td>\n",
       "    </tr>\n",
       "  </tbody>\n",
       "</table>\n",
       "</div>"
      ],
      "text/plain": [
       "       hora        date                                        area_league  \\\n",
       "2457  12:30  17/06/2021  /soccer/faroe-islands/premier-league/hb-torsha...   \n",
       "\n",
       "            team1        team2  team1_odds  draw_odds  team2_odds objetivo  \n",
       "2457  HB Torshavn  TB Tvoroyri        1.04       14.0       27.25    TEAM1  "
      ]
     },
     "execution_count": 17,
     "metadata": {},
     "output_type": "execute_result"
    }
   ],
   "source": [
    "df_prediccion = dsp.load_data(tbl=\"tbl_prediccion_machinTAN\")\n",
    "df=dsp.daily_prediction(df_prediccion)\n",
    "dsp.correcion_horario(df)"
   ]
  },
  {
   "cell_type": "code",
   "execution_count": 18,
   "metadata": {},
   "outputs": [
    {
     "data": {
      "text/html": [
       "<div>\n",
       "<style scoped>\n",
       "    .dataframe tbody tr th:only-of-type {\n",
       "        vertical-align: middle;\n",
       "    }\n",
       "\n",
       "    .dataframe tbody tr th {\n",
       "        vertical-align: top;\n",
       "    }\n",
       "\n",
       "    .dataframe thead th {\n",
       "        text-align: right;\n",
       "    }\n",
       "</style>\n",
       "<table border=\"1\" class=\"dataframe\">\n",
       "  <thead>\n",
       "    <tr style=\"text-align: right;\">\n",
       "      <th></th>\n",
       "      <th>hora</th>\n",
       "      <th>date</th>\n",
       "      <th>area_league</th>\n",
       "      <th>team1</th>\n",
       "      <th>team2</th>\n",
       "      <th>team1_odds</th>\n",
       "      <th>draw_odds</th>\n",
       "      <th>team2_odds</th>\n",
       "      <th>objetivo</th>\n",
       "    </tr>\n",
       "  </thead>\n",
       "  <tbody>\n",
       "  </tbody>\n",
       "</table>\n",
       "</div>"
      ],
      "text/plain": [
       "Empty DataFrame\n",
       "Columns: [hora, date, area_league, team1, team2, team1_odds, draw_odds, team2_odds, objetivo]\n",
       "Index: []"
      ]
     },
     "execution_count": 18,
     "metadata": {},
     "output_type": "execute_result"
    }
   ],
   "source": [
    "df_prediccion = dsp.load_data(tbl=\"tbl_fallo_hockey\")\n",
    "dsp.daily_prediction(df_prediccion)"
   ]
  },
  {
   "cell_type": "markdown",
   "metadata": {},
   "source": [
    "____"
   ]
  },
  {
   "cell_type": "markdown",
   "metadata": {},
   "source": [
    "-----"
   ]
  },
  {
   "cell_type": "markdown",
   "metadata": {},
   "source": [
    "### Gana Favorito en ODDs finales."
   ]
  },
  {
   "cell_type": "code",
   "execution_count": 19,
   "metadata": {},
   "outputs": [
    {
     "data": {
      "text/html": [
       "<div>\n",
       "<style scoped>\n",
       "    .dataframe tbody tr th:only-of-type {\n",
       "        vertical-align: middle;\n",
       "    }\n",
       "\n",
       "    .dataframe tbody tr th {\n",
       "        vertical-align: top;\n",
       "    }\n",
       "\n",
       "    .dataframe thead th {\n",
       "        text-align: right;\n",
       "    }\n",
       "</style>\n",
       "<table border=\"1\" class=\"dataframe\">\n",
       "  <thead>\n",
       "    <tr style=\"text-align: right;\">\n",
       "      <th></th>\n",
       "      <th>hora</th>\n",
       "      <th>date</th>\n",
       "      <th>area_league</th>\n",
       "      <th>team1</th>\n",
       "      <th>team2</th>\n",
       "      <th>team1_odds</th>\n",
       "      <th>draw_odds</th>\n",
       "      <th>team2_odds</th>\n",
       "      <th>objetivo</th>\n",
       "    </tr>\n",
       "  </thead>\n",
       "  <tbody>\n",
       "  </tbody>\n",
       "</table>\n",
       "</div>"
      ],
      "text/plain": [
       "Empty DataFrame\n",
       "Columns: [hora, date, area_league, team1, team2, team1_odds, draw_odds, team2_odds, objetivo]\n",
       "Index: []"
      ]
     },
     "execution_count": 19,
     "metadata": {},
     "output_type": "execute_result"
    }
   ],
   "source": [
    "df_prediccion = dsp.load_data(tbl=\"tbl_prediccion_machin_inversos\")\n",
    "dsp.daily_prediction(df_prediccion)"
   ]
  },
  {
   "cell_type": "markdown",
   "metadata": {},
   "source": [
    "## GANA 1 si objetivo es mayor a 0.52, GANA 2 si es menor a 49 "
   ]
  },
  {
   "cell_type": "code",
   "execution_count": 20,
   "metadata": {},
   "outputs": [
    {
     "data": {
      "text/html": [
       "<div>\n",
       "<style scoped>\n",
       "    .dataframe tbody tr th:only-of-type {\n",
       "        vertical-align: middle;\n",
       "    }\n",
       "\n",
       "    .dataframe tbody tr th {\n",
       "        vertical-align: top;\n",
       "    }\n",
       "\n",
       "    .dataframe thead th {\n",
       "        text-align: right;\n",
       "    }\n",
       "</style>\n",
       "<table border=\"1\" class=\"dataframe\">\n",
       "  <thead>\n",
       "    <tr style=\"text-align: right;\">\n",
       "      <th></th>\n",
       "      <th>hora</th>\n",
       "      <th>date</th>\n",
       "      <th>area_league</th>\n",
       "      <th>team1</th>\n",
       "      <th>team2</th>\n",
       "      <th>team1_odds</th>\n",
       "      <th>draw_odds</th>\n",
       "      <th>team2_odds</th>\n",
       "      <th>objetivo</th>\n",
       "    </tr>\n",
       "  </thead>\n",
       "  <tbody>\n",
       "  </tbody>\n",
       "</table>\n",
       "</div>"
      ],
      "text/plain": [
       "Empty DataFrame\n",
       "Columns: [hora, date, area_league, team1, team2, team1_odds, draw_odds, team2_odds, objetivo]\n",
       "Index: []"
      ]
     },
     "execution_count": 20,
     "metadata": {},
     "output_type": "execute_result"
    }
   ],
   "source": [
    "df_prediccion = dsp.load_data(tbl=\"tbl_prediccion_machin6_glicko\")\n",
    "dsp.daily_prediction(df_prediccion)"
   ]
  },
  {
   "cell_type": "markdown",
   "metadata": {},
   "source": [
    "### Premium"
   ]
  },
  {
   "cell_type": "code",
   "execution_count": 21,
   "metadata": {},
   "outputs": [
    {
     "data": {
      "text/html": [
       "<div>\n",
       "<style scoped>\n",
       "    .dataframe tbody tr th:only-of-type {\n",
       "        vertical-align: middle;\n",
       "    }\n",
       "\n",
       "    .dataframe tbody tr th {\n",
       "        vertical-align: top;\n",
       "    }\n",
       "\n",
       "    .dataframe thead th {\n",
       "        text-align: right;\n",
       "    }\n",
       "</style>\n",
       "<table border=\"1\" class=\"dataframe\">\n",
       "  <thead>\n",
       "    <tr style=\"text-align: right;\">\n",
       "      <th></th>\n",
       "      <th>date</th>\n",
       "      <th>hora</th>\n",
       "      <th>sport</th>\n",
       "      <th>area</th>\n",
       "      <th>league</th>\n",
       "      <th>team1</th>\n",
       "      <th>team2</th>\n",
       "      <th>objetivo</th>\n",
       "      <th>outcome</th>\n",
       "      <th>odd</th>\n",
       "      <th>m_criterio</th>\n",
       "    </tr>\n",
       "  </thead>\n",
       "  <tbody>\n",
       "    <tr>\n",
       "      <th>1700</th>\n",
       "      <td>2021-06-17</td>\n",
       "      <td>23:00</td>\n",
       "      <td>soccer</td>\n",
       "      <td>brazil</td>\n",
       "      <td>serie-b</td>\n",
       "      <td>Londrina</td>\n",
       "      <td>Botafogo RJ</td>\n",
       "      <td>X2</td>\n",
       "      <td>1.000000</td>\n",
       "      <td>2.35</td>\n",
       "      <td>100</td>\n",
       "    </tr>\n",
       "    <tr>\n",
       "      <th>1701</th>\n",
       "      <td>2021-06-17</td>\n",
       "      <td>01:10</td>\n",
       "      <td>baseball</td>\n",
       "      <td>usa</td>\n",
       "      <td>mlb</td>\n",
       "      <td>Houston Astros</td>\n",
       "      <td>Texas Rangers</td>\n",
       "      <td>UNDER</td>\n",
       "      <td>0.526144</td>\n",
       "      <td>1.90</td>\n",
       "      <td>100</td>\n",
       "    </tr>\n",
       "    <tr>\n",
       "      <th>1702</th>\n",
       "      <td>2021-06-17</td>\n",
       "      <td>02:45</td>\n",
       "      <td>baseball</td>\n",
       "      <td>usa</td>\n",
       "      <td>mlb</td>\n",
       "      <td>San Francisco Giants</td>\n",
       "      <td>Arizona Diamondbacks</td>\n",
       "      <td>UNDER</td>\n",
       "      <td>0.572154</td>\n",
       "      <td>1.90</td>\n",
       "      <td>100</td>\n",
       "    </tr>\n",
       "    <tr>\n",
       "      <th>1703</th>\n",
       "      <td>2021-06-17</td>\n",
       "      <td>00:30</td>\n",
       "      <td>basketball</td>\n",
       "      <td>usa</td>\n",
       "      <td>nba</td>\n",
       "      <td>Philadelphia 76ers</td>\n",
       "      <td>Atlanta Hawks</td>\n",
       "      <td>OVER</td>\n",
       "      <td>0.614947</td>\n",
       "      <td>1.90</td>\n",
       "      <td>100</td>\n",
       "    </tr>\n",
       "    <tr>\n",
       "      <th>1704</th>\n",
       "      <td>2021-06-17</td>\n",
       "      <td>03:00</td>\n",
       "      <td>basketball</td>\n",
       "      <td>usa</td>\n",
       "      <td>nba</td>\n",
       "      <td>Utah Jazz</td>\n",
       "      <td>Los Angeles Clippers</td>\n",
       "      <td>OVER</td>\n",
       "      <td>0.609484</td>\n",
       "      <td>1.90</td>\n",
       "      <td>100</td>\n",
       "    </tr>\n",
       "  </tbody>\n",
       "</table>\n",
       "</div>"
      ],
      "text/plain": [
       "            date   hora       sport    area   league                 team1  \\\n",
       "1700  2021-06-17  23:00      soccer  brazil  serie-b              Londrina   \n",
       "1701  2021-06-17  01:10    baseball     usa      mlb        Houston Astros   \n",
       "1702  2021-06-17  02:45    baseball     usa      mlb  San Francisco Giants   \n",
       "1703  2021-06-17  00:30  basketball     usa      nba    Philadelphia 76ers   \n",
       "1704  2021-06-17  03:00  basketball     usa      nba             Utah Jazz   \n",
       "\n",
       "                     team2 objetivo   outcome   odd  m_criterio  \n",
       "1700           Botafogo RJ       X2  1.000000  2.35         100  \n",
       "1701         Texas Rangers    UNDER  0.526144  1.90         100  \n",
       "1702  Arizona Diamondbacks    UNDER  0.572154  1.90         100  \n",
       "1703         Atlanta Hawks     OVER  0.614947  1.90         100  \n",
       "1704  Los Angeles Clippers     OVER  0.609484  1.90         100  "
      ]
     },
     "execution_count": 21,
     "metadata": {},
     "output_type": "execute_result"
    }
   ],
   "source": [
    "df_prediccion = dsp.load_data(tbl=\"tbl_prediccion_premium\")\n",
    "dsp.daily_prediction_criterio(df_prediccion)"
   ]
  },
  {
   "cell_type": "markdown",
   "metadata": {},
   "source": [
    "### Criterio"
   ]
  },
  {
   "cell_type": "code",
   "execution_count": 22,
   "metadata": {},
   "outputs": [
    {
     "data": {
      "text/html": [
       "<div>\n",
       "<style scoped>\n",
       "    .dataframe tbody tr th:only-of-type {\n",
       "        vertical-align: middle;\n",
       "    }\n",
       "\n",
       "    .dataframe tbody tr th {\n",
       "        vertical-align: top;\n",
       "    }\n",
       "\n",
       "    .dataframe thead th {\n",
       "        text-align: right;\n",
       "    }\n",
       "</style>\n",
       "<table border=\"1\" class=\"dataframe\">\n",
       "  <thead>\n",
       "    <tr style=\"text-align: right;\">\n",
       "      <th></th>\n",
       "      <th>date</th>\n",
       "      <th>hora</th>\n",
       "      <th>sport</th>\n",
       "      <th>area</th>\n",
       "      <th>league</th>\n",
       "      <th>team1</th>\n",
       "      <th>team2</th>\n",
       "      <th>objetivo</th>\n",
       "      <th>odd</th>\n",
       "      <th>m_criterio</th>\n",
       "    </tr>\n",
       "  </thead>\n",
       "  <tbody>\n",
       "    <tr>\n",
       "      <th>1558</th>\n",
       "      <td>2021-06-17</td>\n",
       "      <td>23:00</td>\n",
       "      <td>soccer</td>\n",
       "      <td>brazil</td>\n",
       "      <td>serie-b</td>\n",
       "      <td>Londrina</td>\n",
       "      <td>Botafogo RJ</td>\n",
       "      <td>TEAM2</td>\n",
       "      <td>2.35</td>\n",
       "      <td>152</td>\n",
       "    </tr>\n",
       "    <tr>\n",
       "      <th>1554</th>\n",
       "      <td>2021-06-17</td>\n",
       "      <td>16:00</td>\n",
       "      <td>soccer</td>\n",
       "      <td>egypt</td>\n",
       "      <td>premier-league</td>\n",
       "      <td>El Ismaily</td>\n",
       "      <td>Ghazl El Mahallah</td>\n",
       "      <td>TEAM1</td>\n",
       "      <td>1.68</td>\n",
       "      <td>268</td>\n",
       "    </tr>\n",
       "    <tr>\n",
       "      <th>1556</th>\n",
       "      <td>2021-06-17</td>\n",
       "      <td>18:30</td>\n",
       "      <td>soccer</td>\n",
       "      <td>faroe-islands</td>\n",
       "      <td>premier-league</td>\n",
       "      <td>HB Torshavn</td>\n",
       "      <td>TB Tvoroyri</td>\n",
       "      <td>TEAM1</td>\n",
       "      <td>1.04</td>\n",
       "      <td>175</td>\n",
       "    </tr>\n",
       "    <tr>\n",
       "      <th>1557</th>\n",
       "      <td>2021-06-17</td>\n",
       "      <td>01:10</td>\n",
       "      <td>baseball</td>\n",
       "      <td>usa</td>\n",
       "      <td>mlb</td>\n",
       "      <td>Houston Astros</td>\n",
       "      <td>Texas Rangers</td>\n",
       "      <td>UNDER</td>\n",
       "      <td>1.90</td>\n",
       "      <td>175</td>\n",
       "    </tr>\n",
       "    <tr>\n",
       "      <th>1555</th>\n",
       "      <td>2021-06-17</td>\n",
       "      <td>14:00</td>\n",
       "      <td>soccer</td>\n",
       "      <td>zambia</td>\n",
       "      <td>super-league</td>\n",
       "      <td>ZESCO</td>\n",
       "      <td>Green Eagles</td>\n",
       "      <td>TEAM1</td>\n",
       "      <td>1.59</td>\n",
       "      <td>229</td>\n",
       "    </tr>\n",
       "  </tbody>\n",
       "</table>\n",
       "</div>"
      ],
      "text/plain": [
       "            date   hora     sport           area          league  \\\n",
       "1558  2021-06-17  23:00    soccer         brazil         serie-b   \n",
       "1554  2021-06-17  16:00    soccer          egypt  premier-league   \n",
       "1556  2021-06-17  18:30    soccer  faroe-islands  premier-league   \n",
       "1557  2021-06-17  01:10  baseball            usa             mlb   \n",
       "1555  2021-06-17  14:00    soccer         zambia    super-league   \n",
       "\n",
       "               team1              team2 objetivo   odd  m_criterio  \n",
       "1558        Londrina        Botafogo RJ    TEAM2  2.35         152  \n",
       "1554      El Ismaily  Ghazl El Mahallah    TEAM1  1.68         268  \n",
       "1556     HB Torshavn        TB Tvoroyri    TEAM1  1.04         175  \n",
       "1557  Houston Astros      Texas Rangers    UNDER  1.90         175  \n",
       "1555           ZESCO       Green Eagles    TEAM1  1.59         229  "
      ]
     },
     "execution_count": 22,
     "metadata": {},
     "output_type": "execute_result"
    }
   ],
   "source": [
    "df_prediccion = dsp.load_data(tbl=\"tbl_prediccion_machinTAN_criterio\")\n",
    "dsp.daily_prediction_criterio(df_prediccion)"
   ]
  },
  {
   "cell_type": "markdown",
   "metadata": {},
   "source": [
    "___"
   ]
  },
  {
   "cell_type": "code",
   "execution_count": 23,
   "metadata": {},
   "outputs": [
    {
     "data": {
      "text/html": [
       "<div>\n",
       "<style scoped>\n",
       "    .dataframe tbody tr th:only-of-type {\n",
       "        vertical-align: middle;\n",
       "    }\n",
       "\n",
       "    .dataframe tbody tr th {\n",
       "        vertical-align: top;\n",
       "    }\n",
       "\n",
       "    .dataframe thead th {\n",
       "        text-align: right;\n",
       "    }\n",
       "</style>\n",
       "<table border=\"1\" class=\"dataframe\">\n",
       "  <thead>\n",
       "    <tr style=\"text-align: right;\">\n",
       "      <th></th>\n",
       "      <th>hora</th>\n",
       "      <th>date</th>\n",
       "      <th>area_league</th>\n",
       "      <th>team1</th>\n",
       "      <th>team2</th>\n",
       "      <th>team1_odds</th>\n",
       "      <th>draw_odds</th>\n",
       "      <th>team2_odds</th>\n",
       "      <th>objetivo</th>\n",
       "    </tr>\n",
       "  </thead>\n",
       "  <tbody>\n",
       "    <tr>\n",
       "      <th>1842</th>\n",
       "      <td>16:00</td>\n",
       "      <td>2021-06-17</td>\n",
       "      <td>/soccer/egypt/premier-league/el-ismaily-ghazl-...</td>\n",
       "      <td>El Ismaily</td>\n",
       "      <td>Ghazl El Mahallah</td>\n",
       "      <td>1.68</td>\n",
       "      <td>3.29</td>\n",
       "      <td>5.58</td>\n",
       "      <td>TEAM1</td>\n",
       "    </tr>\n",
       "    <tr>\n",
       "      <th>1843</th>\n",
       "      <td>14:00</td>\n",
       "      <td>2021-06-17</td>\n",
       "      <td>/soccer/zambia/super-league/zesco-green-eagles...</td>\n",
       "      <td>ZESCO</td>\n",
       "      <td>Green Eagles</td>\n",
       "      <td>1.59</td>\n",
       "      <td>3.63</td>\n",
       "      <td>5.10</td>\n",
       "      <td>TEAM1</td>\n",
       "    </tr>\n",
       "  </tbody>\n",
       "</table>\n",
       "</div>"
      ],
      "text/plain": [
       "       hora        date                                        area_league  \\\n",
       "1842  16:00  2021-06-17  /soccer/egypt/premier-league/el-ismaily-ghazl-...   \n",
       "1843  14:00  2021-06-17  /soccer/zambia/super-league/zesco-green-eagles...   \n",
       "\n",
       "           team1              team2  team1_odds  draw_odds  team2_odds  \\\n",
       "1842  El Ismaily  Ghazl El Mahallah        1.68       3.29        5.58   \n",
       "1843       ZESCO       Green Eagles        1.59       3.63        5.10   \n",
       "\n",
       "     objetivo  \n",
       "1842    TEAM1  \n",
       "1843    TEAM1  "
      ]
     },
     "execution_count": 23,
     "metadata": {},
     "output_type": "execute_result"
    }
   ],
   "source": [
    "df_prediccion = dsp.load_data(tbl=\"tbl_prediccion_machinTAN11\")\n",
    "dsp.daily_prediction(df_prediccion)"
   ]
  },
  {
   "cell_type": "code",
   "execution_count": 24,
   "metadata": {},
   "outputs": [
    {
     "data": {
      "text/html": [
       "<div>\n",
       "<style scoped>\n",
       "    .dataframe tbody tr th:only-of-type {\n",
       "        vertical-align: middle;\n",
       "    }\n",
       "\n",
       "    .dataframe tbody tr th {\n",
       "        vertical-align: top;\n",
       "    }\n",
       "\n",
       "    .dataframe thead th {\n",
       "        text-align: right;\n",
       "    }\n",
       "</style>\n",
       "<table border=\"1\" class=\"dataframe\">\n",
       "  <thead>\n",
       "    <tr style=\"text-align: right;\">\n",
       "      <th></th>\n",
       "      <th>date</th>\n",
       "      <th>hora</th>\n",
       "      <th>sport</th>\n",
       "      <th>area</th>\n",
       "      <th>league</th>\n",
       "      <th>team1</th>\n",
       "      <th>team2</th>\n",
       "      <th>objetivo</th>\n",
       "      <th>odd</th>\n",
       "      <th>m_criterio</th>\n",
       "    </tr>\n",
       "  </thead>\n",
       "  <tbody>\n",
       "  </tbody>\n",
       "</table>\n",
       "</div>"
      ],
      "text/plain": [
       "Empty DataFrame\n",
       "Columns: [date, hora, sport, area, league, team1, team2, objetivo, odd, m_criterio]\n",
       "Index: []"
      ]
     },
     "execution_count": 24,
     "metadata": {},
     "output_type": "execute_result"
    }
   ],
   "source": [
    "df_prediccion = dsp.load_data(tbl=\"tbl_prediccion_machinTAN_criterio2\")\n",
    "dsp.daily_prediction_criterio(df_prediccion)"
   ]
  },
  {
   "cell_type": "code",
   "execution_count": 25,
   "metadata": {},
   "outputs": [
    {
     "data": {
      "text/html": [
       "<div>\n",
       "<style scoped>\n",
       "    .dataframe tbody tr th:only-of-type {\n",
       "        vertical-align: middle;\n",
       "    }\n",
       "\n",
       "    .dataframe tbody tr th {\n",
       "        vertical-align: top;\n",
       "    }\n",
       "\n",
       "    .dataframe thead th {\n",
       "        text-align: right;\n",
       "    }\n",
       "</style>\n",
       "<table border=\"1\" class=\"dataframe\">\n",
       "  <thead>\n",
       "    <tr style=\"text-align: right;\">\n",
       "      <th></th>\n",
       "      <th>date</th>\n",
       "      <th>hora</th>\n",
       "      <th>sport</th>\n",
       "      <th>area</th>\n",
       "      <th>league</th>\n",
       "      <th>team1</th>\n",
       "      <th>team2</th>\n",
       "      <th>objetivo</th>\n",
       "      <th>odd</th>\n",
       "      <th>m_criterio</th>\n",
       "    </tr>\n",
       "  </thead>\n",
       "  <tbody>\n",
       "  </tbody>\n",
       "</table>\n",
       "</div>"
      ],
      "text/plain": [
       "Empty DataFrame\n",
       "Columns: [date, hora, sport, area, league, team1, team2, objetivo, odd, m_criterio]\n",
       "Index: []"
      ]
     },
     "execution_count": 25,
     "metadata": {},
     "output_type": "execute_result"
    }
   ],
   "source": [
    "df_prediccion = dsp.load_data(tbl=\"tbl_prediccion_machinTAN_criterio3\")\n",
    "dsp.daily_prediction_criterio(df_prediccion)"
   ]
  },
  {
   "cell_type": "markdown",
   "metadata": {},
   "source": [
    "### OVER UNDER"
   ]
  },
  {
   "cell_type": "code",
   "execution_count": 26,
   "metadata": {},
   "outputs": [
    {
     "data": {
      "text/html": [
       "<div>\n",
       "<style scoped>\n",
       "    .dataframe tbody tr th:only-of-type {\n",
       "        vertical-align: middle;\n",
       "    }\n",
       "\n",
       "    .dataframe tbody tr th {\n",
       "        vertical-align: top;\n",
       "    }\n",
       "\n",
       "    .dataframe thead th {\n",
       "        text-align: right;\n",
       "    }\n",
       "</style>\n",
       "<table border=\"1\" class=\"dataframe\">\n",
       "  <thead>\n",
       "    <tr style=\"text-align: right;\">\n",
       "      <th></th>\n",
       "      <th>date</th>\n",
       "      <th>hora</th>\n",
       "      <th>sport</th>\n",
       "      <th>area</th>\n",
       "      <th>league</th>\n",
       "      <th>team1</th>\n",
       "      <th>team2</th>\n",
       "      <th>objetivo</th>\n",
       "      <th>odd</th>\n",
       "      <th>criterio</th>\n",
       "      <th>outcome</th>\n",
       "    </tr>\n",
       "  </thead>\n",
       "  <tbody>\n",
       "    <tr>\n",
       "      <th>2432</th>\n",
       "      <td>2021-06-17</td>\n",
       "      <td>00:10</td>\n",
       "      <td>baseball</td>\n",
       "      <td>usa</td>\n",
       "      <td>mlb</td>\n",
       "      <td>New York Mets</td>\n",
       "      <td>Chicago Cubs</td>\n",
       "      <td>8.5</td>\n",
       "      <td>1.39</td>\n",
       "      <td>100</td>\n",
       "      <td>0.707482</td>\n",
       "    </tr>\n",
       "    <tr>\n",
       "      <th>2433</th>\n",
       "      <td>2021-06-17</td>\n",
       "      <td>00:10</td>\n",
       "      <td>baseball</td>\n",
       "      <td>usa</td>\n",
       "      <td>mlb</td>\n",
       "      <td>Cleveland Indians</td>\n",
       "      <td>Baltimore Orioles</td>\n",
       "      <td>9.5</td>\n",
       "      <td>1.44</td>\n",
       "      <td>100</td>\n",
       "      <td>0.706604</td>\n",
       "    </tr>\n",
       "    <tr>\n",
       "      <th>2434</th>\n",
       "      <td>2021-06-17</td>\n",
       "      <td>01:10</td>\n",
       "      <td>baseball</td>\n",
       "      <td>usa</td>\n",
       "      <td>mlb</td>\n",
       "      <td>Houston Astros</td>\n",
       "      <td>Texas Rangers</td>\n",
       "      <td>11.0</td>\n",
       "      <td>1.42</td>\n",
       "      <td>100</td>\n",
       "      <td>0.526144</td>\n",
       "    </tr>\n",
       "    <tr>\n",
       "      <th>2435</th>\n",
       "      <td>2021-06-17</td>\n",
       "      <td>02:45</td>\n",
       "      <td>baseball</td>\n",
       "      <td>usa</td>\n",
       "      <td>mlb</td>\n",
       "      <td>San Francisco Giants</td>\n",
       "      <td>Arizona Diamondbacks</td>\n",
       "      <td>10.0</td>\n",
       "      <td>1.38</td>\n",
       "      <td>100</td>\n",
       "      <td>0.572154</td>\n",
       "    </tr>\n",
       "    <tr>\n",
       "      <th>2436</th>\n",
       "      <td>2021-06-17</td>\n",
       "      <td>03:10</td>\n",
       "      <td>baseball</td>\n",
       "      <td>usa</td>\n",
       "      <td>mlb</td>\n",
       "      <td>Seattle Mariners</td>\n",
       "      <td>Minnesota Twins</td>\n",
       "      <td>10.5</td>\n",
       "      <td>1.44</td>\n",
       "      <td>100</td>\n",
       "      <td>0.809715</td>\n",
       "    </tr>\n",
       "    <tr>\n",
       "      <th>2437</th>\n",
       "      <td>2021-06-17</td>\n",
       "      <td>03:10</td>\n",
       "      <td>baseball</td>\n",
       "      <td>usa</td>\n",
       "      <td>mlb</td>\n",
       "      <td>Los Angeles Dodgers</td>\n",
       "      <td>Philadelphia Phillies</td>\n",
       "      <td>9.0</td>\n",
       "      <td>1.37</td>\n",
       "      <td>100</td>\n",
       "      <td>0.601828</td>\n",
       "    </tr>\n",
       "    <tr>\n",
       "      <th>2438</th>\n",
       "      <td>2021-06-17</td>\n",
       "      <td>00:30</td>\n",
       "      <td>basketball</td>\n",
       "      <td>usa</td>\n",
       "      <td>nba</td>\n",
       "      <td>Philadelphia 76ers</td>\n",
       "      <td>Atlanta Hawks</td>\n",
       "      <td>229.5</td>\n",
       "      <td>1.57</td>\n",
       "      <td>100</td>\n",
       "      <td>0.614947</td>\n",
       "    </tr>\n",
       "    <tr>\n",
       "      <th>2439</th>\n",
       "      <td>2021-06-17</td>\n",
       "      <td>03:00</td>\n",
       "      <td>basketball</td>\n",
       "      <td>usa</td>\n",
       "      <td>nba</td>\n",
       "      <td>Utah Jazz</td>\n",
       "      <td>Los Angeles Clippers</td>\n",
       "      <td>225.5</td>\n",
       "      <td>1.58</td>\n",
       "      <td>100</td>\n",
       "      <td>0.609484</td>\n",
       "    </tr>\n",
       "  </tbody>\n",
       "</table>\n",
       "</div>"
      ],
      "text/plain": [
       "            date   hora       sport area league                 team1  \\\n",
       "2432  2021-06-17  00:10    baseball  usa    mlb         New York Mets   \n",
       "2433  2021-06-17  00:10    baseball  usa    mlb     Cleveland Indians   \n",
       "2434  2021-06-17  01:10    baseball  usa    mlb        Houston Astros   \n",
       "2435  2021-06-17  02:45    baseball  usa    mlb  San Francisco Giants   \n",
       "2436  2021-06-17  03:10    baseball  usa    mlb      Seattle Mariners   \n",
       "2437  2021-06-17  03:10    baseball  usa    mlb   Los Angeles Dodgers   \n",
       "2438  2021-06-17  00:30  basketball  usa    nba    Philadelphia 76ers   \n",
       "2439  2021-06-17  03:00  basketball  usa    nba             Utah Jazz   \n",
       "\n",
       "                      team2  objetivo   odd  criterio   outcome  \n",
       "2432           Chicago Cubs       8.5  1.39       100  0.707482  \n",
       "2433      Baltimore Orioles       9.5  1.44       100  0.706604  \n",
       "2434          Texas Rangers      11.0  1.42       100  0.526144  \n",
       "2435   Arizona Diamondbacks      10.0  1.38       100  0.572154  \n",
       "2436        Minnesota Twins      10.5  1.44       100  0.809715  \n",
       "2437  Philadelphia Phillies       9.0  1.37       100  0.601828  \n",
       "2438          Atlanta Hawks     229.5  1.57       100  0.614947  \n",
       "2439   Los Angeles Clippers     225.5  1.58       100  0.609484  "
      ]
     },
     "execution_count": 26,
     "metadata": {},
     "output_type": "execute_result"
    }
   ],
   "source": [
    "df_prediccion = dsp.load_data(tbl=\"tbl_prediccion_base1\")\n",
    "dsp.daily_prediction_criterio(df_prediccion)"
   ]
  },
  {
   "cell_type": "code",
   "execution_count": 27,
   "metadata": {},
   "outputs": [
    {
     "data": {
      "text/html": [
       "<div>\n",
       "<style scoped>\n",
       "    .dataframe tbody tr th:only-of-type {\n",
       "        vertical-align: middle;\n",
       "    }\n",
       "\n",
       "    .dataframe tbody tr th {\n",
       "        vertical-align: top;\n",
       "    }\n",
       "\n",
       "    .dataframe thead th {\n",
       "        text-align: right;\n",
       "    }\n",
       "</style>\n",
       "<table border=\"1\" class=\"dataframe\">\n",
       "  <thead>\n",
       "    <tr style=\"text-align: right;\">\n",
       "      <th></th>\n",
       "      <th>date</th>\n",
       "      <th>hora</th>\n",
       "      <th>sport</th>\n",
       "      <th>area</th>\n",
       "      <th>league</th>\n",
       "      <th>team1</th>\n",
       "      <th>team2</th>\n",
       "      <th>objetivo</th>\n",
       "      <th>odd</th>\n",
       "      <th>criterio</th>\n",
       "      <th>outcome</th>\n",
       "    </tr>\n",
       "  </thead>\n",
       "  <tbody>\n",
       "    <tr>\n",
       "      <th>520</th>\n",
       "      <td>2021-06-17</td>\n",
       "      <td>00:07</td>\n",
       "      <td>baseball</td>\n",
       "      <td>usa</td>\n",
       "      <td>mlb</td>\n",
       "      <td>Toronto Blue Jays</td>\n",
       "      <td>New York Yankees</td>\n",
       "      <td>1.50</td>\n",
       "      <td>1.9</td>\n",
       "      <td>100</td>\n",
       "      <td>0.197086</td>\n",
       "    </tr>\n",
       "    <tr>\n",
       "      <th>521</th>\n",
       "      <td>2021-06-17</td>\n",
       "      <td>00:20</td>\n",
       "      <td>baseball</td>\n",
       "      <td>usa</td>\n",
       "      <td>mlb</td>\n",
       "      <td>Atlanta Braves</td>\n",
       "      <td>Boston Red Sox</td>\n",
       "      <td>-1.00</td>\n",
       "      <td>1.9</td>\n",
       "      <td>100</td>\n",
       "      <td>0.363946</td>\n",
       "    </tr>\n",
       "    <tr>\n",
       "      <th>522</th>\n",
       "      <td>2021-06-17</td>\n",
       "      <td>03:10</td>\n",
       "      <td>baseball</td>\n",
       "      <td>usa</td>\n",
       "      <td>mlb</td>\n",
       "      <td>Seattle Mariners</td>\n",
       "      <td>Minnesota Twins</td>\n",
       "      <td>1.00</td>\n",
       "      <td>1.9</td>\n",
       "      <td>100</td>\n",
       "      <td>0.522344</td>\n",
       "    </tr>\n",
       "    <tr>\n",
       "      <th>518</th>\n",
       "      <td>2021-06-17</td>\n",
       "      <td>00:30</td>\n",
       "      <td>basketball</td>\n",
       "      <td>usa</td>\n",
       "      <td>nba</td>\n",
       "      <td>Philadelphia 76ers</td>\n",
       "      <td>Atlanta Hawks</td>\n",
       "      <td>-7.50</td>\n",
       "      <td>1.9</td>\n",
       "      <td>100</td>\n",
       "      <td>0.370912</td>\n",
       "    </tr>\n",
       "    <tr>\n",
       "      <th>519</th>\n",
       "      <td>2021-06-17</td>\n",
       "      <td>03:00</td>\n",
       "      <td>basketball</td>\n",
       "      <td>usa</td>\n",
       "      <td>nba</td>\n",
       "      <td>Utah Jazz</td>\n",
       "      <td>Los Angeles Clippers</td>\n",
       "      <td>-8.00</td>\n",
       "      <td>1.9</td>\n",
       "      <td>100</td>\n",
       "      <td>0.603107</td>\n",
       "    </tr>\n",
       "    <tr>\n",
       "      <th>517</th>\n",
       "      <td>2021-06-17</td>\n",
       "      <td>02:00</td>\n",
       "      <td>hockey</td>\n",
       "      <td>usa</td>\n",
       "      <td>nhl</td>\n",
       "      <td>Vegas Golden Knights</td>\n",
       "      <td>Montreal Canadiens</td>\n",
       "      <td>-1.25</td>\n",
       "      <td>1.9</td>\n",
       "      <td>100</td>\n",
       "      <td>0.516026</td>\n",
       "    </tr>\n",
       "  </tbody>\n",
       "</table>\n",
       "</div>"
      ],
      "text/plain": [
       "           date   hora       sport area league                 team1  \\\n",
       "520  2021-06-17  00:07    baseball  usa    mlb     Toronto Blue Jays   \n",
       "521  2021-06-17  00:20    baseball  usa    mlb        Atlanta Braves   \n",
       "522  2021-06-17  03:10    baseball  usa    mlb      Seattle Mariners   \n",
       "518  2021-06-17  00:30  basketball  usa    nba    Philadelphia 76ers   \n",
       "519  2021-06-17  03:00  basketball  usa    nba             Utah Jazz   \n",
       "517  2021-06-17  02:00      hockey  usa    nhl  Vegas Golden Knights   \n",
       "\n",
       "                    team2  objetivo  odd  criterio   outcome  \n",
       "520      New York Yankees      1.50  1.9       100  0.197086  \n",
       "521        Boston Red Sox     -1.00  1.9       100  0.363946  \n",
       "522       Minnesota Twins      1.00  1.9       100  0.522344  \n",
       "518         Atlanta Hawks     -7.50  1.9       100  0.370912  \n",
       "519  Los Angeles Clippers     -8.00  1.9       100  0.603107  \n",
       "517    Montreal Canadiens     -1.25  1.9       100  0.516026  "
      ]
     },
     "execution_count": 27,
     "metadata": {},
     "output_type": "execute_result"
    }
   ],
   "source": [
    "df_prediccion = dsp.load_data(tbl=\"tbl_prediccion_handicap1\")\n",
    "dsp.daily_prediction_criterio(df_prediccion)"
   ]
  },
  {
   "cell_type": "markdown",
   "metadata": {},
   "source": [
    "## NBA"
   ]
  },
  {
   "cell_type": "code",
   "execution_count": 28,
   "metadata": {},
   "outputs": [
    {
     "data": {
      "text/html": [
       "<div>\n",
       "<style scoped>\n",
       "    .dataframe tbody tr th:only-of-type {\n",
       "        vertical-align: middle;\n",
       "    }\n",
       "\n",
       "    .dataframe tbody tr th {\n",
       "        vertical-align: top;\n",
       "    }\n",
       "\n",
       "    .dataframe thead th {\n",
       "        text-align: right;\n",
       "    }\n",
       "</style>\n",
       "<table border=\"1\" class=\"dataframe\">\n",
       "  <thead>\n",
       "    <tr style=\"text-align: right;\">\n",
       "      <th></th>\n",
       "      <th>hora</th>\n",
       "      <th>date</th>\n",
       "      <th>area_league</th>\n",
       "      <th>team1</th>\n",
       "      <th>team2</th>\n",
       "      <th>team1_odds</th>\n",
       "      <th>draw_odds</th>\n",
       "      <th>team2_odds</th>\n",
       "      <th>objetivo</th>\n",
       "    </tr>\n",
       "  </thead>\n",
       "  <tbody>\n",
       "    <tr>\n",
       "      <th>1039</th>\n",
       "      <td>00:30</td>\n",
       "      <td>2021-06-17</td>\n",
       "      <td>/basketball/usa/nba/philadelphia-76ers-atlanta...</td>\n",
       "      <td>Philadelphia 76ers</td>\n",
       "      <td>Atlanta Hawks</td>\n",
       "      <td>1.32</td>\n",
       "      <td>0.0</td>\n",
       "      <td>3.53</td>\n",
       "      <td>0.518139</td>\n",
       "    </tr>\n",
       "    <tr>\n",
       "      <th>1040</th>\n",
       "      <td>03:00</td>\n",
       "      <td>2021-06-17</td>\n",
       "      <td>/basketball/usa/nba/utah-jazz-los-angeles-clip...</td>\n",
       "      <td>Utah Jazz</td>\n",
       "      <td>Los Angeles Clippers</td>\n",
       "      <td>1.29</td>\n",
       "      <td>0.0</td>\n",
       "      <td>3.77</td>\n",
       "      <td>0.597194</td>\n",
       "    </tr>\n",
       "  </tbody>\n",
       "</table>\n",
       "</div>"
      ],
      "text/plain": [
       "       hora        date                                        area_league  \\\n",
       "1039  00:30  2021-06-17  /basketball/usa/nba/philadelphia-76ers-atlanta...   \n",
       "1040  03:00  2021-06-17  /basketball/usa/nba/utah-jazz-los-angeles-clip...   \n",
       "\n",
       "                   team1                 team2  team1_odds  draw_odds  \\\n",
       "1039  Philadelphia 76ers         Atlanta Hawks        1.32        0.0   \n",
       "1040           Utah Jazz  Los Angeles Clippers        1.29        0.0   \n",
       "\n",
       "      team2_odds  objetivo  \n",
       "1039        3.53  0.518139  \n",
       "1040        3.77  0.597194  "
      ]
     },
     "execution_count": 28,
     "metadata": {},
     "output_type": "execute_result"
    }
   ],
   "source": [
    "df_prediccion = dsp.load_data(tbl=\"tbl_prediccion_machin_nba\")\n",
    "dsp.daily_prediction(df_prediccion)"
   ]
  },
  {
   "cell_type": "markdown",
   "metadata": {},
   "source": [
    "## NBA CLUSTER FALLO"
   ]
  },
  {
   "cell_type": "code",
   "execution_count": 29,
   "metadata": {},
   "outputs": [
    {
     "data": {
      "text/html": [
       "<div>\n",
       "<style scoped>\n",
       "    .dataframe tbody tr th:only-of-type {\n",
       "        vertical-align: middle;\n",
       "    }\n",
       "\n",
       "    .dataframe tbody tr th {\n",
       "        vertical-align: top;\n",
       "    }\n",
       "\n",
       "    .dataframe thead th {\n",
       "        text-align: right;\n",
       "    }\n",
       "</style>\n",
       "<table border=\"1\" class=\"dataframe\">\n",
       "  <thead>\n",
       "    <tr style=\"text-align: right;\">\n",
       "      <th></th>\n",
       "      <th>hora</th>\n",
       "      <th>date</th>\n",
       "      <th>area_league</th>\n",
       "      <th>team1</th>\n",
       "      <th>team2</th>\n",
       "      <th>team1_odds</th>\n",
       "      <th>draw_odds</th>\n",
       "      <th>team2_odds</th>\n",
       "      <th>objetivo</th>\n",
       "    </tr>\n",
       "  </thead>\n",
       "  <tbody>\n",
       "  </tbody>\n",
       "</table>\n",
       "</div>"
      ],
      "text/plain": [
       "Empty DataFrame\n",
       "Columns: [hora, date, area_league, team1, team2, team1_odds, draw_odds, team2_odds, objetivo]\n",
       "Index: []"
      ]
     },
     "execution_count": 29,
     "metadata": {},
     "output_type": "execute_result"
    }
   ],
   "source": [
    "df_prediccion = dsp.load_data(tbl=\"tbl_fallo_nba\")\n",
    "dsp.daily_prediction(df_prediccion)\n"
   ]
  },
  {
   "cell_type": "markdown",
   "metadata": {},
   "source": [
    "## NBA FALLO SIN FILTRO"
   ]
  },
  {
   "cell_type": "code",
   "execution_count": 30,
   "metadata": {},
   "outputs": [
    {
     "data": {
      "text/html": [
       "<div>\n",
       "<style scoped>\n",
       "    .dataframe tbody tr th:only-of-type {\n",
       "        vertical-align: middle;\n",
       "    }\n",
       "\n",
       "    .dataframe tbody tr th {\n",
       "        vertical-align: top;\n",
       "    }\n",
       "\n",
       "    .dataframe thead th {\n",
       "        text-align: right;\n",
       "    }\n",
       "</style>\n",
       "<table border=\"1\" class=\"dataframe\">\n",
       "  <thead>\n",
       "    <tr style=\"text-align: right;\">\n",
       "      <th></th>\n",
       "      <th>hora</th>\n",
       "      <th>date</th>\n",
       "      <th>area_league</th>\n",
       "      <th>team1</th>\n",
       "      <th>team2</th>\n",
       "      <th>team1_odds</th>\n",
       "      <th>draw_odds</th>\n",
       "      <th>team2_odds</th>\n",
       "      <th>objetivo</th>\n",
       "    </tr>\n",
       "  </thead>\n",
       "  <tbody>\n",
       "  </tbody>\n",
       "</table>\n",
       "</div>"
      ],
      "text/plain": [
       "Empty DataFrame\n",
       "Columns: [hora, date, area_league, team1, team2, team1_odds, draw_odds, team2_odds, objetivo]\n",
       "Index: []"
      ]
     },
     "execution_count": 30,
     "metadata": {},
     "output_type": "execute_result"
    }
   ],
   "source": [
    "df_prediccion = dsp.load_data(tbl=\"tbl_fallo2_nba\")\n",
    "dsp.daily_prediction(df_prediccion)"
   ]
  },
  {
   "cell_type": "markdown",
   "metadata": {},
   "source": [
    "### MLB FALLO"
   ]
  },
  {
   "cell_type": "code",
   "execution_count": 31,
   "metadata": {},
   "outputs": [
    {
     "data": {
      "text/html": [
       "<div>\n",
       "<style scoped>\n",
       "    .dataframe tbody tr th:only-of-type {\n",
       "        vertical-align: middle;\n",
       "    }\n",
       "\n",
       "    .dataframe tbody tr th {\n",
       "        vertical-align: top;\n",
       "    }\n",
       "\n",
       "    .dataframe thead th {\n",
       "        text-align: right;\n",
       "    }\n",
       "</style>\n",
       "<table border=\"1\" class=\"dataframe\">\n",
       "  <thead>\n",
       "    <tr style=\"text-align: right;\">\n",
       "      <th></th>\n",
       "      <th>hora</th>\n",
       "      <th>date</th>\n",
       "      <th>area_league</th>\n",
       "      <th>team1</th>\n",
       "      <th>team2</th>\n",
       "      <th>team1_odds</th>\n",
       "      <th>draw_odds</th>\n",
       "      <th>team2_odds</th>\n",
       "      <th>objetivo</th>\n",
       "    </tr>\n",
       "  </thead>\n",
       "  <tbody>\n",
       "  </tbody>\n",
       "</table>\n",
       "</div>"
      ],
      "text/plain": [
       "Empty DataFrame\n",
       "Columns: [hora, date, area_league, team1, team2, team1_odds, draw_odds, team2_odds, objetivo]\n",
       "Index: []"
      ]
     },
     "execution_count": 31,
     "metadata": {},
     "output_type": "execute_result"
    }
   ],
   "source": [
    "df_prediccion = dsp.load_data(tbl=\"tbl_fallo_mlb\")\n",
    "dsp.daily_prediction(df_prediccion)\n"
   ]
  },
  {
   "cell_type": "markdown",
   "metadata": {},
   "source": [
    "## NHL"
   ]
  },
  {
   "cell_type": "code",
   "execution_count": 32,
   "metadata": {},
   "outputs": [
    {
     "data": {
      "text/html": [
       "<div>\n",
       "<style scoped>\n",
       "    .dataframe tbody tr th:only-of-type {\n",
       "        vertical-align: middle;\n",
       "    }\n",
       "\n",
       "    .dataframe tbody tr th {\n",
       "        vertical-align: top;\n",
       "    }\n",
       "\n",
       "    .dataframe thead th {\n",
       "        text-align: right;\n",
       "    }\n",
       "</style>\n",
       "<table border=\"1\" class=\"dataframe\">\n",
       "  <thead>\n",
       "    <tr style=\"text-align: right;\">\n",
       "      <th></th>\n",
       "      <th>hora</th>\n",
       "      <th>date</th>\n",
       "      <th>area_league</th>\n",
       "      <th>team1</th>\n",
       "      <th>team2</th>\n",
       "      <th>team1_odds</th>\n",
       "      <th>draw_odds</th>\n",
       "      <th>team2_odds</th>\n",
       "      <th>objetivo</th>\n",
       "    </tr>\n",
       "  </thead>\n",
       "  <tbody>\n",
       "    <tr>\n",
       "      <th>952</th>\n",
       "      <td>02:00</td>\n",
       "      <td>2021-06-17</td>\n",
       "      <td>/hockey/usa/nhl/vegas-golden-knights-montreal-...</td>\n",
       "      <td>Vegas Golden Knights</td>\n",
       "      <td>Montreal Canadiens</td>\n",
       "      <td>1.63</td>\n",
       "      <td>4.57</td>\n",
       "      <td>4.52</td>\n",
       "      <td>0.595673</td>\n",
       "    </tr>\n",
       "  </tbody>\n",
       "</table>\n",
       "</div>"
      ],
      "text/plain": [
       "      hora        date                                        area_league  \\\n",
       "952  02:00  2021-06-17  /hockey/usa/nhl/vegas-golden-knights-montreal-...   \n",
       "\n",
       "                    team1               team2  team1_odds  draw_odds  \\\n",
       "952  Vegas Golden Knights  Montreal Canadiens        1.63       4.57   \n",
       "\n",
       "     team2_odds  objetivo  \n",
       "952        4.52  0.595673  "
      ]
     },
     "execution_count": 32,
     "metadata": {},
     "output_type": "execute_result"
    }
   ],
   "source": [
    "df_prediccion = dsp.load_data(tbl=\"tbl_prediccion_machin_nhl\")\n",
    "dsp.daily_prediction(df_prediccion)"
   ]
  },
  {
   "cell_type": "markdown",
   "metadata": {},
   "source": [
    "### MLB"
   ]
  },
  {
   "cell_type": "code",
   "execution_count": 33,
   "metadata": {},
   "outputs": [
    {
     "data": {
      "text/html": [
       "<div>\n",
       "<style scoped>\n",
       "    .dataframe tbody tr th:only-of-type {\n",
       "        vertical-align: middle;\n",
       "    }\n",
       "\n",
       "    .dataframe tbody tr th {\n",
       "        vertical-align: top;\n",
       "    }\n",
       "\n",
       "    .dataframe thead th {\n",
       "        text-align: right;\n",
       "    }\n",
       "</style>\n",
       "<table border=\"1\" class=\"dataframe\">\n",
       "  <thead>\n",
       "    <tr style=\"text-align: right;\">\n",
       "      <th></th>\n",
       "      <th>hora</th>\n",
       "      <th>date</th>\n",
       "      <th>area_league</th>\n",
       "      <th>team1</th>\n",
       "      <th>team2</th>\n",
       "      <th>team1_odds</th>\n",
       "      <th>draw_odds</th>\n",
       "      <th>team2_odds</th>\n",
       "      <th>objetivo</th>\n",
       "    </tr>\n",
       "  </thead>\n",
       "  <tbody>\n",
       "  </tbody>\n",
       "</table>\n",
       "</div>"
      ],
      "text/plain": [
       "Empty DataFrame\n",
       "Columns: [hora, date, area_league, team1, team2, team1_odds, draw_odds, team2_odds, objetivo]\n",
       "Index: []"
      ]
     },
     "execution_count": 33,
     "metadata": {},
     "output_type": "execute_result"
    }
   ],
   "source": [
    "df_prediccion = dsp.load_data(tbl=\"tbl_prediccion_machin_base1\")\n",
    "dp = dsp.daily_prediction(df_prediccion)\n",
    "dp.sort_values(by=['hora'],ascending=True)"
   ]
  },
  {
   "cell_type": "markdown",
   "metadata": {},
   "source": [
    "## SOCCER"
   ]
  },
  {
   "cell_type": "code",
   "execution_count": 34,
   "metadata": {},
   "outputs": [
    {
     "data": {
      "text/html": [
       "<div>\n",
       "<style scoped>\n",
       "    .dataframe tbody tr th:only-of-type {\n",
       "        vertical-align: middle;\n",
       "    }\n",
       "\n",
       "    .dataframe tbody tr th {\n",
       "        vertical-align: top;\n",
       "    }\n",
       "\n",
       "    .dataframe thead th {\n",
       "        text-align: right;\n",
       "    }\n",
       "</style>\n",
       "<table border=\"1\" class=\"dataframe\">\n",
       "  <thead>\n",
       "    <tr style=\"text-align: right;\">\n",
       "      <th></th>\n",
       "      <th>hora</th>\n",
       "      <th>date</th>\n",
       "      <th>area_league</th>\n",
       "      <th>team1</th>\n",
       "      <th>team2</th>\n",
       "      <th>team1_odds</th>\n",
       "      <th>draw_odds</th>\n",
       "      <th>team2_odds</th>\n",
       "      <th>objetivo</th>\n",
       "    </tr>\n",
       "  </thead>\n",
       "  <tbody>\n",
       "  </tbody>\n",
       "</table>\n",
       "</div>"
      ],
      "text/plain": [
       "Empty DataFrame\n",
       "Columns: [hora, date, area_league, team1, team2, team1_odds, draw_odds, team2_odds, objetivo]\n",
       "Index: []"
      ]
     },
     "execution_count": 34,
     "metadata": {},
     "output_type": "execute_result"
    }
   ],
   "source": [
    "df_prediccion = dsp.load_data(tbl=\"tbl_prediccion_machin_soccer\")\n",
    "dsp.daily_prediction(df_prediccion)"
   ]
  },
  {
   "cell_type": "markdown",
   "metadata": {},
   "source": [
    "### SOCCER CLUSTER FALLO"
   ]
  },
  {
   "cell_type": "code",
   "execution_count": 35,
   "metadata": {},
   "outputs": [
    {
     "data": {
      "text/html": [
       "<div>\n",
       "<style scoped>\n",
       "    .dataframe tbody tr th:only-of-type {\n",
       "        vertical-align: middle;\n",
       "    }\n",
       "\n",
       "    .dataframe tbody tr th {\n",
       "        vertical-align: top;\n",
       "    }\n",
       "\n",
       "    .dataframe thead th {\n",
       "        text-align: right;\n",
       "    }\n",
       "</style>\n",
       "<table border=\"1\" class=\"dataframe\">\n",
       "  <thead>\n",
       "    <tr style=\"text-align: right;\">\n",
       "      <th></th>\n",
       "      <th>hora</th>\n",
       "      <th>date</th>\n",
       "      <th>area_league</th>\n",
       "      <th>team1</th>\n",
       "      <th>team2</th>\n",
       "      <th>team1_odds</th>\n",
       "      <th>draw_odds</th>\n",
       "      <th>team2_odds</th>\n",
       "      <th>objetivo</th>\n",
       "    </tr>\n",
       "  </thead>\n",
       "  <tbody>\n",
       "  </tbody>\n",
       "</table>\n",
       "</div>"
      ],
      "text/plain": [
       "Empty DataFrame\n",
       "Columns: [hora, date, area_league, team1, team2, team1_odds, draw_odds, team2_odds, objetivo]\n",
       "Index: []"
      ]
     },
     "execution_count": 35,
     "metadata": {},
     "output_type": "execute_result"
    }
   ],
   "source": [
    "df_prediccion = dsp.load_data(tbl=\"tbl_fallo_soccer\")\n",
    "dsp.daily_prediction(df_prediccion)"
   ]
  },
  {
   "cell_type": "markdown",
   "metadata": {},
   "source": [
    "### SOCCER EMPATE SECUENCIA"
   ]
  },
  {
   "cell_type": "code",
   "execution_count": 36,
   "metadata": {},
   "outputs": [
    {
     "data": {
      "text/html": [
       "<div>\n",
       "<style scoped>\n",
       "    .dataframe tbody tr th:only-of-type {\n",
       "        vertical-align: middle;\n",
       "    }\n",
       "\n",
       "    .dataframe tbody tr th {\n",
       "        vertical-align: top;\n",
       "    }\n",
       "\n",
       "    .dataframe thead th {\n",
       "        text-align: right;\n",
       "    }\n",
       "</style>\n",
       "<table border=\"1\" class=\"dataframe\">\n",
       "  <thead>\n",
       "    <tr style=\"text-align: right;\">\n",
       "      <th></th>\n",
       "      <th>hora</th>\n",
       "      <th>date</th>\n",
       "      <th>area_league</th>\n",
       "      <th>team1</th>\n",
       "      <th>team2</th>\n",
       "      <th>team1_odds</th>\n",
       "      <th>draw_odds</th>\n",
       "      <th>team2_odds</th>\n",
       "      <th>objetivo</th>\n",
       "    </tr>\n",
       "  </thead>\n",
       "  <tbody>\n",
       "  </tbody>\n",
       "</table>\n",
       "</div>"
      ],
      "text/plain": [
       "Empty DataFrame\n",
       "Columns: [hora, date, area_league, team1, team2, team1_odds, draw_odds, team2_odds, objetivo]\n",
       "Index: []"
      ]
     },
     "execution_count": 36,
     "metadata": {},
     "output_type": "execute_result"
    }
   ],
   "source": [
    "df_prediccion = dsp.load_data(tbl=\"tbl_empate_soccer\")\n",
    "dsp.daily_prediction(df_prediccion)"
   ]
  },
  {
   "cell_type": "markdown",
   "metadata": {},
   "source": [
    "###  MILAN - más negativo -77"
   ]
  },
  {
   "cell_type": "code",
   "execution_count": 37,
   "metadata": {},
   "outputs": [
    {
     "data": {
      "text/html": [
       "<div>\n",
       "<style scoped>\n",
       "    .dataframe tbody tr th:only-of-type {\n",
       "        vertical-align: middle;\n",
       "    }\n",
       "\n",
       "    .dataframe tbody tr th {\n",
       "        vertical-align: top;\n",
       "    }\n",
       "\n",
       "    .dataframe thead th {\n",
       "        text-align: right;\n",
       "    }\n",
       "</style>\n",
       "<table border=\"1\" class=\"dataframe\">\n",
       "  <thead>\n",
       "    <tr style=\"text-align: right;\">\n",
       "      <th></th>\n",
       "      <th>hora</th>\n",
       "      <th>date</th>\n",
       "      <th>area_league</th>\n",
       "      <th>team1</th>\n",
       "      <th>team2</th>\n",
       "      <th>team1_odds</th>\n",
       "      <th>draw_odds</th>\n",
       "      <th>team2_odds</th>\n",
       "      <th>objetivo</th>\n",
       "    </tr>\n",
       "  </thead>\n",
       "  <tbody>\n",
       "    <tr>\n",
       "      <th>719</th>\n",
       "      <td>01:30</td>\n",
       "      <td>2021-06-17</td>\n",
       "      <td>soccer/brazil_serie-a</td>\n",
       "      <td>Juventude</td>\n",
       "      <td>Palmeiras</td>\n",
       "      <td>5.21</td>\n",
       "      <td>3.57</td>\n",
       "      <td>1.71</td>\n",
       "      <td>FALLO-1-Palmeiras--0.26</td>\n",
       "    </tr>\n",
       "    <tr>\n",
       "      <th>720</th>\n",
       "      <td>20:00</td>\n",
       "      <td>2021-06-17</td>\n",
       "      <td>soccer/brazil_serie-a</td>\n",
       "      <td>Ceara</td>\n",
       "      <td>Bahia</td>\n",
       "      <td>2.68</td>\n",
       "      <td>3.00</td>\n",
       "      <td>2.87</td>\n",
       "      <td>FALLO-2-Bahia--0.04</td>\n",
       "    </tr>\n",
       "    <tr>\n",
       "      <th>721</th>\n",
       "      <td>23:00</td>\n",
       "      <td>2021-06-17</td>\n",
       "      <td>soccer/brazil_serie-a</td>\n",
       "      <td>Sport Recife</td>\n",
       "      <td>Gremio</td>\n",
       "      <td>3.90</td>\n",
       "      <td>3.43</td>\n",
       "      <td>1.96</td>\n",
       "      <td>FAVORITO-2-Sport Recife--0.59</td>\n",
       "    </tr>\n",
       "  </tbody>\n",
       "</table>\n",
       "</div>"
      ],
      "text/plain": [
       "      hora        date            area_league         team1      team2  \\\n",
       "719  01:30  2021-06-17  soccer/brazil_serie-a     Juventude  Palmeiras   \n",
       "720  20:00  2021-06-17  soccer/brazil_serie-a         Ceara      Bahia   \n",
       "721  23:00  2021-06-17  soccer/brazil_serie-a  Sport Recife     Gremio   \n",
       "\n",
       "     team1_odds  draw_odds  team2_odds                       objetivo  \n",
       "719        5.21       3.57        1.71        FALLO-1-Palmeiras--0.26  \n",
       "720        2.68       3.00        2.87            FALLO-2-Bahia--0.04  \n",
       "721        3.90       3.43        1.96  FAVORITO-2-Sport Recife--0.59  "
      ]
     },
     "execution_count": 37,
     "metadata": {},
     "output_type": "execute_result"
    }
   ],
   "source": [
    "df_prediccion = dsp.load_data(tbl=\"tbl_favorito_soccer_MILAN\")\n",
    "dsp.daily_prediction(df_prediccion)"
   ]
  },
  {
   "cell_type": "markdown",
   "metadata": {},
   "source": [
    "## CRB - más positivo .49"
   ]
  },
  {
   "cell_type": "code",
   "execution_count": 38,
   "metadata": {},
   "outputs": [
    {
     "data": {
      "text/html": [
       "<div>\n",
       "<style scoped>\n",
       "    .dataframe tbody tr th:only-of-type {\n",
       "        vertical-align: middle;\n",
       "    }\n",
       "\n",
       "    .dataframe tbody tr th {\n",
       "        vertical-align: top;\n",
       "    }\n",
       "\n",
       "    .dataframe thead th {\n",
       "        text-align: right;\n",
       "    }\n",
       "</style>\n",
       "<table border=\"1\" class=\"dataframe\">\n",
       "  <thead>\n",
       "    <tr style=\"text-align: right;\">\n",
       "      <th></th>\n",
       "      <th>hora</th>\n",
       "      <th>date</th>\n",
       "      <th>area_league</th>\n",
       "      <th>team1</th>\n",
       "      <th>team2</th>\n",
       "      <th>team1_odds</th>\n",
       "      <th>draw_odds</th>\n",
       "      <th>team2_odds</th>\n",
       "      <th>objetivo</th>\n",
       "    </tr>\n",
       "  </thead>\n",
       "  <tbody>\n",
       "    <tr>\n",
       "      <th>141</th>\n",
       "      <td>00:30</td>\n",
       "      <td>2021-06-17</td>\n",
       "      <td>soccer/brazil_serie-a</td>\n",
       "      <td>Corinthians</td>\n",
       "      <td>Bragantino</td>\n",
       "      <td>2.57</td>\n",
       "      <td>3.03</td>\n",
       "      <td>2.98</td>\n",
       "      <td>FALLO-3-Corinthians-0.27</td>\n",
       "    </tr>\n",
       "    <tr>\n",
       "      <th>143</th>\n",
       "      <td>00:30</td>\n",
       "      <td>2021-06-17</td>\n",
       "      <td>soccer/brazil_serie-a</td>\n",
       "      <td>Corinthians</td>\n",
       "      <td>Bragantino</td>\n",
       "      <td>2.57</td>\n",
       "      <td>3.03</td>\n",
       "      <td>2.98</td>\n",
       "      <td>FALLO-2-Bragantino-0.16</td>\n",
       "    </tr>\n",
       "    <tr>\n",
       "      <th>142</th>\n",
       "      <td>23:00</td>\n",
       "      <td>2021-06-17</td>\n",
       "      <td>soccer/brazil_serie-a</td>\n",
       "      <td>Fluminense</td>\n",
       "      <td>Santos</td>\n",
       "      <td>2.07</td>\n",
       "      <td>3.30</td>\n",
       "      <td>3.71</td>\n",
       "      <td>FALLO-1-Fluminense-0.22</td>\n",
       "    </tr>\n",
       "  </tbody>\n",
       "</table>\n",
       "</div>"
      ],
      "text/plain": [
       "      hora        date            area_league        team1       team2  \\\n",
       "141  00:30  2021-06-17  soccer/brazil_serie-a  Corinthians  Bragantino   \n",
       "143  00:30  2021-06-17  soccer/brazil_serie-a  Corinthians  Bragantino   \n",
       "142  23:00  2021-06-17  soccer/brazil_serie-a   Fluminense      Santos   \n",
       "\n",
       "     team1_odds  draw_odds  team2_odds                  objetivo  \n",
       "141        2.57       3.03        2.98  FALLO-3-Corinthians-0.27  \n",
       "143        2.57       3.03        2.98   FALLO-2-Bragantino-0.16  \n",
       "142        2.07       3.30        3.71   FALLO-1-Fluminense-0.22  "
      ]
     },
     "execution_count": 38,
     "metadata": {},
     "output_type": "execute_result"
    }
   ],
   "source": [
    "df_prediccion = dsp.load_data(tbl=\"tbl_favorito_soccer_CRB\")\n",
    "dsp.daily_prediction(df_prediccion)"
   ]
  },
  {
   "cell_type": "markdown",
   "metadata": {},
   "source": [
    "### LIGA MX"
   ]
  },
  {
   "cell_type": "code",
   "execution_count": 39,
   "metadata": {},
   "outputs": [
    {
     "data": {
      "text/html": [
       "<div>\n",
       "<style scoped>\n",
       "    .dataframe tbody tr th:only-of-type {\n",
       "        vertical-align: middle;\n",
       "    }\n",
       "\n",
       "    .dataframe tbody tr th {\n",
       "        vertical-align: top;\n",
       "    }\n",
       "\n",
       "    .dataframe thead th {\n",
       "        text-align: right;\n",
       "    }\n",
       "</style>\n",
       "<table border=\"1\" class=\"dataframe\">\n",
       "  <thead>\n",
       "    <tr style=\"text-align: right;\">\n",
       "      <th></th>\n",
       "      <th>date</th>\n",
       "      <th>hora</th>\n",
       "      <th>sport</th>\n",
       "      <th>area</th>\n",
       "      <th>league</th>\n",
       "      <th>team1</th>\n",
       "      <th>team2</th>\n",
       "      <th>objetivo</th>\n",
       "      <th>outcome</th>\n",
       "      <th>odd</th>\n",
       "      <th>m_criterio</th>\n",
       "    </tr>\n",
       "  </thead>\n",
       "  <tbody>\n",
       "  </tbody>\n",
       "</table>\n",
       "</div>"
      ],
      "text/plain": [
       "Empty DataFrame\n",
       "Columns: [date, hora, sport, area, league, team1, team2, objetivo, outcome, odd, m_criterio]\n",
       "Index: []"
      ]
     },
     "execution_count": 39,
     "metadata": {},
     "output_type": "execute_result"
    }
   ],
   "source": [
    "df_prediccion = dsp.load_data(tbl=\"tbl_prediccion_machin_mx1\")\n",
    "dsp.daily_prediction_criterio(df_prediccion)"
   ]
  },
  {
   "cell_type": "markdown",
   "metadata": {},
   "source": [
    "### NFL"
   ]
  },
  {
   "cell_type": "code",
   "execution_count": 40,
   "metadata": {},
   "outputs": [
    {
     "data": {
      "text/html": [
       "<div>\n",
       "<style scoped>\n",
       "    .dataframe tbody tr th:only-of-type {\n",
       "        vertical-align: middle;\n",
       "    }\n",
       "\n",
       "    .dataframe tbody tr th {\n",
       "        vertical-align: top;\n",
       "    }\n",
       "\n",
       "    .dataframe thead th {\n",
       "        text-align: right;\n",
       "    }\n",
       "</style>\n",
       "<table border=\"1\" class=\"dataframe\">\n",
       "  <thead>\n",
       "    <tr style=\"text-align: right;\">\n",
       "      <th></th>\n",
       "      <th>date</th>\n",
       "      <th>hora</th>\n",
       "      <th>sport</th>\n",
       "      <th>area</th>\n",
       "      <th>league</th>\n",
       "      <th>team1</th>\n",
       "      <th>team2</th>\n",
       "      <th>objetivo</th>\n",
       "      <th>outcome</th>\n",
       "      <th>odd</th>\n",
       "      <th>m_criterio</th>\n",
       "    </tr>\n",
       "  </thead>\n",
       "  <tbody>\n",
       "  </tbody>\n",
       "</table>\n",
       "</div>"
      ],
      "text/plain": [
       "Empty DataFrame\n",
       "Columns: [date, hora, sport, area, league, team1, team2, objetivo, outcome, odd, m_criterio]\n",
       "Index: []"
      ]
     },
     "execution_count": 40,
     "metadata": {},
     "output_type": "execute_result"
    }
   ],
   "source": [
    "df_prediccion = dsp.load_data(tbl=\"tbl_prediccion_machin_nfl1\")\n",
    "dsp.daily_prediction_criterio(df_prediccion)"
   ]
  },
  {
   "cell_type": "markdown",
   "metadata": {},
   "source": [
    "### HOCKEY"
   ]
  },
  {
   "cell_type": "code",
   "execution_count": 41,
   "metadata": {},
   "outputs": [
    {
     "data": {
      "text/html": [
       "<div>\n",
       "<style scoped>\n",
       "    .dataframe tbody tr th:only-of-type {\n",
       "        vertical-align: middle;\n",
       "    }\n",
       "\n",
       "    .dataframe tbody tr th {\n",
       "        vertical-align: top;\n",
       "    }\n",
       "\n",
       "    .dataframe thead th {\n",
       "        text-align: right;\n",
       "    }\n",
       "</style>\n",
       "<table border=\"1\" class=\"dataframe\">\n",
       "  <thead>\n",
       "    <tr style=\"text-align: right;\">\n",
       "      <th></th>\n",
       "      <th>hora</th>\n",
       "      <th>date</th>\n",
       "      <th>area_league</th>\n",
       "      <th>team1</th>\n",
       "      <th>team2</th>\n",
       "      <th>team1_odds</th>\n",
       "      <th>draw_odds</th>\n",
       "      <th>team2_odds</th>\n",
       "      <th>objetivo</th>\n",
       "    </tr>\n",
       "  </thead>\n",
       "  <tbody>\n",
       "  </tbody>\n",
       "</table>\n",
       "</div>"
      ],
      "text/plain": [
       "Empty DataFrame\n",
       "Columns: [hora, date, area_league, team1, team2, team1_odds, draw_odds, team2_odds, objetivo]\n",
       "Index: []"
      ]
     },
     "execution_count": 41,
     "metadata": {},
     "output_type": "execute_result"
    }
   ],
   "source": [
    "df_prediccion = dsp.load_data(tbl=\"tbl_prediccion_machin_hockey\")\n",
    "dsp.daily_prediction(df_prediccion)"
   ]
  },
  {
   "cell_type": "markdown",
   "metadata": {},
   "source": [
    "### Daily predictions machin3."
   ]
  },
  {
   "cell_type": "code",
   "execution_count": 42,
   "metadata": {},
   "outputs": [
    {
     "data": {
      "text/html": [
       "<div>\n",
       "<style scoped>\n",
       "    .dataframe tbody tr th:only-of-type {\n",
       "        vertical-align: middle;\n",
       "    }\n",
       "\n",
       "    .dataframe tbody tr th {\n",
       "        vertical-align: top;\n",
       "    }\n",
       "\n",
       "    .dataframe thead th {\n",
       "        text-align: right;\n",
       "    }\n",
       "</style>\n",
       "<table border=\"1\" class=\"dataframe\">\n",
       "  <thead>\n",
       "    <tr style=\"text-align: right;\">\n",
       "      <th></th>\n",
       "      <th>hora</th>\n",
       "      <th>date</th>\n",
       "      <th>area_league</th>\n",
       "      <th>team1</th>\n",
       "      <th>team2</th>\n",
       "      <th>team1_odds</th>\n",
       "      <th>draw_odds</th>\n",
       "      <th>team2_odds</th>\n",
       "      <th>objetivo</th>\n",
       "    </tr>\n",
       "  </thead>\n",
       "  <tbody>\n",
       "    <tr>\n",
       "      <th>823</th>\n",
       "      <td>16:00</td>\n",
       "      <td>2021-06-17</td>\n",
       "      <td>/soccer/belarus/vysshaya-liga/fc-minsk-energet...</td>\n",
       "      <td>FC Minsk</td>\n",
       "      <td>Energetik-BGU</td>\n",
       "      <td>2.77</td>\n",
       "      <td>3.41</td>\n",
       "      <td>2.37</td>\n",
       "      <td>TEAM1</td>\n",
       "    </tr>\n",
       "    <tr>\n",
       "      <th>824</th>\n",
       "      <td>18:00</td>\n",
       "      <td>2021-06-17</td>\n",
       "      <td>/soccer/belarus/vysshaya-liga/neman-slavia-moz...</td>\n",
       "      <td>Neman</td>\n",
       "      <td>Slavia Mozyr</td>\n",
       "      <td>1.63</td>\n",
       "      <td>3.98</td>\n",
       "      <td>4.75</td>\n",
       "      <td>TEAM1</td>\n",
       "    </tr>\n",
       "  </tbody>\n",
       "</table>\n",
       "</div>"
      ],
      "text/plain": [
       "      hora        date                                        area_league  \\\n",
       "823  16:00  2021-06-17  /soccer/belarus/vysshaya-liga/fc-minsk-energet...   \n",
       "824  18:00  2021-06-17  /soccer/belarus/vysshaya-liga/neman-slavia-moz...   \n",
       "\n",
       "        team1          team2  team1_odds  draw_odds  team2_odds objetivo  \n",
       "823  FC Minsk  Energetik-BGU        2.77       3.41        2.37    TEAM1  \n",
       "824     Neman   Slavia Mozyr        1.63       3.98        4.75    TEAM1  "
      ]
     },
     "execution_count": 42,
     "metadata": {},
     "output_type": "execute_result"
    }
   ],
   "source": [
    "df_prediccion = dsp.load_data(tbl=\"tbl_prediccion_machin3\")\n",
    "dsp.daily_prediction(df_prediccion)"
   ]
  },
  {
   "cell_type": "markdown",
   "metadata": {},
   "source": [
    "### Daily predictions machin6  "
   ]
  },
  {
   "cell_type": "markdown",
   "metadata": {},
   "source": [
    "Objetivo > .50 TEAM1  | Objetivo < .50 TEAM2"
   ]
  },
  {
   "cell_type": "code",
   "execution_count": 43,
   "metadata": {},
   "outputs": [
    {
     "data": {
      "text/html": [
       "<div>\n",
       "<style scoped>\n",
       "    .dataframe tbody tr th:only-of-type {\n",
       "        vertical-align: middle;\n",
       "    }\n",
       "\n",
       "    .dataframe tbody tr th {\n",
       "        vertical-align: top;\n",
       "    }\n",
       "\n",
       "    .dataframe thead th {\n",
       "        text-align: right;\n",
       "    }\n",
       "</style>\n",
       "<table border=\"1\" class=\"dataframe\">\n",
       "  <thead>\n",
       "    <tr style=\"text-align: right;\">\n",
       "      <th></th>\n",
       "      <th>hora</th>\n",
       "      <th>date</th>\n",
       "      <th>area_league</th>\n",
       "      <th>team1</th>\n",
       "      <th>team2</th>\n",
       "      <th>team1_odds</th>\n",
       "      <th>draw_odds</th>\n",
       "      <th>team2_odds</th>\n",
       "      <th>objetivo</th>\n",
       "    </tr>\n",
       "  </thead>\n",
       "  <tbody>\n",
       "    <tr>\n",
       "      <th>8431</th>\n",
       "      <td>18:30</td>\n",
       "      <td>2021-06-17</td>\n",
       "      <td>/soccer/faroe-islands/premier-league/hb-torsha...</td>\n",
       "      <td>HB Torshavn</td>\n",
       "      <td>TB Tvoroyri</td>\n",
       "      <td>1.04</td>\n",
       "      <td>14.0</td>\n",
       "      <td>27.25</td>\n",
       "      <td>0.743166</td>\n",
       "    </tr>\n",
       "  </tbody>\n",
       "</table>\n",
       "</div>"
      ],
      "text/plain": [
       "       hora        date                                        area_league  \\\n",
       "8431  18:30  2021-06-17  /soccer/faroe-islands/premier-league/hb-torsha...   \n",
       "\n",
       "            team1        team2  team1_odds  draw_odds  team2_odds  objetivo  \n",
       "8431  HB Torshavn  TB Tvoroyri        1.04       14.0       27.25  0.743166  "
      ]
     },
     "execution_count": 43,
     "metadata": {},
     "output_type": "execute_result"
    }
   ],
   "source": [
    "df_prediccion = dsp.load_data(tbl=\"tbl_prediccion_machin6\")\n",
    "dp = dsp.daily_prediction(df_prediccion)\n",
    "dp.sort_values(by=['objetivo'],ascending=False)"
   ]
  },
  {
   "cell_type": "markdown",
   "metadata": {},
   "source": [
    "___"
   ]
  },
  {
   "cell_type": "markdown",
   "metadata": {},
   "source": [
    "## EXPERIMENTAL "
   ]
  },
  {
   "cell_type": "markdown",
   "metadata": {},
   "source": [
    "### Daily model 53"
   ]
  },
  {
   "cell_type": "code",
   "execution_count": 44,
   "metadata": {},
   "outputs": [
    {
     "data": {
      "text/html": [
       "<div>\n",
       "<style scoped>\n",
       "    .dataframe tbody tr th:only-of-type {\n",
       "        vertical-align: middle;\n",
       "    }\n",
       "\n",
       "    .dataframe tbody tr th {\n",
       "        vertical-align: top;\n",
       "    }\n",
       "\n",
       "    .dataframe thead th {\n",
       "        text-align: right;\n",
       "    }\n",
       "</style>\n",
       "<table border=\"1\" class=\"dataframe\">\n",
       "  <thead>\n",
       "    <tr style=\"text-align: right;\">\n",
       "      <th></th>\n",
       "      <th>hora</th>\n",
       "      <th>date</th>\n",
       "      <th>area_league</th>\n",
       "      <th>team1</th>\n",
       "      <th>team2</th>\n",
       "      <th>team1_odds</th>\n",
       "      <th>draw_odds</th>\n",
       "      <th>team2_odds</th>\n",
       "      <th>objetivo</th>\n",
       "    </tr>\n",
       "  </thead>\n",
       "  <tbody>\n",
       "  </tbody>\n",
       "</table>\n",
       "</div>"
      ],
      "text/plain": [
       "Empty DataFrame\n",
       "Columns: [hora, date, area_league, team1, team2, team1_odds, draw_odds, team2_odds, objetivo]\n",
       "Index: []"
      ]
     },
     "execution_count": 44,
     "metadata": {},
     "output_type": "execute_result"
    }
   ],
   "source": [
    "df_prediccion = dsp.load_data(tbl=\"tbl_prediccion_53\")\n",
    "dsp.daily_prediction(df_prediccion)"
   ]
  },
  {
   "cell_type": "code",
   "execution_count": 45,
   "metadata": {},
   "outputs": [
    {
     "data": {
      "text/html": [
       "<div>\n",
       "<style scoped>\n",
       "    .dataframe tbody tr th:only-of-type {\n",
       "        vertical-align: middle;\n",
       "    }\n",
       "\n",
       "    .dataframe tbody tr th {\n",
       "        vertical-align: top;\n",
       "    }\n",
       "\n",
       "    .dataframe thead th {\n",
       "        text-align: right;\n",
       "    }\n",
       "</style>\n",
       "<table border=\"1\" class=\"dataframe\">\n",
       "  <thead>\n",
       "    <tr style=\"text-align: right;\">\n",
       "      <th></th>\n",
       "      <th>hora</th>\n",
       "      <th>date</th>\n",
       "      <th>area_league</th>\n",
       "      <th>team1</th>\n",
       "      <th>team2</th>\n",
       "      <th>team1_odds</th>\n",
       "      <th>draw_odds</th>\n",
       "      <th>team2_odds</th>\n",
       "      <th>objetivo</th>\n",
       "    </tr>\n",
       "  </thead>\n",
       "  <tbody>\n",
       "    <tr>\n",
       "      <th>9809</th>\n",
       "      <td>20:00</td>\n",
       "      <td>2021-06-17</td>\n",
       "      <td>/soccer/brazil/serie-a/ceara-bahia-rijgiRRa/</td>\n",
       "      <td>Ceara</td>\n",
       "      <td>Bahia</td>\n",
       "      <td>2.68</td>\n",
       "      <td>3.00</td>\n",
       "      <td>2.87</td>\n",
       "      <td>TEAM1</td>\n",
       "    </tr>\n",
       "    <tr>\n",
       "      <th>9812</th>\n",
       "      <td>01:30</td>\n",
       "      <td>2021-06-17</td>\n",
       "      <td>/soccer/brazil/serie-a/esporte-clube-juventude...</td>\n",
       "      <td>Juventude</td>\n",
       "      <td>Palmeiras</td>\n",
       "      <td>5.21</td>\n",
       "      <td>3.57</td>\n",
       "      <td>1.71</td>\n",
       "      <td>TEAM1</td>\n",
       "    </tr>\n",
       "    <tr>\n",
       "      <th>9810</th>\n",
       "      <td>23:00</td>\n",
       "      <td>2021-06-17</td>\n",
       "      <td>/soccer/brazil/serie-a/fluminense-santos-xj7Aa...</td>\n",
       "      <td>Fluminense</td>\n",
       "      <td>Santos</td>\n",
       "      <td>2.07</td>\n",
       "      <td>3.30</td>\n",
       "      <td>3.71</td>\n",
       "      <td>TEAM1</td>\n",
       "    </tr>\n",
       "    <tr>\n",
       "      <th>9804</th>\n",
       "      <td>23:00</td>\n",
       "      <td>2021-06-17</td>\n",
       "      <td>/soccer/brazil/serie-b/londrina-botafogo-rj-va...</td>\n",
       "      <td>Londrina</td>\n",
       "      <td>Botafogo RJ</td>\n",
       "      <td>3.28</td>\n",
       "      <td>2.91</td>\n",
       "      <td>2.35</td>\n",
       "      <td>DRAW</td>\n",
       "    </tr>\n",
       "    <tr>\n",
       "      <th>9805</th>\n",
       "      <td>01:30</td>\n",
       "      <td>2021-06-17</td>\n",
       "      <td>/soccer/brazil/serie-b/ponte-preta-cruzeiro-Ya...</td>\n",
       "      <td>Ponte Preta</td>\n",
       "      <td>Cruzeiro</td>\n",
       "      <td>2.93</td>\n",
       "      <td>3.01</td>\n",
       "      <td>2.52</td>\n",
       "      <td>TEAM1</td>\n",
       "    </tr>\n",
       "  </tbody>\n",
       "</table>\n",
       "</div>"
      ],
      "text/plain": [
       "       hora        date                                        area_league  \\\n",
       "9809  20:00  2021-06-17       /soccer/brazil/serie-a/ceara-bahia-rijgiRRa/   \n",
       "9812  01:30  2021-06-17  /soccer/brazil/serie-a/esporte-clube-juventude...   \n",
       "9810  23:00  2021-06-17  /soccer/brazil/serie-a/fluminense-santos-xj7Aa...   \n",
       "9804  23:00  2021-06-17  /soccer/brazil/serie-b/londrina-botafogo-rj-va...   \n",
       "9805  01:30  2021-06-17  /soccer/brazil/serie-b/ponte-preta-cruzeiro-Ya...   \n",
       "\n",
       "            team1        team2  team1_odds  draw_odds  team2_odds objetivo  \n",
       "9809        Ceara        Bahia        2.68       3.00        2.87    TEAM1  \n",
       "9812    Juventude    Palmeiras        5.21       3.57        1.71    TEAM1  \n",
       "9810   Fluminense       Santos        2.07       3.30        3.71    TEAM1  \n",
       "9804     Londrina  Botafogo RJ        3.28       2.91        2.35     DRAW  \n",
       "9805  Ponte Preta     Cruzeiro        2.93       3.01        2.52    TEAM1  "
      ]
     },
     "execution_count": 45,
     "metadata": {},
     "output_type": "execute_result"
    }
   ],
   "source": [
    "df_prediccion = dsp.load_data(tbl=\"tbl_prediccion_50\")\n",
    "dsp.daily_prediction(df_prediccion)"
   ]
  },
  {
   "cell_type": "markdown",
   "metadata": {},
   "source": [
    "### Daily predictions machin4 EMPATE"
   ]
  },
  {
   "cell_type": "code",
   "execution_count": 46,
   "metadata": {},
   "outputs": [
    {
     "data": {
      "text/html": [
       "<div>\n",
       "<style scoped>\n",
       "    .dataframe tbody tr th:only-of-type {\n",
       "        vertical-align: middle;\n",
       "    }\n",
       "\n",
       "    .dataframe tbody tr th {\n",
       "        vertical-align: top;\n",
       "    }\n",
       "\n",
       "    .dataframe thead th {\n",
       "        text-align: right;\n",
       "    }\n",
       "</style>\n",
       "<table border=\"1\" class=\"dataframe\">\n",
       "  <thead>\n",
       "    <tr style=\"text-align: right;\">\n",
       "      <th></th>\n",
       "      <th>hora</th>\n",
       "      <th>date</th>\n",
       "      <th>area_league</th>\n",
       "      <th>team1</th>\n",
       "      <th>team2</th>\n",
       "      <th>team1_odds</th>\n",
       "      <th>draw_odds</th>\n",
       "      <th>team2_odds</th>\n",
       "      <th>objetivo</th>\n",
       "    </tr>\n",
       "  </thead>\n",
       "  <tbody>\n",
       "  </tbody>\n",
       "</table>\n",
       "</div>"
      ],
      "text/plain": [
       "Empty DataFrame\n",
       "Columns: [hora, date, area_league, team1, team2, team1_odds, draw_odds, team2_odds, objetivo]\n",
       "Index: []"
      ]
     },
     "execution_count": 46,
     "metadata": {},
     "output_type": "execute_result"
    }
   ],
   "source": [
    "df_prediccion = dsp.load_data(tbl=\"tbl_prediccion_machin4\")\n",
    "dsp.daily_prediction(df_prediccion)"
   ]
  },
  {
   "cell_type": "markdown",
   "metadata": {},
   "source": [
    "### Daily predictions machin5"
   ]
  },
  {
   "cell_type": "code",
   "execution_count": 47,
   "metadata": {},
   "outputs": [
    {
     "data": {
      "text/html": [
       "<div>\n",
       "<style scoped>\n",
       "    .dataframe tbody tr th:only-of-type {\n",
       "        vertical-align: middle;\n",
       "    }\n",
       "\n",
       "    .dataframe tbody tr th {\n",
       "        vertical-align: top;\n",
       "    }\n",
       "\n",
       "    .dataframe thead th {\n",
       "        text-align: right;\n",
       "    }\n",
       "</style>\n",
       "<table border=\"1\" class=\"dataframe\">\n",
       "  <thead>\n",
       "    <tr style=\"text-align: right;\">\n",
       "      <th></th>\n",
       "      <th>hora</th>\n",
       "      <th>date</th>\n",
       "      <th>area_league</th>\n",
       "      <th>team1</th>\n",
       "      <th>team2</th>\n",
       "      <th>team1_odds</th>\n",
       "      <th>draw_odds</th>\n",
       "      <th>team2_odds</th>\n",
       "      <th>objetivo</th>\n",
       "    </tr>\n",
       "  </thead>\n",
       "  <tbody>\n",
       "  </tbody>\n",
       "</table>\n",
       "</div>"
      ],
      "text/plain": [
       "Empty DataFrame\n",
       "Columns: [hora, date, area_league, team1, team2, team1_odds, draw_odds, team2_odds, objetivo]\n",
       "Index: []"
      ]
     },
     "execution_count": 47,
     "metadata": {},
     "output_type": "execute_result"
    }
   ],
   "source": [
    "df_prediccion = dsp.load_data(tbl=\"tbl_prediccion_machin5\")\n",
    "dsp.daily_prediction(df_prediccion)"
   ]
  },
  {
   "cell_type": "code",
   "execution_count": null,
   "metadata": {},
   "outputs": [],
   "source": []
  }
 ],
 "metadata": {
  "kernelspec": {
   "display_name": "Python 3",
   "language": "python",
   "name": "python3"
  },
  "language_info": {
   "codemirror_mode": {
    "name": "ipython",
    "version": 3
   },
   "file_extension": ".py",
   "mimetype": "text/x-python",
   "name": "python",
   "nbconvert_exporter": "python",
   "pygments_lexer": "ipython3",
   "version": "3.7.3"
  }
 },
 "nbformat": 4,
 "nbformat_minor": 2
}
