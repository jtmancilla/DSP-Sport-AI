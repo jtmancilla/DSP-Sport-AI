{
 "cells": [
  {
   "cell_type": "code",
   "execution_count": 1,
   "metadata": {},
   "outputs": [],
   "source": [
    "import os\n",
    "import pandas as pd\n",
    "import numpy as np\n",
    "import warnings\n",
    "warnings.filterwarnings('ignore')\n",
    "import datetime\n",
    "import dsp"
   ]
  },
  {
   "cell_type": "markdown",
   "metadata": {},
   "source": [
    "# Daily selection"
   ]
  },
  {
   "cell_type": "markdown",
   "metadata": {},
   "source": [
    "___"
   ]
  },
  {
   "cell_type": "code",
   "execution_count": 2,
   "metadata": {},
   "outputs": [
    {
     "data": {
      "text/html": [
       "<div>\n",
       "<style scoped>\n",
       "    .dataframe tbody tr th:only-of-type {\n",
       "        vertical-align: middle;\n",
       "    }\n",
       "\n",
       "    .dataframe tbody tr th {\n",
       "        vertical-align: top;\n",
       "    }\n",
       "\n",
       "    .dataframe thead th {\n",
       "        text-align: right;\n",
       "    }\n",
       "</style>\n",
       "<table border=\"1\" class=\"dataframe\">\n",
       "  <thead>\n",
       "    <tr style=\"text-align: right;\">\n",
       "      <th></th>\n",
       "      <th>date</th>\n",
       "      <th>hora</th>\n",
       "      <th>sport</th>\n",
       "      <th>area</th>\n",
       "      <th>league</th>\n",
       "      <th>team1</th>\n",
       "      <th>team2</th>\n",
       "      <th>objetivo</th>\n",
       "      <th>odd</th>\n",
       "      <th>m_criterio</th>\n",
       "    </tr>\n",
       "  </thead>\n",
       "  <tbody>\n",
       "    <tr>\n",
       "      <th>565</th>\n",
       "      <td>2021-03-24</td>\n",
       "      <td>12:00</td>\n",
       "      <td>soccer</td>\n",
       "      <td>russia</td>\n",
       "      <td>fnl</td>\n",
       "      <td>Shinnik Yaroslavl</td>\n",
       "      <td>Tomsk</td>\n",
       "      <td>X2</td>\n",
       "      <td>2.26</td>\n",
       "      <td>100.0</td>\n",
       "    </tr>\n",
       "    <tr>\n",
       "      <th>566</th>\n",
       "      <td>2021-03-24</td>\n",
       "      <td>12:00</td>\n",
       "      <td>soccer</td>\n",
       "      <td>russia</td>\n",
       "      <td>fnl</td>\n",
       "      <td>Akron Togliatti</td>\n",
       "      <td>Nizhny Novgorod</td>\n",
       "      <td>X2</td>\n",
       "      <td>1.70</td>\n",
       "      <td>100.0</td>\n",
       "    </tr>\n",
       "    <tr>\n",
       "      <th>567</th>\n",
       "      <td>2021-03-24</td>\n",
       "      <td>12:00</td>\n",
       "      <td>soccer</td>\n",
       "      <td>russia</td>\n",
       "      <td>fnl</td>\n",
       "      <td>Krasnodar 2</td>\n",
       "      <td>Yenisey</td>\n",
       "      <td>X2</td>\n",
       "      <td>2.53</td>\n",
       "      <td>100.0</td>\n",
       "    </tr>\n",
       "    <tr>\n",
       "      <th>564</th>\n",
       "      <td>2021-03-24</td>\n",
       "      <td>15:30</td>\n",
       "      <td>soccer</td>\n",
       "      <td>russia</td>\n",
       "      <td>fnl</td>\n",
       "      <td>Veles Moscow</td>\n",
       "      <td>FK Chayka</td>\n",
       "      <td>X2</td>\n",
       "      <td>3.24</td>\n",
       "      <td>100.0</td>\n",
       "    </tr>\n",
       "  </tbody>\n",
       "</table>\n",
       "</div>"
      ],
      "text/plain": [
       "           date   hora   sport    area league              team1  \\\n",
       "565  2021-03-24  12:00  soccer  russia    fnl  Shinnik Yaroslavl   \n",
       "566  2021-03-24  12:00  soccer  russia    fnl    Akron Togliatti   \n",
       "567  2021-03-24  12:00  soccer  russia    fnl        Krasnodar 2   \n",
       "564  2021-03-24  15:30  soccer  russia    fnl       Veles Moscow   \n",
       "\n",
       "               team2 objetivo   odd  m_criterio  \n",
       "565            Tomsk       X2  2.26       100.0  \n",
       "566  Nizhny Novgorod       X2  1.70       100.0  \n",
       "567          Yenisey       X2  2.53       100.0  \n",
       "564        FK Chayka       X2  3.24       100.0  "
      ]
     },
     "execution_count": 2,
     "metadata": {},
     "output_type": "execute_result"
    }
   ],
   "source": [
    "df_prediccion = dsp.load_data(tbl=\"tbl_prediccion_premium_magic\")\n",
    "dsp.daily_prediction_criterio(df_prediccion)"
   ]
  },
  {
   "cell_type": "markdown",
   "metadata": {},
   "source": [
    "### Gana Favorito en ODDs finales."
   ]
  },
  {
   "cell_type": "code",
   "execution_count": 3,
   "metadata": {},
   "outputs": [
    {
     "data": {
      "text/html": [
       "<div>\n",
       "<style scoped>\n",
       "    .dataframe tbody tr th:only-of-type {\n",
       "        vertical-align: middle;\n",
       "    }\n",
       "\n",
       "    .dataframe tbody tr th {\n",
       "        vertical-align: top;\n",
       "    }\n",
       "\n",
       "    .dataframe thead th {\n",
       "        text-align: right;\n",
       "    }\n",
       "</style>\n",
       "<table border=\"1\" class=\"dataframe\">\n",
       "  <thead>\n",
       "    <tr style=\"text-align: right;\">\n",
       "      <th></th>\n",
       "      <th>hora</th>\n",
       "      <th>date</th>\n",
       "      <th>area_league</th>\n",
       "      <th>team1</th>\n",
       "      <th>team2</th>\n",
       "      <th>team1_odds</th>\n",
       "      <th>draw_odds</th>\n",
       "      <th>team2_odds</th>\n",
       "      <th>objetivo</th>\n",
       "    </tr>\n",
       "  </thead>\n",
       "  <tbody>\n",
       "    <tr>\n",
       "      <th>100</th>\n",
       "      <td>00:00</td>\n",
       "      <td>2021-03-24</td>\n",
       "      <td>/basketball/usa/nba/miami-heat-phoenix-suns-p2...</td>\n",
       "      <td>Miami Heat</td>\n",
       "      <td>Phoenix Suns</td>\n",
       "      <td>2.07</td>\n",
       "      <td>0.0</td>\n",
       "      <td>1.8</td>\n",
       "      <td>0.475024</td>\n",
       "    </tr>\n",
       "  </tbody>\n",
       "</table>\n",
       "</div>"
      ],
      "text/plain": [
       "      hora        date                                        area_league  \\\n",
       "100  00:00  2021-03-24  /basketball/usa/nba/miami-heat-phoenix-suns-p2...   \n",
       "\n",
       "          team1         team2  team1_odds  draw_odds  team2_odds  objetivo  \n",
       "100  Miami Heat  Phoenix Suns        2.07        0.0         1.8  0.475024  "
      ]
     },
     "execution_count": 3,
     "metadata": {},
     "output_type": "execute_result"
    }
   ],
   "source": [
    "df_prediccion = dsp.load_data(tbl=\"tbl_prediccion_machin_inversos\")\n",
    "dsp.daily_prediction(df_prediccion)"
   ]
  },
  {
   "cell_type": "markdown",
   "metadata": {},
   "source": [
    "## GANA 1 si objetivo es mayor a 0.52, GANA 2 si es menor a 49 "
   ]
  },
  {
   "cell_type": "code",
   "execution_count": 4,
   "metadata": {},
   "outputs": [
    {
     "data": {
      "text/html": [
       "<div>\n",
       "<style scoped>\n",
       "    .dataframe tbody tr th:only-of-type {\n",
       "        vertical-align: middle;\n",
       "    }\n",
       "\n",
       "    .dataframe tbody tr th {\n",
       "        vertical-align: top;\n",
       "    }\n",
       "\n",
       "    .dataframe thead th {\n",
       "        text-align: right;\n",
       "    }\n",
       "</style>\n",
       "<table border=\"1\" class=\"dataframe\">\n",
       "  <thead>\n",
       "    <tr style=\"text-align: right;\">\n",
       "      <th></th>\n",
       "      <th>hora</th>\n",
       "      <th>date</th>\n",
       "      <th>area_league</th>\n",
       "      <th>team1</th>\n",
       "      <th>team2</th>\n",
       "      <th>team1_odds</th>\n",
       "      <th>draw_odds</th>\n",
       "      <th>team2_odds</th>\n",
       "      <th>objetivo</th>\n",
       "    </tr>\n",
       "  </thead>\n",
       "  <tbody>\n",
       "  </tbody>\n",
       "</table>\n",
       "</div>"
      ],
      "text/plain": [
       "Empty DataFrame\n",
       "Columns: [hora, date, area_league, team1, team2, team1_odds, draw_odds, team2_odds, objetivo]\n",
       "Index: []"
      ]
     },
     "execution_count": 4,
     "metadata": {},
     "output_type": "execute_result"
    }
   ],
   "source": [
    "df_prediccion = dsp.load_data(tbl=\"tbl_prediccion_machin6_glicko\")\n",
    "dsp.daily_prediction(df_prediccion)"
   ]
  },
  {
   "cell_type": "markdown",
   "metadata": {},
   "source": [
    "### Premium"
   ]
  },
  {
   "cell_type": "code",
   "execution_count": 5,
   "metadata": {},
   "outputs": [
    {
     "data": {
      "text/html": [
       "<div>\n",
       "<style scoped>\n",
       "    .dataframe tbody tr th:only-of-type {\n",
       "        vertical-align: middle;\n",
       "    }\n",
       "\n",
       "    .dataframe tbody tr th {\n",
       "        vertical-align: top;\n",
       "    }\n",
       "\n",
       "    .dataframe thead th {\n",
       "        text-align: right;\n",
       "    }\n",
       "</style>\n",
       "<table border=\"1\" class=\"dataframe\">\n",
       "  <thead>\n",
       "    <tr style=\"text-align: right;\">\n",
       "      <th></th>\n",
       "      <th>date</th>\n",
       "      <th>hora</th>\n",
       "      <th>sport</th>\n",
       "      <th>area</th>\n",
       "      <th>league</th>\n",
       "      <th>team1</th>\n",
       "      <th>team2</th>\n",
       "      <th>objetivo</th>\n",
       "      <th>outcome</th>\n",
       "      <th>odd</th>\n",
       "      <th>m_criterio</th>\n",
       "    </tr>\n",
       "  </thead>\n",
       "  <tbody>\n",
       "    <tr>\n",
       "      <th>1065</th>\n",
       "      <td>2021-03-24</td>\n",
       "      <td>12:00</td>\n",
       "      <td>soccer</td>\n",
       "      <td>russia</td>\n",
       "      <td>fnl</td>\n",
       "      <td>Shinnik Yaroslavl</td>\n",
       "      <td>Tomsk</td>\n",
       "      <td>X2</td>\n",
       "      <td>1.000000</td>\n",
       "      <td>2.26</td>\n",
       "      <td>100</td>\n",
       "    </tr>\n",
       "    <tr>\n",
       "      <th>1066</th>\n",
       "      <td>2021-03-24</td>\n",
       "      <td>12:00</td>\n",
       "      <td>soccer</td>\n",
       "      <td>russia</td>\n",
       "      <td>fnl</td>\n",
       "      <td>Akron Togliatti</td>\n",
       "      <td>Nizhny Novgorod</td>\n",
       "      <td>X2</td>\n",
       "      <td>1.000000</td>\n",
       "      <td>1.70</td>\n",
       "      <td>100</td>\n",
       "    </tr>\n",
       "    <tr>\n",
       "      <th>1067</th>\n",
       "      <td>2021-03-24</td>\n",
       "      <td>12:00</td>\n",
       "      <td>soccer</td>\n",
       "      <td>russia</td>\n",
       "      <td>fnl</td>\n",
       "      <td>Krasnodar 2</td>\n",
       "      <td>Yenisey</td>\n",
       "      <td>X2</td>\n",
       "      <td>1.000000</td>\n",
       "      <td>2.53</td>\n",
       "      <td>100</td>\n",
       "    </tr>\n",
       "    <tr>\n",
       "      <th>1064</th>\n",
       "      <td>2021-03-24</td>\n",
       "      <td>15:30</td>\n",
       "      <td>soccer</td>\n",
       "      <td>russia</td>\n",
       "      <td>fnl</td>\n",
       "      <td>Veles Moscow</td>\n",
       "      <td>FK Chayka</td>\n",
       "      <td>X2</td>\n",
       "      <td>1.000000</td>\n",
       "      <td>3.24</td>\n",
       "      <td>100</td>\n",
       "    </tr>\n",
       "    <tr>\n",
       "      <th>1068</th>\n",
       "      <td>2021-03-24</td>\n",
       "      <td>02:00</td>\n",
       "      <td>basketball</td>\n",
       "      <td>usa</td>\n",
       "      <td>nba</td>\n",
       "      <td>Golden State Warriors</td>\n",
       "      <td>Philadelphia 76ers</td>\n",
       "      <td>OVER</td>\n",
       "      <td>0.686089</td>\n",
       "      <td>1.90</td>\n",
       "      <td>100</td>\n",
       "    </tr>\n",
       "  </tbody>\n",
       "</table>\n",
       "</div>"
      ],
      "text/plain": [
       "            date   hora       sport    area league                  team1  \\\n",
       "1065  2021-03-24  12:00      soccer  russia    fnl      Shinnik Yaroslavl   \n",
       "1066  2021-03-24  12:00      soccer  russia    fnl        Akron Togliatti   \n",
       "1067  2021-03-24  12:00      soccer  russia    fnl            Krasnodar 2   \n",
       "1064  2021-03-24  15:30      soccer  russia    fnl           Veles Moscow   \n",
       "1068  2021-03-24  02:00  basketball     usa    nba  Golden State Warriors   \n",
       "\n",
       "                   team2 objetivo   outcome   odd  m_criterio  \n",
       "1065               Tomsk       X2  1.000000  2.26         100  \n",
       "1066     Nizhny Novgorod       X2  1.000000  1.70         100  \n",
       "1067             Yenisey       X2  1.000000  2.53         100  \n",
       "1064           FK Chayka       X2  1.000000  3.24         100  \n",
       "1068  Philadelphia 76ers     OVER  0.686089  1.90         100  "
      ]
     },
     "execution_count": 5,
     "metadata": {},
     "output_type": "execute_result"
    }
   ],
   "source": [
    "df_prediccion = dsp.load_data(tbl=\"tbl_prediccion_premium\")\n",
    "dsp.daily_prediction_criterio(df_prediccion)"
   ]
  },
  {
   "cell_type": "markdown",
   "metadata": {},
   "source": [
    "### Criterio"
   ]
  },
  {
   "cell_type": "code",
   "execution_count": 6,
   "metadata": {},
   "outputs": [
    {
     "data": {
      "text/html": [
       "<div>\n",
       "<style scoped>\n",
       "    .dataframe tbody tr th:only-of-type {\n",
       "        vertical-align: middle;\n",
       "    }\n",
       "\n",
       "    .dataframe tbody tr th {\n",
       "        vertical-align: top;\n",
       "    }\n",
       "\n",
       "    .dataframe thead th {\n",
       "        text-align: right;\n",
       "    }\n",
       "</style>\n",
       "<table border=\"1\" class=\"dataframe\">\n",
       "  <thead>\n",
       "    <tr style=\"text-align: right;\">\n",
       "      <th></th>\n",
       "      <th>date</th>\n",
       "      <th>hora</th>\n",
       "      <th>sport</th>\n",
       "      <th>area</th>\n",
       "      <th>league</th>\n",
       "      <th>team1</th>\n",
       "      <th>team2</th>\n",
       "      <th>objetivo</th>\n",
       "      <th>odd</th>\n",
       "      <th>m_criterio</th>\n",
       "    </tr>\n",
       "  </thead>\n",
       "  <tbody>\n",
       "    <tr>\n",
       "      <th>1184</th>\n",
       "      <td>2021-03-24</td>\n",
       "      <td>12:00</td>\n",
       "      <td>soccer</td>\n",
       "      <td>russia</td>\n",
       "      <td>fnl</td>\n",
       "      <td>F. Voronezh</td>\n",
       "      <td>Omsk</td>\n",
       "      <td>TEAM1</td>\n",
       "      <td>1.56</td>\n",
       "      <td>272</td>\n",
       "    </tr>\n",
       "    <tr>\n",
       "      <th>1185</th>\n",
       "      <td>2021-03-24</td>\n",
       "      <td>14:30</td>\n",
       "      <td>soccer</td>\n",
       "      <td>russia</td>\n",
       "      <td>fnl</td>\n",
       "      <td>Volgar-Astrakhan</td>\n",
       "      <td>D. Bryansk</td>\n",
       "      <td>TEAM1</td>\n",
       "      <td>1.51</td>\n",
       "      <td>233</td>\n",
       "    </tr>\n",
       "    <tr>\n",
       "      <th>1187</th>\n",
       "      <td>2021-03-24</td>\n",
       "      <td>15:30</td>\n",
       "      <td>soccer</td>\n",
       "      <td>russia</td>\n",
       "      <td>fnl</td>\n",
       "      <td>Veles Moscow</td>\n",
       "      <td>FK Chayka</td>\n",
       "      <td>TEAM1</td>\n",
       "      <td>2.26</td>\n",
       "      <td>172</td>\n",
       "    </tr>\n",
       "    <tr>\n",
       "      <th>1186</th>\n",
       "      <td>2021-03-24</td>\n",
       "      <td>13:00</td>\n",
       "      <td>soccer</td>\n",
       "      <td>tunisia</td>\n",
       "      <td>ligue-professionnelle-1</td>\n",
       "      <td>Etoile Sahel</td>\n",
       "      <td>Bizertin</td>\n",
       "      <td>TEAM1</td>\n",
       "      <td>1.46</td>\n",
       "      <td>185</td>\n",
       "    </tr>\n",
       "    <tr>\n",
       "      <th>1188</th>\n",
       "      <td>2021-03-24</td>\n",
       "      <td>00:30</td>\n",
       "      <td>hockey</td>\n",
       "      <td>usa</td>\n",
       "      <td>nhl</td>\n",
       "      <td>Dallas Stars</td>\n",
       "      <td>Tampa Bay Lightning</td>\n",
       "      <td>TEAM2</td>\n",
       "      <td>1.92</td>\n",
       "      <td>137</td>\n",
       "    </tr>\n",
       "  </tbody>\n",
       "</table>\n",
       "</div>"
      ],
      "text/plain": [
       "            date   hora   sport     area                   league  \\\n",
       "1184  2021-03-24  12:00  soccer   russia                      fnl   \n",
       "1185  2021-03-24  14:30  soccer   russia                      fnl   \n",
       "1187  2021-03-24  15:30  soccer   russia                      fnl   \n",
       "1186  2021-03-24  13:00  soccer  tunisia  ligue-professionnelle-1   \n",
       "1188  2021-03-24  00:30  hockey      usa                      nhl   \n",
       "\n",
       "                 team1                team2 objetivo   odd  m_criterio  \n",
       "1184       F. Voronezh                 Omsk    TEAM1  1.56         272  \n",
       "1185  Volgar-Astrakhan           D. Bryansk    TEAM1  1.51         233  \n",
       "1187      Veles Moscow            FK Chayka    TEAM1  2.26         172  \n",
       "1186      Etoile Sahel             Bizertin    TEAM1  1.46         185  \n",
       "1188      Dallas Stars  Tampa Bay Lightning    TEAM2  1.92         137  "
      ]
     },
     "execution_count": 6,
     "metadata": {},
     "output_type": "execute_result"
    }
   ],
   "source": [
    "df_prediccion = dsp.load_data(tbl=\"tbl_prediccion_machinTAN_criterio\")\n",
    "dsp.daily_prediction_criterio(df_prediccion)"
   ]
  },
  {
   "cell_type": "markdown",
   "metadata": {},
   "source": [
    "### TAN!! SPECIAL SELECTION"
   ]
  },
  {
   "cell_type": "code",
   "execution_count": 7,
   "metadata": {},
   "outputs": [
    {
     "data": {
      "text/html": [
       "<div>\n",
       "<style scoped>\n",
       "    .dataframe tbody tr th:only-of-type {\n",
       "        vertical-align: middle;\n",
       "    }\n",
       "\n",
       "    .dataframe tbody tr th {\n",
       "        vertical-align: top;\n",
       "    }\n",
       "\n",
       "    .dataframe thead th {\n",
       "        text-align: right;\n",
       "    }\n",
       "</style>\n",
       "<table border=\"1\" class=\"dataframe\">\n",
       "  <thead>\n",
       "    <tr style=\"text-align: right;\">\n",
       "      <th></th>\n",
       "      <th>hora</th>\n",
       "      <th>date</th>\n",
       "      <th>area_league</th>\n",
       "      <th>team1</th>\n",
       "      <th>team2</th>\n",
       "      <th>team1_odds</th>\n",
       "      <th>draw_odds</th>\n",
       "      <th>team2_odds</th>\n",
       "      <th>objetivo</th>\n",
       "    </tr>\n",
       "  </thead>\n",
       "  <tbody>\n",
       "  </tbody>\n",
       "</table>\n",
       "</div>"
      ],
      "text/plain": [
       "Empty DataFrame\n",
       "Columns: [hora, date, area_league, team1, team2, team1_odds, draw_odds, team2_odds, objetivo]\n",
       "Index: []"
      ]
     },
     "execution_count": 7,
     "metadata": {},
     "output_type": "execute_result"
    }
   ],
   "source": [
    "df_prediccion = dsp.load_data(tbl=\"tbl_prediccion_machinTAN\")\n",
    "dsp.daily_prediction(df_prediccion)"
   ]
  },
  {
   "cell_type": "markdown",
   "metadata": {},
   "source": [
    "___"
   ]
  },
  {
   "cell_type": "code",
   "execution_count": 8,
   "metadata": {},
   "outputs": [
    {
     "data": {
      "text/html": [
       "<div>\n",
       "<style scoped>\n",
       "    .dataframe tbody tr th:only-of-type {\n",
       "        vertical-align: middle;\n",
       "    }\n",
       "\n",
       "    .dataframe tbody tr th {\n",
       "        vertical-align: top;\n",
       "    }\n",
       "\n",
       "    .dataframe thead th {\n",
       "        text-align: right;\n",
       "    }\n",
       "</style>\n",
       "<table border=\"1\" class=\"dataframe\">\n",
       "  <thead>\n",
       "    <tr style=\"text-align: right;\">\n",
       "      <th></th>\n",
       "      <th>hora</th>\n",
       "      <th>date</th>\n",
       "      <th>area_league</th>\n",
       "      <th>team1</th>\n",
       "      <th>team2</th>\n",
       "      <th>team1_odds</th>\n",
       "      <th>draw_odds</th>\n",
       "      <th>team2_odds</th>\n",
       "      <th>objetivo</th>\n",
       "    </tr>\n",
       "  </thead>\n",
       "  <tbody>\n",
       "    <tr>\n",
       "      <th>1347</th>\n",
       "      <td>12:00</td>\n",
       "      <td>2021-03-24</td>\n",
       "      <td>/soccer/russia/fnl/f-voronezh-irtysh-omsk-Miht...</td>\n",
       "      <td>F. Voronezh</td>\n",
       "      <td>Omsk</td>\n",
       "      <td>1.56</td>\n",
       "      <td>3.62</td>\n",
       "      <td>6.21</td>\n",
       "      <td>TEAM1</td>\n",
       "    </tr>\n",
       "    <tr>\n",
       "      <th>1348</th>\n",
       "      <td>14:30</td>\n",
       "      <td>2021-03-24</td>\n",
       "      <td>/soccer/russia/fnl/fc-volgar-astrakhan-d-bryan...</td>\n",
       "      <td>Volgar-Astrakhan</td>\n",
       "      <td>D. Bryansk</td>\n",
       "      <td>1.51</td>\n",
       "      <td>3.88</td>\n",
       "      <td>6.48</td>\n",
       "      <td>TEAM1</td>\n",
       "    </tr>\n",
       "    <tr>\n",
       "      <th>1349</th>\n",
       "      <td>13:00</td>\n",
       "      <td>2021-03-24</td>\n",
       "      <td>/soccer/tunisia/ligue-professionnelle-1/etoile...</td>\n",
       "      <td>Etoile Sahel</td>\n",
       "      <td>Bizertin</td>\n",
       "      <td>1.46</td>\n",
       "      <td>3.68</td>\n",
       "      <td>6.63</td>\n",
       "      <td>TEAM1</td>\n",
       "    </tr>\n",
       "  </tbody>\n",
       "</table>\n",
       "</div>"
      ],
      "text/plain": [
       "       hora        date                                        area_league  \\\n",
       "1347  12:00  2021-03-24  /soccer/russia/fnl/f-voronezh-irtysh-omsk-Miht...   \n",
       "1348  14:30  2021-03-24  /soccer/russia/fnl/fc-volgar-astrakhan-d-bryan...   \n",
       "1349  13:00  2021-03-24  /soccer/tunisia/ligue-professionnelle-1/etoile...   \n",
       "\n",
       "                 team1       team2  team1_odds  draw_odds  team2_odds objetivo  \n",
       "1347       F. Voronezh        Omsk        1.56       3.62        6.21    TEAM1  \n",
       "1348  Volgar-Astrakhan  D. Bryansk        1.51       3.88        6.48    TEAM1  \n",
       "1349      Etoile Sahel    Bizertin        1.46       3.68        6.63    TEAM1  "
      ]
     },
     "execution_count": 8,
     "metadata": {},
     "output_type": "execute_result"
    }
   ],
   "source": [
    "df_prediccion = dsp.load_data(tbl=\"tbl_prediccion_machinTAN11\")\n",
    "dsp.daily_prediction(df_prediccion)"
   ]
  },
  {
   "cell_type": "code",
   "execution_count": 9,
   "metadata": {},
   "outputs": [
    {
     "data": {
      "text/html": [
       "<div>\n",
       "<style scoped>\n",
       "    .dataframe tbody tr th:only-of-type {\n",
       "        vertical-align: middle;\n",
       "    }\n",
       "\n",
       "    .dataframe tbody tr th {\n",
       "        vertical-align: top;\n",
       "    }\n",
       "\n",
       "    .dataframe thead th {\n",
       "        text-align: right;\n",
       "    }\n",
       "</style>\n",
       "<table border=\"1\" class=\"dataframe\">\n",
       "  <thead>\n",
       "    <tr style=\"text-align: right;\">\n",
       "      <th></th>\n",
       "      <th>date</th>\n",
       "      <th>hora</th>\n",
       "      <th>sport</th>\n",
       "      <th>area</th>\n",
       "      <th>league</th>\n",
       "      <th>team1</th>\n",
       "      <th>team2</th>\n",
       "      <th>objetivo</th>\n",
       "      <th>odd</th>\n",
       "      <th>m_criterio</th>\n",
       "    </tr>\n",
       "  </thead>\n",
       "  <tbody>\n",
       "  </tbody>\n",
       "</table>\n",
       "</div>"
      ],
      "text/plain": [
       "Empty DataFrame\n",
       "Columns: [date, hora, sport, area, league, team1, team2, objetivo, odd, m_criterio]\n",
       "Index: []"
      ]
     },
     "execution_count": 9,
     "metadata": {},
     "output_type": "execute_result"
    }
   ],
   "source": [
    "df_prediccion = dsp.load_data(tbl=\"tbl_prediccion_machinTAN_criterio2\")\n",
    "dsp.daily_prediction_criterio(df_prediccion)"
   ]
  },
  {
   "cell_type": "code",
   "execution_count": 10,
   "metadata": {},
   "outputs": [
    {
     "data": {
      "text/html": [
       "<div>\n",
       "<style scoped>\n",
       "    .dataframe tbody tr th:only-of-type {\n",
       "        vertical-align: middle;\n",
       "    }\n",
       "\n",
       "    .dataframe tbody tr th {\n",
       "        vertical-align: top;\n",
       "    }\n",
       "\n",
       "    .dataframe thead th {\n",
       "        text-align: right;\n",
       "    }\n",
       "</style>\n",
       "<table border=\"1\" class=\"dataframe\">\n",
       "  <thead>\n",
       "    <tr style=\"text-align: right;\">\n",
       "      <th></th>\n",
       "      <th>date</th>\n",
       "      <th>hora</th>\n",
       "      <th>sport</th>\n",
       "      <th>area</th>\n",
       "      <th>league</th>\n",
       "      <th>team1</th>\n",
       "      <th>team2</th>\n",
       "      <th>objetivo</th>\n",
       "      <th>odd</th>\n",
       "      <th>m_criterio</th>\n",
       "    </tr>\n",
       "  </thead>\n",
       "  <tbody>\n",
       "  </tbody>\n",
       "</table>\n",
       "</div>"
      ],
      "text/plain": [
       "Empty DataFrame\n",
       "Columns: [date, hora, sport, area, league, team1, team2, objetivo, odd, m_criterio]\n",
       "Index: []"
      ]
     },
     "execution_count": 10,
     "metadata": {},
     "output_type": "execute_result"
    }
   ],
   "source": [
    "df_prediccion = dsp.load_data(tbl=\"tbl_prediccion_machinTAN_criterio3\")\n",
    "dsp.daily_prediction_criterio(df_prediccion)"
   ]
  },
  {
   "cell_type": "markdown",
   "metadata": {},
   "source": [
    "### OVER UNDER"
   ]
  },
  {
   "cell_type": "code",
   "execution_count": 11,
   "metadata": {},
   "outputs": [
    {
     "data": {
      "text/html": [
       "<div>\n",
       "<style scoped>\n",
       "    .dataframe tbody tr th:only-of-type {\n",
       "        vertical-align: middle;\n",
       "    }\n",
       "\n",
       "    .dataframe tbody tr th {\n",
       "        vertical-align: top;\n",
       "    }\n",
       "\n",
       "    .dataframe thead th {\n",
       "        text-align: right;\n",
       "    }\n",
       "</style>\n",
       "<table border=\"1\" class=\"dataframe\">\n",
       "  <thead>\n",
       "    <tr style=\"text-align: right;\">\n",
       "      <th></th>\n",
       "      <th>date</th>\n",
       "      <th>hora</th>\n",
       "      <th>sport</th>\n",
       "      <th>area</th>\n",
       "      <th>league</th>\n",
       "      <th>team1</th>\n",
       "      <th>team2</th>\n",
       "      <th>objetivo</th>\n",
       "      <th>odd</th>\n",
       "      <th>criterio</th>\n",
       "      <th>outcome</th>\n",
       "    </tr>\n",
       "  </thead>\n",
       "  <tbody>\n",
       "    <tr>\n",
       "      <th>1091</th>\n",
       "      <td>2021-03-24</td>\n",
       "      <td>00:00</td>\n",
       "      <td>basketball</td>\n",
       "      <td>usa</td>\n",
       "      <td>nba</td>\n",
       "      <td>Miami Heat</td>\n",
       "      <td>Phoenix Suns</td>\n",
       "      <td>219.5</td>\n",
       "      <td>1.56</td>\n",
       "      <td>100</td>\n",
       "      <td>0.515226</td>\n",
       "    </tr>\n",
       "    <tr>\n",
       "      <th>1092</th>\n",
       "      <td>2021-03-24</td>\n",
       "      <td>02:00</td>\n",
       "      <td>basketball</td>\n",
       "      <td>usa</td>\n",
       "      <td>nba</td>\n",
       "      <td>Golden State Warriors</td>\n",
       "      <td>Philadelphia 76ers</td>\n",
       "      <td>224.0</td>\n",
       "      <td>1.56</td>\n",
       "      <td>100</td>\n",
       "      <td>0.686089</td>\n",
       "    </tr>\n",
       "    <tr>\n",
       "      <th>1093</th>\n",
       "      <td>2021-03-24</td>\n",
       "      <td>02:00</td>\n",
       "      <td>basketball</td>\n",
       "      <td>usa</td>\n",
       "      <td>nba</td>\n",
       "      <td>Portland Trail Blazers</td>\n",
       "      <td>Brooklyn Nets</td>\n",
       "      <td>236.5</td>\n",
       "      <td>1.59</td>\n",
       "      <td>100</td>\n",
       "      <td>0.441888</td>\n",
       "    </tr>\n",
       "    <tr>\n",
       "      <th>1094</th>\n",
       "      <td>2021-03-24</td>\n",
       "      <td>02:00</td>\n",
       "      <td>hockey</td>\n",
       "      <td>usa</td>\n",
       "      <td>nhl</td>\n",
       "      <td>Arizona Coyotes</td>\n",
       "      <td>Colorado Avalanche</td>\n",
       "      <td>6.5</td>\n",
       "      <td>1.40</td>\n",
       "      <td>100</td>\n",
       "      <td>0.479952</td>\n",
       "    </tr>\n",
       "    <tr>\n",
       "      <th>1095</th>\n",
       "      <td>2021-03-24</td>\n",
       "      <td>21:00</td>\n",
       "      <td>hockey</td>\n",
       "      <td>usa</td>\n",
       "      <td>nhl</td>\n",
       "      <td>Ottawa Senators</td>\n",
       "      <td>Calgary Flames</td>\n",
       "      <td>7.0</td>\n",
       "      <td>1.41</td>\n",
       "      <td>100</td>\n",
       "      <td>0.542247</td>\n",
       "    </tr>\n",
       "    <tr>\n",
       "      <th>1096</th>\n",
       "      <td>2021-03-24</td>\n",
       "      <td>23:30</td>\n",
       "      <td>hockey</td>\n",
       "      <td>usa</td>\n",
       "      <td>nhl</td>\n",
       "      <td>Montreal Canadiens</td>\n",
       "      <td>Edmonton Oilers</td>\n",
       "      <td>7.0</td>\n",
       "      <td>1.42</td>\n",
       "      <td>100</td>\n",
       "      <td>0.454606</td>\n",
       "    </tr>\n",
       "  </tbody>\n",
       "</table>\n",
       "</div>"
      ],
      "text/plain": [
       "            date   hora       sport area league                   team1  \\\n",
       "1091  2021-03-24  00:00  basketball  usa    nba              Miami Heat   \n",
       "1092  2021-03-24  02:00  basketball  usa    nba   Golden State Warriors   \n",
       "1093  2021-03-24  02:00  basketball  usa    nba  Portland Trail Blazers   \n",
       "1094  2021-03-24  02:00      hockey  usa    nhl         Arizona Coyotes   \n",
       "1095  2021-03-24  21:00      hockey  usa    nhl         Ottawa Senators   \n",
       "1096  2021-03-24  23:30      hockey  usa    nhl      Montreal Canadiens   \n",
       "\n",
       "                   team2  objetivo   odd  criterio   outcome  \n",
       "1091        Phoenix Suns     219.5  1.56       100  0.515226  \n",
       "1092  Philadelphia 76ers     224.0  1.56       100  0.686089  \n",
       "1093       Brooklyn Nets     236.5  1.59       100  0.441888  \n",
       "1094  Colorado Avalanche       6.5  1.40       100  0.479952  \n",
       "1095      Calgary Flames       7.0  1.41       100  0.542247  \n",
       "1096     Edmonton Oilers       7.0  1.42       100  0.454606  "
      ]
     },
     "execution_count": 11,
     "metadata": {},
     "output_type": "execute_result"
    }
   ],
   "source": [
    "df_prediccion = dsp.load_data(tbl=\"tbl_prediccion_base1\")\n",
    "dsp.daily_prediction_criterio(df_prediccion)"
   ]
  },
  {
   "cell_type": "markdown",
   "metadata": {},
   "source": [
    "## NBA"
   ]
  },
  {
   "cell_type": "code",
   "execution_count": 12,
   "metadata": {},
   "outputs": [
    {
     "data": {
      "text/html": [
       "<div>\n",
       "<style scoped>\n",
       "    .dataframe tbody tr th:only-of-type {\n",
       "        vertical-align: middle;\n",
       "    }\n",
       "\n",
       "    .dataframe tbody tr th {\n",
       "        vertical-align: top;\n",
       "    }\n",
       "\n",
       "    .dataframe thead th {\n",
       "        text-align: right;\n",
       "    }\n",
       "</style>\n",
       "<table border=\"1\" class=\"dataframe\">\n",
       "  <thead>\n",
       "    <tr style=\"text-align: right;\">\n",
       "      <th></th>\n",
       "      <th>hora</th>\n",
       "      <th>date</th>\n",
       "      <th>area_league</th>\n",
       "      <th>team1</th>\n",
       "      <th>team2</th>\n",
       "      <th>team1_odds</th>\n",
       "      <th>draw_odds</th>\n",
       "      <th>team2_odds</th>\n",
       "      <th>objetivo</th>\n",
       "    </tr>\n",
       "  </thead>\n",
       "  <tbody>\n",
       "    <tr>\n",
       "      <th>538</th>\n",
       "      <td>02:00</td>\n",
       "      <td>2021-03-24</td>\n",
       "      <td>/basketball/usa/nba/golden-state-warriors-phil...</td>\n",
       "      <td>Golden State Warriors</td>\n",
       "      <td>Philadelphia 76ers</td>\n",
       "      <td>2.48</td>\n",
       "      <td>0</td>\n",
       "      <td>1.57</td>\n",
       "      <td>0.417943</td>\n",
       "    </tr>\n",
       "    <tr>\n",
       "      <th>540</th>\n",
       "      <td>23:00</td>\n",
       "      <td>2021-03-24</td>\n",
       "      <td>/basketball/usa/nba/indiana-pacers-detroit-pis...</td>\n",
       "      <td>Indiana Pacers</td>\n",
       "      <td>Detroit Pistons</td>\n",
       "      <td>1.36</td>\n",
       "      <td>0</td>\n",
       "      <td>3.35</td>\n",
       "      <td>0.623777</td>\n",
       "    </tr>\n",
       "    <tr>\n",
       "      <th>537</th>\n",
       "      <td>00:00</td>\n",
       "      <td>2021-03-24</td>\n",
       "      <td>/basketball/usa/nba/miami-heat-phoenix-suns-p2...</td>\n",
       "      <td>Miami Heat</td>\n",
       "      <td>Phoenix Suns</td>\n",
       "      <td>2.07</td>\n",
       "      <td>0</td>\n",
       "      <td>1.80</td>\n",
       "      <td>0.475024</td>\n",
       "    </tr>\n",
       "    <tr>\n",
       "      <th>541</th>\n",
       "      <td>23:30</td>\n",
       "      <td>2021-03-24</td>\n",
       "      <td>/basketball/usa/nba/milwaukee-bucks-boston-cel...</td>\n",
       "      <td>Milwaukee Bucks</td>\n",
       "      <td>Boston Celtics</td>\n",
       "      <td>1.50</td>\n",
       "      <td>0</td>\n",
       "      <td>2.75</td>\n",
       "      <td>0.690730</td>\n",
       "    </tr>\n",
       "    <tr>\n",
       "      <th>539</th>\n",
       "      <td>02:00</td>\n",
       "      <td>2021-03-24</td>\n",
       "      <td>/basketball/usa/nba/portland-trail-blazers-bro...</td>\n",
       "      <td>Portland Trail Blazers</td>\n",
       "      <td>Brooklyn Nets</td>\n",
       "      <td>1.61</td>\n",
       "      <td>0</td>\n",
       "      <td>2.40</td>\n",
       "      <td>0.503367</td>\n",
       "    </tr>\n",
       "    <tr>\n",
       "      <th>542</th>\n",
       "      <td>23:30</td>\n",
       "      <td>2021-03-24</td>\n",
       "      <td>/basketball/usa/nba/toronto-raptors-denver-nug...</td>\n",
       "      <td>Toronto Raptors</td>\n",
       "      <td>Denver Nuggets</td>\n",
       "      <td>1.98</td>\n",
       "      <td>0</td>\n",
       "      <td>1.87</td>\n",
       "      <td>0.353701</td>\n",
       "    </tr>\n",
       "  </tbody>\n",
       "</table>\n",
       "</div>"
      ],
      "text/plain": [
       "      hora        date                                        area_league  \\\n",
       "538  02:00  2021-03-24  /basketball/usa/nba/golden-state-warriors-phil...   \n",
       "540  23:00  2021-03-24  /basketball/usa/nba/indiana-pacers-detroit-pis...   \n",
       "537  00:00  2021-03-24  /basketball/usa/nba/miami-heat-phoenix-suns-p2...   \n",
       "541  23:30  2021-03-24  /basketball/usa/nba/milwaukee-bucks-boston-cel...   \n",
       "539  02:00  2021-03-24  /basketball/usa/nba/portland-trail-blazers-bro...   \n",
       "542  23:30  2021-03-24  /basketball/usa/nba/toronto-raptors-denver-nug...   \n",
       "\n",
       "                      team1               team2  team1_odds  draw_odds  \\\n",
       "538   Golden State Warriors  Philadelphia 76ers        2.48          0   \n",
       "540          Indiana Pacers     Detroit Pistons        1.36          0   \n",
       "537              Miami Heat        Phoenix Suns        2.07          0   \n",
       "541         Milwaukee Bucks      Boston Celtics        1.50          0   \n",
       "539  Portland Trail Blazers       Brooklyn Nets        1.61          0   \n",
       "542         Toronto Raptors      Denver Nuggets        1.98          0   \n",
       "\n",
       "     team2_odds  objetivo  \n",
       "538        1.57  0.417943  \n",
       "540        3.35  0.623777  \n",
       "537        1.80  0.475024  \n",
       "541        2.75  0.690730  \n",
       "539        2.40  0.503367  \n",
       "542        1.87  0.353701  "
      ]
     },
     "execution_count": 12,
     "metadata": {},
     "output_type": "execute_result"
    }
   ],
   "source": [
    "df_prediccion = dsp.load_data(tbl=\"tbl_prediccion_machin_nba\")\n",
    "dsp.daily_prediction(df_prediccion)"
   ]
  },
  {
   "cell_type": "markdown",
   "metadata": {},
   "source": [
    "## NBA CLUSTER FALLO"
   ]
  },
  {
   "cell_type": "code",
   "execution_count": 13,
   "metadata": {},
   "outputs": [
    {
     "data": {
      "text/html": [
       "<div>\n",
       "<style scoped>\n",
       "    .dataframe tbody tr th:only-of-type {\n",
       "        vertical-align: middle;\n",
       "    }\n",
       "\n",
       "    .dataframe tbody tr th {\n",
       "        vertical-align: top;\n",
       "    }\n",
       "\n",
       "    .dataframe thead th {\n",
       "        text-align: right;\n",
       "    }\n",
       "</style>\n",
       "<table border=\"1\" class=\"dataframe\">\n",
       "  <thead>\n",
       "    <tr style=\"text-align: right;\">\n",
       "      <th></th>\n",
       "      <th>hora</th>\n",
       "      <th>date</th>\n",
       "      <th>area_league</th>\n",
       "      <th>team1</th>\n",
       "      <th>team2</th>\n",
       "      <th>team1_odds</th>\n",
       "      <th>draw_odds</th>\n",
       "      <th>team2_odds</th>\n",
       "      <th>objetivo</th>\n",
       "    </tr>\n",
       "  </thead>\n",
       "  <tbody>\n",
       "  </tbody>\n",
       "</table>\n",
       "</div>"
      ],
      "text/plain": [
       "Empty DataFrame\n",
       "Columns: [hora, date, area_league, team1, team2, team1_odds, draw_odds, team2_odds, objetivo]\n",
       "Index: []"
      ]
     },
     "execution_count": 13,
     "metadata": {},
     "output_type": "execute_result"
    }
   ],
   "source": [
    "df_prediccion = dsp.load_data(tbl=\"tbl_fallo_nba\")\n",
    "dsp.daily_prediction(df_prediccion)\n"
   ]
  },
  {
   "cell_type": "markdown",
   "metadata": {},
   "source": [
    "## NBA FALLO SIN FILTRO"
   ]
  },
  {
   "cell_type": "code",
   "execution_count": 14,
   "metadata": {},
   "outputs": [
    {
     "data": {
      "text/html": [
       "<div>\n",
       "<style scoped>\n",
       "    .dataframe tbody tr th:only-of-type {\n",
       "        vertical-align: middle;\n",
       "    }\n",
       "\n",
       "    .dataframe tbody tr th {\n",
       "        vertical-align: top;\n",
       "    }\n",
       "\n",
       "    .dataframe thead th {\n",
       "        text-align: right;\n",
       "    }\n",
       "</style>\n",
       "<table border=\"1\" class=\"dataframe\">\n",
       "  <thead>\n",
       "    <tr style=\"text-align: right;\">\n",
       "      <th></th>\n",
       "      <th>hora</th>\n",
       "      <th>date</th>\n",
       "      <th>area_league</th>\n",
       "      <th>team1</th>\n",
       "      <th>team2</th>\n",
       "      <th>team1_odds</th>\n",
       "      <th>draw_odds</th>\n",
       "      <th>team2_odds</th>\n",
       "      <th>objetivo</th>\n",
       "    </tr>\n",
       "  </thead>\n",
       "  <tbody>\n",
       "    <tr>\n",
       "      <th>355</th>\n",
       "      <td>0:0</td>\n",
       "      <td>2021-03-24</td>\n",
       "      <td>basketball/usa_nba</td>\n",
       "      <td>Portland Trail Blazers</td>\n",
       "      <td>Brooklyn Nets</td>\n",
       "      <td>1.51</td>\n",
       "      <td>0</td>\n",
       "      <td>2.64</td>\n",
       "      <td>2</td>\n",
       "    </tr>\n",
       "  </tbody>\n",
       "</table>\n",
       "</div>"
      ],
      "text/plain": [
       "    hora        date         area_league                   team1  \\\n",
       "355  0:0  2021-03-24  basketball/usa_nba  Portland Trail Blazers   \n",
       "\n",
       "             team2  team1_odds  draw_odds  team2_odds  objetivo  \n",
       "355  Brooklyn Nets        1.51          0        2.64         2  "
      ]
     },
     "execution_count": 14,
     "metadata": {},
     "output_type": "execute_result"
    }
   ],
   "source": [
    "df_prediccion = dsp.load_data(tbl=\"tbl_fallo2_nba\")\n",
    "dsp.daily_prediction(df_prediccion)"
   ]
  },
  {
   "cell_type": "markdown",
   "metadata": {},
   "source": [
    "## NHL"
   ]
  },
  {
   "cell_type": "code",
   "execution_count": 15,
   "metadata": {},
   "outputs": [
    {
     "data": {
      "text/html": [
       "<div>\n",
       "<style scoped>\n",
       "    .dataframe tbody tr th:only-of-type {\n",
       "        vertical-align: middle;\n",
       "    }\n",
       "\n",
       "    .dataframe tbody tr th {\n",
       "        vertical-align: top;\n",
       "    }\n",
       "\n",
       "    .dataframe thead th {\n",
       "        text-align: right;\n",
       "    }\n",
       "</style>\n",
       "<table border=\"1\" class=\"dataframe\">\n",
       "  <thead>\n",
       "    <tr style=\"text-align: right;\">\n",
       "      <th></th>\n",
       "      <th>hora</th>\n",
       "      <th>date</th>\n",
       "      <th>area_league</th>\n",
       "      <th>team1</th>\n",
       "      <th>team2</th>\n",
       "      <th>team1_odds</th>\n",
       "      <th>draw_odds</th>\n",
       "      <th>team2_odds</th>\n",
       "      <th>objetivo</th>\n",
       "    </tr>\n",
       "  </thead>\n",
       "  <tbody>\n",
       "    <tr>\n",
       "      <th>497</th>\n",
       "      <td>02:00</td>\n",
       "      <td>2021-03-24</td>\n",
       "      <td>/hockey/usa/nhl/arizona-coyotes-colorado-avala...</td>\n",
       "      <td>Arizona Coyotes</td>\n",
       "      <td>Colorado Avalanche</td>\n",
       "      <td>4.39</td>\n",
       "      <td>4.65</td>\n",
       "      <td>1.63</td>\n",
       "      <td>0.406747</td>\n",
       "    </tr>\n",
       "    <tr>\n",
       "      <th>494</th>\n",
       "      <td>00:00</td>\n",
       "      <td>2021-03-24</td>\n",
       "      <td>/hockey/usa/nhl/chicago-blackhawks-florida-pan...</td>\n",
       "      <td>Chicago Blackhawks</td>\n",
       "      <td>Florida Panthers</td>\n",
       "      <td>3.20</td>\n",
       "      <td>4.45</td>\n",
       "      <td>1.92</td>\n",
       "      <td>0.467069</td>\n",
       "    </tr>\n",
       "    <tr>\n",
       "      <th>496</th>\n",
       "      <td>00:30</td>\n",
       "      <td>2021-03-24</td>\n",
       "      <td>/hockey/usa/nhl/dallas-stars-tampa-bay-lightni...</td>\n",
       "      <td>Dallas Stars</td>\n",
       "      <td>Tampa Bay Lightning</td>\n",
       "      <td>3.34</td>\n",
       "      <td>4.16</td>\n",
       "      <td>1.92</td>\n",
       "      <td>0.382919</td>\n",
       "    </tr>\n",
       "    <tr>\n",
       "      <th>499</th>\n",
       "      <td>21:30</td>\n",
       "      <td>2021-03-24</td>\n",
       "      <td>/hockey/usa/nhl/minnesota-wild-anaheim-ducks-0...</td>\n",
       "      <td>Minnesota Wild</td>\n",
       "      <td>Anaheim Ducks</td>\n",
       "      <td>1.67</td>\n",
       "      <td>4.60</td>\n",
       "      <td>4.15</td>\n",
       "      <td>0.714882</td>\n",
       "    </tr>\n",
       "    <tr>\n",
       "      <th>500</th>\n",
       "      <td>23:30</td>\n",
       "      <td>2021-03-24</td>\n",
       "      <td>/hockey/usa/nhl/montreal-canadiens-edmonton-oi...</td>\n",
       "      <td>Montreal Canadiens</td>\n",
       "      <td>Edmonton Oilers</td>\n",
       "      <td>2.31</td>\n",
       "      <td>4.44</td>\n",
       "      <td>2.63</td>\n",
       "      <td>0.437838</td>\n",
       "    </tr>\n",
       "    <tr>\n",
       "      <th>495</th>\n",
       "      <td>00:00</td>\n",
       "      <td>2021-03-24</td>\n",
       "      <td>/hockey/usa/nhl/nashville-predators-detroit-re...</td>\n",
       "      <td>Nashville Predators</td>\n",
       "      <td>Detroit Red Wings</td>\n",
       "      <td>2.00</td>\n",
       "      <td>4.19</td>\n",
       "      <td>3.15</td>\n",
       "      <td>0.552463</td>\n",
       "    </tr>\n",
       "    <tr>\n",
       "      <th>498</th>\n",
       "      <td>21:00</td>\n",
       "      <td>2021-03-24</td>\n",
       "      <td>/hockey/usa/nhl/ottawa-senators-calgary-flames...</td>\n",
       "      <td>Ottawa Senators</td>\n",
       "      <td>Calgary Flames</td>\n",
       "      <td>3.34</td>\n",
       "      <td>4.48</td>\n",
       "      <td>1.88</td>\n",
       "      <td>0.486557</td>\n",
       "    </tr>\n",
       "  </tbody>\n",
       "</table>\n",
       "</div>"
      ],
      "text/plain": [
       "      hora        date                                        area_league  \\\n",
       "497  02:00  2021-03-24  /hockey/usa/nhl/arizona-coyotes-colorado-avala...   \n",
       "494  00:00  2021-03-24  /hockey/usa/nhl/chicago-blackhawks-florida-pan...   \n",
       "496  00:30  2021-03-24  /hockey/usa/nhl/dallas-stars-tampa-bay-lightni...   \n",
       "499  21:30  2021-03-24  /hockey/usa/nhl/minnesota-wild-anaheim-ducks-0...   \n",
       "500  23:30  2021-03-24  /hockey/usa/nhl/montreal-canadiens-edmonton-oi...   \n",
       "495  00:00  2021-03-24  /hockey/usa/nhl/nashville-predators-detroit-re...   \n",
       "498  21:00  2021-03-24  /hockey/usa/nhl/ottawa-senators-calgary-flames...   \n",
       "\n",
       "                   team1                team2  team1_odds  draw_odds  \\\n",
       "497      Arizona Coyotes   Colorado Avalanche        4.39       4.65   \n",
       "494   Chicago Blackhawks     Florida Panthers        3.20       4.45   \n",
       "496         Dallas Stars  Tampa Bay Lightning        3.34       4.16   \n",
       "499       Minnesota Wild        Anaheim Ducks        1.67       4.60   \n",
       "500   Montreal Canadiens      Edmonton Oilers        2.31       4.44   \n",
       "495  Nashville Predators    Detroit Red Wings        2.00       4.19   \n",
       "498      Ottawa Senators       Calgary Flames        3.34       4.48   \n",
       "\n",
       "     team2_odds  objetivo  \n",
       "497        1.63  0.406747  \n",
       "494        1.92  0.467069  \n",
       "496        1.92  0.382919  \n",
       "499        4.15  0.714882  \n",
       "500        2.63  0.437838  \n",
       "495        3.15  0.552463  \n",
       "498        1.88  0.486557  "
      ]
     },
     "execution_count": 15,
     "metadata": {},
     "output_type": "execute_result"
    }
   ],
   "source": [
    "df_prediccion = dsp.load_data(tbl=\"tbl_prediccion_machin_nhl\")\n",
    "dsp.daily_prediction(df_prediccion)"
   ]
  },
  {
   "cell_type": "markdown",
   "metadata": {},
   "source": [
    "## NHL CLUSTER FALLO"
   ]
  },
  {
   "cell_type": "code",
   "execution_count": 16,
   "metadata": {},
   "outputs": [
    {
     "data": {
      "text/html": [
       "<div>\n",
       "<style scoped>\n",
       "    .dataframe tbody tr th:only-of-type {\n",
       "        vertical-align: middle;\n",
       "    }\n",
       "\n",
       "    .dataframe tbody tr th {\n",
       "        vertical-align: top;\n",
       "    }\n",
       "\n",
       "    .dataframe thead th {\n",
       "        text-align: right;\n",
       "    }\n",
       "</style>\n",
       "<table border=\"1\" class=\"dataframe\">\n",
       "  <thead>\n",
       "    <tr style=\"text-align: right;\">\n",
       "      <th></th>\n",
       "      <th>hora</th>\n",
       "      <th>date</th>\n",
       "      <th>area_league</th>\n",
       "      <th>team1</th>\n",
       "      <th>team2</th>\n",
       "      <th>team1_odds</th>\n",
       "      <th>draw_odds</th>\n",
       "      <th>team2_odds</th>\n",
       "      <th>objetivo</th>\n",
       "    </tr>\n",
       "  </thead>\n",
       "  <tbody>\n",
       "    <tr>\n",
       "      <th>258</th>\n",
       "      <td>0:0</td>\n",
       "      <td>2021-03-24</td>\n",
       "      <td>hockey/usa_nhl</td>\n",
       "      <td>Montreal Canadiens</td>\n",
       "      <td>Edmonton Oilers</td>\n",
       "      <td>2.31</td>\n",
       "      <td>4.31</td>\n",
       "      <td>2.55</td>\n",
       "      <td>2</td>\n",
       "    </tr>\n",
       "    <tr>\n",
       "      <th>259</th>\n",
       "      <td>0:0</td>\n",
       "      <td>2021-03-24</td>\n",
       "      <td>hockey/usa_nhl</td>\n",
       "      <td>Chicago Blackhawks</td>\n",
       "      <td>Florida Panthers</td>\n",
       "      <td>3.09</td>\n",
       "      <td>4.38</td>\n",
       "      <td>1.98</td>\n",
       "      <td>1</td>\n",
       "    </tr>\n",
       "    <tr>\n",
       "      <th>260</th>\n",
       "      <td>0:0</td>\n",
       "      <td>2021-03-24</td>\n",
       "      <td>hockey/usa_nhl</td>\n",
       "      <td>Nashville Predators</td>\n",
       "      <td>Detroit Red Wings</td>\n",
       "      <td>2.00</td>\n",
       "      <td>4.20</td>\n",
       "      <td>3.12</td>\n",
       "      <td>2</td>\n",
       "    </tr>\n",
       "  </tbody>\n",
       "</table>\n",
       "</div>"
      ],
      "text/plain": [
       "    hora        date     area_league                team1              team2  \\\n",
       "258  0:0  2021-03-24  hockey/usa_nhl   Montreal Canadiens    Edmonton Oilers   \n",
       "259  0:0  2021-03-24  hockey/usa_nhl   Chicago Blackhawks   Florida Panthers   \n",
       "260  0:0  2021-03-24  hockey/usa_nhl  Nashville Predators  Detroit Red Wings   \n",
       "\n",
       "     team1_odds  draw_odds  team2_odds  objetivo  \n",
       "258        2.31       4.31        2.55         2  \n",
       "259        3.09       4.38        1.98         1  \n",
       "260        2.00       4.20        3.12         2  "
      ]
     },
     "execution_count": 16,
     "metadata": {},
     "output_type": "execute_result"
    }
   ],
   "source": [
    "df_prediccion = dsp.load_data(tbl=\"tbl_fallo_nhl\")\n",
    "dsp.daily_prediction(df_prediccion)"
   ]
  },
  {
   "cell_type": "markdown",
   "metadata": {},
   "source": [
    "### MLB"
   ]
  },
  {
   "cell_type": "code",
   "execution_count": 17,
   "metadata": {},
   "outputs": [
    {
     "data": {
      "text/html": [
       "<div>\n",
       "<style scoped>\n",
       "    .dataframe tbody tr th:only-of-type {\n",
       "        vertical-align: middle;\n",
       "    }\n",
       "\n",
       "    .dataframe tbody tr th {\n",
       "        vertical-align: top;\n",
       "    }\n",
       "\n",
       "    .dataframe thead th {\n",
       "        text-align: right;\n",
       "    }\n",
       "</style>\n",
       "<table border=\"1\" class=\"dataframe\">\n",
       "  <thead>\n",
       "    <tr style=\"text-align: right;\">\n",
       "      <th></th>\n",
       "      <th>hora</th>\n",
       "      <th>date</th>\n",
       "      <th>area_league</th>\n",
       "      <th>team1</th>\n",
       "      <th>team2</th>\n",
       "      <th>team1_odds</th>\n",
       "      <th>draw_odds</th>\n",
       "      <th>team2_odds</th>\n",
       "      <th>objetivo</th>\n",
       "    </tr>\n",
       "  </thead>\n",
       "  <tbody>\n",
       "  </tbody>\n",
       "</table>\n",
       "</div>"
      ],
      "text/plain": [
       "Empty DataFrame\n",
       "Columns: [hora, date, area_league, team1, team2, team1_odds, draw_odds, team2_odds, objetivo]\n",
       "Index: []"
      ]
     },
     "execution_count": 17,
     "metadata": {},
     "output_type": "execute_result"
    }
   ],
   "source": [
    "df_prediccion = dsp.load_data(tbl=\"tbl_prediccion_machin_base1\")\n",
    "dp = dsp.daily_prediction(df_prediccion)\n",
    "dp.sort_values(by=['hora'],ascending=True)"
   ]
  },
  {
   "cell_type": "markdown",
   "metadata": {},
   "source": [
    "## SOCCER"
   ]
  },
  {
   "cell_type": "code",
   "execution_count": 18,
   "metadata": {},
   "outputs": [
    {
     "data": {
      "text/html": [
       "<div>\n",
       "<style scoped>\n",
       "    .dataframe tbody tr th:only-of-type {\n",
       "        vertical-align: middle;\n",
       "    }\n",
       "\n",
       "    .dataframe tbody tr th {\n",
       "        vertical-align: top;\n",
       "    }\n",
       "\n",
       "    .dataframe thead th {\n",
       "        text-align: right;\n",
       "    }\n",
       "</style>\n",
       "<table border=\"1\" class=\"dataframe\">\n",
       "  <thead>\n",
       "    <tr style=\"text-align: right;\">\n",
       "      <th></th>\n",
       "      <th>hora</th>\n",
       "      <th>date</th>\n",
       "      <th>area_league</th>\n",
       "      <th>team1</th>\n",
       "      <th>team2</th>\n",
       "      <th>team1_odds</th>\n",
       "      <th>draw_odds</th>\n",
       "      <th>team2_odds</th>\n",
       "      <th>objetivo</th>\n",
       "    </tr>\n",
       "  </thead>\n",
       "  <tbody>\n",
       "  </tbody>\n",
       "</table>\n",
       "</div>"
      ],
      "text/plain": [
       "Empty DataFrame\n",
       "Columns: [hora, date, area_league, team1, team2, team1_odds, draw_odds, team2_odds, objetivo]\n",
       "Index: []"
      ]
     },
     "execution_count": 18,
     "metadata": {},
     "output_type": "execute_result"
    }
   ],
   "source": [
    "df_prediccion = dsp.load_data(tbl=\"tbl_prediccion_machin_soccer\")\n",
    "dsp.daily_prediction(df_prediccion)"
   ]
  },
  {
   "cell_type": "markdown",
   "metadata": {},
   "source": [
    "### SOCCER CLUSTER FALLO"
   ]
  },
  {
   "cell_type": "code",
   "execution_count": 19,
   "metadata": {},
   "outputs": [
    {
     "data": {
      "text/html": [
       "<div>\n",
       "<style scoped>\n",
       "    .dataframe tbody tr th:only-of-type {\n",
       "        vertical-align: middle;\n",
       "    }\n",
       "\n",
       "    .dataframe tbody tr th {\n",
       "        vertical-align: top;\n",
       "    }\n",
       "\n",
       "    .dataframe thead th {\n",
       "        text-align: right;\n",
       "    }\n",
       "</style>\n",
       "<table border=\"1\" class=\"dataframe\">\n",
       "  <thead>\n",
       "    <tr style=\"text-align: right;\">\n",
       "      <th></th>\n",
       "      <th>hora</th>\n",
       "      <th>date</th>\n",
       "      <th>area_league</th>\n",
       "      <th>team1</th>\n",
       "      <th>team2</th>\n",
       "      <th>team1_odds</th>\n",
       "      <th>draw_odds</th>\n",
       "      <th>team2_odds</th>\n",
       "      <th>objetivo</th>\n",
       "    </tr>\n",
       "  </thead>\n",
       "  <tbody>\n",
       "  </tbody>\n",
       "</table>\n",
       "</div>"
      ],
      "text/plain": [
       "Empty DataFrame\n",
       "Columns: [hora, date, area_league, team1, team2, team1_odds, draw_odds, team2_odds, objetivo]\n",
       "Index: []"
      ]
     },
     "execution_count": 19,
     "metadata": {},
     "output_type": "execute_result"
    }
   ],
   "source": [
    "df_prediccion = dsp.load_data(tbl=\"tbl_fallo_soccer\")\n",
    "dsp.daily_prediction(df_prediccion)"
   ]
  },
  {
   "cell_type": "markdown",
   "metadata": {},
   "source": [
    "### SOCCER EMPATE SECUENCIA"
   ]
  },
  {
   "cell_type": "code",
   "execution_count": 20,
   "metadata": {},
   "outputs": [
    {
     "data": {
      "text/html": [
       "<div>\n",
       "<style scoped>\n",
       "    .dataframe tbody tr th:only-of-type {\n",
       "        vertical-align: middle;\n",
       "    }\n",
       "\n",
       "    .dataframe tbody tr th {\n",
       "        vertical-align: top;\n",
       "    }\n",
       "\n",
       "    .dataframe thead th {\n",
       "        text-align: right;\n",
       "    }\n",
       "</style>\n",
       "<table border=\"1\" class=\"dataframe\">\n",
       "  <thead>\n",
       "    <tr style=\"text-align: right;\">\n",
       "      <th></th>\n",
       "      <th>hora</th>\n",
       "      <th>date</th>\n",
       "      <th>area_league</th>\n",
       "      <th>team1</th>\n",
       "      <th>team2</th>\n",
       "      <th>team1_odds</th>\n",
       "      <th>draw_odds</th>\n",
       "      <th>team2_odds</th>\n",
       "      <th>objetivo</th>\n",
       "    </tr>\n",
       "  </thead>\n",
       "  <tbody>\n",
       "    <tr>\n",
       "      <th>397</th>\n",
       "      <td>12:00</td>\n",
       "      <td>2021-03-24</td>\n",
       "      <td>soccer/russia_fnl</td>\n",
       "      <td>F. Voronezh</td>\n",
       "      <td>Omsk</td>\n",
       "      <td>1.56</td>\n",
       "      <td>3.62</td>\n",
       "      <td>6.21</td>\n",
       "      <td>5-F. Voronezh-0.11</td>\n",
       "    </tr>\n",
       "    <tr>\n",
       "      <th>398</th>\n",
       "      <td>14:00</td>\n",
       "      <td>2021-03-24</td>\n",
       "      <td>soccer/serbia_prva-liga</td>\n",
       "      <td>Radnicki 1923</td>\n",
       "      <td>IMT Novi Beograd</td>\n",
       "      <td>1.52</td>\n",
       "      <td>3.52</td>\n",
       "      <td>6.00</td>\n",
       "      <td>2-Radnicki 1923-0.1</td>\n",
       "    </tr>\n",
       "  </tbody>\n",
       "</table>\n",
       "</div>"
      ],
      "text/plain": [
       "      hora        date              area_league          team1  \\\n",
       "397  12:00  2021-03-24        soccer/russia_fnl    F. Voronezh   \n",
       "398  14:00  2021-03-24  soccer/serbia_prva-liga  Radnicki 1923   \n",
       "\n",
       "                team2  team1_odds  draw_odds  team2_odds             objetivo  \n",
       "397              Omsk        1.56       3.62        6.21   5-F. Voronezh-0.11  \n",
       "398  IMT Novi Beograd        1.52       3.52        6.00  2-Radnicki 1923-0.1  "
      ]
     },
     "execution_count": 20,
     "metadata": {},
     "output_type": "execute_result"
    }
   ],
   "source": [
    "df_prediccion = dsp.load_data(tbl=\"tbl_empate_soccer\")\n",
    "dsp.daily_prediction(df_prediccion)"
   ]
  },
  {
   "cell_type": "markdown",
   "metadata": {},
   "source": [
    "## SOCCER FAVORITO SECUENCIA"
   ]
  },
  {
   "cell_type": "markdown",
   "metadata": {},
   "source": [
    "###  MILAN - más negativo -77"
   ]
  },
  {
   "cell_type": "code",
   "execution_count": 21,
   "metadata": {},
   "outputs": [
    {
     "data": {
      "text/html": [
       "<div>\n",
       "<style scoped>\n",
       "    .dataframe tbody tr th:only-of-type {\n",
       "        vertical-align: middle;\n",
       "    }\n",
       "\n",
       "    .dataframe tbody tr th {\n",
       "        vertical-align: top;\n",
       "    }\n",
       "\n",
       "    .dataframe thead th {\n",
       "        text-align: right;\n",
       "    }\n",
       "</style>\n",
       "<table border=\"1\" class=\"dataframe\">\n",
       "  <thead>\n",
       "    <tr style=\"text-align: right;\">\n",
       "      <th></th>\n",
       "      <th>hora</th>\n",
       "      <th>date</th>\n",
       "      <th>area_league</th>\n",
       "      <th>team1</th>\n",
       "      <th>team2</th>\n",
       "      <th>team1_odds</th>\n",
       "      <th>draw_odds</th>\n",
       "      <th>team2_odds</th>\n",
       "      <th>objetivo</th>\n",
       "    </tr>\n",
       "  </thead>\n",
       "  <tbody>\n",
       "  </tbody>\n",
       "</table>\n",
       "</div>"
      ],
      "text/plain": [
       "Empty DataFrame\n",
       "Columns: [hora, date, area_league, team1, team2, team1_odds, draw_odds, team2_odds, objetivo]\n",
       "Index: []"
      ]
     },
     "execution_count": 21,
     "metadata": {},
     "output_type": "execute_result"
    }
   ],
   "source": [
    "df_prediccion = dsp.load_data(tbl=\"tbl_favorito_soccer_MILAN\")\n",
    "dsp.daily_prediction(df_prediccion)"
   ]
  },
  {
   "cell_type": "markdown",
   "metadata": {},
   "source": [
    "## CRB - más positivo .49"
   ]
  },
  {
   "cell_type": "code",
   "execution_count": 22,
   "metadata": {},
   "outputs": [
    {
     "data": {
      "text/html": [
       "<div>\n",
       "<style scoped>\n",
       "    .dataframe tbody tr th:only-of-type {\n",
       "        vertical-align: middle;\n",
       "    }\n",
       "\n",
       "    .dataframe tbody tr th {\n",
       "        vertical-align: top;\n",
       "    }\n",
       "\n",
       "    .dataframe thead th {\n",
       "        text-align: right;\n",
       "    }\n",
       "</style>\n",
       "<table border=\"1\" class=\"dataframe\">\n",
       "  <thead>\n",
       "    <tr style=\"text-align: right;\">\n",
       "      <th></th>\n",
       "      <th>hora</th>\n",
       "      <th>date</th>\n",
       "      <th>area_league</th>\n",
       "      <th>team1</th>\n",
       "      <th>team2</th>\n",
       "      <th>team1_odds</th>\n",
       "      <th>draw_odds</th>\n",
       "      <th>team2_odds</th>\n",
       "      <th>objetivo</th>\n",
       "    </tr>\n",
       "  </thead>\n",
       "  <tbody>\n",
       "  </tbody>\n",
       "</table>\n",
       "</div>"
      ],
      "text/plain": [
       "Empty DataFrame\n",
       "Columns: [hora, date, area_league, team1, team2, team1_odds, draw_odds, team2_odds, objetivo]\n",
       "Index: []"
      ]
     },
     "execution_count": 22,
     "metadata": {},
     "output_type": "execute_result"
    }
   ],
   "source": [
    "df_prediccion = dsp.load_data(tbl=\"tbl_favorito_soccer_CRB\")\n",
    "dsp.daily_prediction(df_prediccion)"
   ]
  },
  {
   "cell_type": "markdown",
   "metadata": {},
   "source": [
    "### LIGA MX"
   ]
  },
  {
   "cell_type": "code",
   "execution_count": 23,
   "metadata": {},
   "outputs": [
    {
     "data": {
      "text/html": [
       "<div>\n",
       "<style scoped>\n",
       "    .dataframe tbody tr th:only-of-type {\n",
       "        vertical-align: middle;\n",
       "    }\n",
       "\n",
       "    .dataframe tbody tr th {\n",
       "        vertical-align: top;\n",
       "    }\n",
       "\n",
       "    .dataframe thead th {\n",
       "        text-align: right;\n",
       "    }\n",
       "</style>\n",
       "<table border=\"1\" class=\"dataframe\">\n",
       "  <thead>\n",
       "    <tr style=\"text-align: right;\">\n",
       "      <th></th>\n",
       "      <th>date</th>\n",
       "      <th>hora</th>\n",
       "      <th>sport</th>\n",
       "      <th>area</th>\n",
       "      <th>league</th>\n",
       "      <th>team1</th>\n",
       "      <th>team2</th>\n",
       "      <th>objetivo</th>\n",
       "      <th>outcome</th>\n",
       "      <th>odd</th>\n",
       "      <th>m_criterio</th>\n",
       "    </tr>\n",
       "  </thead>\n",
       "  <tbody>\n",
       "  </tbody>\n",
       "</table>\n",
       "</div>"
      ],
      "text/plain": [
       "Empty DataFrame\n",
       "Columns: [date, hora, sport, area, league, team1, team2, objetivo, outcome, odd, m_criterio]\n",
       "Index: []"
      ]
     },
     "execution_count": 23,
     "metadata": {},
     "output_type": "execute_result"
    }
   ],
   "source": [
    "df_prediccion = dsp.load_data(tbl=\"tbl_prediccion_machin_mx1\")\n",
    "dsp.daily_prediction_criterio(df_prediccion)"
   ]
  },
  {
   "cell_type": "markdown",
   "metadata": {},
   "source": [
    "### NFL"
   ]
  },
  {
   "cell_type": "code",
   "execution_count": 24,
   "metadata": {},
   "outputs": [
    {
     "data": {
      "text/html": [
       "<div>\n",
       "<style scoped>\n",
       "    .dataframe tbody tr th:only-of-type {\n",
       "        vertical-align: middle;\n",
       "    }\n",
       "\n",
       "    .dataframe tbody tr th {\n",
       "        vertical-align: top;\n",
       "    }\n",
       "\n",
       "    .dataframe thead th {\n",
       "        text-align: right;\n",
       "    }\n",
       "</style>\n",
       "<table border=\"1\" class=\"dataframe\">\n",
       "  <thead>\n",
       "    <tr style=\"text-align: right;\">\n",
       "      <th></th>\n",
       "      <th>date</th>\n",
       "      <th>hora</th>\n",
       "      <th>sport</th>\n",
       "      <th>area</th>\n",
       "      <th>league</th>\n",
       "      <th>team1</th>\n",
       "      <th>team2</th>\n",
       "      <th>objetivo</th>\n",
       "      <th>outcome</th>\n",
       "      <th>odd</th>\n",
       "      <th>m_criterio</th>\n",
       "    </tr>\n",
       "  </thead>\n",
       "  <tbody>\n",
       "  </tbody>\n",
       "</table>\n",
       "</div>"
      ],
      "text/plain": [
       "Empty DataFrame\n",
       "Columns: [date, hora, sport, area, league, team1, team2, objetivo, outcome, odd, m_criterio]\n",
       "Index: []"
      ]
     },
     "execution_count": 24,
     "metadata": {},
     "output_type": "execute_result"
    }
   ],
   "source": [
    "df_prediccion = dsp.load_data(tbl=\"tbl_prediccion_machin_nfl1\")\n",
    "dsp.daily_prediction_criterio(df_prediccion)"
   ]
  },
  {
   "cell_type": "markdown",
   "metadata": {},
   "source": [
    "### HOCKEY"
   ]
  },
  {
   "cell_type": "code",
   "execution_count": 25,
   "metadata": {},
   "outputs": [
    {
     "data": {
      "text/html": [
       "<div>\n",
       "<style scoped>\n",
       "    .dataframe tbody tr th:only-of-type {\n",
       "        vertical-align: middle;\n",
       "    }\n",
       "\n",
       "    .dataframe tbody tr th {\n",
       "        vertical-align: top;\n",
       "    }\n",
       "\n",
       "    .dataframe thead th {\n",
       "        text-align: right;\n",
       "    }\n",
       "</style>\n",
       "<table border=\"1\" class=\"dataframe\">\n",
       "  <thead>\n",
       "    <tr style=\"text-align: right;\">\n",
       "      <th></th>\n",
       "      <th>hora</th>\n",
       "      <th>date</th>\n",
       "      <th>area_league</th>\n",
       "      <th>team1</th>\n",
       "      <th>team2</th>\n",
       "      <th>team1_odds</th>\n",
       "      <th>draw_odds</th>\n",
       "      <th>team2_odds</th>\n",
       "      <th>objetivo</th>\n",
       "    </tr>\n",
       "  </thead>\n",
       "  <tbody>\n",
       "    <tr>\n",
       "      <th>232</th>\n",
       "      <td>16:30</td>\n",
       "      <td>2021-03-24</td>\n",
       "      <td>/hockey/finland/liiga/jukurit-ilves-tampere-Or...</td>\n",
       "      <td>Jukurit</td>\n",
       "      <td>Ilves</td>\n",
       "      <td>3.98</td>\n",
       "      <td>4.51</td>\n",
       "      <td>1.67</td>\n",
       "      <td>0.492839</td>\n",
       "    </tr>\n",
       "    <tr>\n",
       "      <th>231</th>\n",
       "      <td>16:30</td>\n",
       "      <td>2021-03-24</td>\n",
       "      <td>/hockey/finland/liiga/jyp-jyvaskyla-kookoo-vg2...</td>\n",
       "      <td>JYP</td>\n",
       "      <td>KooKoo</td>\n",
       "      <td>3.71</td>\n",
       "      <td>4.46</td>\n",
       "      <td>1.73</td>\n",
       "      <td>0.516083</td>\n",
       "    </tr>\n",
       "    <tr>\n",
       "      <th>233</th>\n",
       "      <td>16:30</td>\n",
       "      <td>2021-03-24</td>\n",
       "      <td>/hockey/finland/liiga/tappara-hameenlinna-MXcQ...</td>\n",
       "      <td>Tappara</td>\n",
       "      <td>Hameenlinna</td>\n",
       "      <td>1.89</td>\n",
       "      <td>4.18</td>\n",
       "      <td>3.33</td>\n",
       "      <td>0.529603</td>\n",
       "    </tr>\n",
       "  </tbody>\n",
       "</table>\n",
       "</div>"
      ],
      "text/plain": [
       "      hora        date                                        area_league  \\\n",
       "232  16:30  2021-03-24  /hockey/finland/liiga/jukurit-ilves-tampere-Or...   \n",
       "231  16:30  2021-03-24  /hockey/finland/liiga/jyp-jyvaskyla-kookoo-vg2...   \n",
       "233  16:30  2021-03-24  /hockey/finland/liiga/tappara-hameenlinna-MXcQ...   \n",
       "\n",
       "       team1        team2  team1_odds  draw_odds  team2_odds  objetivo  \n",
       "232  Jukurit        Ilves        3.98       4.51        1.67  0.492839  \n",
       "231      JYP       KooKoo        3.71       4.46        1.73  0.516083  \n",
       "233  Tappara  Hameenlinna        1.89       4.18        3.33  0.529603  "
      ]
     },
     "execution_count": 25,
     "metadata": {},
     "output_type": "execute_result"
    }
   ],
   "source": [
    "df_prediccion = dsp.load_data(tbl=\"tbl_prediccion_machin_hockey\")\n",
    "dsp.daily_prediction(df_prediccion)"
   ]
  },
  {
   "cell_type": "code",
   "execution_count": 26,
   "metadata": {},
   "outputs": [
    {
     "data": {
      "text/html": [
       "<div>\n",
       "<style scoped>\n",
       "    .dataframe tbody tr th:only-of-type {\n",
       "        vertical-align: middle;\n",
       "    }\n",
       "\n",
       "    .dataframe tbody tr th {\n",
       "        vertical-align: top;\n",
       "    }\n",
       "\n",
       "    .dataframe thead th {\n",
       "        text-align: right;\n",
       "    }\n",
       "</style>\n",
       "<table border=\"1\" class=\"dataframe\">\n",
       "  <thead>\n",
       "    <tr style=\"text-align: right;\">\n",
       "      <th></th>\n",
       "      <th>hora</th>\n",
       "      <th>date</th>\n",
       "      <th>area_league</th>\n",
       "      <th>team1</th>\n",
       "      <th>team2</th>\n",
       "      <th>team1_odds</th>\n",
       "      <th>draw_odds</th>\n",
       "      <th>team2_odds</th>\n",
       "      <th>objetivo</th>\n",
       "    </tr>\n",
       "  </thead>\n",
       "  <tbody>\n",
       "  </tbody>\n",
       "</table>\n",
       "</div>"
      ],
      "text/plain": [
       "Empty DataFrame\n",
       "Columns: [hora, date, area_league, team1, team2, team1_odds, draw_odds, team2_odds, objetivo]\n",
       "Index: []"
      ]
     },
     "execution_count": 26,
     "metadata": {},
     "output_type": "execute_result"
    }
   ],
   "source": [
    "df_prediccion = dsp.load_data(tbl=\"tbl_fallo_hockey\")\n",
    "dsp.daily_prediction(df_prediccion)"
   ]
  },
  {
   "cell_type": "markdown",
   "metadata": {},
   "source": [
    "### Daily predictions machin3."
   ]
  },
  {
   "cell_type": "code",
   "execution_count": 27,
   "metadata": {},
   "outputs": [
    {
     "data": {
      "text/html": [
       "<div>\n",
       "<style scoped>\n",
       "    .dataframe tbody tr th:only-of-type {\n",
       "        vertical-align: middle;\n",
       "    }\n",
       "\n",
       "    .dataframe tbody tr th {\n",
       "        vertical-align: top;\n",
       "    }\n",
       "\n",
       "    .dataframe thead th {\n",
       "        text-align: right;\n",
       "    }\n",
       "</style>\n",
       "<table border=\"1\" class=\"dataframe\">\n",
       "  <thead>\n",
       "    <tr style=\"text-align: right;\">\n",
       "      <th></th>\n",
       "      <th>hora</th>\n",
       "      <th>date</th>\n",
       "      <th>area_league</th>\n",
       "      <th>team1</th>\n",
       "      <th>team2</th>\n",
       "      <th>team1_odds</th>\n",
       "      <th>draw_odds</th>\n",
       "      <th>team2_odds</th>\n",
       "      <th>objetivo</th>\n",
       "    </tr>\n",
       "  </thead>\n",
       "  <tbody>\n",
       "  </tbody>\n",
       "</table>\n",
       "</div>"
      ],
      "text/plain": [
       "Empty DataFrame\n",
       "Columns: [hora, date, area_league, team1, team2, team1_odds, draw_odds, team2_odds, objetivo]\n",
       "Index: []"
      ]
     },
     "execution_count": 27,
     "metadata": {},
     "output_type": "execute_result"
    }
   ],
   "source": [
    "df_prediccion = dsp.load_data(tbl=\"tbl_prediccion_machin3\")\n",
    "dsp.daily_prediction(df_prediccion)"
   ]
  },
  {
   "cell_type": "markdown",
   "metadata": {},
   "source": [
    "### Daily predictions machin6  "
   ]
  },
  {
   "cell_type": "markdown",
   "metadata": {},
   "source": [
    "Objetivo > .50 TEAM1  | Objetivo < .50 TEAM2"
   ]
  },
  {
   "cell_type": "code",
   "execution_count": 28,
   "metadata": {},
   "outputs": [
    {
     "data": {
      "text/html": [
       "<div>\n",
       "<style scoped>\n",
       "    .dataframe tbody tr th:only-of-type {\n",
       "        vertical-align: middle;\n",
       "    }\n",
       "\n",
       "    .dataframe tbody tr th {\n",
       "        vertical-align: top;\n",
       "    }\n",
       "\n",
       "    .dataframe thead th {\n",
       "        text-align: right;\n",
       "    }\n",
       "</style>\n",
       "<table border=\"1\" class=\"dataframe\">\n",
       "  <thead>\n",
       "    <tr style=\"text-align: right;\">\n",
       "      <th></th>\n",
       "      <th>hora</th>\n",
       "      <th>date</th>\n",
       "      <th>area_league</th>\n",
       "      <th>team1</th>\n",
       "      <th>team2</th>\n",
       "      <th>team1_odds</th>\n",
       "      <th>draw_odds</th>\n",
       "      <th>team2_odds</th>\n",
       "      <th>objetivo</th>\n",
       "    </tr>\n",
       "  </thead>\n",
       "  <tbody>\n",
       "    <tr>\n",
       "      <th>6659</th>\n",
       "      <td>12:30</td>\n",
       "      <td>2021-03-24</td>\n",
       "      <td>/soccer/world/club-friendly/mandurah-city-subi...</td>\n",
       "      <td>Mandurah City (Aus)</td>\n",
       "      <td>Subiaco (Aus)</td>\n",
       "      <td>1.51</td>\n",
       "      <td>4.88</td>\n",
       "      <td>4.59</td>\n",
       "      <td>0.525719</td>\n",
       "    </tr>\n",
       "    <tr>\n",
       "      <th>6658</th>\n",
       "      <td>10:30</td>\n",
       "      <td>2021-03-24</td>\n",
       "      <td>/soccer/world/club-friendly/olympic-kingsway-u...</td>\n",
       "      <td>Olympic Kingsway (Aus)</td>\n",
       "      <td>Nedlands (Aus)</td>\n",
       "      <td>1.40</td>\n",
       "      <td>4.89</td>\n",
       "      <td>5.85</td>\n",
       "      <td>0.525719</td>\n",
       "    </tr>\n",
       "  </tbody>\n",
       "</table>\n",
       "</div>"
      ],
      "text/plain": [
       "       hora        date                                        area_league  \\\n",
       "6659  12:30  2021-03-24  /soccer/world/club-friendly/mandurah-city-subi...   \n",
       "6658  10:30  2021-03-24  /soccer/world/club-friendly/olympic-kingsway-u...   \n",
       "\n",
       "                       team1           team2  team1_odds  draw_odds  \\\n",
       "6659     Mandurah City (Aus)   Subiaco (Aus)        1.51       4.88   \n",
       "6658  Olympic Kingsway (Aus)  Nedlands (Aus)        1.40       4.89   \n",
       "\n",
       "      team2_odds  objetivo  \n",
       "6659        4.59  0.525719  \n",
       "6658        5.85  0.525719  "
      ]
     },
     "execution_count": 28,
     "metadata": {},
     "output_type": "execute_result"
    }
   ],
   "source": [
    "df_prediccion = dsp.load_data(tbl=\"tbl_prediccion_machin6\")\n",
    "dp = dsp.daily_prediction(df_prediccion)\n",
    "dp.sort_values(by=['objetivo'],ascending=False)"
   ]
  },
  {
   "cell_type": "markdown",
   "metadata": {},
   "source": [
    "___"
   ]
  },
  {
   "cell_type": "markdown",
   "metadata": {},
   "source": [
    "## EXPERIMENTAL "
   ]
  },
  {
   "cell_type": "markdown",
   "metadata": {},
   "source": [
    "### Daily model 53"
   ]
  },
  {
   "cell_type": "code",
   "execution_count": 29,
   "metadata": {},
   "outputs": [
    {
     "data": {
      "text/html": [
       "<div>\n",
       "<style scoped>\n",
       "    .dataframe tbody tr th:only-of-type {\n",
       "        vertical-align: middle;\n",
       "    }\n",
       "\n",
       "    .dataframe tbody tr th {\n",
       "        vertical-align: top;\n",
       "    }\n",
       "\n",
       "    .dataframe thead th {\n",
       "        text-align: right;\n",
       "    }\n",
       "</style>\n",
       "<table border=\"1\" class=\"dataframe\">\n",
       "  <thead>\n",
       "    <tr style=\"text-align: right;\">\n",
       "      <th></th>\n",
       "      <th>hora</th>\n",
       "      <th>date</th>\n",
       "      <th>area_league</th>\n",
       "      <th>team1</th>\n",
       "      <th>team2</th>\n",
       "      <th>team1_odds</th>\n",
       "      <th>draw_odds</th>\n",
       "      <th>team2_odds</th>\n",
       "      <th>objetivo</th>\n",
       "    </tr>\n",
       "  </thead>\n",
       "  <tbody>\n",
       "  </tbody>\n",
       "</table>\n",
       "</div>"
      ],
      "text/plain": [
       "Empty DataFrame\n",
       "Columns: [hora, date, area_league, team1, team2, team1_odds, draw_odds, team2_odds, objetivo]\n",
       "Index: []"
      ]
     },
     "execution_count": 29,
     "metadata": {},
     "output_type": "execute_result"
    }
   ],
   "source": [
    "df_prediccion = dsp.load_data(tbl=\"tbl_prediccion_53\")\n",
    "dsp.daily_prediction(df_prediccion)"
   ]
  },
  {
   "cell_type": "code",
   "execution_count": 30,
   "metadata": {},
   "outputs": [
    {
     "data": {
      "text/html": [
       "<div>\n",
       "<style scoped>\n",
       "    .dataframe tbody tr th:only-of-type {\n",
       "        vertical-align: middle;\n",
       "    }\n",
       "\n",
       "    .dataframe tbody tr th {\n",
       "        vertical-align: top;\n",
       "    }\n",
       "\n",
       "    .dataframe thead th {\n",
       "        text-align: right;\n",
       "    }\n",
       "</style>\n",
       "<table border=\"1\" class=\"dataframe\">\n",
       "  <thead>\n",
       "    <tr style=\"text-align: right;\">\n",
       "      <th></th>\n",
       "      <th>hora</th>\n",
       "      <th>date</th>\n",
       "      <th>area_league</th>\n",
       "      <th>team1</th>\n",
       "      <th>team2</th>\n",
       "      <th>team1_odds</th>\n",
       "      <th>draw_odds</th>\n",
       "      <th>team2_odds</th>\n",
       "      <th>objetivo</th>\n",
       "    </tr>\n",
       "  </thead>\n",
       "  <tbody>\n",
       "    <tr>\n",
       "      <th>6399</th>\n",
       "      <td>00:00</td>\n",
       "      <td>2021-03-24</td>\n",
       "      <td>/soccer/panama/lpf/tauro-chiriqui-bcqAT5Lc/</td>\n",
       "      <td>Tauro</td>\n",
       "      <td>Chiriqui</td>\n",
       "      <td>1.76</td>\n",
       "      <td>3.20</td>\n",
       "      <td>4.87</td>\n",
       "      <td>TEAM2</td>\n",
       "    </tr>\n",
       "    <tr>\n",
       "      <th>6396</th>\n",
       "      <td>12:00</td>\n",
       "      <td>2021-03-24</td>\n",
       "      <td>/soccer/russia/fnl/akron-togliatti-fc-nizhny-n...</td>\n",
       "      <td>Akron Togliatti</td>\n",
       "      <td>Nizhny Novgorod</td>\n",
       "      <td>5.32</td>\n",
       "      <td>3.40</td>\n",
       "      <td>1.70</td>\n",
       "      <td>DRAW</td>\n",
       "    </tr>\n",
       "    <tr>\n",
       "      <th>6405</th>\n",
       "      <td>17:30</td>\n",
       "      <td>2021-03-24</td>\n",
       "      <td>/soccer/russia/fnl/baltika-orenburg-K6l1hY3I/</td>\n",
       "      <td>Baltika</td>\n",
       "      <td>Orenburg</td>\n",
       "      <td>3.05</td>\n",
       "      <td>2.95</td>\n",
       "      <td>2.46</td>\n",
       "      <td>TEAM1</td>\n",
       "    </tr>\n",
       "    <tr>\n",
       "      <th>6397</th>\n",
       "      <td>12:00</td>\n",
       "      <td>2021-03-24</td>\n",
       "      <td>/soccer/russia/fnl/krasnodar-yenisey-QqkcgElC/</td>\n",
       "      <td>Krasnodar 2</td>\n",
       "      <td>Yenisey</td>\n",
       "      <td>2.61</td>\n",
       "      <td>3.39</td>\n",
       "      <td>2.53</td>\n",
       "      <td>DRAW</td>\n",
       "    </tr>\n",
       "    <tr>\n",
       "      <th>6395</th>\n",
       "      <td>12:00</td>\n",
       "      <td>2021-03-24</td>\n",
       "      <td>/soccer/russia/fnl/shinnik-yaroslavl-tomsk-jRd...</td>\n",
       "      <td>Shinnik Yaroslavl</td>\n",
       "      <td>Tomsk</td>\n",
       "      <td>3.00</td>\n",
       "      <td>3.40</td>\n",
       "      <td>2.26</td>\n",
       "      <td>DRAW</td>\n",
       "    </tr>\n",
       "    <tr>\n",
       "      <th>6394</th>\n",
       "      <td>15:30</td>\n",
       "      <td>2021-03-24</td>\n",
       "      <td>/soccer/russia/fnl/veles-moscow-fk-chayka-pesc...</td>\n",
       "      <td>Veles Moscow</td>\n",
       "      <td>FK Chayka</td>\n",
       "      <td>2.26</td>\n",
       "      <td>3.13</td>\n",
       "      <td>3.24</td>\n",
       "      <td>DRAW</td>\n",
       "    </tr>\n",
       "  </tbody>\n",
       "</table>\n",
       "</div>"
      ],
      "text/plain": [
       "       hora        date                                        area_league  \\\n",
       "6399  00:00  2021-03-24        /soccer/panama/lpf/tauro-chiriqui-bcqAT5Lc/   \n",
       "6396  12:00  2021-03-24  /soccer/russia/fnl/akron-togliatti-fc-nizhny-n...   \n",
       "6405  17:30  2021-03-24      /soccer/russia/fnl/baltika-orenburg-K6l1hY3I/   \n",
       "6397  12:00  2021-03-24     /soccer/russia/fnl/krasnodar-yenisey-QqkcgElC/   \n",
       "6395  12:00  2021-03-24  /soccer/russia/fnl/shinnik-yaroslavl-tomsk-jRd...   \n",
       "6394  15:30  2021-03-24  /soccer/russia/fnl/veles-moscow-fk-chayka-pesc...   \n",
       "\n",
       "                  team1            team2  team1_odds  draw_odds  team2_odds  \\\n",
       "6399              Tauro         Chiriqui        1.76       3.20        4.87   \n",
       "6396    Akron Togliatti  Nizhny Novgorod        5.32       3.40        1.70   \n",
       "6405            Baltika         Orenburg        3.05       2.95        2.46   \n",
       "6397        Krasnodar 2          Yenisey        2.61       3.39        2.53   \n",
       "6395  Shinnik Yaroslavl            Tomsk        3.00       3.40        2.26   \n",
       "6394       Veles Moscow        FK Chayka        2.26       3.13        3.24   \n",
       "\n",
       "     objetivo  \n",
       "6399    TEAM2  \n",
       "6396     DRAW  \n",
       "6405    TEAM1  \n",
       "6397     DRAW  \n",
       "6395     DRAW  \n",
       "6394     DRAW  "
      ]
     },
     "execution_count": 30,
     "metadata": {},
     "output_type": "execute_result"
    }
   ],
   "source": [
    "df_prediccion = dsp.load_data(tbl=\"tbl_prediccion_50\")\n",
    "dsp.daily_prediction(df_prediccion)"
   ]
  },
  {
   "cell_type": "markdown",
   "metadata": {},
   "source": [
    "### Daily predictions machin4 EMPATE"
   ]
  },
  {
   "cell_type": "code",
   "execution_count": 31,
   "metadata": {},
   "outputs": [
    {
     "data": {
      "text/html": [
       "<div>\n",
       "<style scoped>\n",
       "    .dataframe tbody tr th:only-of-type {\n",
       "        vertical-align: middle;\n",
       "    }\n",
       "\n",
       "    .dataframe tbody tr th {\n",
       "        vertical-align: top;\n",
       "    }\n",
       "\n",
       "    .dataframe thead th {\n",
       "        text-align: right;\n",
       "    }\n",
       "</style>\n",
       "<table border=\"1\" class=\"dataframe\">\n",
       "  <thead>\n",
       "    <tr style=\"text-align: right;\">\n",
       "      <th></th>\n",
       "      <th>hora</th>\n",
       "      <th>date</th>\n",
       "      <th>area_league</th>\n",
       "      <th>team1</th>\n",
       "      <th>team2</th>\n",
       "      <th>team1_odds</th>\n",
       "      <th>draw_odds</th>\n",
       "      <th>team2_odds</th>\n",
       "      <th>objetivo</th>\n",
       "    </tr>\n",
       "  </thead>\n",
       "  <tbody>\n",
       "  </tbody>\n",
       "</table>\n",
       "</div>"
      ],
      "text/plain": [
       "Empty DataFrame\n",
       "Columns: [hora, date, area_league, team1, team2, team1_odds, draw_odds, team2_odds, objetivo]\n",
       "Index: []"
      ]
     },
     "execution_count": 31,
     "metadata": {},
     "output_type": "execute_result"
    }
   ],
   "source": [
    "df_prediccion = dsp.load_data(tbl=\"tbl_prediccion_machin4\")\n",
    "dsp.daily_prediction(df_prediccion)"
   ]
  },
  {
   "cell_type": "markdown",
   "metadata": {},
   "source": [
    "### Daily predictions machin5"
   ]
  },
  {
   "cell_type": "code",
   "execution_count": 32,
   "metadata": {},
   "outputs": [
    {
     "data": {
      "text/html": [
       "<div>\n",
       "<style scoped>\n",
       "    .dataframe tbody tr th:only-of-type {\n",
       "        vertical-align: middle;\n",
       "    }\n",
       "\n",
       "    .dataframe tbody tr th {\n",
       "        vertical-align: top;\n",
       "    }\n",
       "\n",
       "    .dataframe thead th {\n",
       "        text-align: right;\n",
       "    }\n",
       "</style>\n",
       "<table border=\"1\" class=\"dataframe\">\n",
       "  <thead>\n",
       "    <tr style=\"text-align: right;\">\n",
       "      <th></th>\n",
       "      <th>hora</th>\n",
       "      <th>date</th>\n",
       "      <th>area_league</th>\n",
       "      <th>team1</th>\n",
       "      <th>team2</th>\n",
       "      <th>team1_odds</th>\n",
       "      <th>draw_odds</th>\n",
       "      <th>team2_odds</th>\n",
       "      <th>objetivo</th>\n",
       "    </tr>\n",
       "  </thead>\n",
       "  <tbody>\n",
       "  </tbody>\n",
       "</table>\n",
       "</div>"
      ],
      "text/plain": [
       "Empty DataFrame\n",
       "Columns: [hora, date, area_league, team1, team2, team1_odds, draw_odds, team2_odds, objetivo]\n",
       "Index: []"
      ]
     },
     "execution_count": 32,
     "metadata": {},
     "output_type": "execute_result"
    }
   ],
   "source": [
    "df_prediccion = dsp.load_data(tbl=\"tbl_prediccion_machin5\")\n",
    "dsp.daily_prediction(df_prediccion)"
   ]
  },
  {
   "cell_type": "code",
   "execution_count": null,
   "metadata": {},
   "outputs": [],
   "source": []
  }
 ],
 "metadata": {
  "kernelspec": {
   "display_name": "Python 3",
   "language": "python",
   "name": "python3"
  },
  "language_info": {
   "codemirror_mode": {
    "name": "ipython",
    "version": 3
   },
   "file_extension": ".py",
   "mimetype": "text/x-python",
   "name": "python",
   "nbconvert_exporter": "python",
   "pygments_lexer": "ipython3",
   "version": "3.7.3"
  }
 },
 "nbformat": 4,
 "nbformat_minor": 2
}
