{
 "cells": [
  {
   "cell_type": "code",
   "execution_count": 1,
   "metadata": {},
   "outputs": [],
   "source": [
    "import os\n",
    "import pandas as pd\n",
    "import numpy as np\n",
    "import warnings\n",
    "warnings.filterwarnings('ignore')\n",
    "import datetime\n",
    "import dsp"
   ]
  },
  {
   "cell_type": "markdown",
   "metadata": {},
   "source": [
    "# Daily selection"
   ]
  },
  {
   "cell_type": "markdown",
   "metadata": {},
   "source": [
    "___"
   ]
  },
  {
   "cell_type": "markdown",
   "metadata": {},
   "source": [
    "### Premium"
   ]
  },
  {
   "cell_type": "code",
   "execution_count": 2,
   "metadata": {},
   "outputs": [
    {
     "data": {
      "text/html": [
       "<div>\n",
       "<style scoped>\n",
       "    .dataframe tbody tr th:only-of-type {\n",
       "        vertical-align: middle;\n",
       "    }\n",
       "\n",
       "    .dataframe tbody tr th {\n",
       "        vertical-align: top;\n",
       "    }\n",
       "\n",
       "    .dataframe thead th {\n",
       "        text-align: right;\n",
       "    }\n",
       "</style>\n",
       "<table border=\"1\" class=\"dataframe\">\n",
       "  <thead>\n",
       "    <tr style=\"text-align: right;\">\n",
       "      <th></th>\n",
       "      <th>date</th>\n",
       "      <th>hora</th>\n",
       "      <th>sport</th>\n",
       "      <th>area</th>\n",
       "      <th>league</th>\n",
       "      <th>team1</th>\n",
       "      <th>team2</th>\n",
       "      <th>objetivo</th>\n",
       "      <th>outcome</th>\n",
       "      <th>odd</th>\n",
       "      <th>m_criterio</th>\n",
       "    </tr>\n",
       "  </thead>\n",
       "  <tbody>\n",
       "  </tbody>\n",
       "</table>\n",
       "</div>"
      ],
      "text/plain": [
       "Empty DataFrame\n",
       "Columns: [date, hora, sport, area, league, team1, team2, objetivo, outcome, odd, m_criterio]\n",
       "Index: []"
      ]
     },
     "execution_count": 2,
     "metadata": {},
     "output_type": "execute_result"
    }
   ],
   "source": [
    "df_prediccion = dsp.load_data(tbl=\"tbl_prediccion_premium\")\n",
    "dsp.daily_prediction_criterio(df_prediccion)"
   ]
  },
  {
   "cell_type": "markdown",
   "metadata": {},
   "source": [
    "### Criterio"
   ]
  },
  {
   "cell_type": "code",
   "execution_count": 3,
   "metadata": {},
   "outputs": [
    {
     "data": {
      "text/html": [
       "<div>\n",
       "<style scoped>\n",
       "    .dataframe tbody tr th:only-of-type {\n",
       "        vertical-align: middle;\n",
       "    }\n",
       "\n",
       "    .dataframe tbody tr th {\n",
       "        vertical-align: top;\n",
       "    }\n",
       "\n",
       "    .dataframe thead th {\n",
       "        text-align: right;\n",
       "    }\n",
       "</style>\n",
       "<table border=\"1\" class=\"dataframe\">\n",
       "  <thead>\n",
       "    <tr style=\"text-align: right;\">\n",
       "      <th></th>\n",
       "      <th>date</th>\n",
       "      <th>hora</th>\n",
       "      <th>sport</th>\n",
       "      <th>area</th>\n",
       "      <th>league</th>\n",
       "      <th>team1</th>\n",
       "      <th>team2</th>\n",
       "      <th>objetivo</th>\n",
       "      <th>odd</th>\n",
       "      <th>m_criterio</th>\n",
       "    </tr>\n",
       "  </thead>\n",
       "  <tbody>\n",
       "    <tr>\n",
       "      <th>438</th>\n",
       "      <td>2020-10-15</td>\n",
       "      <td>15:30</td>\n",
       "      <td>soccer</td>\n",
       "      <td>finland</td>\n",
       "      <td>veikkausliiga</td>\n",
       "      <td>Honka</td>\n",
       "      <td>Mariehamn</td>\n",
       "      <td>TEAM1</td>\n",
       "      <td>1.45</td>\n",
       "      <td>167</td>\n",
       "    </tr>\n",
       "    <tr>\n",
       "      <th>442</th>\n",
       "      <td>2020-10-15</td>\n",
       "      <td>15:30</td>\n",
       "      <td>soccer</td>\n",
       "      <td>finland</td>\n",
       "      <td>ykkonen</td>\n",
       "      <td>KTP</td>\n",
       "      <td>KPV Kokkola</td>\n",
       "      <td>TEAM1</td>\n",
       "      <td>1.93</td>\n",
       "      <td>138</td>\n",
       "    </tr>\n",
       "    <tr>\n",
       "      <th>441</th>\n",
       "      <td>2020-10-15</td>\n",
       "      <td>11:30</td>\n",
       "      <td>soccer</td>\n",
       "      <td>turkey</td>\n",
       "      <td>turkish-cup</td>\n",
       "      <td>Tokatspor</td>\n",
       "      <td>Erbaaspor</td>\n",
       "      <td>TEAM1</td>\n",
       "      <td>2.22</td>\n",
       "      <td>155</td>\n",
       "    </tr>\n",
       "    <tr>\n",
       "      <th>440</th>\n",
       "      <td>2020-10-15</td>\n",
       "      <td>01:30</td>\n",
       "      <td>soccer</td>\n",
       "      <td>usa</td>\n",
       "      <td>mls</td>\n",
       "      <td>Real Salt Lake</td>\n",
       "      <td>Portland Timbers</td>\n",
       "      <td>TEAM2</td>\n",
       "      <td>2.75</td>\n",
       "      <td>252</td>\n",
       "    </tr>\n",
       "    <tr>\n",
       "      <th>439</th>\n",
       "      <td>2020-10-15</td>\n",
       "      <td>11:00</td>\n",
       "      <td>soccer</td>\n",
       "      <td>vietnam</td>\n",
       "      <td>v-league-1</td>\n",
       "      <td>Hong Linh Ha Tinh</td>\n",
       "      <td>Than Quang Ninh</td>\n",
       "      <td>TEAM2</td>\n",
       "      <td>3.09</td>\n",
       "      <td>288</td>\n",
       "    </tr>\n",
       "  </tbody>\n",
       "</table>\n",
       "</div>"
      ],
      "text/plain": [
       "           date   hora   sport     area         league              team1  \\\n",
       "438  2020-10-15  15:30  soccer  finland  veikkausliiga              Honka   \n",
       "442  2020-10-15  15:30  soccer  finland        ykkonen                KTP   \n",
       "441  2020-10-15  11:30  soccer   turkey    turkish-cup          Tokatspor   \n",
       "440  2020-10-15  01:30  soccer      usa            mls     Real Salt Lake   \n",
       "439  2020-10-15  11:00  soccer  vietnam     v-league-1  Hong Linh Ha Tinh   \n",
       "\n",
       "                team2 objetivo   odd  m_criterio  \n",
       "438         Mariehamn    TEAM1  1.45         167  \n",
       "442       KPV Kokkola    TEAM1  1.93         138  \n",
       "441         Erbaaspor    TEAM1  2.22         155  \n",
       "440  Portland Timbers    TEAM2  2.75         252  \n",
       "439   Than Quang Ninh    TEAM2  3.09         288  "
      ]
     },
     "execution_count": 3,
     "metadata": {},
     "output_type": "execute_result"
    }
   ],
   "source": [
    "df_prediccion = dsp.load_data(tbl=\"tbl_prediccion_machinTAN_criterio\")\n",
    "dsp.daily_prediction_criterio(df_prediccion)"
   ]
  },
  {
   "cell_type": "markdown",
   "metadata": {},
   "source": [
    "### TAN!! SPECIAL SELECTION"
   ]
  },
  {
   "cell_type": "code",
   "execution_count": 4,
   "metadata": {},
   "outputs": [
    {
     "data": {
      "text/html": [
       "<div>\n",
       "<style scoped>\n",
       "    .dataframe tbody tr th:only-of-type {\n",
       "        vertical-align: middle;\n",
       "    }\n",
       "\n",
       "    .dataframe tbody tr th {\n",
       "        vertical-align: top;\n",
       "    }\n",
       "\n",
       "    .dataframe thead th {\n",
       "        text-align: right;\n",
       "    }\n",
       "</style>\n",
       "<table border=\"1\" class=\"dataframe\">\n",
       "  <thead>\n",
       "    <tr style=\"text-align: right;\">\n",
       "      <th></th>\n",
       "      <th>hora</th>\n",
       "      <th>date</th>\n",
       "      <th>area_league</th>\n",
       "      <th>team1</th>\n",
       "      <th>team2</th>\n",
       "      <th>team1_odds</th>\n",
       "      <th>draw_odds</th>\n",
       "      <th>team2_odds</th>\n",
       "      <th>objetivo</th>\n",
       "    </tr>\n",
       "  </thead>\n",
       "  <tbody>\n",
       "  </tbody>\n",
       "</table>\n",
       "</div>"
      ],
      "text/plain": [
       "Empty DataFrame\n",
       "Columns: [hora, date, area_league, team1, team2, team1_odds, draw_odds, team2_odds, objetivo]\n",
       "Index: []"
      ]
     },
     "execution_count": 4,
     "metadata": {},
     "output_type": "execute_result"
    }
   ],
   "source": [
    "df_prediccion = dsp.load_data(tbl=\"tbl_prediccion_machinTAN\")\n",
    "dsp.daily_prediction(df_prediccion)"
   ]
  },
  {
   "cell_type": "markdown",
   "metadata": {},
   "source": [
    "___"
   ]
  },
  {
   "cell_type": "code",
   "execution_count": 5,
   "metadata": {},
   "outputs": [
    {
     "data": {
      "text/html": [
       "<div>\n",
       "<style scoped>\n",
       "    .dataframe tbody tr th:only-of-type {\n",
       "        vertical-align: middle;\n",
       "    }\n",
       "\n",
       "    .dataframe tbody tr th {\n",
       "        vertical-align: top;\n",
       "    }\n",
       "\n",
       "    .dataframe thead th {\n",
       "        text-align: right;\n",
       "    }\n",
       "</style>\n",
       "<table border=\"1\" class=\"dataframe\">\n",
       "  <thead>\n",
       "    <tr style=\"text-align: right;\">\n",
       "      <th></th>\n",
       "      <th>hora</th>\n",
       "      <th>date</th>\n",
       "      <th>area_league</th>\n",
       "      <th>team1</th>\n",
       "      <th>team2</th>\n",
       "      <th>team1_odds</th>\n",
       "      <th>draw_odds</th>\n",
       "      <th>team2_odds</th>\n",
       "      <th>objetivo</th>\n",
       "    </tr>\n",
       "  </thead>\n",
       "  <tbody>\n",
       "    <tr>\n",
       "      <th>325</th>\n",
       "      <td>15:30</td>\n",
       "      <td>2020-10-15</td>\n",
       "      <td>/soccer/finland/veikkausliiga/honka-mariehamn-...</td>\n",
       "      <td>Honka</td>\n",
       "      <td>Mariehamn</td>\n",
       "      <td>1.45</td>\n",
       "      <td>4.59</td>\n",
       "      <td>6.79</td>\n",
       "      <td>TEAM1</td>\n",
       "    </tr>\n",
       "  </tbody>\n",
       "</table>\n",
       "</div>"
      ],
      "text/plain": [
       "      hora        date                                        area_league  \\\n",
       "325  15:30  2020-10-15  /soccer/finland/veikkausliiga/honka-mariehamn-...   \n",
       "\n",
       "     team1      team2 team1_odds draw_odds team2_odds objetivo  \n",
       "325  Honka  Mariehamn       1.45      4.59       6.79    TEAM1  "
      ]
     },
     "execution_count": 5,
     "metadata": {},
     "output_type": "execute_result"
    }
   ],
   "source": [
    "df_prediccion = dsp.load_data(tbl=\"tbl_prediccion_machinTAN11\")\n",
    "dsp.daily_prediction(df_prediccion)"
   ]
  },
  {
   "cell_type": "code",
   "execution_count": 6,
   "metadata": {},
   "outputs": [
    {
     "data": {
      "text/html": [
       "<div>\n",
       "<style scoped>\n",
       "    .dataframe tbody tr th:only-of-type {\n",
       "        vertical-align: middle;\n",
       "    }\n",
       "\n",
       "    .dataframe tbody tr th {\n",
       "        vertical-align: top;\n",
       "    }\n",
       "\n",
       "    .dataframe thead th {\n",
       "        text-align: right;\n",
       "    }\n",
       "</style>\n",
       "<table border=\"1\" class=\"dataframe\">\n",
       "  <thead>\n",
       "    <tr style=\"text-align: right;\">\n",
       "      <th></th>\n",
       "      <th>date</th>\n",
       "      <th>hora</th>\n",
       "      <th>sport</th>\n",
       "      <th>area</th>\n",
       "      <th>league</th>\n",
       "      <th>team1</th>\n",
       "      <th>team2</th>\n",
       "      <th>objetivo</th>\n",
       "      <th>odd</th>\n",
       "      <th>m_criterio</th>\n",
       "    </tr>\n",
       "  </thead>\n",
       "  <tbody>\n",
       "    <tr>\n",
       "      <th>156</th>\n",
       "      <td>2020-10-15</td>\n",
       "      <td>15:30</td>\n",
       "      <td>soccer</td>\n",
       "      <td>finland</td>\n",
       "      <td>veikkausliiga</td>\n",
       "      <td>Honka</td>\n",
       "      <td>Mariehamn</td>\n",
       "      <td>TEAM1</td>\n",
       "      <td>1.45</td>\n",
       "      <td>1000</td>\n",
       "    </tr>\n",
       "  </tbody>\n",
       "</table>\n",
       "</div>"
      ],
      "text/plain": [
       "           date   hora   sport     area         league  team1      team2  \\\n",
       "156  2020-10-15  15:30  soccer  finland  veikkausliiga  Honka  Mariehamn   \n",
       "\n",
       "    objetivo   odd  m_criterio  \n",
       "156    TEAM1  1.45        1000  "
      ]
     },
     "execution_count": 6,
     "metadata": {},
     "output_type": "execute_result"
    }
   ],
   "source": [
    "df_prediccion = dsp.load_data(tbl=\"tbl_prediccion_machinTAN_criterio2\")\n",
    "dsp.daily_prediction_criterio(df_prediccion)"
   ]
  },
  {
   "cell_type": "code",
   "execution_count": 7,
   "metadata": {},
   "outputs": [
    {
     "data": {
      "text/html": [
       "<div>\n",
       "<style scoped>\n",
       "    .dataframe tbody tr th:only-of-type {\n",
       "        vertical-align: middle;\n",
       "    }\n",
       "\n",
       "    .dataframe tbody tr th {\n",
       "        vertical-align: top;\n",
       "    }\n",
       "\n",
       "    .dataframe thead th {\n",
       "        text-align: right;\n",
       "    }\n",
       "</style>\n",
       "<table border=\"1\" class=\"dataframe\">\n",
       "  <thead>\n",
       "    <tr style=\"text-align: right;\">\n",
       "      <th></th>\n",
       "      <th>date</th>\n",
       "      <th>hora</th>\n",
       "      <th>sport</th>\n",
       "      <th>area</th>\n",
       "      <th>league</th>\n",
       "      <th>team1</th>\n",
       "      <th>team2</th>\n",
       "      <th>objetivo</th>\n",
       "      <th>odd</th>\n",
       "      <th>m_criterio</th>\n",
       "    </tr>\n",
       "  </thead>\n",
       "  <tbody>\n",
       "  </tbody>\n",
       "</table>\n",
       "</div>"
      ],
      "text/plain": [
       "Empty DataFrame\n",
       "Columns: [date, hora, sport, area, league, team1, team2, objetivo, odd, m_criterio]\n",
       "Index: []"
      ]
     },
     "execution_count": 7,
     "metadata": {},
     "output_type": "execute_result"
    }
   ],
   "source": [
    "df_prediccion = dsp.load_data(tbl=\"tbl_prediccion_machinTAN_criterio3\")\n",
    "dsp.daily_prediction_criterio(df_prediccion)"
   ]
  },
  {
   "cell_type": "code",
   "execution_count": 8,
   "metadata": {},
   "outputs": [
    {
     "data": {
      "text/html": [
       "<div>\n",
       "<style scoped>\n",
       "    .dataframe tbody tr th:only-of-type {\n",
       "        vertical-align: middle;\n",
       "    }\n",
       "\n",
       "    .dataframe tbody tr th {\n",
       "        vertical-align: top;\n",
       "    }\n",
       "\n",
       "    .dataframe thead th {\n",
       "        text-align: right;\n",
       "    }\n",
       "</style>\n",
       "<table border=\"1\" class=\"dataframe\">\n",
       "  <thead>\n",
       "    <tr style=\"text-align: right;\">\n",
       "      <th></th>\n",
       "      <th>date</th>\n",
       "      <th>hora</th>\n",
       "      <th>sport</th>\n",
       "      <th>area</th>\n",
       "      <th>league</th>\n",
       "      <th>team1</th>\n",
       "      <th>team2</th>\n",
       "      <th>objetivo</th>\n",
       "      <th>odd</th>\n",
       "      <th>criterio</th>\n",
       "      <th>outcome</th>\n",
       "    </tr>\n",
       "  </thead>\n",
       "  <tbody>\n",
       "    <tr>\n",
       "      <th>299</th>\n",
       "      <td>2020-10-15</td>\n",
       "      <td>00:40</td>\n",
       "      <td>baseball</td>\n",
       "      <td>usa</td>\n",
       "      <td>mlb</td>\n",
       "      <td>Houston Astros</td>\n",
       "      <td>Tampa Bay Rays</td>\n",
       "      <td>10.5</td>\n",
       "      <td>1.41</td>\n",
       "      <td>100</td>\n",
       "      <td>0.395592</td>\n",
       "    </tr>\n",
       "  </tbody>\n",
       "</table>\n",
       "</div>"
      ],
      "text/plain": [
       "           date   hora     sport area league           team1           team2  \\\n",
       "299  2020-10-15  00:40  baseball  usa    mlb  Houston Astros  Tampa Bay Rays   \n",
       "\n",
       "     objetivo   odd  criterio   outcome  \n",
       "299      10.5  1.41       100  0.395592  "
      ]
     },
     "execution_count": 8,
     "metadata": {},
     "output_type": "execute_result"
    }
   ],
   "source": [
    "df_prediccion = dsp.load_data(tbl=\"tbl_prediccion_base1\")\n",
    "dsp.daily_prediction_criterio(df_prediccion)"
   ]
  },
  {
   "cell_type": "markdown",
   "metadata": {},
   "source": [
    "### MLB"
   ]
  },
  {
   "cell_type": "code",
   "execution_count": 9,
   "metadata": {},
   "outputs": [
    {
     "data": {
      "text/html": [
       "<div>\n",
       "<style scoped>\n",
       "    .dataframe tbody tr th:only-of-type {\n",
       "        vertical-align: middle;\n",
       "    }\n",
       "\n",
       "    .dataframe tbody tr th {\n",
       "        vertical-align: top;\n",
       "    }\n",
       "\n",
       "    .dataframe thead th {\n",
       "        text-align: right;\n",
       "    }\n",
       "</style>\n",
       "<table border=\"1\" class=\"dataframe\">\n",
       "  <thead>\n",
       "    <tr style=\"text-align: right;\">\n",
       "      <th></th>\n",
       "      <th>hora</th>\n",
       "      <th>date</th>\n",
       "      <th>area_league</th>\n",
       "      <th>team1</th>\n",
       "      <th>team2</th>\n",
       "      <th>team1_odds</th>\n",
       "      <th>draw_odds</th>\n",
       "      <th>team2_odds</th>\n",
       "      <th>objetivo</th>\n",
       "    </tr>\n",
       "  </thead>\n",
       "  <tbody>\n",
       "  </tbody>\n",
       "</table>\n",
       "</div>"
      ],
      "text/plain": [
       "Empty DataFrame\n",
       "Columns: [hora, date, area_league, team1, team2, team1_odds, draw_odds, team2_odds, objetivo]\n",
       "Index: []"
      ]
     },
     "execution_count": 9,
     "metadata": {},
     "output_type": "execute_result"
    }
   ],
   "source": [
    "df_prediccion = dsp.load_data(tbl=\"tbl_prediccion_machin_base1\")\n",
    "dp = dsp.daily_prediction(df_prediccion)\n",
    "dp.sort_values(by=['hora'],ascending=True)"
   ]
  },
  {
   "cell_type": "markdown",
   "metadata": {},
   "source": [
    "### LIGA MX"
   ]
  },
  {
   "cell_type": "code",
   "execution_count": 10,
   "metadata": {},
   "outputs": [
    {
     "data": {
      "text/html": [
       "<div>\n",
       "<style scoped>\n",
       "    .dataframe tbody tr th:only-of-type {\n",
       "        vertical-align: middle;\n",
       "    }\n",
       "\n",
       "    .dataframe tbody tr th {\n",
       "        vertical-align: top;\n",
       "    }\n",
       "\n",
       "    .dataframe thead th {\n",
       "        text-align: right;\n",
       "    }\n",
       "</style>\n",
       "<table border=\"1\" class=\"dataframe\">\n",
       "  <thead>\n",
       "    <tr style=\"text-align: right;\">\n",
       "      <th></th>\n",
       "      <th>date</th>\n",
       "      <th>hora</th>\n",
       "      <th>sport</th>\n",
       "      <th>area</th>\n",
       "      <th>league</th>\n",
       "      <th>team1</th>\n",
       "      <th>team2</th>\n",
       "      <th>objetivo</th>\n",
       "      <th>outcome</th>\n",
       "      <th>odd</th>\n",
       "      <th>m_criterio</th>\n",
       "    </tr>\n",
       "  </thead>\n",
       "  <tbody>\n",
       "  </tbody>\n",
       "</table>\n",
       "</div>"
      ],
      "text/plain": [
       "Empty DataFrame\n",
       "Columns: [date, hora, sport, area, league, team1, team2, objetivo, outcome, odd, m_criterio]\n",
       "Index: []"
      ]
     },
     "execution_count": 10,
     "metadata": {},
     "output_type": "execute_result"
    }
   ],
   "source": [
    "df_prediccion = dsp.load_data(tbl=\"tbl_prediccion_machin_mx1\")\n",
    "dsp.daily_prediction_criterio(df_prediccion)"
   ]
  },
  {
   "cell_type": "markdown",
   "metadata": {},
   "source": [
    "### NFL"
   ]
  },
  {
   "cell_type": "code",
   "execution_count": 11,
   "metadata": {},
   "outputs": [
    {
     "data": {
      "text/html": [
       "<div>\n",
       "<style scoped>\n",
       "    .dataframe tbody tr th:only-of-type {\n",
       "        vertical-align: middle;\n",
       "    }\n",
       "\n",
       "    .dataframe tbody tr th {\n",
       "        vertical-align: top;\n",
       "    }\n",
       "\n",
       "    .dataframe thead th {\n",
       "        text-align: right;\n",
       "    }\n",
       "</style>\n",
       "<table border=\"1\" class=\"dataframe\">\n",
       "  <thead>\n",
       "    <tr style=\"text-align: right;\">\n",
       "      <th></th>\n",
       "      <th>date</th>\n",
       "      <th>hora</th>\n",
       "      <th>sport</th>\n",
       "      <th>area</th>\n",
       "      <th>league</th>\n",
       "      <th>team1</th>\n",
       "      <th>team2</th>\n",
       "      <th>objetivo</th>\n",
       "      <th>outcome</th>\n",
       "      <th>odd</th>\n",
       "      <th>m_criterio</th>\n",
       "    </tr>\n",
       "  </thead>\n",
       "  <tbody>\n",
       "  </tbody>\n",
       "</table>\n",
       "</div>"
      ],
      "text/plain": [
       "Empty DataFrame\n",
       "Columns: [date, hora, sport, area, league, team1, team2, objetivo, outcome, odd, m_criterio]\n",
       "Index: []"
      ]
     },
     "execution_count": 11,
     "metadata": {},
     "output_type": "execute_result"
    }
   ],
   "source": [
    "df_prediccion = dsp.load_data(tbl=\"tbl_prediccion_machin_nfl1\")\n",
    "dsp.daily_prediction_criterio(df_prediccion)"
   ]
  },
  {
   "cell_type": "markdown",
   "metadata": {},
   "source": [
    "### Daily predictions machin3."
   ]
  },
  {
   "cell_type": "code",
   "execution_count": 12,
   "metadata": {},
   "outputs": [
    {
     "data": {
      "text/html": [
       "<div>\n",
       "<style scoped>\n",
       "    .dataframe tbody tr th:only-of-type {\n",
       "        vertical-align: middle;\n",
       "    }\n",
       "\n",
       "    .dataframe tbody tr th {\n",
       "        vertical-align: top;\n",
       "    }\n",
       "\n",
       "    .dataframe thead th {\n",
       "        text-align: right;\n",
       "    }\n",
       "</style>\n",
       "<table border=\"1\" class=\"dataframe\">\n",
       "  <thead>\n",
       "    <tr style=\"text-align: right;\">\n",
       "      <th></th>\n",
       "      <th>hora</th>\n",
       "      <th>date</th>\n",
       "      <th>area_league</th>\n",
       "      <th>team1</th>\n",
       "      <th>team2</th>\n",
       "      <th>team1_odds</th>\n",
       "      <th>draw_odds</th>\n",
       "      <th>team2_odds</th>\n",
       "      <th>objetivo</th>\n",
       "    </tr>\n",
       "  </thead>\n",
       "  <tbody>\n",
       "  </tbody>\n",
       "</table>\n",
       "</div>"
      ],
      "text/plain": [
       "Empty DataFrame\n",
       "Columns: [hora, date, area_league, team1, team2, team1_odds, draw_odds, team2_odds, objetivo]\n",
       "Index: []"
      ]
     },
     "execution_count": 12,
     "metadata": {},
     "output_type": "execute_result"
    }
   ],
   "source": [
    "df_prediccion = dsp.load_data(tbl=\"tbl_prediccion_machin3\")\n",
    "dsp.daily_prediction(df_prediccion)"
   ]
  },
  {
   "cell_type": "markdown",
   "metadata": {},
   "source": [
    "### Daily predictions machin6  "
   ]
  },
  {
   "cell_type": "markdown",
   "metadata": {},
   "source": [
    "Objetivo > .50 TEAM1  | Objetivo < .50 TEAM2"
   ]
  },
  {
   "cell_type": "code",
   "execution_count": 13,
   "metadata": {},
   "outputs": [
    {
     "data": {
      "text/html": [
       "<div>\n",
       "<style scoped>\n",
       "    .dataframe tbody tr th:only-of-type {\n",
       "        vertical-align: middle;\n",
       "    }\n",
       "\n",
       "    .dataframe tbody tr th {\n",
       "        vertical-align: top;\n",
       "    }\n",
       "\n",
       "    .dataframe thead th {\n",
       "        text-align: right;\n",
       "    }\n",
       "</style>\n",
       "<table border=\"1\" class=\"dataframe\">\n",
       "  <thead>\n",
       "    <tr style=\"text-align: right;\">\n",
       "      <th></th>\n",
       "      <th>hora</th>\n",
       "      <th>date</th>\n",
       "      <th>area_league</th>\n",
       "      <th>team1</th>\n",
       "      <th>team2</th>\n",
       "      <th>team1_odds</th>\n",
       "      <th>draw_odds</th>\n",
       "      <th>team2_odds</th>\n",
       "      <th>objetivo</th>\n",
       "    </tr>\n",
       "  </thead>\n",
       "  <tbody>\n",
       "    <tr>\n",
       "      <th>3284</th>\n",
       "      <td>15:30</td>\n",
       "      <td>2020-10-15</td>\n",
       "      <td>/soccer/finland/ykkonen/ktp-kpv-kokkola-KK7OP1Qu/</td>\n",
       "      <td>KTP</td>\n",
       "      <td>KPV Kokkola</td>\n",
       "      <td>1.93</td>\n",
       "      <td>3.84</td>\n",
       "      <td>3.37</td>\n",
       "      <td>0.632470</td>\n",
       "    </tr>\n",
       "    <tr>\n",
       "      <th>3277</th>\n",
       "      <td>00:00</td>\n",
       "      <td>2020-10-15</td>\n",
       "      <td>/soccer/usa/mls/minnesota-united-chicago-fire-...</td>\n",
       "      <td>Minnesota United</td>\n",
       "      <td>Chicago Fire</td>\n",
       "      <td>2.11</td>\n",
       "      <td>3.72</td>\n",
       "      <td>3.23</td>\n",
       "      <td>0.590587</td>\n",
       "    </tr>\n",
       "    <tr>\n",
       "      <th>3279</th>\n",
       "      <td>00:00</td>\n",
       "      <td>2020-10-15</td>\n",
       "      <td>/soccer/usa/mls/inter-miami-atlanta-united-U3p...</td>\n",
       "      <td>Inter Miami</td>\n",
       "      <td>Atlanta Utd</td>\n",
       "      <td>1.83</td>\n",
       "      <td>3.63</td>\n",
       "      <td>4.35</td>\n",
       "      <td>0.579225</td>\n",
       "    </tr>\n",
       "    <tr>\n",
       "      <th>3276</th>\n",
       "      <td>00:00</td>\n",
       "      <td>2020-10-15</td>\n",
       "      <td>/soccer/usa/mls/houston-dynamo-nashville-sc-UL...</td>\n",
       "      <td>Houston Dynamo</td>\n",
       "      <td>Nashville SC</td>\n",
       "      <td>1.95</td>\n",
       "      <td>3.54</td>\n",
       "      <td>3.91</td>\n",
       "      <td>0.538884</td>\n",
       "    </tr>\n",
       "    <tr>\n",
       "      <th>3280</th>\n",
       "      <td>00:30</td>\n",
       "      <td>2020-10-15</td>\n",
       "      <td>/soccer/usa/mls/fc-dallas-sporting-kansas-city...</td>\n",
       "      <td>FC Dallas</td>\n",
       "      <td>Sporting Kansas City</td>\n",
       "      <td>2.36</td>\n",
       "      <td>3.64</td>\n",
       "      <td>2.82</td>\n",
       "      <td>0.485903</td>\n",
       "    </tr>\n",
       "    <tr>\n",
       "      <th>3283</th>\n",
       "      <td>02:30</td>\n",
       "      <td>2020-10-15</td>\n",
       "      <td>/soccer/usa/mls/los-angeles-galaxy-san-jose-ea...</td>\n",
       "      <td>Los Angeles Galaxy</td>\n",
       "      <td>San Jose Earthquakes</td>\n",
       "      <td>1.79</td>\n",
       "      <td>4.08</td>\n",
       "      <td>4.02</td>\n",
       "      <td>0.483871</td>\n",
       "    </tr>\n",
       "    <tr>\n",
       "      <th>3282</th>\n",
       "      <td>02:00</td>\n",
       "      <td>2020-10-15</td>\n",
       "      <td>/soccer/usa/mls/vancouver-whitecaps-los-angele...</td>\n",
       "      <td>Vancouver Whitecaps</td>\n",
       "      <td>Los Angeles FC</td>\n",
       "      <td>5.14</td>\n",
       "      <td>4.43</td>\n",
       "      <td>1.58</td>\n",
       "      <td>0.436910</td>\n",
       "    </tr>\n",
       "    <tr>\n",
       "      <th>3281</th>\n",
       "      <td>01:30</td>\n",
       "      <td>2020-10-15</td>\n",
       "      <td>/soccer/usa/mls/real-salt-lake-portland-timber...</td>\n",
       "      <td>Real Salt Lake</td>\n",
       "      <td>Portland Timbers</td>\n",
       "      <td>2.42</td>\n",
       "      <td>3.65</td>\n",
       "      <td>2.75</td>\n",
       "      <td>0.386942</td>\n",
       "    </tr>\n",
       "    <tr>\n",
       "      <th>3278</th>\n",
       "      <td>00:00</td>\n",
       "      <td>2020-10-15</td>\n",
       "      <td>/soccer/usa/mls/dc-united-philadelphia-union-Y...</td>\n",
       "      <td>DC United</td>\n",
       "      <td>Philadelphia Union</td>\n",
       "      <td>3.96</td>\n",
       "      <td>3.70</td>\n",
       "      <td>1.89</td>\n",
       "      <td>0.330603</td>\n",
       "    </tr>\n",
       "  </tbody>\n",
       "</table>\n",
       "</div>"
      ],
      "text/plain": [
       "       hora        date                                        area_league  \\\n",
       "3284  15:30  2020-10-15  /soccer/finland/ykkonen/ktp-kpv-kokkola-KK7OP1Qu/   \n",
       "3277  00:00  2020-10-15  /soccer/usa/mls/minnesota-united-chicago-fire-...   \n",
       "3279  00:00  2020-10-15  /soccer/usa/mls/inter-miami-atlanta-united-U3p...   \n",
       "3276  00:00  2020-10-15  /soccer/usa/mls/houston-dynamo-nashville-sc-UL...   \n",
       "3280  00:30  2020-10-15  /soccer/usa/mls/fc-dallas-sporting-kansas-city...   \n",
       "3283  02:30  2020-10-15  /soccer/usa/mls/los-angeles-galaxy-san-jose-ea...   \n",
       "3282  02:00  2020-10-15  /soccer/usa/mls/vancouver-whitecaps-los-angele...   \n",
       "3281  01:30  2020-10-15  /soccer/usa/mls/real-salt-lake-portland-timber...   \n",
       "3278  00:00  2020-10-15  /soccer/usa/mls/dc-united-philadelphia-union-Y...   \n",
       "\n",
       "                    team1                 team2 team1_odds draw_odds  \\\n",
       "3284                  KTP           KPV Kokkola       1.93      3.84   \n",
       "3277     Minnesota United          Chicago Fire       2.11      3.72   \n",
       "3279          Inter Miami           Atlanta Utd       1.83      3.63   \n",
       "3276       Houston Dynamo          Nashville SC       1.95      3.54   \n",
       "3280            FC Dallas  Sporting Kansas City       2.36      3.64   \n",
       "3283   Los Angeles Galaxy  San Jose Earthquakes       1.79      4.08   \n",
       "3282  Vancouver Whitecaps        Los Angeles FC       5.14      4.43   \n",
       "3281       Real Salt Lake      Portland Timbers       2.42      3.65   \n",
       "3278            DC United    Philadelphia Union       3.96      3.70   \n",
       "\n",
       "     team2_odds  objetivo  \n",
       "3284       3.37  0.632470  \n",
       "3277       3.23  0.590587  \n",
       "3279       4.35  0.579225  \n",
       "3276       3.91  0.538884  \n",
       "3280       2.82  0.485903  \n",
       "3283       4.02  0.483871  \n",
       "3282       1.58  0.436910  \n",
       "3281       2.75  0.386942  \n",
       "3278       1.89  0.330603  "
      ]
     },
     "execution_count": 13,
     "metadata": {},
     "output_type": "execute_result"
    }
   ],
   "source": [
    "df_prediccion = dsp.load_data(tbl=\"tbl_prediccion_machin6\")\n",
    "dp = dsp.daily_prediction(df_prediccion)\n",
    "dp.sort_values(by=['objetivo'],ascending=False)"
   ]
  },
  {
   "cell_type": "markdown",
   "metadata": {},
   "source": [
    "___"
   ]
  },
  {
   "cell_type": "markdown",
   "metadata": {},
   "source": [
    "## EXPERIMENTAL "
   ]
  },
  {
   "cell_type": "markdown",
   "metadata": {},
   "source": [
    "### Daily model 53"
   ]
  },
  {
   "cell_type": "code",
   "execution_count": 14,
   "metadata": {},
   "outputs": [
    {
     "data": {
      "text/html": [
       "<div>\n",
       "<style scoped>\n",
       "    .dataframe tbody tr th:only-of-type {\n",
       "        vertical-align: middle;\n",
       "    }\n",
       "\n",
       "    .dataframe tbody tr th {\n",
       "        vertical-align: top;\n",
       "    }\n",
       "\n",
       "    .dataframe thead th {\n",
       "        text-align: right;\n",
       "    }\n",
       "</style>\n",
       "<table border=\"1\" class=\"dataframe\">\n",
       "  <thead>\n",
       "    <tr style=\"text-align: right;\">\n",
       "      <th></th>\n",
       "      <th>hora</th>\n",
       "      <th>date</th>\n",
       "      <th>area_league</th>\n",
       "      <th>team1</th>\n",
       "      <th>team2</th>\n",
       "      <th>team1_odds</th>\n",
       "      <th>draw_odds</th>\n",
       "      <th>team2_odds</th>\n",
       "      <th>objetivo</th>\n",
       "    </tr>\n",
       "  </thead>\n",
       "  <tbody>\n",
       "    <tr>\n",
       "      <th>294</th>\n",
       "      <td>15:30</td>\n",
       "      <td>2020-10-15</td>\n",
       "      <td>/soccer/finland/ykkonen/ktp-kpv-kokkola-KK7OP1Qu/</td>\n",
       "      <td>KTP</td>\n",
       "      <td>KPV Kokkola</td>\n",
       "      <td>1.93</td>\n",
       "      <td>3.84</td>\n",
       "      <td>3.37</td>\n",
       "      <td>TEAM2</td>\n",
       "    </tr>\n",
       "  </tbody>\n",
       "</table>\n",
       "</div>"
      ],
      "text/plain": [
       "      hora        date                                        area_league  \\\n",
       "294  15:30  2020-10-15  /soccer/finland/ykkonen/ktp-kpv-kokkola-KK7OP1Qu/   \n",
       "\n",
       "    team1        team2 team1_odds draw_odds team2_odds objetivo  \n",
       "294   KTP  KPV Kokkola       1.93      3.84       3.37    TEAM2  "
      ]
     },
     "execution_count": 14,
     "metadata": {},
     "output_type": "execute_result"
    }
   ],
   "source": [
    "df_prediccion = dsp.load_data(tbl=\"tbl_prediccion_53\")\n",
    "dsp.daily_prediction(df_prediccion)"
   ]
  },
  {
   "cell_type": "code",
   "execution_count": 15,
   "metadata": {},
   "outputs": [
    {
     "data": {
      "text/html": [
       "<div>\n",
       "<style scoped>\n",
       "    .dataframe tbody tr th:only-of-type {\n",
       "        vertical-align: middle;\n",
       "    }\n",
       "\n",
       "    .dataframe tbody tr th {\n",
       "        vertical-align: top;\n",
       "    }\n",
       "\n",
       "    .dataframe thead th {\n",
       "        text-align: right;\n",
       "    }\n",
       "</style>\n",
       "<table border=\"1\" class=\"dataframe\">\n",
       "  <thead>\n",
       "    <tr style=\"text-align: right;\">\n",
       "      <th></th>\n",
       "      <th>hora</th>\n",
       "      <th>date</th>\n",
       "      <th>area_league</th>\n",
       "      <th>team1</th>\n",
       "      <th>team2</th>\n",
       "      <th>team1_odds</th>\n",
       "      <th>draw_odds</th>\n",
       "      <th>team2_odds</th>\n",
       "      <th>objetivo</th>\n",
       "    </tr>\n",
       "  </thead>\n",
       "  <tbody>\n",
       "    <tr>\n",
       "      <th>2366</th>\n",
       "      <td>00:30</td>\n",
       "      <td>2020-10-15</td>\n",
       "      <td>/soccer/brazil/serie-a/athletico-pr-corinthian...</td>\n",
       "      <td>Athletico-PR</td>\n",
       "      <td>Corinthians</td>\n",
       "      <td>2.19</td>\n",
       "      <td>3.03</td>\n",
       "      <td>3.67</td>\n",
       "      <td>TEAM1</td>\n",
       "    </tr>\n",
       "    <tr>\n",
       "      <th>2367</th>\n",
       "      <td>00:30</td>\n",
       "      <td>2020-10-15</td>\n",
       "      <td>/soccer/brazil/serie-a/sport-recife-internacio...</td>\n",
       "      <td>Sport Recife</td>\n",
       "      <td>Internacional</td>\n",
       "      <td>4.26</td>\n",
       "      <td>3.24</td>\n",
       "      <td>1.96</td>\n",
       "      <td>TEAM1</td>\n",
       "    </tr>\n",
       "    <tr>\n",
       "      <th>2360</th>\n",
       "      <td>15:00</td>\n",
       "      <td>2020-10-15</td>\n",
       "      <td>/soccer/finland/veikkausliiga/rops-rovaniemi-l...</td>\n",
       "      <td>Rovaniemi</td>\n",
       "      <td>Lahti</td>\n",
       "      <td>4.21</td>\n",
       "      <td>3.75</td>\n",
       "      <td>1.81</td>\n",
       "      <td>TEAM2</td>\n",
       "    </tr>\n",
       "    <tr>\n",
       "      <th>2370</th>\n",
       "      <td>15:30</td>\n",
       "      <td>2020-10-15</td>\n",
       "      <td>/soccer/finland/ykkonen/ktp-kpv-kokkola-KK7OP1Qu/</td>\n",
       "      <td>KTP</td>\n",
       "      <td>KPV Kokkola</td>\n",
       "      <td>1.93</td>\n",
       "      <td>3.84</td>\n",
       "      <td>3.37</td>\n",
       "      <td>TEAM2</td>\n",
       "    </tr>\n",
       "    <tr>\n",
       "      <th>2365</th>\n",
       "      <td>18:00</td>\n",
       "      <td>2020-10-15</td>\n",
       "      <td>/soccer/france/national/creteil-bastia-nH0tD3pB/</td>\n",
       "      <td>Creteil</td>\n",
       "      <td>Bastia</td>\n",
       "      <td>3.7</td>\n",
       "      <td>3.08</td>\n",
       "      <td>2.03</td>\n",
       "      <td>TEAM2</td>\n",
       "    </tr>\n",
       "    <tr>\n",
       "      <th>2364</th>\n",
       "      <td>18:00</td>\n",
       "      <td>2020-10-15</td>\n",
       "      <td>/soccer/france/national/laval-boulogne-nFLMhZbd/</td>\n",
       "      <td>Laval</td>\n",
       "      <td>Boulogne</td>\n",
       "      <td>2.65</td>\n",
       "      <td>2.81</td>\n",
       "      <td>2.79</td>\n",
       "      <td>TEAM2</td>\n",
       "    </tr>\n",
       "    <tr>\n",
       "      <th>2368</th>\n",
       "      <td>18:00</td>\n",
       "      <td>2020-10-15</td>\n",
       "      <td>/soccer/france/national/laval-boulogne-nFLMhZbd/</td>\n",
       "      <td>Laval</td>\n",
       "      <td>Boulogne</td>\n",
       "      <td>2.65</td>\n",
       "      <td>2.81</td>\n",
       "      <td>2.79</td>\n",
       "      <td>TEAM1</td>\n",
       "    </tr>\n",
       "  </tbody>\n",
       "</table>\n",
       "</div>"
      ],
      "text/plain": [
       "       hora        date                                        area_league  \\\n",
       "2366  00:30  2020-10-15  /soccer/brazil/serie-a/athletico-pr-corinthian...   \n",
       "2367  00:30  2020-10-15  /soccer/brazil/serie-a/sport-recife-internacio...   \n",
       "2360  15:00  2020-10-15  /soccer/finland/veikkausliiga/rops-rovaniemi-l...   \n",
       "2370  15:30  2020-10-15  /soccer/finland/ykkonen/ktp-kpv-kokkola-KK7OP1Qu/   \n",
       "2365  18:00  2020-10-15   /soccer/france/national/creteil-bastia-nH0tD3pB/   \n",
       "2364  18:00  2020-10-15   /soccer/france/national/laval-boulogne-nFLMhZbd/   \n",
       "2368  18:00  2020-10-15   /soccer/france/national/laval-boulogne-nFLMhZbd/   \n",
       "\n",
       "             team1          team2 team1_odds draw_odds team2_odds objetivo  \n",
       "2366  Athletico-PR    Corinthians       2.19      3.03       3.67    TEAM1  \n",
       "2367  Sport Recife  Internacional       4.26      3.24       1.96    TEAM1  \n",
       "2360     Rovaniemi          Lahti       4.21      3.75       1.81    TEAM2  \n",
       "2370           KTP    KPV Kokkola       1.93      3.84       3.37    TEAM2  \n",
       "2365       Creteil         Bastia        3.7      3.08       2.03    TEAM2  \n",
       "2364         Laval       Boulogne       2.65      2.81       2.79    TEAM2  \n",
       "2368         Laval       Boulogne       2.65      2.81       2.79    TEAM1  "
      ]
     },
     "execution_count": 15,
     "metadata": {},
     "output_type": "execute_result"
    }
   ],
   "source": [
    "df_prediccion = dsp.load_data(tbl=\"tbl_prediccion_50\")\n",
    "dsp.daily_prediction(df_prediccion)"
   ]
  },
  {
   "cell_type": "markdown",
   "metadata": {},
   "source": [
    "### Daily predictions machin4 EMPATE"
   ]
  },
  {
   "cell_type": "code",
   "execution_count": 16,
   "metadata": {},
   "outputs": [
    {
     "data": {
      "text/html": [
       "<div>\n",
       "<style scoped>\n",
       "    .dataframe tbody tr th:only-of-type {\n",
       "        vertical-align: middle;\n",
       "    }\n",
       "\n",
       "    .dataframe tbody tr th {\n",
       "        vertical-align: top;\n",
       "    }\n",
       "\n",
       "    .dataframe thead th {\n",
       "        text-align: right;\n",
       "    }\n",
       "</style>\n",
       "<table border=\"1\" class=\"dataframe\">\n",
       "  <thead>\n",
       "    <tr style=\"text-align: right;\">\n",
       "      <th></th>\n",
       "      <th>hora</th>\n",
       "      <th>date</th>\n",
       "      <th>area_league</th>\n",
       "      <th>team1</th>\n",
       "      <th>team2</th>\n",
       "      <th>team1_odds</th>\n",
       "      <th>draw_odds</th>\n",
       "      <th>team2_odds</th>\n",
       "      <th>objetivo</th>\n",
       "    </tr>\n",
       "  </thead>\n",
       "  <tbody>\n",
       "  </tbody>\n",
       "</table>\n",
       "</div>"
      ],
      "text/plain": [
       "Empty DataFrame\n",
       "Columns: [hora, date, area_league, team1, team2, team1_odds, draw_odds, team2_odds, objetivo]\n",
       "Index: []"
      ]
     },
     "execution_count": 16,
     "metadata": {},
     "output_type": "execute_result"
    }
   ],
   "source": [
    "df_prediccion = dsp.load_data(tbl=\"tbl_prediccion_machin4\")\n",
    "dsp.daily_prediction(df_prediccion)"
   ]
  },
  {
   "cell_type": "markdown",
   "metadata": {},
   "source": [
    "### Daily predictions machin5"
   ]
  },
  {
   "cell_type": "code",
   "execution_count": 17,
   "metadata": {},
   "outputs": [
    {
     "data": {
      "text/html": [
       "<div>\n",
       "<style scoped>\n",
       "    .dataframe tbody tr th:only-of-type {\n",
       "        vertical-align: middle;\n",
       "    }\n",
       "\n",
       "    .dataframe tbody tr th {\n",
       "        vertical-align: top;\n",
       "    }\n",
       "\n",
       "    .dataframe thead th {\n",
       "        text-align: right;\n",
       "    }\n",
       "</style>\n",
       "<table border=\"1\" class=\"dataframe\">\n",
       "  <thead>\n",
       "    <tr style=\"text-align: right;\">\n",
       "      <th></th>\n",
       "      <th>hora</th>\n",
       "      <th>date</th>\n",
       "      <th>area_league</th>\n",
       "      <th>team1</th>\n",
       "      <th>team2</th>\n",
       "      <th>team1_odds</th>\n",
       "      <th>draw_odds</th>\n",
       "      <th>team2_odds</th>\n",
       "      <th>objetivo</th>\n",
       "    </tr>\n",
       "  </thead>\n",
       "  <tbody>\n",
       "  </tbody>\n",
       "</table>\n",
       "</div>"
      ],
      "text/plain": [
       "Empty DataFrame\n",
       "Columns: [hora, date, area_league, team1, team2, team1_odds, draw_odds, team2_odds, objetivo]\n",
       "Index: []"
      ]
     },
     "execution_count": 17,
     "metadata": {},
     "output_type": "execute_result"
    }
   ],
   "source": [
    "df_prediccion = dsp.load_data(tbl=\"tbl_prediccion_machin5\")\n",
    "dsp.daily_prediction(df_prediccion)"
   ]
  },
  {
   "cell_type": "code",
   "execution_count": null,
   "metadata": {},
   "outputs": [],
   "source": []
  }
 ],
 "metadata": {
  "kernelspec": {
   "display_name": "Python 3",
   "language": "python",
   "name": "python3"
  },
  "language_info": {
   "codemirror_mode": {
    "name": "ipython",
    "version": 3
   },
   "file_extension": ".py",
   "mimetype": "text/x-python",
   "name": "python",
   "nbconvert_exporter": "python",
   "pygments_lexer": "ipython3",
   "version": "3.7.3"
  }
 },
 "nbformat": 4,
 "nbformat_minor": 2
}
