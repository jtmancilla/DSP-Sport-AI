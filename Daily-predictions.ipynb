{
 "cells": [
  {
   "cell_type": "code",
   "execution_count": 1,
   "metadata": {},
   "outputs": [],
   "source": [
    "import os\n",
    "import pandas as pd\n",
    "import numpy as np\n",
    "import warnings\n",
    "warnings.filterwarnings('ignore')\n",
    "import datetime\n",
    "import dsp"
   ]
  },
  {
   "cell_type": "markdown",
   "metadata": {},
   "source": [
    "# Daily selection"
   ]
  },
  {
   "cell_type": "markdown",
   "metadata": {},
   "source": [
    "___"
   ]
  },
  {
   "cell_type": "code",
   "execution_count": 2,
   "metadata": {},
   "outputs": [
    {
     "data": {
      "text/html": [
       "<div>\n",
       "<style scoped>\n",
       "    .dataframe tbody tr th:only-of-type {\n",
       "        vertical-align: middle;\n",
       "    }\n",
       "\n",
       "    .dataframe tbody tr th {\n",
       "        vertical-align: top;\n",
       "    }\n",
       "\n",
       "    .dataframe thead th {\n",
       "        text-align: right;\n",
       "    }\n",
       "</style>\n",
       "<table border=\"1\" class=\"dataframe\">\n",
       "  <thead>\n",
       "    <tr style=\"text-align: right;\">\n",
       "      <th></th>\n",
       "      <th>date</th>\n",
       "      <th>hora</th>\n",
       "      <th>sport</th>\n",
       "      <th>area</th>\n",
       "      <th>league</th>\n",
       "      <th>team1</th>\n",
       "      <th>team2</th>\n",
       "      <th>objetivo</th>\n",
       "      <th>odd</th>\n",
       "      <th>m_criterio</th>\n",
       "    </tr>\n",
       "  </thead>\n",
       "  <tbody>\n",
       "    <tr>\n",
       "      <th>448</th>\n",
       "      <td>2021-02-18</td>\n",
       "      <td>03:00</td>\n",
       "      <td>basketball</td>\n",
       "      <td>usa</td>\n",
       "      <td>nba</td>\n",
       "      <td>Golden State Warriors</td>\n",
       "      <td>Miami Heat</td>\n",
       "      <td>UNDER-227.5</td>\n",
       "      <td>1.58</td>\n",
       "      <td>100.0</td>\n",
       "    </tr>\n",
       "  </tbody>\n",
       "</table>\n",
       "</div>"
      ],
      "text/plain": [
       "           date   hora       sport area league                  team1  \\\n",
       "448  2021-02-18  03:00  basketball  usa    nba  Golden State Warriors   \n",
       "\n",
       "          team2     objetivo   odd  m_criterio  \n",
       "448  Miami Heat  UNDER-227.5  1.58       100.0  "
      ]
     },
     "execution_count": 2,
     "metadata": {},
     "output_type": "execute_result"
    }
   ],
   "source": [
    "df_prediccion = dsp.load_data(tbl=\"tbl_prediccion_premium_magic\")\n",
    "dsp.daily_prediction_criterio(df_prediccion)"
   ]
  },
  {
   "cell_type": "markdown",
   "metadata": {},
   "source": [
    "### Gana Favorito en ODDs finales."
   ]
  },
  {
   "cell_type": "code",
   "execution_count": 3,
   "metadata": {},
   "outputs": [
    {
     "data": {
      "text/html": [
       "<div>\n",
       "<style scoped>\n",
       "    .dataframe tbody tr th:only-of-type {\n",
       "        vertical-align: middle;\n",
       "    }\n",
       "\n",
       "    .dataframe tbody tr th {\n",
       "        vertical-align: top;\n",
       "    }\n",
       "\n",
       "    .dataframe thead th {\n",
       "        text-align: right;\n",
       "    }\n",
       "</style>\n",
       "<table border=\"1\" class=\"dataframe\">\n",
       "  <thead>\n",
       "    <tr style=\"text-align: right;\">\n",
       "      <th></th>\n",
       "      <th>hora</th>\n",
       "      <th>date</th>\n",
       "      <th>area_league</th>\n",
       "      <th>team1</th>\n",
       "      <th>team2</th>\n",
       "      <th>team1_odds</th>\n",
       "      <th>draw_odds</th>\n",
       "      <th>team2_odds</th>\n",
       "      <th>objetivo</th>\n",
       "    </tr>\n",
       "  </thead>\n",
       "  <tbody>\n",
       "    <tr>\n",
       "      <th>37</th>\n",
       "      <td>03:00</td>\n",
       "      <td>2021-02-18</td>\n",
       "      <td>/basketball/usa/nba/los-angeles-clippers-utah-...</td>\n",
       "      <td>Los Angeles Clippers</td>\n",
       "      <td>Utah Jazz</td>\n",
       "      <td>2.44</td>\n",
       "      <td>0.0</td>\n",
       "      <td>1.60</td>\n",
       "      <td>0.439444</td>\n",
       "    </tr>\n",
       "    <tr>\n",
       "      <th>35</th>\n",
       "      <td>01:00</td>\n",
       "      <td>2021-02-18</td>\n",
       "      <td>/basketball/usa/nba/minnesota-timberwolves-ind...</td>\n",
       "      <td>Minnesota Timberwolves</td>\n",
       "      <td>Indiana Pacers</td>\n",
       "      <td>2.78</td>\n",
       "      <td>0.0</td>\n",
       "      <td>1.48</td>\n",
       "      <td>0.441816</td>\n",
       "    </tr>\n",
       "    <tr>\n",
       "      <th>33</th>\n",
       "      <td>02:00</td>\n",
       "      <td>2021-02-18</td>\n",
       "      <td>/basketball/usa/nba/new-orleans-pelicans-portl...</td>\n",
       "      <td>New Orleans Pelicans</td>\n",
       "      <td>Portland Trail Blazers</td>\n",
       "      <td>1.59</td>\n",
       "      <td>0.0</td>\n",
       "      <td>2.45</td>\n",
       "      <td>0.438821</td>\n",
       "    </tr>\n",
       "    <tr>\n",
       "      <th>34</th>\n",
       "      <td>00:00</td>\n",
       "      <td>2021-02-18</td>\n",
       "      <td>/basketball/usa/nba/orlando-magic-new-york-kni...</td>\n",
       "      <td>Orlando Magic</td>\n",
       "      <td>New York Knicks</td>\n",
       "      <td>2.37</td>\n",
       "      <td>0.0</td>\n",
       "      <td>1.62</td>\n",
       "      <td>0.453224</td>\n",
       "    </tr>\n",
       "  </tbody>\n",
       "</table>\n",
       "</div>"
      ],
      "text/plain": [
       "     hora        date                                        area_league  \\\n",
       "37  03:00  2021-02-18  /basketball/usa/nba/los-angeles-clippers-utah-...   \n",
       "35  01:00  2021-02-18  /basketball/usa/nba/minnesota-timberwolves-ind...   \n",
       "33  02:00  2021-02-18  /basketball/usa/nba/new-orleans-pelicans-portl...   \n",
       "34  00:00  2021-02-18  /basketball/usa/nba/orlando-magic-new-york-kni...   \n",
       "\n",
       "                     team1                   team2  team1_odds  draw_odds  \\\n",
       "37    Los Angeles Clippers               Utah Jazz        2.44        0.0   \n",
       "35  Minnesota Timberwolves          Indiana Pacers        2.78        0.0   \n",
       "33    New Orleans Pelicans  Portland Trail Blazers        1.59        0.0   \n",
       "34           Orlando Magic         New York Knicks        2.37        0.0   \n",
       "\n",
       "    team2_odds  objetivo  \n",
       "37        1.60  0.439444  \n",
       "35        1.48  0.441816  \n",
       "33        2.45  0.438821  \n",
       "34        1.62  0.453224  "
      ]
     },
     "execution_count": 3,
     "metadata": {},
     "output_type": "execute_result"
    }
   ],
   "source": [
    "df_prediccion = dsp.load_data(tbl=\"tbl_prediccion_machin_inversos\")\n",
    "dsp.daily_prediction(df_prediccion)"
   ]
  },
  {
   "cell_type": "markdown",
   "metadata": {},
   "source": [
    "## GANA 1 si objetivo es mayor a 0.52, GANA 2 si es menor a 49 "
   ]
  },
  {
   "cell_type": "code",
   "execution_count": 4,
   "metadata": {},
   "outputs": [
    {
     "data": {
      "text/html": [
       "<div>\n",
       "<style scoped>\n",
       "    .dataframe tbody tr th:only-of-type {\n",
       "        vertical-align: middle;\n",
       "    }\n",
       "\n",
       "    .dataframe tbody tr th {\n",
       "        vertical-align: top;\n",
       "    }\n",
       "\n",
       "    .dataframe thead th {\n",
       "        text-align: right;\n",
       "    }\n",
       "</style>\n",
       "<table border=\"1\" class=\"dataframe\">\n",
       "  <thead>\n",
       "    <tr style=\"text-align: right;\">\n",
       "      <th></th>\n",
       "      <th>hora</th>\n",
       "      <th>date</th>\n",
       "      <th>area_league</th>\n",
       "      <th>team1</th>\n",
       "      <th>team2</th>\n",
       "      <th>team1_odds</th>\n",
       "      <th>draw_odds</th>\n",
       "      <th>team2_odds</th>\n",
       "      <th>objetivo</th>\n",
       "    </tr>\n",
       "  </thead>\n",
       "  <tbody>\n",
       "  </tbody>\n",
       "</table>\n",
       "</div>"
      ],
      "text/plain": [
       "Empty DataFrame\n",
       "Columns: [hora, date, area_league, team1, team2, team1_odds, draw_odds, team2_odds, objetivo]\n",
       "Index: []"
      ]
     },
     "execution_count": 4,
     "metadata": {},
     "output_type": "execute_result"
    }
   ],
   "source": [
    "df_prediccion = dsp.load_data(tbl=\"tbl_prediccion_machin6_glicko\")\n",
    "dsp.daily_prediction(df_prediccion)"
   ]
  },
  {
   "cell_type": "markdown",
   "metadata": {},
   "source": [
    "### Premium"
   ]
  },
  {
   "cell_type": "code",
   "execution_count": 5,
   "metadata": {},
   "outputs": [
    {
     "data": {
      "text/html": [
       "<div>\n",
       "<style scoped>\n",
       "    .dataframe tbody tr th:only-of-type {\n",
       "        vertical-align: middle;\n",
       "    }\n",
       "\n",
       "    .dataframe tbody tr th {\n",
       "        vertical-align: top;\n",
       "    }\n",
       "\n",
       "    .dataframe thead th {\n",
       "        text-align: right;\n",
       "    }\n",
       "</style>\n",
       "<table border=\"1\" class=\"dataframe\">\n",
       "  <thead>\n",
       "    <tr style=\"text-align: right;\">\n",
       "      <th></th>\n",
       "      <th>date</th>\n",
       "      <th>hora</th>\n",
       "      <th>sport</th>\n",
       "      <th>area</th>\n",
       "      <th>league</th>\n",
       "      <th>team1</th>\n",
       "      <th>team2</th>\n",
       "      <th>objetivo</th>\n",
       "      <th>outcome</th>\n",
       "      <th>odd</th>\n",
       "      <th>m_criterio</th>\n",
       "    </tr>\n",
       "  </thead>\n",
       "  <tbody>\n",
       "    <tr>\n",
       "      <th>830</th>\n",
       "      <td>2021-02-18</td>\n",
       "      <td>00:00</td>\n",
       "      <td>basketball</td>\n",
       "      <td>usa</td>\n",
       "      <td>nba</td>\n",
       "      <td>Orlando Magic</td>\n",
       "      <td>New York Knicks</td>\n",
       "      <td>OVER</td>\n",
       "      <td>0.788631</td>\n",
       "      <td>1.9</td>\n",
       "      <td>100</td>\n",
       "    </tr>\n",
       "    <tr>\n",
       "      <th>831</th>\n",
       "      <td>2021-02-18</td>\n",
       "      <td>00:30</td>\n",
       "      <td>basketball</td>\n",
       "      <td>usa</td>\n",
       "      <td>nba</td>\n",
       "      <td>Philadelphia 76ers</td>\n",
       "      <td>Houston Rockets</td>\n",
       "      <td>OVER</td>\n",
       "      <td>0.563605</td>\n",
       "      <td>1.9</td>\n",
       "      <td>100</td>\n",
       "    </tr>\n",
       "    <tr>\n",
       "      <th>832</th>\n",
       "      <td>2021-02-18</td>\n",
       "      <td>01:00</td>\n",
       "      <td>basketball</td>\n",
       "      <td>usa</td>\n",
       "      <td>nba</td>\n",
       "      <td>Washington Wizards</td>\n",
       "      <td>Denver Nuggets</td>\n",
       "      <td>OVER</td>\n",
       "      <td>0.737861</td>\n",
       "      <td>1.9</td>\n",
       "      <td>100</td>\n",
       "    </tr>\n",
       "    <tr>\n",
       "      <th>833</th>\n",
       "      <td>2021-02-18</td>\n",
       "      <td>02:00</td>\n",
       "      <td>basketball</td>\n",
       "      <td>usa</td>\n",
       "      <td>nba</td>\n",
       "      <td>New Orleans Pelicans</td>\n",
       "      <td>Portland Trail Blazers</td>\n",
       "      <td>OVER</td>\n",
       "      <td>0.718407</td>\n",
       "      <td>1.9</td>\n",
       "      <td>100</td>\n",
       "    </tr>\n",
       "    <tr>\n",
       "      <th>834</th>\n",
       "      <td>2021-02-18</td>\n",
       "      <td>02:00</td>\n",
       "      <td>basketball</td>\n",
       "      <td>usa</td>\n",
       "      <td>nba</td>\n",
       "      <td>Memphis Grizzlies</td>\n",
       "      <td>Oklahoma City Thunder</td>\n",
       "      <td>OVER</td>\n",
       "      <td>0.593438</td>\n",
       "      <td>1.9</td>\n",
       "      <td>100</td>\n",
       "    </tr>\n",
       "    <tr>\n",
       "      <th>835</th>\n",
       "      <td>2021-02-18</td>\n",
       "      <td>03:00</td>\n",
       "      <td>basketball</td>\n",
       "      <td>usa</td>\n",
       "      <td>nba</td>\n",
       "      <td>Golden State Warriors</td>\n",
       "      <td>Miami Heat</td>\n",
       "      <td>UNDER</td>\n",
       "      <td>0.307062</td>\n",
       "      <td>1.9</td>\n",
       "      <td>100</td>\n",
       "    </tr>\n",
       "    <tr>\n",
       "      <th>836</th>\n",
       "      <td>2021-02-18</td>\n",
       "      <td>03:00</td>\n",
       "      <td>basketball</td>\n",
       "      <td>usa</td>\n",
       "      <td>nba</td>\n",
       "      <td>Los Angeles Clippers</td>\n",
       "      <td>Utah Jazz</td>\n",
       "      <td>OVER</td>\n",
       "      <td>0.724295</td>\n",
       "      <td>1.9</td>\n",
       "      <td>100</td>\n",
       "    </tr>\n",
       "  </tbody>\n",
       "</table>\n",
       "</div>"
      ],
      "text/plain": [
       "           date   hora       sport area league                  team1  \\\n",
       "830  2021-02-18  00:00  basketball  usa    nba          Orlando Magic   \n",
       "831  2021-02-18  00:30  basketball  usa    nba     Philadelphia 76ers   \n",
       "832  2021-02-18  01:00  basketball  usa    nba     Washington Wizards   \n",
       "833  2021-02-18  02:00  basketball  usa    nba   New Orleans Pelicans   \n",
       "834  2021-02-18  02:00  basketball  usa    nba      Memphis Grizzlies   \n",
       "835  2021-02-18  03:00  basketball  usa    nba  Golden State Warriors   \n",
       "836  2021-02-18  03:00  basketball  usa    nba   Los Angeles Clippers   \n",
       "\n",
       "                      team2 objetivo   outcome  odd  m_criterio  \n",
       "830         New York Knicks     OVER  0.788631  1.9         100  \n",
       "831         Houston Rockets     OVER  0.563605  1.9         100  \n",
       "832          Denver Nuggets     OVER  0.737861  1.9         100  \n",
       "833  Portland Trail Blazers     OVER  0.718407  1.9         100  \n",
       "834   Oklahoma City Thunder     OVER  0.593438  1.9         100  \n",
       "835              Miami Heat    UNDER  0.307062  1.9         100  \n",
       "836               Utah Jazz     OVER  0.724295  1.9         100  "
      ]
     },
     "execution_count": 5,
     "metadata": {},
     "output_type": "execute_result"
    }
   ],
   "source": [
    "df_prediccion = dsp.load_data(tbl=\"tbl_prediccion_premium\")\n",
    "dsp.daily_prediction_criterio(df_prediccion)"
   ]
  },
  {
   "cell_type": "markdown",
   "metadata": {},
   "source": [
    "### Criterio"
   ]
  },
  {
   "cell_type": "code",
   "execution_count": 6,
   "metadata": {},
   "outputs": [
    {
     "data": {
      "text/html": [
       "<div>\n",
       "<style scoped>\n",
       "    .dataframe tbody tr th:only-of-type {\n",
       "        vertical-align: middle;\n",
       "    }\n",
       "\n",
       "    .dataframe tbody tr th {\n",
       "        vertical-align: top;\n",
       "    }\n",
       "\n",
       "    .dataframe thead th {\n",
       "        text-align: right;\n",
       "    }\n",
       "</style>\n",
       "<table border=\"1\" class=\"dataframe\">\n",
       "  <thead>\n",
       "    <tr style=\"text-align: right;\">\n",
       "      <th></th>\n",
       "      <th>date</th>\n",
       "      <th>hora</th>\n",
       "      <th>sport</th>\n",
       "      <th>area</th>\n",
       "      <th>league</th>\n",
       "      <th>team1</th>\n",
       "      <th>team2</th>\n",
       "      <th>objetivo</th>\n",
       "      <th>odd</th>\n",
       "      <th>m_criterio</th>\n",
       "    </tr>\n",
       "  </thead>\n",
       "  <tbody>\n",
       "    <tr>\n",
       "      <th>1031</th>\n",
       "      <td>2021-02-18</td>\n",
       "      <td>16:30</td>\n",
       "      <td>hockey</td>\n",
       "      <td>russia</td>\n",
       "      <td>khl</td>\n",
       "      <td>Podolsk</td>\n",
       "      <td>Metallurg Magnitogorsk</td>\n",
       "      <td>TEAM2</td>\n",
       "      <td>2.06</td>\n",
       "      <td>131</td>\n",
       "    </tr>\n",
       "    <tr>\n",
       "      <th>1033</th>\n",
       "      <td>2021-02-18</td>\n",
       "      <td>13:00</td>\n",
       "      <td>soccer</td>\n",
       "      <td>uruguay</td>\n",
       "      <td>primera-division</td>\n",
       "      <td>Fenix</td>\n",
       "      <td>Danubio</td>\n",
       "      <td>TEAM1</td>\n",
       "      <td>2.32</td>\n",
       "      <td>218</td>\n",
       "    </tr>\n",
       "    <tr>\n",
       "      <th>1034</th>\n",
       "      <td>2021-02-18</td>\n",
       "      <td>20:00</td>\n",
       "      <td>soccer</td>\n",
       "      <td>uruguay</td>\n",
       "      <td>primera-division</td>\n",
       "      <td>Progreso</td>\n",
       "      <td>Nacional</td>\n",
       "      <td>TEAM2</td>\n",
       "      <td>1.97</td>\n",
       "      <td>142</td>\n",
       "    </tr>\n",
       "    <tr>\n",
       "      <th>1032</th>\n",
       "      <td>2021-02-18</td>\n",
       "      <td>02:00</td>\n",
       "      <td>basketball</td>\n",
       "      <td>usa</td>\n",
       "      <td>nba</td>\n",
       "      <td>Memphis Grizzlies</td>\n",
       "      <td>Oklahoma City Thunder</td>\n",
       "      <td>UNDER</td>\n",
       "      <td>1.90</td>\n",
       "      <td>260</td>\n",
       "    </tr>\n",
       "    <tr>\n",
       "      <th>1030</th>\n",
       "      <td>2021-02-18</td>\n",
       "      <td>00:00</td>\n",
       "      <td>hockey</td>\n",
       "      <td>usa</td>\n",
       "      <td>nhl</td>\n",
       "      <td>Toronto Maple Leafs</td>\n",
       "      <td>Ottawa Senators</td>\n",
       "      <td>TEAM1</td>\n",
       "      <td>1.49</td>\n",
       "      <td>249</td>\n",
       "    </tr>\n",
       "  </tbody>\n",
       "</table>\n",
       "</div>"
      ],
      "text/plain": [
       "            date   hora       sport     area            league  \\\n",
       "1031  2021-02-18  16:30      hockey   russia               khl   \n",
       "1033  2021-02-18  13:00      soccer  uruguay  primera-division   \n",
       "1034  2021-02-18  20:00      soccer  uruguay  primera-division   \n",
       "1032  2021-02-18  02:00  basketball      usa               nba   \n",
       "1030  2021-02-18  00:00      hockey      usa               nhl   \n",
       "\n",
       "                    team1                   team2 objetivo   odd  m_criterio  \n",
       "1031              Podolsk  Metallurg Magnitogorsk    TEAM2  2.06         131  \n",
       "1033                Fenix                 Danubio    TEAM1  2.32         218  \n",
       "1034             Progreso                Nacional    TEAM2  1.97         142  \n",
       "1032    Memphis Grizzlies   Oklahoma City Thunder    UNDER  1.90         260  \n",
       "1030  Toronto Maple Leafs         Ottawa Senators    TEAM1  1.49         249  "
      ]
     },
     "execution_count": 6,
     "metadata": {},
     "output_type": "execute_result"
    }
   ],
   "source": [
    "df_prediccion = dsp.load_data(tbl=\"tbl_prediccion_machinTAN_criterio\")\n",
    "dsp.daily_prediction_criterio(df_prediccion)"
   ]
  },
  {
   "cell_type": "markdown",
   "metadata": {},
   "source": [
    "### TAN!! SPECIAL SELECTION"
   ]
  },
  {
   "cell_type": "code",
   "execution_count": 7,
   "metadata": {},
   "outputs": [
    {
     "data": {
      "text/html": [
       "<div>\n",
       "<style scoped>\n",
       "    .dataframe tbody tr th:only-of-type {\n",
       "        vertical-align: middle;\n",
       "    }\n",
       "\n",
       "    .dataframe tbody tr th {\n",
       "        vertical-align: top;\n",
       "    }\n",
       "\n",
       "    .dataframe thead th {\n",
       "        text-align: right;\n",
       "    }\n",
       "</style>\n",
       "<table border=\"1\" class=\"dataframe\">\n",
       "  <thead>\n",
       "    <tr style=\"text-align: right;\">\n",
       "      <th></th>\n",
       "      <th>hora</th>\n",
       "      <th>date</th>\n",
       "      <th>area_league</th>\n",
       "      <th>team1</th>\n",
       "      <th>team2</th>\n",
       "      <th>team1_odds</th>\n",
       "      <th>draw_odds</th>\n",
       "      <th>team2_odds</th>\n",
       "      <th>objetivo</th>\n",
       "    </tr>\n",
       "  </thead>\n",
       "  <tbody>\n",
       "  </tbody>\n",
       "</table>\n",
       "</div>"
      ],
      "text/plain": [
       "Empty DataFrame\n",
       "Columns: [hora, date, area_league, team1, team2, team1_odds, draw_odds, team2_odds, objetivo]\n",
       "Index: []"
      ]
     },
     "execution_count": 7,
     "metadata": {},
     "output_type": "execute_result"
    }
   ],
   "source": [
    "df_prediccion = dsp.load_data(tbl=\"tbl_prediccion_machinTAN\")\n",
    "dsp.daily_prediction(df_prediccion)"
   ]
  },
  {
   "cell_type": "markdown",
   "metadata": {},
   "source": [
    "___"
   ]
  },
  {
   "cell_type": "code",
   "execution_count": 8,
   "metadata": {},
   "outputs": [
    {
     "data": {
      "text/html": [
       "<div>\n",
       "<style scoped>\n",
       "    .dataframe tbody tr th:only-of-type {\n",
       "        vertical-align: middle;\n",
       "    }\n",
       "\n",
       "    .dataframe tbody tr th {\n",
       "        vertical-align: top;\n",
       "    }\n",
       "\n",
       "    .dataframe thead th {\n",
       "        text-align: right;\n",
       "    }\n",
       "</style>\n",
       "<table border=\"1\" class=\"dataframe\">\n",
       "  <thead>\n",
       "    <tr style=\"text-align: right;\">\n",
       "      <th></th>\n",
       "      <th>hora</th>\n",
       "      <th>date</th>\n",
       "      <th>area_league</th>\n",
       "      <th>team1</th>\n",
       "      <th>team2</th>\n",
       "      <th>team1_odds</th>\n",
       "      <th>draw_odds</th>\n",
       "      <th>team2_odds</th>\n",
       "      <th>objetivo</th>\n",
       "    </tr>\n",
       "  </thead>\n",
       "  <tbody>\n",
       "    <tr>\n",
       "      <th>1080</th>\n",
       "      <td>00:00</td>\n",
       "      <td>2021-02-18</td>\n",
       "      <td>/hockey/usa/nhl/toronto-maple-leafs-ottawa-sen...</td>\n",
       "      <td>Toronto Maple Leafs</td>\n",
       "      <td>Ottawa Senators</td>\n",
       "      <td>1.49</td>\n",
       "      <td>5.5</td>\n",
       "      <td>5.03</td>\n",
       "      <td>TEAM1</td>\n",
       "    </tr>\n",
       "  </tbody>\n",
       "</table>\n",
       "</div>"
      ],
      "text/plain": [
       "       hora        date                                        area_league  \\\n",
       "1080  00:00  2021-02-18  /hockey/usa/nhl/toronto-maple-leafs-ottawa-sen...   \n",
       "\n",
       "                    team1            team2  team1_odds  draw_odds  team2_odds  \\\n",
       "1080  Toronto Maple Leafs  Ottawa Senators        1.49        5.5        5.03   \n",
       "\n",
       "     objetivo  \n",
       "1080    TEAM1  "
      ]
     },
     "execution_count": 8,
     "metadata": {},
     "output_type": "execute_result"
    }
   ],
   "source": [
    "df_prediccion = dsp.load_data(tbl=\"tbl_prediccion_machinTAN11\")\n",
    "dsp.daily_prediction(df_prediccion)"
   ]
  },
  {
   "cell_type": "code",
   "execution_count": 9,
   "metadata": {},
   "outputs": [
    {
     "data": {
      "text/html": [
       "<div>\n",
       "<style scoped>\n",
       "    .dataframe tbody tr th:only-of-type {\n",
       "        vertical-align: middle;\n",
       "    }\n",
       "\n",
       "    .dataframe tbody tr th {\n",
       "        vertical-align: top;\n",
       "    }\n",
       "\n",
       "    .dataframe thead th {\n",
       "        text-align: right;\n",
       "    }\n",
       "</style>\n",
       "<table border=\"1\" class=\"dataframe\">\n",
       "  <thead>\n",
       "    <tr style=\"text-align: right;\">\n",
       "      <th></th>\n",
       "      <th>date</th>\n",
       "      <th>hora</th>\n",
       "      <th>sport</th>\n",
       "      <th>area</th>\n",
       "      <th>league</th>\n",
       "      <th>team1</th>\n",
       "      <th>team2</th>\n",
       "      <th>objetivo</th>\n",
       "      <th>odd</th>\n",
       "      <th>m_criterio</th>\n",
       "    </tr>\n",
       "  </thead>\n",
       "  <tbody>\n",
       "  </tbody>\n",
       "</table>\n",
       "</div>"
      ],
      "text/plain": [
       "Empty DataFrame\n",
       "Columns: [date, hora, sport, area, league, team1, team2, objetivo, odd, m_criterio]\n",
       "Index: []"
      ]
     },
     "execution_count": 9,
     "metadata": {},
     "output_type": "execute_result"
    }
   ],
   "source": [
    "df_prediccion = dsp.load_data(tbl=\"tbl_prediccion_machinTAN_criterio2\")\n",
    "dsp.daily_prediction_criterio(df_prediccion)"
   ]
  },
  {
   "cell_type": "code",
   "execution_count": 10,
   "metadata": {},
   "outputs": [
    {
     "data": {
      "text/html": [
       "<div>\n",
       "<style scoped>\n",
       "    .dataframe tbody tr th:only-of-type {\n",
       "        vertical-align: middle;\n",
       "    }\n",
       "\n",
       "    .dataframe tbody tr th {\n",
       "        vertical-align: top;\n",
       "    }\n",
       "\n",
       "    .dataframe thead th {\n",
       "        text-align: right;\n",
       "    }\n",
       "</style>\n",
       "<table border=\"1\" class=\"dataframe\">\n",
       "  <thead>\n",
       "    <tr style=\"text-align: right;\">\n",
       "      <th></th>\n",
       "      <th>date</th>\n",
       "      <th>hora</th>\n",
       "      <th>sport</th>\n",
       "      <th>area</th>\n",
       "      <th>league</th>\n",
       "      <th>team1</th>\n",
       "      <th>team2</th>\n",
       "      <th>objetivo</th>\n",
       "      <th>odd</th>\n",
       "      <th>m_criterio</th>\n",
       "    </tr>\n",
       "  </thead>\n",
       "  <tbody>\n",
       "  </tbody>\n",
       "</table>\n",
       "</div>"
      ],
      "text/plain": [
       "Empty DataFrame\n",
       "Columns: [date, hora, sport, area, league, team1, team2, objetivo, odd, m_criterio]\n",
       "Index: []"
      ]
     },
     "execution_count": 10,
     "metadata": {},
     "output_type": "execute_result"
    }
   ],
   "source": [
    "df_prediccion = dsp.load_data(tbl=\"tbl_prediccion_machinTAN_criterio3\")\n",
    "dsp.daily_prediction_criterio(df_prediccion)"
   ]
  },
  {
   "cell_type": "markdown",
   "metadata": {},
   "source": [
    "### OVER UNDER"
   ]
  },
  {
   "cell_type": "code",
   "execution_count": 11,
   "metadata": {},
   "outputs": [
    {
     "data": {
      "text/html": [
       "<div>\n",
       "<style scoped>\n",
       "    .dataframe tbody tr th:only-of-type {\n",
       "        vertical-align: middle;\n",
       "    }\n",
       "\n",
       "    .dataframe tbody tr th {\n",
       "        vertical-align: top;\n",
       "    }\n",
       "\n",
       "    .dataframe thead th {\n",
       "        text-align: right;\n",
       "    }\n",
       "</style>\n",
       "<table border=\"1\" class=\"dataframe\">\n",
       "  <thead>\n",
       "    <tr style=\"text-align: right;\">\n",
       "      <th></th>\n",
       "      <th>date</th>\n",
       "      <th>hora</th>\n",
       "      <th>sport</th>\n",
       "      <th>area</th>\n",
       "      <th>league</th>\n",
       "      <th>team1</th>\n",
       "      <th>team2</th>\n",
       "      <th>objetivo</th>\n",
       "      <th>odd</th>\n",
       "      <th>criterio</th>\n",
       "      <th>outcome</th>\n",
       "    </tr>\n",
       "  </thead>\n",
       "  <tbody>\n",
       "    <tr>\n",
       "      <th>802</th>\n",
       "      <td>2021-02-18</td>\n",
       "      <td>00:00</td>\n",
       "      <td>basketball</td>\n",
       "      <td>usa</td>\n",
       "      <td>nba</td>\n",
       "      <td>Orlando Magic</td>\n",
       "      <td>New York Knicks</td>\n",
       "      <td>214.5</td>\n",
       "      <td>1.58</td>\n",
       "      <td>100</td>\n",
       "      <td>0.788631</td>\n",
       "    </tr>\n",
       "    <tr>\n",
       "      <th>803</th>\n",
       "      <td>2021-02-18</td>\n",
       "      <td>00:30</td>\n",
       "      <td>basketball</td>\n",
       "      <td>usa</td>\n",
       "      <td>nba</td>\n",
       "      <td>Boston Celtics</td>\n",
       "      <td>Atlanta Hawks</td>\n",
       "      <td>228.0</td>\n",
       "      <td>1.56</td>\n",
       "      <td>100</td>\n",
       "      <td>0.404516</td>\n",
       "    </tr>\n",
       "    <tr>\n",
       "      <th>804</th>\n",
       "      <td>2021-02-18</td>\n",
       "      <td>00:30</td>\n",
       "      <td>basketball</td>\n",
       "      <td>usa</td>\n",
       "      <td>nba</td>\n",
       "      <td>Philadelphia 76ers</td>\n",
       "      <td>Houston Rockets</td>\n",
       "      <td>232.5</td>\n",
       "      <td>1.57</td>\n",
       "      <td>100</td>\n",
       "      <td>0.563605</td>\n",
       "    </tr>\n",
       "    <tr>\n",
       "      <th>805</th>\n",
       "      <td>2021-02-18</td>\n",
       "      <td>01:00</td>\n",
       "      <td>basketball</td>\n",
       "      <td>usa</td>\n",
       "      <td>nba</td>\n",
       "      <td>Washington Wizards</td>\n",
       "      <td>Denver Nuggets</td>\n",
       "      <td>239.5</td>\n",
       "      <td>1.58</td>\n",
       "      <td>100</td>\n",
       "      <td>0.737861</td>\n",
       "    </tr>\n",
       "    <tr>\n",
       "      <th>806</th>\n",
       "      <td>2021-02-18</td>\n",
       "      <td>01:00</td>\n",
       "      <td>basketball</td>\n",
       "      <td>usa</td>\n",
       "      <td>nba</td>\n",
       "      <td>Minnesota Timberwolves</td>\n",
       "      <td>Indiana Pacers</td>\n",
       "      <td>230.0</td>\n",
       "      <td>1.58</td>\n",
       "      <td>100</td>\n",
       "      <td>0.529677</td>\n",
       "    </tr>\n",
       "    <tr>\n",
       "      <th>811</th>\n",
       "      <td>2021-02-18</td>\n",
       "      <td>01:00</td>\n",
       "      <td>basketball</td>\n",
       "      <td>usa</td>\n",
       "      <td>nba</td>\n",
       "      <td>Chicago Bulls</td>\n",
       "      <td>Detroit Pistons</td>\n",
       "      <td>224.0</td>\n",
       "      <td>1.58</td>\n",
       "      <td>100</td>\n",
       "      <td>0.450725</td>\n",
       "    </tr>\n",
       "    <tr>\n",
       "      <th>807</th>\n",
       "      <td>2021-02-18</td>\n",
       "      <td>02:00</td>\n",
       "      <td>basketball</td>\n",
       "      <td>usa</td>\n",
       "      <td>nba</td>\n",
       "      <td>New Orleans Pelicans</td>\n",
       "      <td>Portland Trail Blazers</td>\n",
       "      <td>242.0</td>\n",
       "      <td>1.58</td>\n",
       "      <td>100</td>\n",
       "      <td>0.718407</td>\n",
       "    </tr>\n",
       "    <tr>\n",
       "      <th>808</th>\n",
       "      <td>2021-02-18</td>\n",
       "      <td>02:00</td>\n",
       "      <td>basketball</td>\n",
       "      <td>usa</td>\n",
       "      <td>nba</td>\n",
       "      <td>Memphis Grizzlies</td>\n",
       "      <td>Oklahoma City Thunder</td>\n",
       "      <td>232.5</td>\n",
       "      <td>1.60</td>\n",
       "      <td>100</td>\n",
       "      <td>0.593438</td>\n",
       "    </tr>\n",
       "    <tr>\n",
       "      <th>809</th>\n",
       "      <td>2021-02-18</td>\n",
       "      <td>03:00</td>\n",
       "      <td>basketball</td>\n",
       "      <td>usa</td>\n",
       "      <td>nba</td>\n",
       "      <td>Golden State Warriors</td>\n",
       "      <td>Miami Heat</td>\n",
       "      <td>227.5</td>\n",
       "      <td>1.58</td>\n",
       "      <td>100</td>\n",
       "      <td>0.307062</td>\n",
       "    </tr>\n",
       "    <tr>\n",
       "      <th>810</th>\n",
       "      <td>2021-02-18</td>\n",
       "      <td>03:00</td>\n",
       "      <td>basketball</td>\n",
       "      <td>usa</td>\n",
       "      <td>nba</td>\n",
       "      <td>Los Angeles Clippers</td>\n",
       "      <td>Utah Jazz</td>\n",
       "      <td>234.0</td>\n",
       "      <td>1.60</td>\n",
       "      <td>100</td>\n",
       "      <td>0.724295</td>\n",
       "    </tr>\n",
       "  </tbody>\n",
       "</table>\n",
       "</div>"
      ],
      "text/plain": [
       "           date   hora       sport area league                   team1  \\\n",
       "802  2021-02-18  00:00  basketball  usa    nba           Orlando Magic   \n",
       "803  2021-02-18  00:30  basketball  usa    nba          Boston Celtics   \n",
       "804  2021-02-18  00:30  basketball  usa    nba      Philadelphia 76ers   \n",
       "805  2021-02-18  01:00  basketball  usa    nba      Washington Wizards   \n",
       "806  2021-02-18  01:00  basketball  usa    nba  Minnesota Timberwolves   \n",
       "811  2021-02-18  01:00  basketball  usa    nba           Chicago Bulls   \n",
       "807  2021-02-18  02:00  basketball  usa    nba    New Orleans Pelicans   \n",
       "808  2021-02-18  02:00  basketball  usa    nba       Memphis Grizzlies   \n",
       "809  2021-02-18  03:00  basketball  usa    nba   Golden State Warriors   \n",
       "810  2021-02-18  03:00  basketball  usa    nba    Los Angeles Clippers   \n",
       "\n",
       "                      team2  objetivo   odd  criterio   outcome  \n",
       "802         New York Knicks     214.5  1.58       100  0.788631  \n",
       "803           Atlanta Hawks     228.0  1.56       100  0.404516  \n",
       "804         Houston Rockets     232.5  1.57       100  0.563605  \n",
       "805          Denver Nuggets     239.5  1.58       100  0.737861  \n",
       "806          Indiana Pacers     230.0  1.58       100  0.529677  \n",
       "811         Detroit Pistons     224.0  1.58       100  0.450725  \n",
       "807  Portland Trail Blazers     242.0  1.58       100  0.718407  \n",
       "808   Oklahoma City Thunder     232.5  1.60       100  0.593438  \n",
       "809              Miami Heat     227.5  1.58       100  0.307062  \n",
       "810               Utah Jazz     234.0  1.60       100  0.724295  "
      ]
     },
     "execution_count": 11,
     "metadata": {},
     "output_type": "execute_result"
    }
   ],
   "source": [
    "df_prediccion = dsp.load_data(tbl=\"tbl_prediccion_base1\")\n",
    "dsp.daily_prediction_criterio(df_prediccion)"
   ]
  },
  {
   "cell_type": "markdown",
   "metadata": {},
   "source": [
    "## NBA"
   ]
  },
  {
   "cell_type": "code",
   "execution_count": 12,
   "metadata": {},
   "outputs": [
    {
     "data": {
      "text/html": [
       "<div>\n",
       "<style scoped>\n",
       "    .dataframe tbody tr th:only-of-type {\n",
       "        vertical-align: middle;\n",
       "    }\n",
       "\n",
       "    .dataframe tbody tr th {\n",
       "        vertical-align: top;\n",
       "    }\n",
       "\n",
       "    .dataframe thead th {\n",
       "        text-align: right;\n",
       "    }\n",
       "</style>\n",
       "<table border=\"1\" class=\"dataframe\">\n",
       "  <thead>\n",
       "    <tr style=\"text-align: right;\">\n",
       "      <th></th>\n",
       "      <th>hora</th>\n",
       "      <th>date</th>\n",
       "      <th>area_league</th>\n",
       "      <th>team1</th>\n",
       "      <th>team2</th>\n",
       "      <th>team1_odds</th>\n",
       "      <th>draw_odds</th>\n",
       "      <th>team2_odds</th>\n",
       "      <th>objetivo</th>\n",
       "    </tr>\n",
       "  </thead>\n",
       "  <tbody>\n",
       "    <tr>\n",
       "      <th>312</th>\n",
       "      <td>00:30</td>\n",
       "      <td>2021-02-18</td>\n",
       "      <td>/basketball/usa/nba/boston-celtics-atlanta-haw...</td>\n",
       "      <td>Boston Celtics</td>\n",
       "      <td>Atlanta Hawks</td>\n",
       "      <td>1.78</td>\n",
       "      <td>0</td>\n",
       "      <td>2.10</td>\n",
       "      <td>0.593572</td>\n",
       "    </tr>\n",
       "    <tr>\n",
       "      <th>316</th>\n",
       "      <td>01:00</td>\n",
       "      <td>2021-02-18</td>\n",
       "      <td>/basketball/usa/nba/chicago-bulls-detroit-pist...</td>\n",
       "      <td>Chicago Bulls</td>\n",
       "      <td>Detroit Pistons</td>\n",
       "      <td>1.69</td>\n",
       "      <td>0</td>\n",
       "      <td>2.24</td>\n",
       "      <td>0.519049</td>\n",
       "    </tr>\n",
       "    <tr>\n",
       "      <th>319</th>\n",
       "      <td>03:00</td>\n",
       "      <td>2021-02-18</td>\n",
       "      <td>/basketball/usa/nba/golden-state-warriors-miam...</td>\n",
       "      <td>Golden State Warriors</td>\n",
       "      <td>Miami Heat</td>\n",
       "      <td>1.89</td>\n",
       "      <td>0</td>\n",
       "      <td>1.96</td>\n",
       "      <td>0.521339</td>\n",
       "    </tr>\n",
       "    <tr>\n",
       "      <th>320</th>\n",
       "      <td>03:00</td>\n",
       "      <td>2021-02-18</td>\n",
       "      <td>/basketball/usa/nba/los-angeles-clippers-utah-...</td>\n",
       "      <td>Los Angeles Clippers</td>\n",
       "      <td>Utah Jazz</td>\n",
       "      <td>2.44</td>\n",
       "      <td>0</td>\n",
       "      <td>1.60</td>\n",
       "      <td>0.439444</td>\n",
       "    </tr>\n",
       "    <tr>\n",
       "      <th>318</th>\n",
       "      <td>02:00</td>\n",
       "      <td>2021-02-18</td>\n",
       "      <td>/basketball/usa/nba/memphis-grizzlies-oklahoma...</td>\n",
       "      <td>Memphis Grizzlies</td>\n",
       "      <td>Oklahoma City Thunder</td>\n",
       "      <td>1.36</td>\n",
       "      <td>0</td>\n",
       "      <td>3.29</td>\n",
       "      <td>0.572664</td>\n",
       "    </tr>\n",
       "    <tr>\n",
       "      <th>315</th>\n",
       "      <td>01:00</td>\n",
       "      <td>2021-02-18</td>\n",
       "      <td>/basketball/usa/nba/minnesota-timberwolves-ind...</td>\n",
       "      <td>Minnesota Timberwolves</td>\n",
       "      <td>Indiana Pacers</td>\n",
       "      <td>2.78</td>\n",
       "      <td>0</td>\n",
       "      <td>1.48</td>\n",
       "      <td>0.441816</td>\n",
       "    </tr>\n",
       "    <tr>\n",
       "      <th>317</th>\n",
       "      <td>02:00</td>\n",
       "      <td>2021-02-18</td>\n",
       "      <td>/basketball/usa/nba/new-orleans-pelicans-portl...</td>\n",
       "      <td>New Orleans Pelicans</td>\n",
       "      <td>Portland Trail Blazers</td>\n",
       "      <td>1.59</td>\n",
       "      <td>0</td>\n",
       "      <td>2.45</td>\n",
       "      <td>0.438821</td>\n",
       "    </tr>\n",
       "    <tr>\n",
       "      <th>311</th>\n",
       "      <td>00:00</td>\n",
       "      <td>2021-02-18</td>\n",
       "      <td>/basketball/usa/nba/orlando-magic-new-york-kni...</td>\n",
       "      <td>Orlando Magic</td>\n",
       "      <td>New York Knicks</td>\n",
       "      <td>2.37</td>\n",
       "      <td>0</td>\n",
       "      <td>1.62</td>\n",
       "      <td>0.453224</td>\n",
       "    </tr>\n",
       "    <tr>\n",
       "      <th>313</th>\n",
       "      <td>00:30</td>\n",
       "      <td>2021-02-18</td>\n",
       "      <td>/basketball/usa/nba/philadelphia-76ers-houston...</td>\n",
       "      <td>Philadelphia 76ers</td>\n",
       "      <td>Houston Rockets</td>\n",
       "      <td>1.18</td>\n",
       "      <td>0</td>\n",
       "      <td>5.25</td>\n",
       "      <td>0.632531</td>\n",
       "    </tr>\n",
       "    <tr>\n",
       "      <th>314</th>\n",
       "      <td>01:00</td>\n",
       "      <td>2021-02-18</td>\n",
       "      <td>/basketball/usa/nba/washington-wizards-denver-...</td>\n",
       "      <td>Washington Wizards</td>\n",
       "      <td>Denver Nuggets</td>\n",
       "      <td>2.38</td>\n",
       "      <td>0</td>\n",
       "      <td>1.63</td>\n",
       "      <td>0.382212</td>\n",
       "    </tr>\n",
       "  </tbody>\n",
       "</table>\n",
       "</div>"
      ],
      "text/plain": [
       "      hora        date                                        area_league  \\\n",
       "312  00:30  2021-02-18  /basketball/usa/nba/boston-celtics-atlanta-haw...   \n",
       "316  01:00  2021-02-18  /basketball/usa/nba/chicago-bulls-detroit-pist...   \n",
       "319  03:00  2021-02-18  /basketball/usa/nba/golden-state-warriors-miam...   \n",
       "320  03:00  2021-02-18  /basketball/usa/nba/los-angeles-clippers-utah-...   \n",
       "318  02:00  2021-02-18  /basketball/usa/nba/memphis-grizzlies-oklahoma...   \n",
       "315  01:00  2021-02-18  /basketball/usa/nba/minnesota-timberwolves-ind...   \n",
       "317  02:00  2021-02-18  /basketball/usa/nba/new-orleans-pelicans-portl...   \n",
       "311  00:00  2021-02-18  /basketball/usa/nba/orlando-magic-new-york-kni...   \n",
       "313  00:30  2021-02-18  /basketball/usa/nba/philadelphia-76ers-houston...   \n",
       "314  01:00  2021-02-18  /basketball/usa/nba/washington-wizards-denver-...   \n",
       "\n",
       "                      team1                   team2  team1_odds  draw_odds  \\\n",
       "312          Boston Celtics           Atlanta Hawks        1.78          0   \n",
       "316           Chicago Bulls         Detroit Pistons        1.69          0   \n",
       "319   Golden State Warriors              Miami Heat        1.89          0   \n",
       "320    Los Angeles Clippers               Utah Jazz        2.44          0   \n",
       "318       Memphis Grizzlies   Oklahoma City Thunder        1.36          0   \n",
       "315  Minnesota Timberwolves          Indiana Pacers        2.78          0   \n",
       "317    New Orleans Pelicans  Portland Trail Blazers        1.59          0   \n",
       "311           Orlando Magic         New York Knicks        2.37          0   \n",
       "313      Philadelphia 76ers         Houston Rockets        1.18          0   \n",
       "314      Washington Wizards          Denver Nuggets        2.38          0   \n",
       "\n",
       "     team2_odds  objetivo  \n",
       "312        2.10  0.593572  \n",
       "316        2.24  0.519049  \n",
       "319        1.96  0.521339  \n",
       "320        1.60  0.439444  \n",
       "318        3.29  0.572664  \n",
       "315        1.48  0.441816  \n",
       "317        2.45  0.438821  \n",
       "311        1.62  0.453224  \n",
       "313        5.25  0.632531  \n",
       "314        1.63  0.382212  "
      ]
     },
     "execution_count": 12,
     "metadata": {},
     "output_type": "execute_result"
    }
   ],
   "source": [
    "df_prediccion = dsp.load_data(tbl=\"tbl_prediccion_machin_nba\")\n",
    "dsp.daily_prediction(df_prediccion)"
   ]
  },
  {
   "cell_type": "markdown",
   "metadata": {},
   "source": [
    "## NBA CLUSTER FALLO"
   ]
  },
  {
   "cell_type": "code",
   "execution_count": 13,
   "metadata": {},
   "outputs": [
    {
     "data": {
      "text/html": [
       "<div>\n",
       "<style scoped>\n",
       "    .dataframe tbody tr th:only-of-type {\n",
       "        vertical-align: middle;\n",
       "    }\n",
       "\n",
       "    .dataframe tbody tr th {\n",
       "        vertical-align: top;\n",
       "    }\n",
       "\n",
       "    .dataframe thead th {\n",
       "        text-align: right;\n",
       "    }\n",
       "</style>\n",
       "<table border=\"1\" class=\"dataframe\">\n",
       "  <thead>\n",
       "    <tr style=\"text-align: right;\">\n",
       "      <th></th>\n",
       "      <th>hora</th>\n",
       "      <th>date</th>\n",
       "      <th>area_league</th>\n",
       "      <th>team1</th>\n",
       "      <th>team2</th>\n",
       "      <th>team1_odds</th>\n",
       "      <th>draw_odds</th>\n",
       "      <th>team2_odds</th>\n",
       "      <th>objetivo</th>\n",
       "    </tr>\n",
       "  </thead>\n",
       "  <tbody>\n",
       "    <tr>\n",
       "      <th>106</th>\n",
       "      <td>0:0</td>\n",
       "      <td>2021-02-18</td>\n",
       "      <td>basketball/usa_nba</td>\n",
       "      <td>Memphis Grizzlies</td>\n",
       "      <td>Oklahoma City Thunder</td>\n",
       "      <td>1.36</td>\n",
       "      <td>0</td>\n",
       "      <td>3.26</td>\n",
       "      <td>2</td>\n",
       "    </tr>\n",
       "  </tbody>\n",
       "</table>\n",
       "</div>"
      ],
      "text/plain": [
       "    hora        date         area_league              team1  \\\n",
       "106  0:0  2021-02-18  basketball/usa_nba  Memphis Grizzlies   \n",
       "\n",
       "                     team2  team1_odds  draw_odds  team2_odds  objetivo  \n",
       "106  Oklahoma City Thunder        1.36          0        3.26         2  "
      ]
     },
     "execution_count": 13,
     "metadata": {},
     "output_type": "execute_result"
    }
   ],
   "source": [
    "df_prediccion = dsp.load_data(tbl=\"tbl_fallo_nba\")\n",
    "dsp.daily_prediction(df_prediccion)\n"
   ]
  },
  {
   "cell_type": "markdown",
   "metadata": {},
   "source": [
    "## NBA FALLO SIN FILTRO"
   ]
  },
  {
   "cell_type": "code",
   "execution_count": 14,
   "metadata": {},
   "outputs": [
    {
     "data": {
      "text/html": [
       "<div>\n",
       "<style scoped>\n",
       "    .dataframe tbody tr th:only-of-type {\n",
       "        vertical-align: middle;\n",
       "    }\n",
       "\n",
       "    .dataframe tbody tr th {\n",
       "        vertical-align: top;\n",
       "    }\n",
       "\n",
       "    .dataframe thead th {\n",
       "        text-align: right;\n",
       "    }\n",
       "</style>\n",
       "<table border=\"1\" class=\"dataframe\">\n",
       "  <thead>\n",
       "    <tr style=\"text-align: right;\">\n",
       "      <th></th>\n",
       "      <th>hora</th>\n",
       "      <th>date</th>\n",
       "      <th>area_league</th>\n",
       "      <th>team1</th>\n",
       "      <th>team2</th>\n",
       "      <th>team1_odds</th>\n",
       "      <th>draw_odds</th>\n",
       "      <th>team2_odds</th>\n",
       "      <th>objetivo</th>\n",
       "    </tr>\n",
       "  </thead>\n",
       "  <tbody>\n",
       "    <tr>\n",
       "      <th>203</th>\n",
       "      <td>0:0</td>\n",
       "      <td>2021-02-18</td>\n",
       "      <td>basketball/usa_nba</td>\n",
       "      <td>Chicago Bulls</td>\n",
       "      <td>Detroit Pistons</td>\n",
       "      <td>1.52</td>\n",
       "      <td>0</td>\n",
       "      <td>2.62</td>\n",
       "      <td>2</td>\n",
       "    </tr>\n",
       "    <tr>\n",
       "      <th>204</th>\n",
       "      <td>0:0</td>\n",
       "      <td>2021-02-18</td>\n",
       "      <td>basketball/usa_nba</td>\n",
       "      <td>Minnesota Timberwolves</td>\n",
       "      <td>Indiana Pacers</td>\n",
       "      <td>2.89</td>\n",
       "      <td>0</td>\n",
       "      <td>1.43</td>\n",
       "      <td>1</td>\n",
       "    </tr>\n",
       "    <tr>\n",
       "      <th>205</th>\n",
       "      <td>0:0</td>\n",
       "      <td>2021-02-18</td>\n",
       "      <td>basketball/usa_nba</td>\n",
       "      <td>Memphis Grizzlies</td>\n",
       "      <td>Oklahoma City Thunder</td>\n",
       "      <td>1.36</td>\n",
       "      <td>0</td>\n",
       "      <td>3.26</td>\n",
       "      <td>2</td>\n",
       "    </tr>\n",
       "  </tbody>\n",
       "</table>\n",
       "</div>"
      ],
      "text/plain": [
       "    hora        date         area_league                   team1  \\\n",
       "203  0:0  2021-02-18  basketball/usa_nba           Chicago Bulls   \n",
       "204  0:0  2021-02-18  basketball/usa_nba  Minnesota Timberwolves   \n",
       "205  0:0  2021-02-18  basketball/usa_nba       Memphis Grizzlies   \n",
       "\n",
       "                     team2  team1_odds  draw_odds  team2_odds  objetivo  \n",
       "203        Detroit Pistons        1.52          0        2.62         2  \n",
       "204         Indiana Pacers        2.89          0        1.43         1  \n",
       "205  Oklahoma City Thunder        1.36          0        3.26         2  "
      ]
     },
     "execution_count": 14,
     "metadata": {},
     "output_type": "execute_result"
    }
   ],
   "source": [
    "df_prediccion = dsp.load_data(tbl=\"tbl_fallo2_nba\")\n",
    "dsp.daily_prediction(df_prediccion)"
   ]
  },
  {
   "cell_type": "markdown",
   "metadata": {},
   "source": [
    "## NHL"
   ]
  },
  {
   "cell_type": "code",
   "execution_count": 15,
   "metadata": {},
   "outputs": [
    {
     "data": {
      "text/html": [
       "<div>\n",
       "<style scoped>\n",
       "    .dataframe tbody tr th:only-of-type {\n",
       "        vertical-align: middle;\n",
       "    }\n",
       "\n",
       "    .dataframe tbody tr th {\n",
       "        vertical-align: top;\n",
       "    }\n",
       "\n",
       "    .dataframe thead th {\n",
       "        text-align: right;\n",
       "    }\n",
       "</style>\n",
       "<table border=\"1\" class=\"dataframe\">\n",
       "  <thead>\n",
       "    <tr style=\"text-align: right;\">\n",
       "      <th></th>\n",
       "      <th>hora</th>\n",
       "      <th>date</th>\n",
       "      <th>area_league</th>\n",
       "      <th>team1</th>\n",
       "      <th>team2</th>\n",
       "      <th>team1_odds</th>\n",
       "      <th>draw_odds</th>\n",
       "      <th>team2_odds</th>\n",
       "      <th>objetivo</th>\n",
       "    </tr>\n",
       "  </thead>\n",
       "  <tbody>\n",
       "    <tr>\n",
       "      <th>239</th>\n",
       "      <td>03:00</td>\n",
       "      <td>2021-02-18</td>\n",
       "      <td>/hockey/usa/nhl/calgary-flames-vancouver-canuc...</td>\n",
       "      <td>Calgary Flames</td>\n",
       "      <td>Vancouver Canucks</td>\n",
       "      <td>2.03</td>\n",
       "      <td>4.29</td>\n",
       "      <td>3.07</td>\n",
       "      <td>0.576060</td>\n",
       "    </tr>\n",
       "    <tr>\n",
       "      <th>238</th>\n",
       "      <td>00:30</td>\n",
       "      <td>2021-02-18</td>\n",
       "      <td>/hockey/usa/nhl/detroit-red-wings-chicago-blac...</td>\n",
       "      <td>Detroit Red Wings</td>\n",
       "      <td>Chicago Blackhawks</td>\n",
       "      <td>2.88</td>\n",
       "      <td>4.20</td>\n",
       "      <td>2.13</td>\n",
       "      <td>0.412152</td>\n",
       "    </tr>\n",
       "    <tr>\n",
       "      <th>240</th>\n",
       "      <td>03:00</td>\n",
       "      <td>2021-02-18</td>\n",
       "      <td>/hockey/usa/nhl/edmonton-oilers-winnipeg-jets-...</td>\n",
       "      <td>Edmonton Oilers</td>\n",
       "      <td>Winnipeg Jets</td>\n",
       "      <td>2.11</td>\n",
       "      <td>4.46</td>\n",
       "      <td>2.82</td>\n",
       "      <td>0.590860</td>\n",
       "    </tr>\n",
       "    <tr>\n",
       "      <th>237</th>\n",
       "      <td>00:00</td>\n",
       "      <td>2021-02-18</td>\n",
       "      <td>/hockey/usa/nhl/toronto-maple-leafs-ottawa-sen...</td>\n",
       "      <td>Toronto Maple Leafs</td>\n",
       "      <td>Ottawa Senators</td>\n",
       "      <td>1.49</td>\n",
       "      <td>5.50</td>\n",
       "      <td>5.03</td>\n",
       "      <td>0.720410</td>\n",
       "    </tr>\n",
       "  </tbody>\n",
       "</table>\n",
       "</div>"
      ],
      "text/plain": [
       "      hora        date                                        area_league  \\\n",
       "239  03:00  2021-02-18  /hockey/usa/nhl/calgary-flames-vancouver-canuc...   \n",
       "238  00:30  2021-02-18  /hockey/usa/nhl/detroit-red-wings-chicago-blac...   \n",
       "240  03:00  2021-02-18  /hockey/usa/nhl/edmonton-oilers-winnipeg-jets-...   \n",
       "237  00:00  2021-02-18  /hockey/usa/nhl/toronto-maple-leafs-ottawa-sen...   \n",
       "\n",
       "                   team1               team2  team1_odds  draw_odds  \\\n",
       "239       Calgary Flames   Vancouver Canucks        2.03       4.29   \n",
       "238    Detroit Red Wings  Chicago Blackhawks        2.88       4.20   \n",
       "240      Edmonton Oilers       Winnipeg Jets        2.11       4.46   \n",
       "237  Toronto Maple Leafs     Ottawa Senators        1.49       5.50   \n",
       "\n",
       "     team2_odds  objetivo  \n",
       "239        3.07  0.576060  \n",
       "238        2.13  0.412152  \n",
       "240        2.82  0.590860  \n",
       "237        5.03  0.720410  "
      ]
     },
     "execution_count": 15,
     "metadata": {},
     "output_type": "execute_result"
    }
   ],
   "source": [
    "df_prediccion = dsp.load_data(tbl=\"tbl_prediccion_machin_nhl\")\n",
    "dsp.daily_prediction(df_prediccion)"
   ]
  },
  {
   "cell_type": "markdown",
   "metadata": {},
   "source": [
    "## NHL CLUSTER FALLO"
   ]
  },
  {
   "cell_type": "code",
   "execution_count": 16,
   "metadata": {},
   "outputs": [
    {
     "data": {
      "text/html": [
       "<div>\n",
       "<style scoped>\n",
       "    .dataframe tbody tr th:only-of-type {\n",
       "        vertical-align: middle;\n",
       "    }\n",
       "\n",
       "    .dataframe tbody tr th {\n",
       "        vertical-align: top;\n",
       "    }\n",
       "\n",
       "    .dataframe thead th {\n",
       "        text-align: right;\n",
       "    }\n",
       "</style>\n",
       "<table border=\"1\" class=\"dataframe\">\n",
       "  <thead>\n",
       "    <tr style=\"text-align: right;\">\n",
       "      <th></th>\n",
       "      <th>hora</th>\n",
       "      <th>date</th>\n",
       "      <th>area_league</th>\n",
       "      <th>team1</th>\n",
       "      <th>team2</th>\n",
       "      <th>team1_odds</th>\n",
       "      <th>draw_odds</th>\n",
       "      <th>team2_odds</th>\n",
       "      <th>objetivo</th>\n",
       "    </tr>\n",
       "  </thead>\n",
       "  <tbody>\n",
       "  </tbody>\n",
       "</table>\n",
       "</div>"
      ],
      "text/plain": [
       "Empty DataFrame\n",
       "Columns: [hora, date, area_league, team1, team2, team1_odds, draw_odds, team2_odds, objetivo]\n",
       "Index: []"
      ]
     },
     "execution_count": 16,
     "metadata": {},
     "output_type": "execute_result"
    }
   ],
   "source": [
    "df_prediccion = dsp.load_data(tbl=\"tbl_fallo_nhl\")\n",
    "dsp.daily_prediction(df_prediccion)"
   ]
  },
  {
   "cell_type": "markdown",
   "metadata": {},
   "source": [
    "### MLB"
   ]
  },
  {
   "cell_type": "code",
   "execution_count": 17,
   "metadata": {},
   "outputs": [
    {
     "data": {
      "text/html": [
       "<div>\n",
       "<style scoped>\n",
       "    .dataframe tbody tr th:only-of-type {\n",
       "        vertical-align: middle;\n",
       "    }\n",
       "\n",
       "    .dataframe tbody tr th {\n",
       "        vertical-align: top;\n",
       "    }\n",
       "\n",
       "    .dataframe thead th {\n",
       "        text-align: right;\n",
       "    }\n",
       "</style>\n",
       "<table border=\"1\" class=\"dataframe\">\n",
       "  <thead>\n",
       "    <tr style=\"text-align: right;\">\n",
       "      <th></th>\n",
       "      <th>hora</th>\n",
       "      <th>date</th>\n",
       "      <th>area_league</th>\n",
       "      <th>team1</th>\n",
       "      <th>team2</th>\n",
       "      <th>team1_odds</th>\n",
       "      <th>draw_odds</th>\n",
       "      <th>team2_odds</th>\n",
       "      <th>objetivo</th>\n",
       "    </tr>\n",
       "  </thead>\n",
       "  <tbody>\n",
       "  </tbody>\n",
       "</table>\n",
       "</div>"
      ],
      "text/plain": [
       "Empty DataFrame\n",
       "Columns: [hora, date, area_league, team1, team2, team1_odds, draw_odds, team2_odds, objetivo]\n",
       "Index: []"
      ]
     },
     "execution_count": 17,
     "metadata": {},
     "output_type": "execute_result"
    }
   ],
   "source": [
    "df_prediccion = dsp.load_data(tbl=\"tbl_prediccion_machin_base1\")\n",
    "dp = dsp.daily_prediction(df_prediccion)\n",
    "dp.sort_values(by=['hora'],ascending=True)"
   ]
  },
  {
   "cell_type": "markdown",
   "metadata": {},
   "source": [
    "## SOCCER"
   ]
  },
  {
   "cell_type": "code",
   "execution_count": 18,
   "metadata": {},
   "outputs": [
    {
     "data": {
      "text/html": [
       "<div>\n",
       "<style scoped>\n",
       "    .dataframe tbody tr th:only-of-type {\n",
       "        vertical-align: middle;\n",
       "    }\n",
       "\n",
       "    .dataframe tbody tr th {\n",
       "        vertical-align: top;\n",
       "    }\n",
       "\n",
       "    .dataframe thead th {\n",
       "        text-align: right;\n",
       "    }\n",
       "</style>\n",
       "<table border=\"1\" class=\"dataframe\">\n",
       "  <thead>\n",
       "    <tr style=\"text-align: right;\">\n",
       "      <th></th>\n",
       "      <th>hora</th>\n",
       "      <th>date</th>\n",
       "      <th>area_league</th>\n",
       "      <th>team1</th>\n",
       "      <th>team2</th>\n",
       "      <th>team1_odds</th>\n",
       "      <th>draw_odds</th>\n",
       "      <th>team2_odds</th>\n",
       "      <th>objetivo</th>\n",
       "    </tr>\n",
       "  </thead>\n",
       "  <tbody>\n",
       "  </tbody>\n",
       "</table>\n",
       "</div>"
      ],
      "text/plain": [
       "Empty DataFrame\n",
       "Columns: [hora, date, area_league, team1, team2, team1_odds, draw_odds, team2_odds, objetivo]\n",
       "Index: []"
      ]
     },
     "execution_count": 18,
     "metadata": {},
     "output_type": "execute_result"
    }
   ],
   "source": [
    "df_prediccion = dsp.load_data(tbl=\"tbl_prediccion_machin_soccer\")\n",
    "dsp.daily_prediction(df_prediccion)"
   ]
  },
  {
   "cell_type": "markdown",
   "metadata": {},
   "source": [
    "### SOCCER CLUSTER FALLO"
   ]
  },
  {
   "cell_type": "code",
   "execution_count": 19,
   "metadata": {},
   "outputs": [
    {
     "data": {
      "text/html": [
       "<div>\n",
       "<style scoped>\n",
       "    .dataframe tbody tr th:only-of-type {\n",
       "        vertical-align: middle;\n",
       "    }\n",
       "\n",
       "    .dataframe tbody tr th {\n",
       "        vertical-align: top;\n",
       "    }\n",
       "\n",
       "    .dataframe thead th {\n",
       "        text-align: right;\n",
       "    }\n",
       "</style>\n",
       "<table border=\"1\" class=\"dataframe\">\n",
       "  <thead>\n",
       "    <tr style=\"text-align: right;\">\n",
       "      <th></th>\n",
       "      <th>hora</th>\n",
       "      <th>date</th>\n",
       "      <th>area_league</th>\n",
       "      <th>team1</th>\n",
       "      <th>team2</th>\n",
       "      <th>team1_odds</th>\n",
       "      <th>draw_odds</th>\n",
       "      <th>team2_odds</th>\n",
       "      <th>objetivo</th>\n",
       "    </tr>\n",
       "  </thead>\n",
       "  <tbody>\n",
       "  </tbody>\n",
       "</table>\n",
       "</div>"
      ],
      "text/plain": [
       "Empty DataFrame\n",
       "Columns: [hora, date, area_league, team1, team2, team1_odds, draw_odds, team2_odds, objetivo]\n",
       "Index: []"
      ]
     },
     "execution_count": 19,
     "metadata": {},
     "output_type": "execute_result"
    }
   ],
   "source": [
    "df_prediccion = dsp.load_data(tbl=\"tbl_fallo_soccer\")\n",
    "dsp.daily_prediction(df_prediccion)"
   ]
  },
  {
   "cell_type": "markdown",
   "metadata": {},
   "source": [
    "### SOCCER EMPATE SECUENCIA"
   ]
  },
  {
   "cell_type": "code",
   "execution_count": 20,
   "metadata": {},
   "outputs": [
    {
     "data": {
      "text/html": [
       "<div>\n",
       "<style scoped>\n",
       "    .dataframe tbody tr th:only-of-type {\n",
       "        vertical-align: middle;\n",
       "    }\n",
       "\n",
       "    .dataframe tbody tr th {\n",
       "        vertical-align: top;\n",
       "    }\n",
       "\n",
       "    .dataframe thead th {\n",
       "        text-align: right;\n",
       "    }\n",
       "</style>\n",
       "<table border=\"1\" class=\"dataframe\">\n",
       "  <thead>\n",
       "    <tr style=\"text-align: right;\">\n",
       "      <th></th>\n",
       "      <th>hora</th>\n",
       "      <th>date</th>\n",
       "      <th>area_league</th>\n",
       "      <th>team1</th>\n",
       "      <th>team2</th>\n",
       "      <th>team1_odds</th>\n",
       "      <th>draw_odds</th>\n",
       "      <th>team2_odds</th>\n",
       "      <th>objetivo</th>\n",
       "    </tr>\n",
       "  </thead>\n",
       "  <tbody>\n",
       "    <tr>\n",
       "      <th>229</th>\n",
       "      <td>11:00</td>\n",
       "      <td>2021-02-18</td>\n",
       "      <td>soccer/tanzania_ligi-kuu-bara</td>\n",
       "      <td>JKT Tanzania</td>\n",
       "      <td>Polisi Tanzania</td>\n",
       "      <td>2.71</td>\n",
       "      <td>2.68</td>\n",
       "      <td>2.71</td>\n",
       "      <td>5-JKT Tanzania-0.15</td>\n",
       "    </tr>\n",
       "    <tr>\n",
       "      <th>230</th>\n",
       "      <td>11:00</td>\n",
       "      <td>2021-02-18</td>\n",
       "      <td>soccer/tanzania_ligi-kuu-bara</td>\n",
       "      <td>JKT Tanzania</td>\n",
       "      <td>Polisi Tanzania</td>\n",
       "      <td>2.71</td>\n",
       "      <td>2.68</td>\n",
       "      <td>2.71</td>\n",
       "      <td>1-Polisi Tanzania-0.19</td>\n",
       "    </tr>\n",
       "  </tbody>\n",
       "</table>\n",
       "</div>"
      ],
      "text/plain": [
       "      hora        date                    area_league         team1  \\\n",
       "229  11:00  2021-02-18  soccer/tanzania_ligi-kuu-bara  JKT Tanzania   \n",
       "230  11:00  2021-02-18  soccer/tanzania_ligi-kuu-bara  JKT Tanzania   \n",
       "\n",
       "               team2  team1_odds  draw_odds  team2_odds  \\\n",
       "229  Polisi Tanzania        2.71       2.68        2.71   \n",
       "230  Polisi Tanzania        2.71       2.68        2.71   \n",
       "\n",
       "                   objetivo  \n",
       "229     5-JKT Tanzania-0.15  \n",
       "230  1-Polisi Tanzania-0.19  "
      ]
     },
     "execution_count": 20,
     "metadata": {},
     "output_type": "execute_result"
    }
   ],
   "source": [
    "df_prediccion = dsp.load_data(tbl=\"tbl_empate_soccer\")\n",
    "dsp.daily_prediction(df_prediccion)"
   ]
  },
  {
   "cell_type": "markdown",
   "metadata": {},
   "source": [
    "## SOCCER FAVORITO SECUENCIA"
   ]
  },
  {
   "cell_type": "markdown",
   "metadata": {},
   "source": [
    "###  MILAN - más negativo -77"
   ]
  },
  {
   "cell_type": "code",
   "execution_count": 21,
   "metadata": {},
   "outputs": [
    {
     "data": {
      "text/html": [
       "<div>\n",
       "<style scoped>\n",
       "    .dataframe tbody tr th:only-of-type {\n",
       "        vertical-align: middle;\n",
       "    }\n",
       "\n",
       "    .dataframe tbody tr th {\n",
       "        vertical-align: top;\n",
       "    }\n",
       "\n",
       "    .dataframe thead th {\n",
       "        text-align: right;\n",
       "    }\n",
       "</style>\n",
       "<table border=\"1\" class=\"dataframe\">\n",
       "  <thead>\n",
       "    <tr style=\"text-align: right;\">\n",
       "      <th></th>\n",
       "      <th>hora</th>\n",
       "      <th>date</th>\n",
       "      <th>area_league</th>\n",
       "      <th>team1</th>\n",
       "      <th>team2</th>\n",
       "      <th>team1_odds</th>\n",
       "      <th>draw_odds</th>\n",
       "      <th>team2_odds</th>\n",
       "      <th>objetivo</th>\n",
       "    </tr>\n",
       "  </thead>\n",
       "  <tbody>\n",
       "  </tbody>\n",
       "</table>\n",
       "</div>"
      ],
      "text/plain": [
       "Empty DataFrame\n",
       "Columns: [hora, date, area_league, team1, team2, team1_odds, draw_odds, team2_odds, objetivo]\n",
       "Index: []"
      ]
     },
     "execution_count": 21,
     "metadata": {},
     "output_type": "execute_result"
    }
   ],
   "source": [
    "df_prediccion = dsp.load_data(tbl=\"tbl_favorito_soccer_MILAN\")\n",
    "dsp.daily_prediction(df_prediccion)"
   ]
  },
  {
   "cell_type": "markdown",
   "metadata": {},
   "source": [
    "## CRB - más positivo .49"
   ]
  },
  {
   "cell_type": "code",
   "execution_count": 22,
   "metadata": {},
   "outputs": [
    {
     "data": {
      "text/html": [
       "<div>\n",
       "<style scoped>\n",
       "    .dataframe tbody tr th:only-of-type {\n",
       "        vertical-align: middle;\n",
       "    }\n",
       "\n",
       "    .dataframe tbody tr th {\n",
       "        vertical-align: top;\n",
       "    }\n",
       "\n",
       "    .dataframe thead th {\n",
       "        text-align: right;\n",
       "    }\n",
       "</style>\n",
       "<table border=\"1\" class=\"dataframe\">\n",
       "  <thead>\n",
       "    <tr style=\"text-align: right;\">\n",
       "      <th></th>\n",
       "      <th>hora</th>\n",
       "      <th>date</th>\n",
       "      <th>area_league</th>\n",
       "      <th>team1</th>\n",
       "      <th>team2</th>\n",
       "      <th>team1_odds</th>\n",
       "      <th>draw_odds</th>\n",
       "      <th>team2_odds</th>\n",
       "      <th>objetivo</th>\n",
       "    </tr>\n",
       "  </thead>\n",
       "  <tbody>\n",
       "  </tbody>\n",
       "</table>\n",
       "</div>"
      ],
      "text/plain": [
       "Empty DataFrame\n",
       "Columns: [hora, date, area_league, team1, team2, team1_odds, draw_odds, team2_odds, objetivo]\n",
       "Index: []"
      ]
     },
     "execution_count": 22,
     "metadata": {},
     "output_type": "execute_result"
    }
   ],
   "source": [
    "df_prediccion = dsp.load_data(tbl=\"tbl_favorito_soccer_CRB\")\n",
    "dsp.daily_prediction(df_prediccion)"
   ]
  },
  {
   "cell_type": "markdown",
   "metadata": {},
   "source": [
    "### LIGA MX"
   ]
  },
  {
   "cell_type": "code",
   "execution_count": 23,
   "metadata": {},
   "outputs": [
    {
     "data": {
      "text/html": [
       "<div>\n",
       "<style scoped>\n",
       "    .dataframe tbody tr th:only-of-type {\n",
       "        vertical-align: middle;\n",
       "    }\n",
       "\n",
       "    .dataframe tbody tr th {\n",
       "        vertical-align: top;\n",
       "    }\n",
       "\n",
       "    .dataframe thead th {\n",
       "        text-align: right;\n",
       "    }\n",
       "</style>\n",
       "<table border=\"1\" class=\"dataframe\">\n",
       "  <thead>\n",
       "    <tr style=\"text-align: right;\">\n",
       "      <th></th>\n",
       "      <th>date</th>\n",
       "      <th>hora</th>\n",
       "      <th>sport</th>\n",
       "      <th>area</th>\n",
       "      <th>league</th>\n",
       "      <th>team1</th>\n",
       "      <th>team2</th>\n",
       "      <th>objetivo</th>\n",
       "      <th>outcome</th>\n",
       "      <th>odd</th>\n",
       "      <th>m_criterio</th>\n",
       "    </tr>\n",
       "  </thead>\n",
       "  <tbody>\n",
       "    <tr>\n",
       "      <th>115</th>\n",
       "      <td>2021-02-18</td>\n",
       "      <td>03:00</td>\n",
       "      <td>soccer</td>\n",
       "      <td>mexico</td>\n",
       "      <td>liga-mx</td>\n",
       "      <td>U.A.N.L.- Tigres</td>\n",
       "      <td>Cruz Azul</td>\n",
       "      <td>TEAM1</td>\n",
       "      <td>0.546125</td>\n",
       "      <td>2.08</td>\n",
       "      <td>100</td>\n",
       "    </tr>\n",
       "  </tbody>\n",
       "</table>\n",
       "</div>"
      ],
      "text/plain": [
       "           date   hora   sport    area   league             team1      team2  \\\n",
       "115  2021-02-18  03:00  soccer  mexico  liga-mx  U.A.N.L.- Tigres  Cruz Azul   \n",
       "\n",
       "    objetivo   outcome   odd  m_criterio  \n",
       "115    TEAM1  0.546125  2.08         100  "
      ]
     },
     "execution_count": 23,
     "metadata": {},
     "output_type": "execute_result"
    }
   ],
   "source": [
    "df_prediccion = dsp.load_data(tbl=\"tbl_prediccion_machin_mx1\")\n",
    "dsp.daily_prediction_criterio(df_prediccion)"
   ]
  },
  {
   "cell_type": "markdown",
   "metadata": {},
   "source": [
    "### NFL"
   ]
  },
  {
   "cell_type": "code",
   "execution_count": 24,
   "metadata": {},
   "outputs": [
    {
     "data": {
      "text/html": [
       "<div>\n",
       "<style scoped>\n",
       "    .dataframe tbody tr th:only-of-type {\n",
       "        vertical-align: middle;\n",
       "    }\n",
       "\n",
       "    .dataframe tbody tr th {\n",
       "        vertical-align: top;\n",
       "    }\n",
       "\n",
       "    .dataframe thead th {\n",
       "        text-align: right;\n",
       "    }\n",
       "</style>\n",
       "<table border=\"1\" class=\"dataframe\">\n",
       "  <thead>\n",
       "    <tr style=\"text-align: right;\">\n",
       "      <th></th>\n",
       "      <th>date</th>\n",
       "      <th>hora</th>\n",
       "      <th>sport</th>\n",
       "      <th>area</th>\n",
       "      <th>league</th>\n",
       "      <th>team1</th>\n",
       "      <th>team2</th>\n",
       "      <th>objetivo</th>\n",
       "      <th>outcome</th>\n",
       "      <th>odd</th>\n",
       "      <th>m_criterio</th>\n",
       "    </tr>\n",
       "  </thead>\n",
       "  <tbody>\n",
       "  </tbody>\n",
       "</table>\n",
       "</div>"
      ],
      "text/plain": [
       "Empty DataFrame\n",
       "Columns: [date, hora, sport, area, league, team1, team2, objetivo, outcome, odd, m_criterio]\n",
       "Index: []"
      ]
     },
     "execution_count": 24,
     "metadata": {},
     "output_type": "execute_result"
    }
   ],
   "source": [
    "df_prediccion = dsp.load_data(tbl=\"tbl_prediccion_machin_nfl1\")\n",
    "dsp.daily_prediction_criterio(df_prediccion)"
   ]
  },
  {
   "cell_type": "markdown",
   "metadata": {},
   "source": [
    "### HOCKEY"
   ]
  },
  {
   "cell_type": "code",
   "execution_count": 25,
   "metadata": {},
   "outputs": [
    {
     "data": {
      "text/html": [
       "<div>\n",
       "<style scoped>\n",
       "    .dataframe tbody tr th:only-of-type {\n",
       "        vertical-align: middle;\n",
       "    }\n",
       "\n",
       "    .dataframe tbody tr th {\n",
       "        vertical-align: top;\n",
       "    }\n",
       "\n",
       "    .dataframe thead th {\n",
       "        text-align: right;\n",
       "    }\n",
       "</style>\n",
       "<table border=\"1\" class=\"dataframe\">\n",
       "  <thead>\n",
       "    <tr style=\"text-align: right;\">\n",
       "      <th></th>\n",
       "      <th>hora</th>\n",
       "      <th>date</th>\n",
       "      <th>area_league</th>\n",
       "      <th>team1</th>\n",
       "      <th>team2</th>\n",
       "      <th>team1_odds</th>\n",
       "      <th>draw_odds</th>\n",
       "      <th>team2_odds</th>\n",
       "      <th>objetivo</th>\n",
       "    </tr>\n",
       "  </thead>\n",
       "  <tbody>\n",
       "    <tr>\n",
       "      <th>126</th>\n",
       "      <td>16:30</td>\n",
       "      <td>2021-02-18</td>\n",
       "      <td>/hockey/finland/liiga/jyp-jyvaskyla-pelicans-l...</td>\n",
       "      <td>JYP</td>\n",
       "      <td>Pelicans</td>\n",
       "      <td>3.43</td>\n",
       "      <td>4.26</td>\n",
       "      <td>1.85</td>\n",
       "      <td>0.414991</td>\n",
       "    </tr>\n",
       "  </tbody>\n",
       "</table>\n",
       "</div>"
      ],
      "text/plain": [
       "      hora        date                                        area_league  \\\n",
       "126  16:30  2021-02-18  /hockey/finland/liiga/jyp-jyvaskyla-pelicans-l...   \n",
       "\n",
       "    team1     team2  team1_odds  draw_odds  team2_odds  objetivo  \n",
       "126   JYP  Pelicans        3.43       4.26        1.85  0.414991  "
      ]
     },
     "execution_count": 25,
     "metadata": {},
     "output_type": "execute_result"
    }
   ],
   "source": [
    "df_prediccion = dsp.load_data(tbl=\"tbl_prediccion_machin_hockey\")\n",
    "dsp.daily_prediction(df_prediccion)"
   ]
  },
  {
   "cell_type": "code",
   "execution_count": 26,
   "metadata": {},
   "outputs": [
    {
     "data": {
      "text/html": [
       "<div>\n",
       "<style scoped>\n",
       "    .dataframe tbody tr th:only-of-type {\n",
       "        vertical-align: middle;\n",
       "    }\n",
       "\n",
       "    .dataframe tbody tr th {\n",
       "        vertical-align: top;\n",
       "    }\n",
       "\n",
       "    .dataframe thead th {\n",
       "        text-align: right;\n",
       "    }\n",
       "</style>\n",
       "<table border=\"1\" class=\"dataframe\">\n",
       "  <thead>\n",
       "    <tr style=\"text-align: right;\">\n",
       "      <th></th>\n",
       "      <th>hora</th>\n",
       "      <th>date</th>\n",
       "      <th>area_league</th>\n",
       "      <th>team1</th>\n",
       "      <th>team2</th>\n",
       "      <th>team1_odds</th>\n",
       "      <th>draw_odds</th>\n",
       "      <th>team2_odds</th>\n",
       "      <th>objetivo</th>\n",
       "    </tr>\n",
       "  </thead>\n",
       "  <tbody>\n",
       "  </tbody>\n",
       "</table>\n",
       "</div>"
      ],
      "text/plain": [
       "Empty DataFrame\n",
       "Columns: [hora, date, area_league, team1, team2, team1_odds, draw_odds, team2_odds, objetivo]\n",
       "Index: []"
      ]
     },
     "execution_count": 26,
     "metadata": {},
     "output_type": "execute_result"
    }
   ],
   "source": [
    "df_prediccion = dsp.load_data(tbl=\"tbl_fallo_hockey\")\n",
    "dsp.daily_prediction(df_prediccion)"
   ]
  },
  {
   "cell_type": "markdown",
   "metadata": {},
   "source": [
    "### Daily predictions machin3."
   ]
  },
  {
   "cell_type": "code",
   "execution_count": 27,
   "metadata": {},
   "outputs": [
    {
     "data": {
      "text/html": [
       "<div>\n",
       "<style scoped>\n",
       "    .dataframe tbody tr th:only-of-type {\n",
       "        vertical-align: middle;\n",
       "    }\n",
       "\n",
       "    .dataframe tbody tr th {\n",
       "        vertical-align: top;\n",
       "    }\n",
       "\n",
       "    .dataframe thead th {\n",
       "        text-align: right;\n",
       "    }\n",
       "</style>\n",
       "<table border=\"1\" class=\"dataframe\">\n",
       "  <thead>\n",
       "    <tr style=\"text-align: right;\">\n",
       "      <th></th>\n",
       "      <th>hora</th>\n",
       "      <th>date</th>\n",
       "      <th>area_league</th>\n",
       "      <th>team1</th>\n",
       "      <th>team2</th>\n",
       "      <th>team1_odds</th>\n",
       "      <th>draw_odds</th>\n",
       "      <th>team2_odds</th>\n",
       "      <th>objetivo</th>\n",
       "    </tr>\n",
       "  </thead>\n",
       "  <tbody>\n",
       "  </tbody>\n",
       "</table>\n",
       "</div>"
      ],
      "text/plain": [
       "Empty DataFrame\n",
       "Columns: [hora, date, area_league, team1, team2, team1_odds, draw_odds, team2_odds, objetivo]\n",
       "Index: []"
      ]
     },
     "execution_count": 27,
     "metadata": {},
     "output_type": "execute_result"
    }
   ],
   "source": [
    "df_prediccion = dsp.load_data(tbl=\"tbl_prediccion_machin3\")\n",
    "dsp.daily_prediction(df_prediccion)"
   ]
  },
  {
   "cell_type": "markdown",
   "metadata": {},
   "source": [
    "### Daily predictions machin6  "
   ]
  },
  {
   "cell_type": "markdown",
   "metadata": {},
   "source": [
    "Objetivo > .50 TEAM1  | Objetivo < .50 TEAM2"
   ]
  },
  {
   "cell_type": "code",
   "execution_count": 28,
   "metadata": {},
   "outputs": [
    {
     "data": {
      "text/html": [
       "<div>\n",
       "<style scoped>\n",
       "    .dataframe tbody tr th:only-of-type {\n",
       "        vertical-align: middle;\n",
       "    }\n",
       "\n",
       "    .dataframe tbody tr th {\n",
       "        vertical-align: top;\n",
       "    }\n",
       "\n",
       "    .dataframe thead th {\n",
       "        text-align: right;\n",
       "    }\n",
       "</style>\n",
       "<table border=\"1\" class=\"dataframe\">\n",
       "  <thead>\n",
       "    <tr style=\"text-align: right;\">\n",
       "      <th></th>\n",
       "      <th>hora</th>\n",
       "      <th>date</th>\n",
       "      <th>area_league</th>\n",
       "      <th>team1</th>\n",
       "      <th>team2</th>\n",
       "      <th>team1_odds</th>\n",
       "      <th>draw_odds</th>\n",
       "      <th>team2_odds</th>\n",
       "      <th>objetivo</th>\n",
       "    </tr>\n",
       "  </thead>\n",
       "  <tbody>\n",
       "    <tr>\n",
       "      <th>5960</th>\n",
       "      <td>12:00</td>\n",
       "      <td>2021-02-18</td>\n",
       "      <td>/soccer/world/club-friendly/rubin-kazan-r-volg...</td>\n",
       "      <td>Rubin Kazan (Rus)</td>\n",
       "      <td>R. Volgograd (Rus)</td>\n",
       "      <td>1.51</td>\n",
       "      <td>4.2</td>\n",
       "      <td>5.85</td>\n",
       "      <td>0.525719</td>\n",
       "    </tr>\n",
       "  </tbody>\n",
       "</table>\n",
       "</div>"
      ],
      "text/plain": [
       "       hora        date                                        area_league  \\\n",
       "5960  12:00  2021-02-18  /soccer/world/club-friendly/rubin-kazan-r-volg...   \n",
       "\n",
       "                  team1               team2  team1_odds  draw_odds  \\\n",
       "5960  Rubin Kazan (Rus)  R. Volgograd (Rus)        1.51        4.2   \n",
       "\n",
       "      team2_odds  objetivo  \n",
       "5960        5.85  0.525719  "
      ]
     },
     "execution_count": 28,
     "metadata": {},
     "output_type": "execute_result"
    }
   ],
   "source": [
    "df_prediccion = dsp.load_data(tbl=\"tbl_prediccion_machin6\")\n",
    "dp = dsp.daily_prediction(df_prediccion)\n",
    "dp.sort_values(by=['objetivo'],ascending=False)"
   ]
  },
  {
   "cell_type": "markdown",
   "metadata": {},
   "source": [
    "___"
   ]
  },
  {
   "cell_type": "markdown",
   "metadata": {},
   "source": [
    "## EXPERIMENTAL "
   ]
  },
  {
   "cell_type": "markdown",
   "metadata": {},
   "source": [
    "### Daily model 53"
   ]
  },
  {
   "cell_type": "code",
   "execution_count": 29,
   "metadata": {},
   "outputs": [
    {
     "data": {
      "text/html": [
       "<div>\n",
       "<style scoped>\n",
       "    .dataframe tbody tr th:only-of-type {\n",
       "        vertical-align: middle;\n",
       "    }\n",
       "\n",
       "    .dataframe tbody tr th {\n",
       "        vertical-align: top;\n",
       "    }\n",
       "\n",
       "    .dataframe thead th {\n",
       "        text-align: right;\n",
       "    }\n",
       "</style>\n",
       "<table border=\"1\" class=\"dataframe\">\n",
       "  <thead>\n",
       "    <tr style=\"text-align: right;\">\n",
       "      <th></th>\n",
       "      <th>hora</th>\n",
       "      <th>date</th>\n",
       "      <th>area_league</th>\n",
       "      <th>team1</th>\n",
       "      <th>team2</th>\n",
       "      <th>team1_odds</th>\n",
       "      <th>draw_odds</th>\n",
       "      <th>team2_odds</th>\n",
       "      <th>objetivo</th>\n",
       "    </tr>\n",
       "  </thead>\n",
       "  <tbody>\n",
       "  </tbody>\n",
       "</table>\n",
       "</div>"
      ],
      "text/plain": [
       "Empty DataFrame\n",
       "Columns: [hora, date, area_league, team1, team2, team1_odds, draw_odds, team2_odds, objetivo]\n",
       "Index: []"
      ]
     },
     "execution_count": 29,
     "metadata": {},
     "output_type": "execute_result"
    }
   ],
   "source": [
    "df_prediccion = dsp.load_data(tbl=\"tbl_prediccion_53\")\n",
    "dsp.daily_prediction(df_prediccion)"
   ]
  },
  {
   "cell_type": "code",
   "execution_count": 30,
   "metadata": {},
   "outputs": [
    {
     "data": {
      "text/html": [
       "<div>\n",
       "<style scoped>\n",
       "    .dataframe tbody tr th:only-of-type {\n",
       "        vertical-align: middle;\n",
       "    }\n",
       "\n",
       "    .dataframe tbody tr th {\n",
       "        vertical-align: top;\n",
       "    }\n",
       "\n",
       "    .dataframe thead th {\n",
       "        text-align: right;\n",
       "    }\n",
       "</style>\n",
       "<table border=\"1\" class=\"dataframe\">\n",
       "  <thead>\n",
       "    <tr style=\"text-align: right;\">\n",
       "      <th></th>\n",
       "      <th>hora</th>\n",
       "      <th>date</th>\n",
       "      <th>area_league</th>\n",
       "      <th>team1</th>\n",
       "      <th>team2</th>\n",
       "      <th>team1_odds</th>\n",
       "      <th>draw_odds</th>\n",
       "      <th>team2_odds</th>\n",
       "      <th>objetivo</th>\n",
       "    </tr>\n",
       "  </thead>\n",
       "  <tbody>\n",
       "  </tbody>\n",
       "</table>\n",
       "</div>"
      ],
      "text/plain": [
       "Empty DataFrame\n",
       "Columns: [hora, date, area_league, team1, team2, team1_odds, draw_odds, team2_odds, objetivo]\n",
       "Index: []"
      ]
     },
     "execution_count": 30,
     "metadata": {},
     "output_type": "execute_result"
    }
   ],
   "source": [
    "df_prediccion = dsp.load_data(tbl=\"tbl_prediccion_50\")\n",
    "dsp.daily_prediction(df_prediccion)"
   ]
  },
  {
   "cell_type": "markdown",
   "metadata": {},
   "source": [
    "### Daily predictions machin4 EMPATE"
   ]
  },
  {
   "cell_type": "code",
   "execution_count": 31,
   "metadata": {},
   "outputs": [
    {
     "data": {
      "text/html": [
       "<div>\n",
       "<style scoped>\n",
       "    .dataframe tbody tr th:only-of-type {\n",
       "        vertical-align: middle;\n",
       "    }\n",
       "\n",
       "    .dataframe tbody tr th {\n",
       "        vertical-align: top;\n",
       "    }\n",
       "\n",
       "    .dataframe thead th {\n",
       "        text-align: right;\n",
       "    }\n",
       "</style>\n",
       "<table border=\"1\" class=\"dataframe\">\n",
       "  <thead>\n",
       "    <tr style=\"text-align: right;\">\n",
       "      <th></th>\n",
       "      <th>hora</th>\n",
       "      <th>date</th>\n",
       "      <th>area_league</th>\n",
       "      <th>team1</th>\n",
       "      <th>team2</th>\n",
       "      <th>team1_odds</th>\n",
       "      <th>draw_odds</th>\n",
       "      <th>team2_odds</th>\n",
       "      <th>objetivo</th>\n",
       "    </tr>\n",
       "  </thead>\n",
       "  <tbody>\n",
       "  </tbody>\n",
       "</table>\n",
       "</div>"
      ],
      "text/plain": [
       "Empty DataFrame\n",
       "Columns: [hora, date, area_league, team1, team2, team1_odds, draw_odds, team2_odds, objetivo]\n",
       "Index: []"
      ]
     },
     "execution_count": 31,
     "metadata": {},
     "output_type": "execute_result"
    }
   ],
   "source": [
    "df_prediccion = dsp.load_data(tbl=\"tbl_prediccion_machin4\")\n",
    "dsp.daily_prediction(df_prediccion)"
   ]
  },
  {
   "cell_type": "markdown",
   "metadata": {},
   "source": [
    "### Daily predictions machin5"
   ]
  },
  {
   "cell_type": "code",
   "execution_count": 32,
   "metadata": {},
   "outputs": [
    {
     "data": {
      "text/html": [
       "<div>\n",
       "<style scoped>\n",
       "    .dataframe tbody tr th:only-of-type {\n",
       "        vertical-align: middle;\n",
       "    }\n",
       "\n",
       "    .dataframe tbody tr th {\n",
       "        vertical-align: top;\n",
       "    }\n",
       "\n",
       "    .dataframe thead th {\n",
       "        text-align: right;\n",
       "    }\n",
       "</style>\n",
       "<table border=\"1\" class=\"dataframe\">\n",
       "  <thead>\n",
       "    <tr style=\"text-align: right;\">\n",
       "      <th></th>\n",
       "      <th>hora</th>\n",
       "      <th>date</th>\n",
       "      <th>area_league</th>\n",
       "      <th>team1</th>\n",
       "      <th>team2</th>\n",
       "      <th>team1_odds</th>\n",
       "      <th>draw_odds</th>\n",
       "      <th>team2_odds</th>\n",
       "      <th>objetivo</th>\n",
       "    </tr>\n",
       "  </thead>\n",
       "  <tbody>\n",
       "  </tbody>\n",
       "</table>\n",
       "</div>"
      ],
      "text/plain": [
       "Empty DataFrame\n",
       "Columns: [hora, date, area_league, team1, team2, team1_odds, draw_odds, team2_odds, objetivo]\n",
       "Index: []"
      ]
     },
     "execution_count": 32,
     "metadata": {},
     "output_type": "execute_result"
    }
   ],
   "source": [
    "df_prediccion = dsp.load_data(tbl=\"tbl_prediccion_machin5\")\n",
    "dsp.daily_prediction(df_prediccion)"
   ]
  },
  {
   "cell_type": "code",
   "execution_count": null,
   "metadata": {},
   "outputs": [],
   "source": []
  }
 ],
 "metadata": {
  "kernelspec": {
   "display_name": "Python 3",
   "language": "python",
   "name": "python3"
  },
  "language_info": {
   "codemirror_mode": {
    "name": "ipython",
    "version": 3
   },
   "file_extension": ".py",
   "mimetype": "text/x-python",
   "name": "python",
   "nbconvert_exporter": "python",
   "pygments_lexer": "ipython3",
   "version": "3.7.3"
  }
 },
 "nbformat": 4,
 "nbformat_minor": 2
}
