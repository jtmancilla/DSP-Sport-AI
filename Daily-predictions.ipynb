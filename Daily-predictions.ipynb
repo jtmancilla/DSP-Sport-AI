{
 "cells": [
  {
   "cell_type": "code",
   "execution_count": 1,
   "metadata": {},
   "outputs": [],
   "source": [
    "import os\n",
    "import pandas as pd\n",
    "import numpy as np\n",
    "import warnings\n",
    "warnings.filterwarnings('ignore')\n",
    "import datetime\n",
    "import dsp"
   ]
  },
  {
   "cell_type": "markdown",
   "metadata": {},
   "source": [
    "# Daily selection"
   ]
  },
  {
   "cell_type": "markdown",
   "metadata": {},
   "source": [
    "___"
   ]
  },
  {
   "cell_type": "markdown",
   "metadata": {},
   "source": [
    "### Premium"
   ]
  },
  {
   "cell_type": "code",
   "execution_count": 2,
   "metadata": {},
   "outputs": [
    {
     "data": {
      "text/html": [
       "<div>\n",
       "<style scoped>\n",
       "    .dataframe tbody tr th:only-of-type {\n",
       "        vertical-align: middle;\n",
       "    }\n",
       "\n",
       "    .dataframe tbody tr th {\n",
       "        vertical-align: top;\n",
       "    }\n",
       "\n",
       "    .dataframe thead th {\n",
       "        text-align: right;\n",
       "    }\n",
       "</style>\n",
       "<table border=\"1\" class=\"dataframe\">\n",
       "  <thead>\n",
       "    <tr style=\"text-align: right;\">\n",
       "      <th></th>\n",
       "      <th>date</th>\n",
       "      <th>hora</th>\n",
       "      <th>sport</th>\n",
       "      <th>area</th>\n",
       "      <th>league</th>\n",
       "      <th>team1</th>\n",
       "      <th>team2</th>\n",
       "      <th>objetivo</th>\n",
       "      <th>outcome</th>\n",
       "      <th>odd</th>\n",
       "      <th>m_criterio</th>\n",
       "    </tr>\n",
       "  </thead>\n",
       "  <tbody>\n",
       "    <tr>\n",
       "      <th>100</th>\n",
       "      <td>2020-10-13</td>\n",
       "      <td>18:00</td>\n",
       "      <td>soccer</td>\n",
       "      <td>england</td>\n",
       "      <td>league-one</td>\n",
       "      <td>Oxford Utd</td>\n",
       "      <td>Crewe</td>\n",
       "      <td>X2</td>\n",
       "      <td>1.000000</td>\n",
       "      <td>3.28</td>\n",
       "      <td>100</td>\n",
       "    </tr>\n",
       "    <tr>\n",
       "      <th>101</th>\n",
       "      <td>2020-10-13</td>\n",
       "      <td>00:15</td>\n",
       "      <td>american-football</td>\n",
       "      <td>usa</td>\n",
       "      <td>nfl</td>\n",
       "      <td>New Orleans Saints</td>\n",
       "      <td>Los Angeles Chargers</td>\n",
       "      <td>TEAM1</td>\n",
       "      <td>0.705059</td>\n",
       "      <td>1.30</td>\n",
       "      <td>100</td>\n",
       "    </tr>\n",
       "    <tr>\n",
       "      <th>102</th>\n",
       "      <td>2020-10-13</td>\n",
       "      <td>23:00</td>\n",
       "      <td>american-football</td>\n",
       "      <td>usa</td>\n",
       "      <td>nfl</td>\n",
       "      <td>Tennessee Titans</td>\n",
       "      <td>Buffalo Bills</td>\n",
       "      <td>TEAM1</td>\n",
       "      <td>0.593674</td>\n",
       "      <td>2.53</td>\n",
       "      <td>100</td>\n",
       "    </tr>\n",
       "  </tbody>\n",
       "</table>\n",
       "</div>"
      ],
      "text/plain": [
       "           date   hora              sport     area      league  \\\n",
       "100  2020-10-13  18:00             soccer  england  league-one   \n",
       "101  2020-10-13  00:15  american-football      usa         nfl   \n",
       "102  2020-10-13  23:00  american-football      usa         nfl   \n",
       "\n",
       "                  team1                 team2 objetivo   outcome   odd  \\\n",
       "100          Oxford Utd                 Crewe       X2  1.000000  3.28   \n",
       "101  New Orleans Saints  Los Angeles Chargers    TEAM1  0.705059  1.30   \n",
       "102    Tennessee Titans         Buffalo Bills    TEAM1  0.593674  2.53   \n",
       "\n",
       "     m_criterio  \n",
       "100         100  \n",
       "101         100  \n",
       "102         100  "
      ]
     },
     "execution_count": 2,
     "metadata": {},
     "output_type": "execute_result"
    }
   ],
   "source": [
    "df_prediccion = dsp.load_data(tbl=\"tbl_prediccion_premium\")\n",
    "dsp.daily_prediction_criterio(df_prediccion)"
   ]
  },
  {
   "cell_type": "markdown",
   "metadata": {},
   "source": [
    "### Criterio"
   ]
  },
  {
   "cell_type": "code",
   "execution_count": 3,
   "metadata": {},
   "outputs": [
    {
     "data": {
      "text/html": [
       "<div>\n",
       "<style scoped>\n",
       "    .dataframe tbody tr th:only-of-type {\n",
       "        vertical-align: middle;\n",
       "    }\n",
       "\n",
       "    .dataframe tbody tr th {\n",
       "        vertical-align: top;\n",
       "    }\n",
       "\n",
       "    .dataframe thead th {\n",
       "        text-align: right;\n",
       "    }\n",
       "</style>\n",
       "<table border=\"1\" class=\"dataframe\">\n",
       "  <thead>\n",
       "    <tr style=\"text-align: right;\">\n",
       "      <th></th>\n",
       "      <th>date</th>\n",
       "      <th>hora</th>\n",
       "      <th>sport</th>\n",
       "      <th>area</th>\n",
       "      <th>league</th>\n",
       "      <th>team1</th>\n",
       "      <th>team2</th>\n",
       "      <th>objetivo</th>\n",
       "      <th>odd</th>\n",
       "      <th>m_criterio</th>\n",
       "    </tr>\n",
       "  </thead>\n",
       "  <tbody>\n",
       "    <tr>\n",
       "      <th>428</th>\n",
       "      <td>2020-10-13</td>\n",
       "      <td>18:00</td>\n",
       "      <td>soccer</td>\n",
       "      <td>england</td>\n",
       "      <td>league-two</td>\n",
       "      <td>Cheltenham</td>\n",
       "      <td>Grimsby</td>\n",
       "      <td>TEAM1</td>\n",
       "      <td>1.65</td>\n",
       "      <td>239</td>\n",
       "    </tr>\n",
       "    <tr>\n",
       "      <th>429</th>\n",
       "      <td>2020-10-13</td>\n",
       "      <td>18:00</td>\n",
       "      <td>soccer</td>\n",
       "      <td>france</td>\n",
       "      <td>national</td>\n",
       "      <td>Sete</td>\n",
       "      <td>Bourg en Bresse</td>\n",
       "      <td>TEAM2</td>\n",
       "      <td>3.00</td>\n",
       "      <td>213</td>\n",
       "    </tr>\n",
       "    <tr>\n",
       "      <th>431</th>\n",
       "      <td>2020-10-13</td>\n",
       "      <td>18:00</td>\n",
       "      <td>soccer</td>\n",
       "      <td>france</td>\n",
       "      <td>national</td>\n",
       "      <td>Sporting Club Lyon</td>\n",
       "      <td>Cholet</td>\n",
       "      <td>TEAM2</td>\n",
       "      <td>3.19</td>\n",
       "      <td>226</td>\n",
       "    </tr>\n",
       "    <tr>\n",
       "      <th>430</th>\n",
       "      <td>2020-10-13</td>\n",
       "      <td>16:00</td>\n",
       "      <td>soccer</td>\n",
       "      <td>russia</td>\n",
       "      <td>fnl</td>\n",
       "      <td>Veles Moscow</td>\n",
       "      <td>Nizhny Novgorod</td>\n",
       "      <td>TEAM2</td>\n",
       "      <td>2.47</td>\n",
       "      <td>160</td>\n",
       "    </tr>\n",
       "    <tr>\n",
       "      <th>432</th>\n",
       "      <td>2020-10-13</td>\n",
       "      <td>10:00</td>\n",
       "      <td>soccer</td>\n",
       "      <td>vietnam</td>\n",
       "      <td>v-league-2</td>\n",
       "      <td>Pho Hien</td>\n",
       "      <td>Ba Ria Vung Tau</td>\n",
       "      <td>TEAM1</td>\n",
       "      <td>2.49</td>\n",
       "      <td>162</td>\n",
       "    </tr>\n",
       "  </tbody>\n",
       "</table>\n",
       "</div>"
      ],
      "text/plain": [
       "           date   hora   sport     area      league               team1  \\\n",
       "428  2020-10-13  18:00  soccer  england  league-two          Cheltenham   \n",
       "429  2020-10-13  18:00  soccer   france    national                Sete   \n",
       "431  2020-10-13  18:00  soccer   france    national  Sporting Club Lyon   \n",
       "430  2020-10-13  16:00  soccer   russia         fnl        Veles Moscow   \n",
       "432  2020-10-13  10:00  soccer  vietnam  v-league-2            Pho Hien   \n",
       "\n",
       "               team2 objetivo   odd  m_criterio  \n",
       "428          Grimsby    TEAM1  1.65         239  \n",
       "429  Bourg en Bresse    TEAM2  3.00         213  \n",
       "431           Cholet    TEAM2  3.19         226  \n",
       "430  Nizhny Novgorod    TEAM2  2.47         160  \n",
       "432  Ba Ria Vung Tau    TEAM1  2.49         162  "
      ]
     },
     "execution_count": 3,
     "metadata": {},
     "output_type": "execute_result"
    }
   ],
   "source": [
    "df_prediccion = dsp.load_data(tbl=\"tbl_prediccion_machinTAN_criterio\")\n",
    "dsp.daily_prediction_criterio(df_prediccion)"
   ]
  },
  {
   "cell_type": "markdown",
   "metadata": {},
   "source": [
    "### TAN!! SPECIAL SELECTION"
   ]
  },
  {
   "cell_type": "code",
   "execution_count": 4,
   "metadata": {},
   "outputs": [
    {
     "data": {
      "text/html": [
       "<div>\n",
       "<style scoped>\n",
       "    .dataframe tbody tr th:only-of-type {\n",
       "        vertical-align: middle;\n",
       "    }\n",
       "\n",
       "    .dataframe tbody tr th {\n",
       "        vertical-align: top;\n",
       "    }\n",
       "\n",
       "    .dataframe thead th {\n",
       "        text-align: right;\n",
       "    }\n",
       "</style>\n",
       "<table border=\"1\" class=\"dataframe\">\n",
       "  <thead>\n",
       "    <tr style=\"text-align: right;\">\n",
       "      <th></th>\n",
       "      <th>hora</th>\n",
       "      <th>date</th>\n",
       "      <th>area_league</th>\n",
       "      <th>team1</th>\n",
       "      <th>team2</th>\n",
       "      <th>team1_odds</th>\n",
       "      <th>draw_odds</th>\n",
       "      <th>team2_odds</th>\n",
       "      <th>objetivo</th>\n",
       "    </tr>\n",
       "  </thead>\n",
       "  <tbody>\n",
       "  </tbody>\n",
       "</table>\n",
       "</div>"
      ],
      "text/plain": [
       "Empty DataFrame\n",
       "Columns: [hora, date, area_league, team1, team2, team1_odds, draw_odds, team2_odds, objetivo]\n",
       "Index: []"
      ]
     },
     "execution_count": 4,
     "metadata": {},
     "output_type": "execute_result"
    }
   ],
   "source": [
    "df_prediccion = dsp.load_data(tbl=\"tbl_prediccion_machinTAN\")\n",
    "dsp.daily_prediction(df_prediccion)"
   ]
  },
  {
   "cell_type": "markdown",
   "metadata": {},
   "source": [
    "___"
   ]
  },
  {
   "cell_type": "code",
   "execution_count": 5,
   "metadata": {},
   "outputs": [
    {
     "data": {
      "text/html": [
       "<div>\n",
       "<style scoped>\n",
       "    .dataframe tbody tr th:only-of-type {\n",
       "        vertical-align: middle;\n",
       "    }\n",
       "\n",
       "    .dataframe tbody tr th {\n",
       "        vertical-align: top;\n",
       "    }\n",
       "\n",
       "    .dataframe thead th {\n",
       "        text-align: right;\n",
       "    }\n",
       "</style>\n",
       "<table border=\"1\" class=\"dataframe\">\n",
       "  <thead>\n",
       "    <tr style=\"text-align: right;\">\n",
       "      <th></th>\n",
       "      <th>hora</th>\n",
       "      <th>date</th>\n",
       "      <th>area_league</th>\n",
       "      <th>team1</th>\n",
       "      <th>team2</th>\n",
       "      <th>team1_odds</th>\n",
       "      <th>draw_odds</th>\n",
       "      <th>team2_odds</th>\n",
       "      <th>objetivo</th>\n",
       "    </tr>\n",
       "  </thead>\n",
       "  <tbody>\n",
       "    <tr>\n",
       "      <th>320</th>\n",
       "      <td>18:00</td>\n",
       "      <td>2020-10-13</td>\n",
       "      <td>/soccer/england/league-two/cheltenham-grimsby-...</td>\n",
       "      <td>Cheltenham</td>\n",
       "      <td>Grimsby</td>\n",
       "      <td>1.65</td>\n",
       "      <td>3.97</td>\n",
       "      <td>5.11</td>\n",
       "      <td>TEAM1</td>\n",
       "    </tr>\n",
       "  </tbody>\n",
       "</table>\n",
       "</div>"
      ],
      "text/plain": [
       "      hora        date                                        area_league  \\\n",
       "320  18:00  2020-10-13  /soccer/england/league-two/cheltenham-grimsby-...   \n",
       "\n",
       "          team1    team2 team1_odds draw_odds team2_odds objetivo  \n",
       "320  Cheltenham  Grimsby       1.65      3.97       5.11    TEAM1  "
      ]
     },
     "execution_count": 5,
     "metadata": {},
     "output_type": "execute_result"
    }
   ],
   "source": [
    "df_prediccion = dsp.load_data(tbl=\"tbl_prediccion_machinTAN11\")\n",
    "dsp.daily_prediction(df_prediccion)"
   ]
  },
  {
   "cell_type": "code",
   "execution_count": 6,
   "metadata": {},
   "outputs": [
    {
     "data": {
      "text/html": [
       "<div>\n",
       "<style scoped>\n",
       "    .dataframe tbody tr th:only-of-type {\n",
       "        vertical-align: middle;\n",
       "    }\n",
       "\n",
       "    .dataframe tbody tr th {\n",
       "        vertical-align: top;\n",
       "    }\n",
       "\n",
       "    .dataframe thead th {\n",
       "        text-align: right;\n",
       "    }\n",
       "</style>\n",
       "<table border=\"1\" class=\"dataframe\">\n",
       "  <thead>\n",
       "    <tr style=\"text-align: right;\">\n",
       "      <th></th>\n",
       "      <th>date</th>\n",
       "      <th>hora</th>\n",
       "      <th>sport</th>\n",
       "      <th>area</th>\n",
       "      <th>league</th>\n",
       "      <th>team1</th>\n",
       "      <th>team2</th>\n",
       "      <th>objetivo</th>\n",
       "      <th>odd</th>\n",
       "      <th>m_criterio</th>\n",
       "    </tr>\n",
       "  </thead>\n",
       "  <tbody>\n",
       "    <tr>\n",
       "      <th>151</th>\n",
       "      <td>2020-10-13</td>\n",
       "      <td>18:00</td>\n",
       "      <td>soccer</td>\n",
       "      <td>england</td>\n",
       "      <td>league-two</td>\n",
       "      <td>Cheltenham</td>\n",
       "      <td>Grimsby</td>\n",
       "      <td>TEAM1</td>\n",
       "      <td>1.65</td>\n",
       "      <td>1000</td>\n",
       "    </tr>\n",
       "  </tbody>\n",
       "</table>\n",
       "</div>"
      ],
      "text/plain": [
       "           date   hora   sport     area      league       team1    team2  \\\n",
       "151  2020-10-13  18:00  soccer  england  league-two  Cheltenham  Grimsby   \n",
       "\n",
       "    objetivo   odd  m_criterio  \n",
       "151    TEAM1  1.65        1000  "
      ]
     },
     "execution_count": 6,
     "metadata": {},
     "output_type": "execute_result"
    }
   ],
   "source": [
    "df_prediccion = dsp.load_data(tbl=\"tbl_prediccion_machinTAN_criterio2\")\n",
    "dsp.daily_prediction_criterio(df_prediccion)"
   ]
  },
  {
   "cell_type": "code",
   "execution_count": 7,
   "metadata": {},
   "outputs": [
    {
     "data": {
      "text/html": [
       "<div>\n",
       "<style scoped>\n",
       "    .dataframe tbody tr th:only-of-type {\n",
       "        vertical-align: middle;\n",
       "    }\n",
       "\n",
       "    .dataframe tbody tr th {\n",
       "        vertical-align: top;\n",
       "    }\n",
       "\n",
       "    .dataframe thead th {\n",
       "        text-align: right;\n",
       "    }\n",
       "</style>\n",
       "<table border=\"1\" class=\"dataframe\">\n",
       "  <thead>\n",
       "    <tr style=\"text-align: right;\">\n",
       "      <th></th>\n",
       "      <th>date</th>\n",
       "      <th>hora</th>\n",
       "      <th>sport</th>\n",
       "      <th>area</th>\n",
       "      <th>league</th>\n",
       "      <th>team1</th>\n",
       "      <th>team2</th>\n",
       "      <th>objetivo</th>\n",
       "      <th>odd</th>\n",
       "      <th>m_criterio</th>\n",
       "    </tr>\n",
       "  </thead>\n",
       "  <tbody>\n",
       "  </tbody>\n",
       "</table>\n",
       "</div>"
      ],
      "text/plain": [
       "Empty DataFrame\n",
       "Columns: [date, hora, sport, area, league, team1, team2, objetivo, odd, m_criterio]\n",
       "Index: []"
      ]
     },
     "execution_count": 7,
     "metadata": {},
     "output_type": "execute_result"
    }
   ],
   "source": [
    "df_prediccion = dsp.load_data(tbl=\"tbl_prediccion_machinTAN_criterio3\")\n",
    "dsp.daily_prediction_criterio(df_prediccion)"
   ]
  },
  {
   "cell_type": "code",
   "execution_count": 8,
   "metadata": {},
   "outputs": [
    {
     "data": {
      "text/html": [
       "<div>\n",
       "<style scoped>\n",
       "    .dataframe tbody tr th:only-of-type {\n",
       "        vertical-align: middle;\n",
       "    }\n",
       "\n",
       "    .dataframe tbody tr th {\n",
       "        vertical-align: top;\n",
       "    }\n",
       "\n",
       "    .dataframe thead th {\n",
       "        text-align: right;\n",
       "    }\n",
       "</style>\n",
       "<table border=\"1\" class=\"dataframe\">\n",
       "  <thead>\n",
       "    <tr style=\"text-align: right;\">\n",
       "      <th></th>\n",
       "      <th>date</th>\n",
       "      <th>hora</th>\n",
       "      <th>sport</th>\n",
       "      <th>area</th>\n",
       "      <th>league</th>\n",
       "      <th>team1</th>\n",
       "      <th>team2</th>\n",
       "      <th>objetivo</th>\n",
       "      <th>odd</th>\n",
       "      <th>criterio</th>\n",
       "      <th>outcome</th>\n",
       "    </tr>\n",
       "  </thead>\n",
       "  <tbody>\n",
       "    <tr>\n",
       "      <th>297</th>\n",
       "      <td>2020-10-13</td>\n",
       "      <td>00:08</td>\n",
       "      <td>baseball</td>\n",
       "      <td>usa</td>\n",
       "      <td>mlb</td>\n",
       "      <td>Los Angeles Dodgers</td>\n",
       "      <td>Atlanta Braves</td>\n",
       "      <td>10.5</td>\n",
       "      <td>1.44</td>\n",
       "      <td>100</td>\n",
       "      <td>0.656056</td>\n",
       "    </tr>\n",
       "  </tbody>\n",
       "</table>\n",
       "</div>"
      ],
      "text/plain": [
       "           date   hora     sport area league                team1  \\\n",
       "297  2020-10-13  00:08  baseball  usa    mlb  Los Angeles Dodgers   \n",
       "\n",
       "              team2  objetivo   odd  criterio   outcome  \n",
       "297  Atlanta Braves      10.5  1.44       100  0.656056  "
      ]
     },
     "execution_count": 8,
     "metadata": {},
     "output_type": "execute_result"
    }
   ],
   "source": [
    "df_prediccion = dsp.load_data(tbl=\"tbl_prediccion_base1\")\n",
    "dsp.daily_prediction_criterio(df_prediccion)"
   ]
  },
  {
   "cell_type": "markdown",
   "metadata": {},
   "source": [
    "### MLB"
   ]
  },
  {
   "cell_type": "code",
   "execution_count": 9,
   "metadata": {},
   "outputs": [
    {
     "data": {
      "text/html": [
       "<div>\n",
       "<style scoped>\n",
       "    .dataframe tbody tr th:only-of-type {\n",
       "        vertical-align: middle;\n",
       "    }\n",
       "\n",
       "    .dataframe tbody tr th {\n",
       "        vertical-align: top;\n",
       "    }\n",
       "\n",
       "    .dataframe thead th {\n",
       "        text-align: right;\n",
       "    }\n",
       "</style>\n",
       "<table border=\"1\" class=\"dataframe\">\n",
       "  <thead>\n",
       "    <tr style=\"text-align: right;\">\n",
       "      <th></th>\n",
       "      <th>hora</th>\n",
       "      <th>date</th>\n",
       "      <th>area_league</th>\n",
       "      <th>team1</th>\n",
       "      <th>team2</th>\n",
       "      <th>team1_odds</th>\n",
       "      <th>draw_odds</th>\n",
       "      <th>team2_odds</th>\n",
       "      <th>objetivo</th>\n",
       "    </tr>\n",
       "  </thead>\n",
       "  <tbody>\n",
       "  </tbody>\n",
       "</table>\n",
       "</div>"
      ],
      "text/plain": [
       "Empty DataFrame\n",
       "Columns: [hora, date, area_league, team1, team2, team1_odds, draw_odds, team2_odds, objetivo]\n",
       "Index: []"
      ]
     },
     "execution_count": 9,
     "metadata": {},
     "output_type": "execute_result"
    }
   ],
   "source": [
    "df_prediccion = dsp.load_data(tbl=\"tbl_prediccion_machin_base1\")\n",
    "dp = dsp.daily_prediction(df_prediccion)\n",
    "dp.sort_values(by=['hora'],ascending=True)"
   ]
  },
  {
   "cell_type": "markdown",
   "metadata": {},
   "source": [
    "### LIGA MX"
   ]
  },
  {
   "cell_type": "code",
   "execution_count": 10,
   "metadata": {},
   "outputs": [
    {
     "data": {
      "text/html": [
       "<div>\n",
       "<style scoped>\n",
       "    .dataframe tbody tr th:only-of-type {\n",
       "        vertical-align: middle;\n",
       "    }\n",
       "\n",
       "    .dataframe tbody tr th {\n",
       "        vertical-align: top;\n",
       "    }\n",
       "\n",
       "    .dataframe thead th {\n",
       "        text-align: right;\n",
       "    }\n",
       "</style>\n",
       "<table border=\"1\" class=\"dataframe\">\n",
       "  <thead>\n",
       "    <tr style=\"text-align: right;\">\n",
       "      <th></th>\n",
       "      <th>date</th>\n",
       "      <th>hora</th>\n",
       "      <th>sport</th>\n",
       "      <th>area</th>\n",
       "      <th>league</th>\n",
       "      <th>team1</th>\n",
       "      <th>team2</th>\n",
       "      <th>objetivo</th>\n",
       "      <th>outcome</th>\n",
       "      <th>odd</th>\n",
       "      <th>m_criterio</th>\n",
       "    </tr>\n",
       "  </thead>\n",
       "  <tbody>\n",
       "  </tbody>\n",
       "</table>\n",
       "</div>"
      ],
      "text/plain": [
       "Empty DataFrame\n",
       "Columns: [date, hora, sport, area, league, team1, team2, objetivo, outcome, odd, m_criterio]\n",
       "Index: []"
      ]
     },
     "execution_count": 10,
     "metadata": {},
     "output_type": "execute_result"
    }
   ],
   "source": [
    "df_prediccion = dsp.load_data(tbl=\"tbl_prediccion_machin_mx1\")\n",
    "dsp.daily_prediction_criterio(df_prediccion)"
   ]
  },
  {
   "cell_type": "markdown",
   "metadata": {},
   "source": [
    "### NFL"
   ]
  },
  {
   "cell_type": "code",
   "execution_count": 11,
   "metadata": {},
   "outputs": [
    {
     "data": {
      "text/html": [
       "<div>\n",
       "<style scoped>\n",
       "    .dataframe tbody tr th:only-of-type {\n",
       "        vertical-align: middle;\n",
       "    }\n",
       "\n",
       "    .dataframe tbody tr th {\n",
       "        vertical-align: top;\n",
       "    }\n",
       "\n",
       "    .dataframe thead th {\n",
       "        text-align: right;\n",
       "    }\n",
       "</style>\n",
       "<table border=\"1\" class=\"dataframe\">\n",
       "  <thead>\n",
       "    <tr style=\"text-align: right;\">\n",
       "      <th></th>\n",
       "      <th>date</th>\n",
       "      <th>hora</th>\n",
       "      <th>sport</th>\n",
       "      <th>area</th>\n",
       "      <th>league</th>\n",
       "      <th>team1</th>\n",
       "      <th>team2</th>\n",
       "      <th>objetivo</th>\n",
       "      <th>outcome</th>\n",
       "      <th>odd</th>\n",
       "      <th>m_criterio</th>\n",
       "    </tr>\n",
       "  </thead>\n",
       "  <tbody>\n",
       "    <tr>\n",
       "      <th>29</th>\n",
       "      <td>2020-10-13</td>\n",
       "      <td>00:15</td>\n",
       "      <td>american-football</td>\n",
       "      <td>usa</td>\n",
       "      <td>nfl</td>\n",
       "      <td>New Orleans Saints</td>\n",
       "      <td>Los Angeles Chargers</td>\n",
       "      <td>TEAM1</td>\n",
       "      <td>0.705059</td>\n",
       "      <td>1.30</td>\n",
       "      <td>100</td>\n",
       "    </tr>\n",
       "    <tr>\n",
       "      <th>30</th>\n",
       "      <td>2020-10-13</td>\n",
       "      <td>23:00</td>\n",
       "      <td>american-football</td>\n",
       "      <td>usa</td>\n",
       "      <td>nfl</td>\n",
       "      <td>Tennessee Titans</td>\n",
       "      <td>Buffalo Bills</td>\n",
       "      <td>TEAM1</td>\n",
       "      <td>0.593674</td>\n",
       "      <td>2.53</td>\n",
       "      <td>100</td>\n",
       "    </tr>\n",
       "  </tbody>\n",
       "</table>\n",
       "</div>"
      ],
      "text/plain": [
       "          date   hora              sport area league               team1  \\\n",
       "29  2020-10-13  00:15  american-football  usa    nfl  New Orleans Saints   \n",
       "30  2020-10-13  23:00  american-football  usa    nfl    Tennessee Titans   \n",
       "\n",
       "                   team2 objetivo   outcome   odd  m_criterio  \n",
       "29  Los Angeles Chargers    TEAM1  0.705059  1.30         100  \n",
       "30         Buffalo Bills    TEAM1  0.593674  2.53         100  "
      ]
     },
     "execution_count": 11,
     "metadata": {},
     "output_type": "execute_result"
    }
   ],
   "source": [
    "df_prediccion = dsp.load_data(tbl=\"tbl_prediccion_machin_nfl1\")\n",
    "dsp.daily_prediction_criterio(df_prediccion)"
   ]
  },
  {
   "cell_type": "markdown",
   "metadata": {},
   "source": [
    "### Daily predictions machin3."
   ]
  },
  {
   "cell_type": "code",
   "execution_count": 12,
   "metadata": {},
   "outputs": [
    {
     "data": {
      "text/html": [
       "<div>\n",
       "<style scoped>\n",
       "    .dataframe tbody tr th:only-of-type {\n",
       "        vertical-align: middle;\n",
       "    }\n",
       "\n",
       "    .dataframe tbody tr th {\n",
       "        vertical-align: top;\n",
       "    }\n",
       "\n",
       "    .dataframe thead th {\n",
       "        text-align: right;\n",
       "    }\n",
       "</style>\n",
       "<table border=\"1\" class=\"dataframe\">\n",
       "  <thead>\n",
       "    <tr style=\"text-align: right;\">\n",
       "      <th></th>\n",
       "      <th>hora</th>\n",
       "      <th>date</th>\n",
       "      <th>area_league</th>\n",
       "      <th>team1</th>\n",
       "      <th>team2</th>\n",
       "      <th>team1_odds</th>\n",
       "      <th>draw_odds</th>\n",
       "      <th>team2_odds</th>\n",
       "      <th>objetivo</th>\n",
       "    </tr>\n",
       "  </thead>\n",
       "  <tbody>\n",
       "  </tbody>\n",
       "</table>\n",
       "</div>"
      ],
      "text/plain": [
       "Empty DataFrame\n",
       "Columns: [hora, date, area_league, team1, team2, team1_odds, draw_odds, team2_odds, objetivo]\n",
       "Index: []"
      ]
     },
     "execution_count": 12,
     "metadata": {},
     "output_type": "execute_result"
    }
   ],
   "source": [
    "df_prediccion = dsp.load_data(tbl=\"tbl_prediccion_machin3\")\n",
    "dsp.daily_prediction(df_prediccion)"
   ]
  },
  {
   "cell_type": "markdown",
   "metadata": {},
   "source": [
    "### Daily predictions machin6  "
   ]
  },
  {
   "cell_type": "markdown",
   "metadata": {},
   "source": [
    "Objetivo > .50 TEAM1  | Objetivo < .50 TEAM2"
   ]
  },
  {
   "cell_type": "code",
   "execution_count": 13,
   "metadata": {},
   "outputs": [
    {
     "data": {
      "text/html": [
       "<div>\n",
       "<style scoped>\n",
       "    .dataframe tbody tr th:only-of-type {\n",
       "        vertical-align: middle;\n",
       "    }\n",
       "\n",
       "    .dataframe tbody tr th {\n",
       "        vertical-align: top;\n",
       "    }\n",
       "\n",
       "    .dataframe thead th {\n",
       "        text-align: right;\n",
       "    }\n",
       "</style>\n",
       "<table border=\"1\" class=\"dataframe\">\n",
       "  <thead>\n",
       "    <tr style=\"text-align: right;\">\n",
       "      <th></th>\n",
       "      <th>hora</th>\n",
       "      <th>date</th>\n",
       "      <th>area_league</th>\n",
       "      <th>team1</th>\n",
       "      <th>team2</th>\n",
       "      <th>team1_odds</th>\n",
       "      <th>draw_odds</th>\n",
       "      <th>team2_odds</th>\n",
       "      <th>objetivo</th>\n",
       "    </tr>\n",
       "  </thead>\n",
       "  <tbody>\n",
       "    <tr>\n",
       "      <th>3269</th>\n",
       "      <td>18:45</td>\n",
       "      <td>2020-10-13</td>\n",
       "      <td>/soccer/ireland/premier-division/cork-city-dun...</td>\n",
       "      <td>Cork City</td>\n",
       "      <td>Dundalk</td>\n",
       "      <td>8.58</td>\n",
       "      <td>4.61</td>\n",
       "      <td>1.36</td>\n",
       "      <td>0.422587</td>\n",
       "    </tr>\n",
       "  </tbody>\n",
       "</table>\n",
       "</div>"
      ],
      "text/plain": [
       "       hora        date                                        area_league  \\\n",
       "3269  18:45  2020-10-13  /soccer/ireland/premier-division/cork-city-dun...   \n",
       "\n",
       "          team1    team2 team1_odds draw_odds team2_odds  objetivo  \n",
       "3269  Cork City  Dundalk       8.58      4.61       1.36  0.422587  "
      ]
     },
     "execution_count": 13,
     "metadata": {},
     "output_type": "execute_result"
    }
   ],
   "source": [
    "df_prediccion = dsp.load_data(tbl=\"tbl_prediccion_machin6\")\n",
    "dp = dsp.daily_prediction(df_prediccion)\n",
    "dp.sort_values(by=['objetivo'],ascending=False)"
   ]
  },
  {
   "cell_type": "markdown",
   "metadata": {},
   "source": [
    "___"
   ]
  },
  {
   "cell_type": "markdown",
   "metadata": {},
   "source": [
    "## EXPERIMENTAL "
   ]
  },
  {
   "cell_type": "markdown",
   "metadata": {},
   "source": [
    "### Daily model 53"
   ]
  },
  {
   "cell_type": "code",
   "execution_count": 14,
   "metadata": {},
   "outputs": [
    {
     "data": {
      "text/html": [
       "<div>\n",
       "<style scoped>\n",
       "    .dataframe tbody tr th:only-of-type {\n",
       "        vertical-align: middle;\n",
       "    }\n",
       "\n",
       "    .dataframe tbody tr th {\n",
       "        vertical-align: top;\n",
       "    }\n",
       "\n",
       "    .dataframe thead th {\n",
       "        text-align: right;\n",
       "    }\n",
       "</style>\n",
       "<table border=\"1\" class=\"dataframe\">\n",
       "  <thead>\n",
       "    <tr style=\"text-align: right;\">\n",
       "      <th></th>\n",
       "      <th>hora</th>\n",
       "      <th>date</th>\n",
       "      <th>area_league</th>\n",
       "      <th>team1</th>\n",
       "      <th>team2</th>\n",
       "      <th>team1_odds</th>\n",
       "      <th>draw_odds</th>\n",
       "      <th>team2_odds</th>\n",
       "      <th>objetivo</th>\n",
       "    </tr>\n",
       "  </thead>\n",
       "  <tbody>\n",
       "  </tbody>\n",
       "</table>\n",
       "</div>"
      ],
      "text/plain": [
       "Empty DataFrame\n",
       "Columns: [hora, date, area_league, team1, team2, team1_odds, draw_odds, team2_odds, objetivo]\n",
       "Index: []"
      ]
     },
     "execution_count": 14,
     "metadata": {},
     "output_type": "execute_result"
    }
   ],
   "source": [
    "df_prediccion = dsp.load_data(tbl=\"tbl_prediccion_53\")\n",
    "dsp.daily_prediction(df_prediccion)"
   ]
  },
  {
   "cell_type": "code",
   "execution_count": 15,
   "metadata": {},
   "outputs": [
    {
     "data": {
      "text/html": [
       "<div>\n",
       "<style scoped>\n",
       "    .dataframe tbody tr th:only-of-type {\n",
       "        vertical-align: middle;\n",
       "    }\n",
       "\n",
       "    .dataframe tbody tr th {\n",
       "        vertical-align: top;\n",
       "    }\n",
       "\n",
       "    .dataframe thead th {\n",
       "        text-align: right;\n",
       "    }\n",
       "</style>\n",
       "<table border=\"1\" class=\"dataframe\">\n",
       "  <thead>\n",
       "    <tr style=\"text-align: right;\">\n",
       "      <th></th>\n",
       "      <th>hora</th>\n",
       "      <th>date</th>\n",
       "      <th>area_league</th>\n",
       "      <th>team1</th>\n",
       "      <th>team2</th>\n",
       "      <th>team1_odds</th>\n",
       "      <th>draw_odds</th>\n",
       "      <th>team2_odds</th>\n",
       "      <th>objetivo</th>\n",
       "    </tr>\n",
       "  </thead>\n",
       "  <tbody>\n",
       "    <tr>\n",
       "      <th>2321</th>\n",
       "      <td>22:15</td>\n",
       "      <td>2020-10-13</td>\n",
       "      <td>/soccer/brazil/serie-b/avai-csa-CSVhyniD/</td>\n",
       "      <td>Avai</td>\n",
       "      <td>CSA</td>\n",
       "      <td>2.38</td>\n",
       "      <td>2.94</td>\n",
       "      <td>3.15</td>\n",
       "      <td>TEAM1</td>\n",
       "    </tr>\n",
       "    <tr>\n",
       "      <th>2319</th>\n",
       "      <td>18:00</td>\n",
       "      <td>2020-10-13</td>\n",
       "      <td>/soccer/england/league-one/oxford-utd-crewe-8r...</td>\n",
       "      <td>Oxford Utd</td>\n",
       "      <td>Crewe</td>\n",
       "      <td>2.12</td>\n",
       "      <td>3.6</td>\n",
       "      <td>3.28</td>\n",
       "      <td>DRAW</td>\n",
       "    </tr>\n",
       "    <tr>\n",
       "      <th>2320</th>\n",
       "      <td>18:00</td>\n",
       "      <td>2020-10-13</td>\n",
       "      <td>/soccer/england/league-two/walsall-leyton-orie...</td>\n",
       "      <td>Walsall</td>\n",
       "      <td>Leyton Orient</td>\n",
       "      <td>1.98</td>\n",
       "      <td>3.49</td>\n",
       "      <td>3.81</td>\n",
       "      <td>TEAM1</td>\n",
       "    </tr>\n",
       "    <tr>\n",
       "      <th>2354</th>\n",
       "      <td>17:00</td>\n",
       "      <td>2020-10-13</td>\n",
       "      <td>/soccer/france/national/avranches-quevilly-0I9...</td>\n",
       "      <td>Avranches</td>\n",
       "      <td>Quevilly Rouen</td>\n",
       "      <td>2.82</td>\n",
       "      <td>2.95</td>\n",
       "      <td>2.56</td>\n",
       "      <td>TEAM1</td>\n",
       "    </tr>\n",
       "    <tr>\n",
       "      <th>2348</th>\n",
       "      <td>18:00</td>\n",
       "      <td>2020-10-13</td>\n",
       "      <td>/soccer/france/national/bastia-borgo-villefran...</td>\n",
       "      <td>Bastia-Borgo</td>\n",
       "      <td>Villefranche</td>\n",
       "      <td>2.55</td>\n",
       "      <td>2.68</td>\n",
       "      <td>3.13</td>\n",
       "      <td>TEAM1</td>\n",
       "    </tr>\n",
       "    <tr>\n",
       "      <th>2327</th>\n",
       "      <td>18:45</td>\n",
       "      <td>2020-10-13</td>\n",
       "      <td>/soccer/france/national/concarneau-le-mans-v98...</td>\n",
       "      <td>Concarneau</td>\n",
       "      <td>Le Mans</td>\n",
       "      <td>2.71</td>\n",
       "      <td>2.69</td>\n",
       "      <td>2.9</td>\n",
       "      <td>DRAW</td>\n",
       "    </tr>\n",
       "    <tr>\n",
       "      <th>2342</th>\n",
       "      <td>18:00</td>\n",
       "      <td>2020-10-13</td>\n",
       "      <td>/soccer/france/national/orleans-red-star-8Q1xE...</td>\n",
       "      <td>Orleans</td>\n",
       "      <td>Red Star</td>\n",
       "      <td>2.11</td>\n",
       "      <td>3.12</td>\n",
       "      <td>3.46</td>\n",
       "      <td>TEAM2</td>\n",
       "    </tr>\n",
       "    <tr>\n",
       "      <th>2350</th>\n",
       "      <td>18:00</td>\n",
       "      <td>2020-10-13</td>\n",
       "      <td>/soccer/france/national/sete-bourg-peronnas-Gj...</td>\n",
       "      <td>Sete</td>\n",
       "      <td>Bourg en Bresse</td>\n",
       "      <td>2.49</td>\n",
       "      <td>2.86</td>\n",
       "      <td>3.0</td>\n",
       "      <td>TEAM1</td>\n",
       "    </tr>\n",
       "    <tr>\n",
       "      <th>2325</th>\n",
       "      <td>18:00</td>\n",
       "      <td>2020-10-13</td>\n",
       "      <td>/soccer/france/national/sporting-club-lyon-cho...</td>\n",
       "      <td>Sporting Club Lyon</td>\n",
       "      <td>Cholet</td>\n",
       "      <td>2.34</td>\n",
       "      <td>2.91</td>\n",
       "      <td>3.19</td>\n",
       "      <td>DRAW</td>\n",
       "    </tr>\n",
       "    <tr>\n",
       "      <th>2345</th>\n",
       "      <td>18:00</td>\n",
       "      <td>2020-10-13</td>\n",
       "      <td>/soccer/france/national/stade-briochin-annecy-...</td>\n",
       "      <td>Stade Briochin</td>\n",
       "      <td>Annecy</td>\n",
       "      <td>2.07</td>\n",
       "      <td>3.13</td>\n",
       "      <td>3.56</td>\n",
       "      <td>TEAM2</td>\n",
       "    </tr>\n",
       "    <tr>\n",
       "      <th>2337</th>\n",
       "      <td>13:00</td>\n",
       "      <td>2020-10-13</td>\n",
       "      <td>/soccer/russia/fnl/irtysh-omsk-akron-togliatti...</td>\n",
       "      <td>Omsk</td>\n",
       "      <td>Akron Togliatti</td>\n",
       "      <td>2.52</td>\n",
       "      <td>3.04</td>\n",
       "      <td>2.82</td>\n",
       "      <td>TEAM2</td>\n",
       "    </tr>\n",
       "    <tr>\n",
       "      <th>2336</th>\n",
       "      <td>11:30</td>\n",
       "      <td>2020-10-13</td>\n",
       "      <td>/soccer/russia/fnl/krasnodar-tomsk-8IoBVtMO/</td>\n",
       "      <td>Krasnodar 2</td>\n",
       "      <td>Tomsk</td>\n",
       "      <td>1.7</td>\n",
       "      <td>3.87</td>\n",
       "      <td>4.3</td>\n",
       "      <td>TEAM2</td>\n",
       "    </tr>\n",
       "    <tr>\n",
       "      <th>2334</th>\n",
       "      <td>16:00</td>\n",
       "      <td>2020-10-13</td>\n",
       "      <td>/soccer/russia/fnl/veles-moscow-fc-nizhny-novg...</td>\n",
       "      <td>Veles Moscow</td>\n",
       "      <td>Nizhny Novgorod</td>\n",
       "      <td>2.8</td>\n",
       "      <td>3.09</td>\n",
       "      <td>2.47</td>\n",
       "      <td>TEAM1</td>\n",
       "    </tr>\n",
       "  </tbody>\n",
       "</table>\n",
       "</div>"
      ],
      "text/plain": [
       "       hora        date                                        area_league  \\\n",
       "2321  22:15  2020-10-13          /soccer/brazil/serie-b/avai-csa-CSVhyniD/   \n",
       "2319  18:00  2020-10-13  /soccer/england/league-one/oxford-utd-crewe-8r...   \n",
       "2320  18:00  2020-10-13  /soccer/england/league-two/walsall-leyton-orie...   \n",
       "2354  17:00  2020-10-13  /soccer/france/national/avranches-quevilly-0I9...   \n",
       "2348  18:00  2020-10-13  /soccer/france/national/bastia-borgo-villefran...   \n",
       "2327  18:45  2020-10-13  /soccer/france/national/concarneau-le-mans-v98...   \n",
       "2342  18:00  2020-10-13  /soccer/france/national/orleans-red-star-8Q1xE...   \n",
       "2350  18:00  2020-10-13  /soccer/france/national/sete-bourg-peronnas-Gj...   \n",
       "2325  18:00  2020-10-13  /soccer/france/national/sporting-club-lyon-cho...   \n",
       "2345  18:00  2020-10-13  /soccer/france/national/stade-briochin-annecy-...   \n",
       "2337  13:00  2020-10-13  /soccer/russia/fnl/irtysh-omsk-akron-togliatti...   \n",
       "2336  11:30  2020-10-13       /soccer/russia/fnl/krasnodar-tomsk-8IoBVtMO/   \n",
       "2334  16:00  2020-10-13  /soccer/russia/fnl/veles-moscow-fc-nizhny-novg...   \n",
       "\n",
       "                   team1            team2 team1_odds draw_odds team2_odds  \\\n",
       "2321                Avai              CSA       2.38      2.94       3.15   \n",
       "2319          Oxford Utd            Crewe       2.12       3.6       3.28   \n",
       "2320             Walsall    Leyton Orient       1.98      3.49       3.81   \n",
       "2354           Avranches   Quevilly Rouen       2.82      2.95       2.56   \n",
       "2348        Bastia-Borgo     Villefranche       2.55      2.68       3.13   \n",
       "2327          Concarneau          Le Mans       2.71      2.69        2.9   \n",
       "2342             Orleans         Red Star       2.11      3.12       3.46   \n",
       "2350                Sete  Bourg en Bresse       2.49      2.86        3.0   \n",
       "2325  Sporting Club Lyon           Cholet       2.34      2.91       3.19   \n",
       "2345      Stade Briochin           Annecy       2.07      3.13       3.56   \n",
       "2337                Omsk  Akron Togliatti       2.52      3.04       2.82   \n",
       "2336         Krasnodar 2            Tomsk        1.7      3.87        4.3   \n",
       "2334        Veles Moscow  Nizhny Novgorod        2.8      3.09       2.47   \n",
       "\n",
       "     objetivo  \n",
       "2321    TEAM1  \n",
       "2319     DRAW  \n",
       "2320    TEAM1  \n",
       "2354    TEAM1  \n",
       "2348    TEAM1  \n",
       "2327     DRAW  \n",
       "2342    TEAM2  \n",
       "2350    TEAM1  \n",
       "2325     DRAW  \n",
       "2345    TEAM2  \n",
       "2337    TEAM2  \n",
       "2336    TEAM2  \n",
       "2334    TEAM1  "
      ]
     },
     "execution_count": 15,
     "metadata": {},
     "output_type": "execute_result"
    }
   ],
   "source": [
    "df_prediccion = dsp.load_data(tbl=\"tbl_prediccion_50\")\n",
    "dsp.daily_prediction(df_prediccion)"
   ]
  },
  {
   "cell_type": "markdown",
   "metadata": {},
   "source": [
    "### Daily predictions machin4 EMPATE"
   ]
  },
  {
   "cell_type": "code",
   "execution_count": 16,
   "metadata": {},
   "outputs": [
    {
     "data": {
      "text/html": [
       "<div>\n",
       "<style scoped>\n",
       "    .dataframe tbody tr th:only-of-type {\n",
       "        vertical-align: middle;\n",
       "    }\n",
       "\n",
       "    .dataframe tbody tr th {\n",
       "        vertical-align: top;\n",
       "    }\n",
       "\n",
       "    .dataframe thead th {\n",
       "        text-align: right;\n",
       "    }\n",
       "</style>\n",
       "<table border=\"1\" class=\"dataframe\">\n",
       "  <thead>\n",
       "    <tr style=\"text-align: right;\">\n",
       "      <th></th>\n",
       "      <th>hora</th>\n",
       "      <th>date</th>\n",
       "      <th>area_league</th>\n",
       "      <th>team1</th>\n",
       "      <th>team2</th>\n",
       "      <th>team1_odds</th>\n",
       "      <th>draw_odds</th>\n",
       "      <th>team2_odds</th>\n",
       "      <th>objetivo</th>\n",
       "    </tr>\n",
       "  </thead>\n",
       "  <tbody>\n",
       "  </tbody>\n",
       "</table>\n",
       "</div>"
      ],
      "text/plain": [
       "Empty DataFrame\n",
       "Columns: [hora, date, area_league, team1, team2, team1_odds, draw_odds, team2_odds, objetivo]\n",
       "Index: []"
      ]
     },
     "execution_count": 16,
     "metadata": {},
     "output_type": "execute_result"
    }
   ],
   "source": [
    "df_prediccion = dsp.load_data(tbl=\"tbl_prediccion_machin4\")\n",
    "dsp.daily_prediction(df_prediccion)"
   ]
  },
  {
   "cell_type": "markdown",
   "metadata": {},
   "source": [
    "### Daily predictions machin5"
   ]
  },
  {
   "cell_type": "code",
   "execution_count": 17,
   "metadata": {},
   "outputs": [
    {
     "data": {
      "text/html": [
       "<div>\n",
       "<style scoped>\n",
       "    .dataframe tbody tr th:only-of-type {\n",
       "        vertical-align: middle;\n",
       "    }\n",
       "\n",
       "    .dataframe tbody tr th {\n",
       "        vertical-align: top;\n",
       "    }\n",
       "\n",
       "    .dataframe thead th {\n",
       "        text-align: right;\n",
       "    }\n",
       "</style>\n",
       "<table border=\"1\" class=\"dataframe\">\n",
       "  <thead>\n",
       "    <tr style=\"text-align: right;\">\n",
       "      <th></th>\n",
       "      <th>hora</th>\n",
       "      <th>date</th>\n",
       "      <th>area_league</th>\n",
       "      <th>team1</th>\n",
       "      <th>team2</th>\n",
       "      <th>team1_odds</th>\n",
       "      <th>draw_odds</th>\n",
       "      <th>team2_odds</th>\n",
       "      <th>objetivo</th>\n",
       "    </tr>\n",
       "  </thead>\n",
       "  <tbody>\n",
       "  </tbody>\n",
       "</table>\n",
       "</div>"
      ],
      "text/plain": [
       "Empty DataFrame\n",
       "Columns: [hora, date, area_league, team1, team2, team1_odds, draw_odds, team2_odds, objetivo]\n",
       "Index: []"
      ]
     },
     "execution_count": 17,
     "metadata": {},
     "output_type": "execute_result"
    }
   ],
   "source": [
    "df_prediccion = dsp.load_data(tbl=\"tbl_prediccion_machin5\")\n",
    "dsp.daily_prediction(df_prediccion)"
   ]
  },
  {
   "cell_type": "code",
   "execution_count": null,
   "metadata": {},
   "outputs": [],
   "source": []
  }
 ],
 "metadata": {
  "kernelspec": {
   "display_name": "Python 3",
   "language": "python",
   "name": "python3"
  },
  "language_info": {
   "codemirror_mode": {
    "name": "ipython",
    "version": 3
   },
   "file_extension": ".py",
   "mimetype": "text/x-python",
   "name": "python",
   "nbconvert_exporter": "python",
   "pygments_lexer": "ipython3",
   "version": "3.7.3"
  }
 },
 "nbformat": 4,
 "nbformat_minor": 2
}
