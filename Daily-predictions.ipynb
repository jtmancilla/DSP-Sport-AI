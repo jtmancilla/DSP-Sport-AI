{
 "cells": [
  {
   "cell_type": "code",
   "execution_count": 1,
   "metadata": {},
   "outputs": [],
   "source": [
    "import os\n",
    "import pandas as pd\n",
    "import numpy as np\n",
    "import warnings\n",
    "warnings.filterwarnings('ignore')\n",
    "import datetime\n",
    "import dsp"
   ]
  },
  {
   "cell_type": "markdown",
   "metadata": {},
   "source": [
    "# Daily selection"
   ]
  },
  {
   "cell_type": "markdown",
   "metadata": {},
   "source": [
    "___"
   ]
  },
  {
   "cell_type": "markdown",
   "metadata": {},
   "source": [
    "### Premium"
   ]
  },
  {
   "cell_type": "code",
   "execution_count": 2,
   "metadata": {},
   "outputs": [
    {
     "data": {
      "text/html": [
       "<div>\n",
       "<style scoped>\n",
       "    .dataframe tbody tr th:only-of-type {\n",
       "        vertical-align: middle;\n",
       "    }\n",
       "\n",
       "    .dataframe tbody tr th {\n",
       "        vertical-align: top;\n",
       "    }\n",
       "\n",
       "    .dataframe thead th {\n",
       "        text-align: right;\n",
       "    }\n",
       "</style>\n",
       "<table border=\"1\" class=\"dataframe\">\n",
       "  <thead>\n",
       "    <tr style=\"text-align: right;\">\n",
       "      <th></th>\n",
       "      <th>date</th>\n",
       "      <th>hora</th>\n",
       "      <th>sport</th>\n",
       "      <th>area</th>\n",
       "      <th>league</th>\n",
       "      <th>team1</th>\n",
       "      <th>team2</th>\n",
       "      <th>objetivo</th>\n",
       "      <th>outcome</th>\n",
       "      <th>odd</th>\n",
       "      <th>m_criterio</th>\n",
       "    </tr>\n",
       "  </thead>\n",
       "  <tbody>\n",
       "  </tbody>\n",
       "</table>\n",
       "</div>"
      ],
      "text/plain": [
       "Empty DataFrame\n",
       "Columns: [date, hora, sport, area, league, team1, team2, objetivo, outcome, odd, m_criterio]\n",
       "Index: []"
      ]
     },
     "execution_count": 2,
     "metadata": {},
     "output_type": "execute_result"
    }
   ],
   "source": [
    "df_prediccion = dsp.load_data(tbl=\"tbl_prediccion_premium\")\n",
    "dsp.daily_prediction_criterio(df_prediccion)"
   ]
  },
  {
   "cell_type": "markdown",
   "metadata": {},
   "source": [
    "### Criterio"
   ]
  },
  {
   "cell_type": "code",
   "execution_count": 3,
   "metadata": {},
   "outputs": [
    {
     "data": {
      "text/html": [
       "<div>\n",
       "<style scoped>\n",
       "    .dataframe tbody tr th:only-of-type {\n",
       "        vertical-align: middle;\n",
       "    }\n",
       "\n",
       "    .dataframe tbody tr th {\n",
       "        vertical-align: top;\n",
       "    }\n",
       "\n",
       "    .dataframe thead th {\n",
       "        text-align: right;\n",
       "    }\n",
       "</style>\n",
       "<table border=\"1\" class=\"dataframe\">\n",
       "  <thead>\n",
       "    <tr style=\"text-align: right;\">\n",
       "      <th></th>\n",
       "      <th>date</th>\n",
       "      <th>hora</th>\n",
       "      <th>sport</th>\n",
       "      <th>area</th>\n",
       "      <th>league</th>\n",
       "      <th>team1</th>\n",
       "      <th>team2</th>\n",
       "      <th>objetivo</th>\n",
       "      <th>odd</th>\n",
       "      <th>m_criterio</th>\n",
       "    </tr>\n",
       "  </thead>\n",
       "  <tbody>\n",
       "    <tr>\n",
       "      <th>555</th>\n",
       "      <td>2020-11-11</td>\n",
       "      <td>16:00</td>\n",
       "      <td>hockey</td>\n",
       "      <td>czech-republic</td>\n",
       "      <td>extraliga</td>\n",
       "      <td>Mlada Boleslav</td>\n",
       "      <td>Kometa Brno</td>\n",
       "      <td>TEAM1</td>\n",
       "      <td>2.30</td>\n",
       "      <td>277</td>\n",
       "    </tr>\n",
       "    <tr>\n",
       "      <th>554</th>\n",
       "      <td>2020-11-11</td>\n",
       "      <td>12:00</td>\n",
       "      <td>soccer</td>\n",
       "      <td>russia</td>\n",
       "      <td>fnl</td>\n",
       "      <td>Yenisey</td>\n",
       "      <td>Tomsk</td>\n",
       "      <td>TEAM1</td>\n",
       "      <td>1.58</td>\n",
       "      <td>433</td>\n",
       "    </tr>\n",
       "    <tr>\n",
       "      <th>556</th>\n",
       "      <td>2020-11-11</td>\n",
       "      <td>12:00</td>\n",
       "      <td>soccer</td>\n",
       "      <td>russia</td>\n",
       "      <td>fnl</td>\n",
       "      <td>Akron Togliatti</td>\n",
       "      <td>Volgar-Astrakhan</td>\n",
       "      <td>TEAM2</td>\n",
       "      <td>2.09</td>\n",
       "      <td>186</td>\n",
       "    </tr>\n",
       "    <tr>\n",
       "      <th>557</th>\n",
       "      <td>2020-11-11</td>\n",
       "      <td>12:30</td>\n",
       "      <td>hockey</td>\n",
       "      <td>russia</td>\n",
       "      <td>khl</td>\n",
       "      <td>Sibir Novosibirsk</td>\n",
       "      <td>Din. Minsk</td>\n",
       "      <td>TEAM1</td>\n",
       "      <td>1.95</td>\n",
       "      <td>104</td>\n",
       "    </tr>\n",
       "  </tbody>\n",
       "</table>\n",
       "</div>"
      ],
      "text/plain": [
       "           date   hora   sport            area     league              team1  \\\n",
       "555  2020-11-11  16:00  hockey  czech-republic  extraliga     Mlada Boleslav   \n",
       "554  2020-11-11  12:00  soccer          russia        fnl            Yenisey   \n",
       "556  2020-11-11  12:00  soccer          russia        fnl    Akron Togliatti   \n",
       "557  2020-11-11  12:30  hockey          russia        khl  Sibir Novosibirsk   \n",
       "\n",
       "                team2 objetivo   odd  m_criterio  \n",
       "555       Kometa Brno    TEAM1  2.30         277  \n",
       "554             Tomsk    TEAM1  1.58         433  \n",
       "556  Volgar-Astrakhan    TEAM2  2.09         186  \n",
       "557        Din. Minsk    TEAM1  1.95         104  "
      ]
     },
     "execution_count": 3,
     "metadata": {},
     "output_type": "execute_result"
    }
   ],
   "source": [
    "df_prediccion = dsp.load_data(tbl=\"tbl_prediccion_machinTAN_criterio\")\n",
    "dsp.daily_prediction_criterio(df_prediccion)"
   ]
  },
  {
   "cell_type": "markdown",
   "metadata": {},
   "source": [
    "### TAN!! SPECIAL SELECTION"
   ]
  },
  {
   "cell_type": "code",
   "execution_count": 4,
   "metadata": {},
   "outputs": [
    {
     "data": {
      "text/html": [
       "<div>\n",
       "<style scoped>\n",
       "    .dataframe tbody tr th:only-of-type {\n",
       "        vertical-align: middle;\n",
       "    }\n",
       "\n",
       "    .dataframe tbody tr th {\n",
       "        vertical-align: top;\n",
       "    }\n",
       "\n",
       "    .dataframe thead th {\n",
       "        text-align: right;\n",
       "    }\n",
       "</style>\n",
       "<table border=\"1\" class=\"dataframe\">\n",
       "  <thead>\n",
       "    <tr style=\"text-align: right;\">\n",
       "      <th></th>\n",
       "      <th>hora</th>\n",
       "      <th>date</th>\n",
       "      <th>area_league</th>\n",
       "      <th>team1</th>\n",
       "      <th>team2</th>\n",
       "      <th>team1_odds</th>\n",
       "      <th>draw_odds</th>\n",
       "      <th>team2_odds</th>\n",
       "      <th>objetivo</th>\n",
       "    </tr>\n",
       "  </thead>\n",
       "  <tbody>\n",
       "  </tbody>\n",
       "</table>\n",
       "</div>"
      ],
      "text/plain": [
       "Empty DataFrame\n",
       "Columns: [hora, date, area_league, team1, team2, team1_odds, draw_odds, team2_odds, objetivo]\n",
       "Index: []"
      ]
     },
     "execution_count": 4,
     "metadata": {},
     "output_type": "execute_result"
    }
   ],
   "source": [
    "df_prediccion = dsp.load_data(tbl=\"tbl_prediccion_machinTAN\")\n",
    "dsp.daily_prediction(df_prediccion)"
   ]
  },
  {
   "cell_type": "markdown",
   "metadata": {},
   "source": [
    "___"
   ]
  },
  {
   "cell_type": "code",
   "execution_count": 5,
   "metadata": {},
   "outputs": [
    {
     "data": {
      "text/html": [
       "<div>\n",
       "<style scoped>\n",
       "    .dataframe tbody tr th:only-of-type {\n",
       "        vertical-align: middle;\n",
       "    }\n",
       "\n",
       "    .dataframe tbody tr th {\n",
       "        vertical-align: top;\n",
       "    }\n",
       "\n",
       "    .dataframe thead th {\n",
       "        text-align: right;\n",
       "    }\n",
       "</style>\n",
       "<table border=\"1\" class=\"dataframe\">\n",
       "  <thead>\n",
       "    <tr style=\"text-align: right;\">\n",
       "      <th></th>\n",
       "      <th>hora</th>\n",
       "      <th>date</th>\n",
       "      <th>area_league</th>\n",
       "      <th>team1</th>\n",
       "      <th>team2</th>\n",
       "      <th>team1_odds</th>\n",
       "      <th>draw_odds</th>\n",
       "      <th>team2_odds</th>\n",
       "      <th>objetivo</th>\n",
       "    </tr>\n",
       "  </thead>\n",
       "  <tbody>\n",
       "    <tr>\n",
       "      <th>512</th>\n",
       "      <td>12:00</td>\n",
       "      <td>2020-11-11</td>\n",
       "      <td>/soccer/russia/fnl/yenisey-tomsk-bur9Q9dI/</td>\n",
       "      <td>Yenisey</td>\n",
       "      <td>Tomsk</td>\n",
       "      <td>1.58</td>\n",
       "      <td>3.59</td>\n",
       "      <td>5.99</td>\n",
       "      <td>TEAM1</td>\n",
       "    </tr>\n",
       "  </tbody>\n",
       "</table>\n",
       "</div>"
      ],
      "text/plain": [
       "      hora        date                                 area_league    team1  \\\n",
       "512  12:00  2020-11-11  /soccer/russia/fnl/yenisey-tomsk-bur9Q9dI/  Yenisey   \n",
       "\n",
       "     team2 team1_odds draw_odds team2_odds objetivo  \n",
       "512  Tomsk       1.58      3.59       5.99    TEAM1  "
      ]
     },
     "execution_count": 5,
     "metadata": {},
     "output_type": "execute_result"
    }
   ],
   "source": [
    "df_prediccion = dsp.load_data(tbl=\"tbl_prediccion_machinTAN11\")\n",
    "dsp.daily_prediction(df_prediccion)"
   ]
  },
  {
   "cell_type": "code",
   "execution_count": 6,
   "metadata": {},
   "outputs": [
    {
     "data": {
      "text/html": [
       "<div>\n",
       "<style scoped>\n",
       "    .dataframe tbody tr th:only-of-type {\n",
       "        vertical-align: middle;\n",
       "    }\n",
       "\n",
       "    .dataframe tbody tr th {\n",
       "        vertical-align: top;\n",
       "    }\n",
       "\n",
       "    .dataframe thead th {\n",
       "        text-align: right;\n",
       "    }\n",
       "</style>\n",
       "<table border=\"1\" class=\"dataframe\">\n",
       "  <thead>\n",
       "    <tr style=\"text-align: right;\">\n",
       "      <th></th>\n",
       "      <th>date</th>\n",
       "      <th>hora</th>\n",
       "      <th>sport</th>\n",
       "      <th>area</th>\n",
       "      <th>league</th>\n",
       "      <th>team1</th>\n",
       "      <th>team2</th>\n",
       "      <th>objetivo</th>\n",
       "      <th>odd</th>\n",
       "      <th>m_criterio</th>\n",
       "    </tr>\n",
       "  </thead>\n",
       "  <tbody>\n",
       "    <tr>\n",
       "      <th>201</th>\n",
       "      <td>2020-11-11</td>\n",
       "      <td>12:00</td>\n",
       "      <td>soccer</td>\n",
       "      <td>russia</td>\n",
       "      <td>fnl</td>\n",
       "      <td>Yenisey</td>\n",
       "      <td>Tomsk</td>\n",
       "      <td>TEAM1</td>\n",
       "      <td>1.58</td>\n",
       "      <td>1000</td>\n",
       "    </tr>\n",
       "  </tbody>\n",
       "</table>\n",
       "</div>"
      ],
      "text/plain": [
       "           date   hora   sport    area league    team1  team2 objetivo   odd  \\\n",
       "201  2020-11-11  12:00  soccer  russia    fnl  Yenisey  Tomsk    TEAM1  1.58   \n",
       "\n",
       "     m_criterio  \n",
       "201        1000  "
      ]
     },
     "execution_count": 6,
     "metadata": {},
     "output_type": "execute_result"
    }
   ],
   "source": [
    "df_prediccion = dsp.load_data(tbl=\"tbl_prediccion_machinTAN_criterio2\")\n",
    "dsp.daily_prediction_criterio(df_prediccion)"
   ]
  },
  {
   "cell_type": "code",
   "execution_count": 7,
   "metadata": {},
   "outputs": [
    {
     "data": {
      "text/html": [
       "<div>\n",
       "<style scoped>\n",
       "    .dataframe tbody tr th:only-of-type {\n",
       "        vertical-align: middle;\n",
       "    }\n",
       "\n",
       "    .dataframe tbody tr th {\n",
       "        vertical-align: top;\n",
       "    }\n",
       "\n",
       "    .dataframe thead th {\n",
       "        text-align: right;\n",
       "    }\n",
       "</style>\n",
       "<table border=\"1\" class=\"dataframe\">\n",
       "  <thead>\n",
       "    <tr style=\"text-align: right;\">\n",
       "      <th></th>\n",
       "      <th>date</th>\n",
       "      <th>hora</th>\n",
       "      <th>sport</th>\n",
       "      <th>area</th>\n",
       "      <th>league</th>\n",
       "      <th>team1</th>\n",
       "      <th>team2</th>\n",
       "      <th>objetivo</th>\n",
       "      <th>odd</th>\n",
       "      <th>m_criterio</th>\n",
       "    </tr>\n",
       "  </thead>\n",
       "  <tbody>\n",
       "  </tbody>\n",
       "</table>\n",
       "</div>"
      ],
      "text/plain": [
       "Empty DataFrame\n",
       "Columns: [date, hora, sport, area, league, team1, team2, objetivo, odd, m_criterio]\n",
       "Index: []"
      ]
     },
     "execution_count": 7,
     "metadata": {},
     "output_type": "execute_result"
    }
   ],
   "source": [
    "df_prediccion = dsp.load_data(tbl=\"tbl_prediccion_machinTAN_criterio3\")\n",
    "dsp.daily_prediction_criterio(df_prediccion)"
   ]
  },
  {
   "cell_type": "code",
   "execution_count": 8,
   "metadata": {},
   "outputs": [
    {
     "data": {
      "text/html": [
       "<div>\n",
       "<style scoped>\n",
       "    .dataframe tbody tr th:only-of-type {\n",
       "        vertical-align: middle;\n",
       "    }\n",
       "\n",
       "    .dataframe tbody tr th {\n",
       "        vertical-align: top;\n",
       "    }\n",
       "\n",
       "    .dataframe thead th {\n",
       "        text-align: right;\n",
       "    }\n",
       "</style>\n",
       "<table border=\"1\" class=\"dataframe\">\n",
       "  <thead>\n",
       "    <tr style=\"text-align: right;\">\n",
       "      <th></th>\n",
       "      <th>date</th>\n",
       "      <th>hora</th>\n",
       "      <th>sport</th>\n",
       "      <th>area</th>\n",
       "      <th>league</th>\n",
       "      <th>team1</th>\n",
       "      <th>team2</th>\n",
       "      <th>objetivo</th>\n",
       "      <th>odd</th>\n",
       "      <th>criterio</th>\n",
       "      <th>outcome</th>\n",
       "    </tr>\n",
       "  </thead>\n",
       "  <tbody>\n",
       "  </tbody>\n",
       "</table>\n",
       "</div>"
      ],
      "text/plain": [
       "Empty DataFrame\n",
       "Columns: [date, hora, sport, area, league, team1, team2, objetivo, odd, criterio, outcome]\n",
       "Index: []"
      ]
     },
     "execution_count": 8,
     "metadata": {},
     "output_type": "execute_result"
    }
   ],
   "source": [
    "df_prediccion = dsp.load_data(tbl=\"tbl_prediccion_base1\")\n",
    "dsp.daily_prediction_criterio(df_prediccion)"
   ]
  },
  {
   "cell_type": "markdown",
   "metadata": {},
   "source": [
    "### MLB"
   ]
  },
  {
   "cell_type": "code",
   "execution_count": 9,
   "metadata": {},
   "outputs": [
    {
     "data": {
      "text/html": [
       "<div>\n",
       "<style scoped>\n",
       "    .dataframe tbody tr th:only-of-type {\n",
       "        vertical-align: middle;\n",
       "    }\n",
       "\n",
       "    .dataframe tbody tr th {\n",
       "        vertical-align: top;\n",
       "    }\n",
       "\n",
       "    .dataframe thead th {\n",
       "        text-align: right;\n",
       "    }\n",
       "</style>\n",
       "<table border=\"1\" class=\"dataframe\">\n",
       "  <thead>\n",
       "    <tr style=\"text-align: right;\">\n",
       "      <th></th>\n",
       "      <th>hora</th>\n",
       "      <th>date</th>\n",
       "      <th>area_league</th>\n",
       "      <th>team1</th>\n",
       "      <th>team2</th>\n",
       "      <th>team1_odds</th>\n",
       "      <th>draw_odds</th>\n",
       "      <th>team2_odds</th>\n",
       "      <th>objetivo</th>\n",
       "    </tr>\n",
       "  </thead>\n",
       "  <tbody>\n",
       "  </tbody>\n",
       "</table>\n",
       "</div>"
      ],
      "text/plain": [
       "Empty DataFrame\n",
       "Columns: [hora, date, area_league, team1, team2, team1_odds, draw_odds, team2_odds, objetivo]\n",
       "Index: []"
      ]
     },
     "execution_count": 9,
     "metadata": {},
     "output_type": "execute_result"
    }
   ],
   "source": [
    "df_prediccion = dsp.load_data(tbl=\"tbl_prediccion_machin_base1\")\n",
    "dp = dsp.daily_prediction(df_prediccion)\n",
    "dp.sort_values(by=['hora'],ascending=True)"
   ]
  },
  {
   "cell_type": "markdown",
   "metadata": {},
   "source": [
    "### LIGA MX"
   ]
  },
  {
   "cell_type": "code",
   "execution_count": 10,
   "metadata": {},
   "outputs": [
    {
     "data": {
      "text/html": [
       "<div>\n",
       "<style scoped>\n",
       "    .dataframe tbody tr th:only-of-type {\n",
       "        vertical-align: middle;\n",
       "    }\n",
       "\n",
       "    .dataframe tbody tr th {\n",
       "        vertical-align: top;\n",
       "    }\n",
       "\n",
       "    .dataframe thead th {\n",
       "        text-align: right;\n",
       "    }\n",
       "</style>\n",
       "<table border=\"1\" class=\"dataframe\">\n",
       "  <thead>\n",
       "    <tr style=\"text-align: right;\">\n",
       "      <th></th>\n",
       "      <th>date</th>\n",
       "      <th>hora</th>\n",
       "      <th>sport</th>\n",
       "      <th>area</th>\n",
       "      <th>league</th>\n",
       "      <th>team1</th>\n",
       "      <th>team2</th>\n",
       "      <th>objetivo</th>\n",
       "      <th>outcome</th>\n",
       "      <th>odd</th>\n",
       "      <th>m_criterio</th>\n",
       "    </tr>\n",
       "  </thead>\n",
       "  <tbody>\n",
       "  </tbody>\n",
       "</table>\n",
       "</div>"
      ],
      "text/plain": [
       "Empty DataFrame\n",
       "Columns: [date, hora, sport, area, league, team1, team2, objetivo, outcome, odd, m_criterio]\n",
       "Index: []"
      ]
     },
     "execution_count": 10,
     "metadata": {},
     "output_type": "execute_result"
    }
   ],
   "source": [
    "df_prediccion = dsp.load_data(tbl=\"tbl_prediccion_machin_mx1\")\n",
    "dsp.daily_prediction_criterio(df_prediccion)"
   ]
  },
  {
   "cell_type": "markdown",
   "metadata": {},
   "source": [
    "### NFL"
   ]
  },
  {
   "cell_type": "code",
   "execution_count": 11,
   "metadata": {},
   "outputs": [
    {
     "data": {
      "text/html": [
       "<div>\n",
       "<style scoped>\n",
       "    .dataframe tbody tr th:only-of-type {\n",
       "        vertical-align: middle;\n",
       "    }\n",
       "\n",
       "    .dataframe tbody tr th {\n",
       "        vertical-align: top;\n",
       "    }\n",
       "\n",
       "    .dataframe thead th {\n",
       "        text-align: right;\n",
       "    }\n",
       "</style>\n",
       "<table border=\"1\" class=\"dataframe\">\n",
       "  <thead>\n",
       "    <tr style=\"text-align: right;\">\n",
       "      <th></th>\n",
       "      <th>date</th>\n",
       "      <th>hora</th>\n",
       "      <th>sport</th>\n",
       "      <th>area</th>\n",
       "      <th>league</th>\n",
       "      <th>team1</th>\n",
       "      <th>team2</th>\n",
       "      <th>objetivo</th>\n",
       "      <th>outcome</th>\n",
       "      <th>odd</th>\n",
       "      <th>m_criterio</th>\n",
       "    </tr>\n",
       "  </thead>\n",
       "  <tbody>\n",
       "  </tbody>\n",
       "</table>\n",
       "</div>"
      ],
      "text/plain": [
       "Empty DataFrame\n",
       "Columns: [date, hora, sport, area, league, team1, team2, objetivo, outcome, odd, m_criterio]\n",
       "Index: []"
      ]
     },
     "execution_count": 11,
     "metadata": {},
     "output_type": "execute_result"
    }
   ],
   "source": [
    "df_prediccion = dsp.load_data(tbl=\"tbl_prediccion_machin_nfl1\")\n",
    "dsp.daily_prediction_criterio(df_prediccion)"
   ]
  },
  {
   "cell_type": "markdown",
   "metadata": {},
   "source": [
    "### Daily predictions machin3."
   ]
  },
  {
   "cell_type": "code",
   "execution_count": 12,
   "metadata": {},
   "outputs": [
    {
     "data": {
      "text/html": [
       "<div>\n",
       "<style scoped>\n",
       "    .dataframe tbody tr th:only-of-type {\n",
       "        vertical-align: middle;\n",
       "    }\n",
       "\n",
       "    .dataframe tbody tr th {\n",
       "        vertical-align: top;\n",
       "    }\n",
       "\n",
       "    .dataframe thead th {\n",
       "        text-align: right;\n",
       "    }\n",
       "</style>\n",
       "<table border=\"1\" class=\"dataframe\">\n",
       "  <thead>\n",
       "    <tr style=\"text-align: right;\">\n",
       "      <th></th>\n",
       "      <th>hora</th>\n",
       "      <th>date</th>\n",
       "      <th>area_league</th>\n",
       "      <th>team1</th>\n",
       "      <th>team2</th>\n",
       "      <th>team1_odds</th>\n",
       "      <th>draw_odds</th>\n",
       "      <th>team2_odds</th>\n",
       "      <th>objetivo</th>\n",
       "    </tr>\n",
       "  </thead>\n",
       "  <tbody>\n",
       "    <tr>\n",
       "      <th>350</th>\n",
       "      <td>11:35</td>\n",
       "      <td>2020-11-11</td>\n",
       "      <td>/soccer/china/super-league/beijing-guoan-shang...</td>\n",
       "      <td>Beijing Guoan</td>\n",
       "      <td>Shanghai SIPG</td>\n",
       "      <td>2.39</td>\n",
       "      <td>3.23</td>\n",
       "      <td>2.94</td>\n",
       "      <td>TEAM1</td>\n",
       "    </tr>\n",
       "    <tr>\n",
       "      <th>349</th>\n",
       "      <td>07:30</td>\n",
       "      <td>2020-11-11</td>\n",
       "      <td>/soccer/china/super-league/shijiazhuang-ever-b...</td>\n",
       "      <td>Shijiazhuang</td>\n",
       "      <td>Wuhan Zall</td>\n",
       "      <td>3.61</td>\n",
       "      <td>3.06</td>\n",
       "      <td>2.16</td>\n",
       "      <td>TEAM1</td>\n",
       "    </tr>\n",
       "    <tr>\n",
       "      <th>345</th>\n",
       "      <td>13:00</td>\n",
       "      <td>2020-11-11</td>\n",
       "      <td>/soccer/russia/fnl/fc-nizhny-novgorod-est-2015...</td>\n",
       "      <td>Nizhny Novgorod</td>\n",
       "      <td>Chertanovo M.</td>\n",
       "      <td>1.23</td>\n",
       "      <td>5.70</td>\n",
       "      <td>12.20</td>\n",
       "      <td>TEAM1</td>\n",
       "    </tr>\n",
       "    <tr>\n",
       "      <th>346</th>\n",
       "      <td>14:00</td>\n",
       "      <td>2020-11-11</td>\n",
       "      <td>/soccer/russia/fnl/fk-chayka-peschanokopskoye-...</td>\n",
       "      <td>FK Chayka</td>\n",
       "      <td>D. Bryansk</td>\n",
       "      <td>1.75</td>\n",
       "      <td>3.41</td>\n",
       "      <td>4.76</td>\n",
       "      <td>TEAM1</td>\n",
       "    </tr>\n",
       "    <tr>\n",
       "      <th>344</th>\n",
       "      <td>13:00</td>\n",
       "      <td>2020-11-11</td>\n",
       "      <td>/soccer/russia/fnl/orenburg-irtysh-omsk-4Ir5RksC/</td>\n",
       "      <td>Orenburg</td>\n",
       "      <td>Omsk</td>\n",
       "      <td>1.26</td>\n",
       "      <td>5.29</td>\n",
       "      <td>11.73</td>\n",
       "      <td>TEAM1</td>\n",
       "    </tr>\n",
       "    <tr>\n",
       "      <th>347</th>\n",
       "      <td>15:30</td>\n",
       "      <td>2020-11-11</td>\n",
       "      <td>/soccer/russia/fnl/shinnik-yaroslavl-spartak-m...</td>\n",
       "      <td>Shinnik Yaroslavl</td>\n",
       "      <td>Spartak Moscow 2</td>\n",
       "      <td>2.21</td>\n",
       "      <td>3.27</td>\n",
       "      <td>3.11</td>\n",
       "      <td>TEAM1</td>\n",
       "    </tr>\n",
       "    <tr>\n",
       "      <th>348</th>\n",
       "      <td>16:00</td>\n",
       "      <td>2020-11-11</td>\n",
       "      <td>/soccer/russia/fnl/t-moscow-f-voronezh-xldEyz5J/</td>\n",
       "      <td>T. Moscow</td>\n",
       "      <td>F. Voronezh</td>\n",
       "      <td>1.38</td>\n",
       "      <td>4.41</td>\n",
       "      <td>8.37</td>\n",
       "      <td>TEAM1</td>\n",
       "    </tr>\n",
       "    <tr>\n",
       "      <th>342</th>\n",
       "      <td>11:00</td>\n",
       "      <td>2020-11-11</td>\n",
       "      <td>/soccer/russia/fnl/veles-moscow-alania-vladika...</td>\n",
       "      <td>Veles Moscow</td>\n",
       "      <td>Alania Vladikavkaz</td>\n",
       "      <td>3.46</td>\n",
       "      <td>3.54</td>\n",
       "      <td>1.97</td>\n",
       "      <td>TEAM1</td>\n",
       "    </tr>\n",
       "    <tr>\n",
       "      <th>343</th>\n",
       "      <td>12:00</td>\n",
       "      <td>2020-11-11</td>\n",
       "      <td>/soccer/russia/fnl/yenisey-tomsk-bur9Q9dI/</td>\n",
       "      <td>Yenisey</td>\n",
       "      <td>Tomsk</td>\n",
       "      <td>1.58</td>\n",
       "      <td>3.59</td>\n",
       "      <td>5.99</td>\n",
       "      <td>TEAM1</td>\n",
       "    </tr>\n",
       "  </tbody>\n",
       "</table>\n",
       "</div>"
      ],
      "text/plain": [
       "      hora        date                                        area_league  \\\n",
       "350  11:35  2020-11-11  /soccer/china/super-league/beijing-guoan-shang...   \n",
       "349  07:30  2020-11-11  /soccer/china/super-league/shijiazhuang-ever-b...   \n",
       "345  13:00  2020-11-11  /soccer/russia/fnl/fc-nizhny-novgorod-est-2015...   \n",
       "346  14:00  2020-11-11  /soccer/russia/fnl/fk-chayka-peschanokopskoye-...   \n",
       "344  13:00  2020-11-11  /soccer/russia/fnl/orenburg-irtysh-omsk-4Ir5RksC/   \n",
       "347  15:30  2020-11-11  /soccer/russia/fnl/shinnik-yaroslavl-spartak-m...   \n",
       "348  16:00  2020-11-11   /soccer/russia/fnl/t-moscow-f-voronezh-xldEyz5J/   \n",
       "342  11:00  2020-11-11  /soccer/russia/fnl/veles-moscow-alania-vladika...   \n",
       "343  12:00  2020-11-11         /soccer/russia/fnl/yenisey-tomsk-bur9Q9dI/   \n",
       "\n",
       "                 team1               team2 team1_odds draw_odds team2_odds  \\\n",
       "350      Beijing Guoan       Shanghai SIPG       2.39      3.23       2.94   \n",
       "349       Shijiazhuang          Wuhan Zall       3.61      3.06       2.16   \n",
       "345    Nizhny Novgorod       Chertanovo M.       1.23      5.70      12.20   \n",
       "346          FK Chayka          D. Bryansk       1.75      3.41       4.76   \n",
       "344           Orenburg                Omsk       1.26      5.29      11.73   \n",
       "347  Shinnik Yaroslavl    Spartak Moscow 2       2.21      3.27       3.11   \n",
       "348          T. Moscow         F. Voronezh       1.38      4.41       8.37   \n",
       "342       Veles Moscow  Alania Vladikavkaz       3.46      3.54       1.97   \n",
       "343            Yenisey               Tomsk       1.58      3.59       5.99   \n",
       "\n",
       "    objetivo  \n",
       "350    TEAM1  \n",
       "349    TEAM1  \n",
       "345    TEAM1  \n",
       "346    TEAM1  \n",
       "344    TEAM1  \n",
       "347    TEAM1  \n",
       "348    TEAM1  \n",
       "342    TEAM1  \n",
       "343    TEAM1  "
      ]
     },
     "execution_count": 12,
     "metadata": {},
     "output_type": "execute_result"
    }
   ],
   "source": [
    "df_prediccion = dsp.load_data(tbl=\"tbl_prediccion_machin3\")\n",
    "dsp.daily_prediction(df_prediccion)"
   ]
  },
  {
   "cell_type": "markdown",
   "metadata": {},
   "source": [
    "### Daily predictions machin6  "
   ]
  },
  {
   "cell_type": "markdown",
   "metadata": {},
   "source": [
    "Objetivo > .50 TEAM1  | Objetivo < .50 TEAM2"
   ]
  },
  {
   "cell_type": "code",
   "execution_count": 13,
   "metadata": {},
   "outputs": [
    {
     "data": {
      "text/html": [
       "<div>\n",
       "<style scoped>\n",
       "    .dataframe tbody tr th:only-of-type {\n",
       "        vertical-align: middle;\n",
       "    }\n",
       "\n",
       "    .dataframe tbody tr th {\n",
       "        vertical-align: top;\n",
       "    }\n",
       "\n",
       "    .dataframe thead th {\n",
       "        text-align: right;\n",
       "    }\n",
       "</style>\n",
       "<table border=\"1\" class=\"dataframe\">\n",
       "  <thead>\n",
       "    <tr style=\"text-align: right;\">\n",
       "      <th></th>\n",
       "      <th>hora</th>\n",
       "      <th>date</th>\n",
       "      <th>area_league</th>\n",
       "      <th>team1</th>\n",
       "      <th>team2</th>\n",
       "      <th>team1_odds</th>\n",
       "      <th>draw_odds</th>\n",
       "      <th>team2_odds</th>\n",
       "      <th>objetivo</th>\n",
       "    </tr>\n",
       "  </thead>\n",
       "  <tbody>\n",
       "    <tr>\n",
       "      <th>4099</th>\n",
       "      <td>19:45</td>\n",
       "      <td>2020-11-11</td>\n",
       "      <td>/soccer/england/national-league-south/havant-w...</td>\n",
       "      <td>Havant &amp; W</td>\n",
       "      <td>Dulwich Hamlet</td>\n",
       "      <td>1.80</td>\n",
       "      <td>3.58</td>\n",
       "      <td>3.73</td>\n",
       "      <td>0.664229</td>\n",
       "    </tr>\n",
       "  </tbody>\n",
       "</table>\n",
       "</div>"
      ],
      "text/plain": [
       "       hora        date                                        area_league  \\\n",
       "4099  19:45  2020-11-11  /soccer/england/national-league-south/havant-w...   \n",
       "\n",
       "           team1           team2 team1_odds draw_odds team2_odds  objetivo  \n",
       "4099  Havant & W  Dulwich Hamlet       1.80      3.58       3.73  0.664229  "
      ]
     },
     "execution_count": 13,
     "metadata": {},
     "output_type": "execute_result"
    }
   ],
   "source": [
    "df_prediccion = dsp.load_data(tbl=\"tbl_prediccion_machin6\")\n",
    "dp = dsp.daily_prediction(df_prediccion)\n",
    "dp.sort_values(by=['objetivo'],ascending=False)"
   ]
  },
  {
   "cell_type": "markdown",
   "metadata": {},
   "source": [
    "___"
   ]
  },
  {
   "cell_type": "markdown",
   "metadata": {},
   "source": [
    "## EXPERIMENTAL "
   ]
  },
  {
   "cell_type": "markdown",
   "metadata": {},
   "source": [
    "### Daily model 53"
   ]
  },
  {
   "cell_type": "code",
   "execution_count": 14,
   "metadata": {},
   "outputs": [
    {
     "data": {
      "text/html": [
       "<div>\n",
       "<style scoped>\n",
       "    .dataframe tbody tr th:only-of-type {\n",
       "        vertical-align: middle;\n",
       "    }\n",
       "\n",
       "    .dataframe tbody tr th {\n",
       "        vertical-align: top;\n",
       "    }\n",
       "\n",
       "    .dataframe thead th {\n",
       "        text-align: right;\n",
       "    }\n",
       "</style>\n",
       "<table border=\"1\" class=\"dataframe\">\n",
       "  <thead>\n",
       "    <tr style=\"text-align: right;\">\n",
       "      <th></th>\n",
       "      <th>hora</th>\n",
       "      <th>date</th>\n",
       "      <th>area_league</th>\n",
       "      <th>team1</th>\n",
       "      <th>team2</th>\n",
       "      <th>team1_odds</th>\n",
       "      <th>draw_odds</th>\n",
       "      <th>team2_odds</th>\n",
       "      <th>objetivo</th>\n",
       "    </tr>\n",
       "  </thead>\n",
       "  <tbody>\n",
       "    <tr>\n",
       "      <th>477</th>\n",
       "      <td>11:35</td>\n",
       "      <td>2020-11-11</td>\n",
       "      <td>/soccer/china/super-league/beijing-guoan-shang...</td>\n",
       "      <td>Beijing Guoan</td>\n",
       "      <td>Shanghai SIPG</td>\n",
       "      <td>2.39</td>\n",
       "      <td>3.23</td>\n",
       "      <td>2.94</td>\n",
       "      <td>TEAM1</td>\n",
       "    </tr>\n",
       "  </tbody>\n",
       "</table>\n",
       "</div>"
      ],
      "text/plain": [
       "      hora        date                                        area_league  \\\n",
       "477  11:35  2020-11-11  /soccer/china/super-league/beijing-guoan-shang...   \n",
       "\n",
       "             team1          team2 team1_odds draw_odds team2_odds objetivo  \n",
       "477  Beijing Guoan  Shanghai SIPG       2.39      3.23       2.94    TEAM1  "
      ]
     },
     "execution_count": 14,
     "metadata": {},
     "output_type": "execute_result"
    }
   ],
   "source": [
    "df_prediccion = dsp.load_data(tbl=\"tbl_prediccion_53\")\n",
    "dsp.daily_prediction(df_prediccion)"
   ]
  },
  {
   "cell_type": "code",
   "execution_count": 15,
   "metadata": {},
   "outputs": [
    {
     "data": {
      "text/html": [
       "<div>\n",
       "<style scoped>\n",
       "    .dataframe tbody tr th:only-of-type {\n",
       "        vertical-align: middle;\n",
       "    }\n",
       "\n",
       "    .dataframe tbody tr th {\n",
       "        vertical-align: top;\n",
       "    }\n",
       "\n",
       "    .dataframe thead th {\n",
       "        text-align: right;\n",
       "    }\n",
       "</style>\n",
       "<table border=\"1\" class=\"dataframe\">\n",
       "  <thead>\n",
       "    <tr style=\"text-align: right;\">\n",
       "      <th></th>\n",
       "      <th>hora</th>\n",
       "      <th>date</th>\n",
       "      <th>area_league</th>\n",
       "      <th>team1</th>\n",
       "      <th>team2</th>\n",
       "      <th>team1_odds</th>\n",
       "      <th>draw_odds</th>\n",
       "      <th>team2_odds</th>\n",
       "      <th>objetivo</th>\n",
       "    </tr>\n",
       "  </thead>\n",
       "  <tbody>\n",
       "    <tr>\n",
       "      <th>3680</th>\n",
       "      <td>21:45</td>\n",
       "      <td>2020-11-11</td>\n",
       "      <td>/soccer/brazil/serie-a/bahia-fortaleza-r9qelIph/</td>\n",
       "      <td>Bahia</td>\n",
       "      <td>Fortaleza</td>\n",
       "      <td>2.16</td>\n",
       "      <td>3.09</td>\n",
       "      <td>3.62</td>\n",
       "      <td>TEAM1</td>\n",
       "    </tr>\n",
       "    <tr>\n",
       "      <th>3681</th>\n",
       "      <td>11:35</td>\n",
       "      <td>2020-11-11</td>\n",
       "      <td>/soccer/china/super-league/beijing-guoan-shang...</td>\n",
       "      <td>Beijing Guoan</td>\n",
       "      <td>Shanghai SIPG</td>\n",
       "      <td>2.39</td>\n",
       "      <td>3.23</td>\n",
       "      <td>2.94</td>\n",
       "      <td>TEAM1</td>\n",
       "    </tr>\n",
       "    <tr>\n",
       "      <th>3672</th>\n",
       "      <td>12:00</td>\n",
       "      <td>2020-11-11</td>\n",
       "      <td>/soccer/russia/fnl/akron-togliatti-fc-volgar-a...</td>\n",
       "      <td>Akron Togliatti</td>\n",
       "      <td>Volgar-Astrakhan</td>\n",
       "      <td>3.58</td>\n",
       "      <td>3.18</td>\n",
       "      <td>2.09</td>\n",
       "      <td>TEAM1</td>\n",
       "    </tr>\n",
       "    <tr>\n",
       "      <th>3678</th>\n",
       "      <td>12:00</td>\n",
       "      <td>2020-11-11</td>\n",
       "      <td>/soccer/russia/fnl/akron-togliatti-fc-volgar-a...</td>\n",
       "      <td>Akron Togliatti</td>\n",
       "      <td>Volgar-Astrakhan</td>\n",
       "      <td>3.58</td>\n",
       "      <td>3.18</td>\n",
       "      <td>2.09</td>\n",
       "      <td>TEAM2</td>\n",
       "    </tr>\n",
       "    <tr>\n",
       "      <th>3676</th>\n",
       "      <td>15:30</td>\n",
       "      <td>2020-11-11</td>\n",
       "      <td>/soccer/russia/fnl/shinnik-yaroslavl-spartak-m...</td>\n",
       "      <td>Shinnik Yaroslavl</td>\n",
       "      <td>Spartak Moscow 2</td>\n",
       "      <td>2.21</td>\n",
       "      <td>3.27</td>\n",
       "      <td>3.11</td>\n",
       "      <td>TEAM2</td>\n",
       "    </tr>\n",
       "    <tr>\n",
       "      <th>3668</th>\n",
       "      <td>08:30</td>\n",
       "      <td>2020-11-11</td>\n",
       "      <td>/soccer/russia/fnl/ska-khabarovsk-neftekhimik-...</td>\n",
       "      <td>SKA Khabarovsk</td>\n",
       "      <td>Neftekhimik</td>\n",
       "      <td>2.43</td>\n",
       "      <td>3.11</td>\n",
       "      <td>2.92</td>\n",
       "      <td>TEAM1</td>\n",
       "    </tr>\n",
       "    <tr>\n",
       "      <th>3673</th>\n",
       "      <td>12:00</td>\n",
       "      <td>2020-11-11</td>\n",
       "      <td>/soccer/russia/fnl/tekstilshtik-baltika-zPykVXsm/</td>\n",
       "      <td>Tekstilshtik</td>\n",
       "      <td>Baltika</td>\n",
       "      <td>3.62</td>\n",
       "      <td>3.34</td>\n",
       "      <td>2.0</td>\n",
       "      <td>TEAM1</td>\n",
       "    </tr>\n",
       "  </tbody>\n",
       "</table>\n",
       "</div>"
      ],
      "text/plain": [
       "       hora        date                                        area_league  \\\n",
       "3680  21:45  2020-11-11   /soccer/brazil/serie-a/bahia-fortaleza-r9qelIph/   \n",
       "3681  11:35  2020-11-11  /soccer/china/super-league/beijing-guoan-shang...   \n",
       "3672  12:00  2020-11-11  /soccer/russia/fnl/akron-togliatti-fc-volgar-a...   \n",
       "3678  12:00  2020-11-11  /soccer/russia/fnl/akron-togliatti-fc-volgar-a...   \n",
       "3676  15:30  2020-11-11  /soccer/russia/fnl/shinnik-yaroslavl-spartak-m...   \n",
       "3668  08:30  2020-11-11  /soccer/russia/fnl/ska-khabarovsk-neftekhimik-...   \n",
       "3673  12:00  2020-11-11  /soccer/russia/fnl/tekstilshtik-baltika-zPykVXsm/   \n",
       "\n",
       "                  team1             team2 team1_odds draw_odds team2_odds  \\\n",
       "3680              Bahia         Fortaleza       2.16      3.09       3.62   \n",
       "3681      Beijing Guoan     Shanghai SIPG       2.39      3.23       2.94   \n",
       "3672    Akron Togliatti  Volgar-Astrakhan       3.58      3.18       2.09   \n",
       "3678    Akron Togliatti  Volgar-Astrakhan       3.58      3.18       2.09   \n",
       "3676  Shinnik Yaroslavl  Spartak Moscow 2       2.21      3.27       3.11   \n",
       "3668     SKA Khabarovsk       Neftekhimik       2.43      3.11       2.92   \n",
       "3673       Tekstilshtik           Baltika       3.62      3.34        2.0   \n",
       "\n",
       "     objetivo  \n",
       "3680    TEAM1  \n",
       "3681    TEAM1  \n",
       "3672    TEAM1  \n",
       "3678    TEAM2  \n",
       "3676    TEAM2  \n",
       "3668    TEAM1  \n",
       "3673    TEAM1  "
      ]
     },
     "execution_count": 15,
     "metadata": {},
     "output_type": "execute_result"
    }
   ],
   "source": [
    "df_prediccion = dsp.load_data(tbl=\"tbl_prediccion_50\")\n",
    "dsp.daily_prediction(df_prediccion)"
   ]
  },
  {
   "cell_type": "markdown",
   "metadata": {},
   "source": [
    "### Daily predictions machin4 EMPATE"
   ]
  },
  {
   "cell_type": "code",
   "execution_count": 16,
   "metadata": {},
   "outputs": [
    {
     "data": {
      "text/html": [
       "<div>\n",
       "<style scoped>\n",
       "    .dataframe tbody tr th:only-of-type {\n",
       "        vertical-align: middle;\n",
       "    }\n",
       "\n",
       "    .dataframe tbody tr th {\n",
       "        vertical-align: top;\n",
       "    }\n",
       "\n",
       "    .dataframe thead th {\n",
       "        text-align: right;\n",
       "    }\n",
       "</style>\n",
       "<table border=\"1\" class=\"dataframe\">\n",
       "  <thead>\n",
       "    <tr style=\"text-align: right;\">\n",
       "      <th></th>\n",
       "      <th>hora</th>\n",
       "      <th>date</th>\n",
       "      <th>area_league</th>\n",
       "      <th>team1</th>\n",
       "      <th>team2</th>\n",
       "      <th>team1_odds</th>\n",
       "      <th>draw_odds</th>\n",
       "      <th>team2_odds</th>\n",
       "      <th>objetivo</th>\n",
       "    </tr>\n",
       "  </thead>\n",
       "  <tbody>\n",
       "  </tbody>\n",
       "</table>\n",
       "</div>"
      ],
      "text/plain": [
       "Empty DataFrame\n",
       "Columns: [hora, date, area_league, team1, team2, team1_odds, draw_odds, team2_odds, objetivo]\n",
       "Index: []"
      ]
     },
     "execution_count": 16,
     "metadata": {},
     "output_type": "execute_result"
    }
   ],
   "source": [
    "df_prediccion = dsp.load_data(tbl=\"tbl_prediccion_machin4\")\n",
    "dsp.daily_prediction(df_prediccion)"
   ]
  },
  {
   "cell_type": "markdown",
   "metadata": {},
   "source": [
    "### Daily predictions machin5"
   ]
  },
  {
   "cell_type": "code",
   "execution_count": 17,
   "metadata": {},
   "outputs": [
    {
     "data": {
      "text/html": [
       "<div>\n",
       "<style scoped>\n",
       "    .dataframe tbody tr th:only-of-type {\n",
       "        vertical-align: middle;\n",
       "    }\n",
       "\n",
       "    .dataframe tbody tr th {\n",
       "        vertical-align: top;\n",
       "    }\n",
       "\n",
       "    .dataframe thead th {\n",
       "        text-align: right;\n",
       "    }\n",
       "</style>\n",
       "<table border=\"1\" class=\"dataframe\">\n",
       "  <thead>\n",
       "    <tr style=\"text-align: right;\">\n",
       "      <th></th>\n",
       "      <th>hora</th>\n",
       "      <th>date</th>\n",
       "      <th>area_league</th>\n",
       "      <th>team1</th>\n",
       "      <th>team2</th>\n",
       "      <th>team1_odds</th>\n",
       "      <th>draw_odds</th>\n",
       "      <th>team2_odds</th>\n",
       "      <th>objetivo</th>\n",
       "    </tr>\n",
       "  </thead>\n",
       "  <tbody>\n",
       "  </tbody>\n",
       "</table>\n",
       "</div>"
      ],
      "text/plain": [
       "Empty DataFrame\n",
       "Columns: [hora, date, area_league, team1, team2, team1_odds, draw_odds, team2_odds, objetivo]\n",
       "Index: []"
      ]
     },
     "execution_count": 17,
     "metadata": {},
     "output_type": "execute_result"
    }
   ],
   "source": [
    "df_prediccion = dsp.load_data(tbl=\"tbl_prediccion_machin5\")\n",
    "dsp.daily_prediction(df_prediccion)"
   ]
  },
  {
   "cell_type": "code",
   "execution_count": null,
   "metadata": {},
   "outputs": [],
   "source": []
  }
 ],
 "metadata": {
  "kernelspec": {
   "display_name": "Python 3",
   "language": "python",
   "name": "python3"
  },
  "language_info": {
   "codemirror_mode": {
    "name": "ipython",
    "version": 3
   },
   "file_extension": ".py",
   "mimetype": "text/x-python",
   "name": "python",
   "nbconvert_exporter": "python",
   "pygments_lexer": "ipython3",
   "version": "3.7.3"
  }
 },
 "nbformat": 4,
 "nbformat_minor": 2
}
