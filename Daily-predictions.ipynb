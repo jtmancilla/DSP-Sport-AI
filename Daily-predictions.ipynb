{
 "cells": [
  {
   "cell_type": "code",
   "execution_count": 1,
   "metadata": {},
   "outputs": [],
   "source": [
    "import os\n",
    "import pandas as pd\n",
    "import numpy as np\n",
    "import warnings\n",
    "warnings.filterwarnings('ignore')\n",
    "import datetime\n",
    "import dsp"
   ]
  },
  {
   "cell_type": "markdown",
   "metadata": {},
   "source": [
    "# Daily selection"
   ]
  },
  {
   "cell_type": "markdown",
   "metadata": {},
   "source": [
    "___"
   ]
  },
  {
   "cell_type": "markdown",
   "metadata": {},
   "source": [
    "### Premium"
   ]
  },
  {
   "cell_type": "code",
   "execution_count": 2,
   "metadata": {},
   "outputs": [
    {
     "data": {
      "text/html": [
       "<div>\n",
       "<style scoped>\n",
       "    .dataframe tbody tr th:only-of-type {\n",
       "        vertical-align: middle;\n",
       "    }\n",
       "\n",
       "    .dataframe tbody tr th {\n",
       "        vertical-align: top;\n",
       "    }\n",
       "\n",
       "    .dataframe thead th {\n",
       "        text-align: right;\n",
       "    }\n",
       "</style>\n",
       "<table border=\"1\" class=\"dataframe\">\n",
       "  <thead>\n",
       "    <tr style=\"text-align: right;\">\n",
       "      <th></th>\n",
       "      <th>date</th>\n",
       "      <th>hora</th>\n",
       "      <th>sport</th>\n",
       "      <th>area</th>\n",
       "      <th>league</th>\n",
       "      <th>team1</th>\n",
       "      <th>team2</th>\n",
       "      <th>objetivo</th>\n",
       "      <th>outcome</th>\n",
       "      <th>odd</th>\n",
       "      <th>m_criterio</th>\n",
       "    </tr>\n",
       "  </thead>\n",
       "  <tbody>\n",
       "    <tr>\n",
       "      <th>505</th>\n",
       "      <td>2020-12-25</td>\n",
       "      <td>19:30</td>\n",
       "      <td>basketball</td>\n",
       "      <td>usa</td>\n",
       "      <td>nba</td>\n",
       "      <td>Milwaukee Bucks</td>\n",
       "      <td>Golden State Warriors</td>\n",
       "      <td>OVER</td>\n",
       "      <td>0.628546</td>\n",
       "      <td>1.90</td>\n",
       "      <td>100</td>\n",
       "    </tr>\n",
       "    <tr>\n",
       "      <th>506</th>\n",
       "      <td>2020-12-25</td>\n",
       "      <td>22:00</td>\n",
       "      <td>basketball</td>\n",
       "      <td>usa</td>\n",
       "      <td>nba</td>\n",
       "      <td>Boston Celtics</td>\n",
       "      <td>Brooklyn Nets</td>\n",
       "      <td>OVER</td>\n",
       "      <td>0.584658</td>\n",
       "      <td>1.90</td>\n",
       "      <td>100</td>\n",
       "    </tr>\n",
       "    <tr>\n",
       "      <th>507</th>\n",
       "      <td>2020-12-25</td>\n",
       "      <td>21:30</td>\n",
       "      <td>american-football</td>\n",
       "      <td>usa</td>\n",
       "      <td>nfl</td>\n",
       "      <td>New Orleans Saints</td>\n",
       "      <td>Minnesota Vikings</td>\n",
       "      <td>TEAM1</td>\n",
       "      <td>0.603899</td>\n",
       "      <td>1.32</td>\n",
       "      <td>100</td>\n",
       "    </tr>\n",
       "  </tbody>\n",
       "</table>\n",
       "</div>"
      ],
      "text/plain": [
       "           date   hora              sport area league               team1  \\\n",
       "505  2020-12-25  19:30         basketball  usa    nba     Milwaukee Bucks   \n",
       "506  2020-12-25  22:00         basketball  usa    nba      Boston Celtics   \n",
       "507  2020-12-25  21:30  american-football  usa    nfl  New Orleans Saints   \n",
       "\n",
       "                     team2 objetivo   outcome   odd  m_criterio  \n",
       "505  Golden State Warriors     OVER  0.628546  1.90         100  \n",
       "506          Brooklyn Nets     OVER  0.584658  1.90         100  \n",
       "507      Minnesota Vikings    TEAM1  0.603899  1.32         100  "
      ]
     },
     "execution_count": 2,
     "metadata": {},
     "output_type": "execute_result"
    }
   ],
   "source": [
    "df_prediccion = dsp.load_data(tbl=\"tbl_prediccion_premium\")\n",
    "dsp.daily_prediction_criterio(df_prediccion)"
   ]
  },
  {
   "cell_type": "markdown",
   "metadata": {},
   "source": [
    "### Criterio"
   ]
  },
  {
   "cell_type": "code",
   "execution_count": 3,
   "metadata": {},
   "outputs": [
    {
     "data": {
      "text/html": [
       "<div>\n",
       "<style scoped>\n",
       "    .dataframe tbody tr th:only-of-type {\n",
       "        vertical-align: middle;\n",
       "    }\n",
       "\n",
       "    .dataframe tbody tr th {\n",
       "        vertical-align: top;\n",
       "    }\n",
       "\n",
       "    .dataframe thead th {\n",
       "        text-align: right;\n",
       "    }\n",
       "</style>\n",
       "<table border=\"1\" class=\"dataframe\">\n",
       "  <thead>\n",
       "    <tr style=\"text-align: right;\">\n",
       "      <th></th>\n",
       "      <th>date</th>\n",
       "      <th>hora</th>\n",
       "      <th>sport</th>\n",
       "      <th>area</th>\n",
       "      <th>league</th>\n",
       "      <th>team1</th>\n",
       "      <th>team2</th>\n",
       "      <th>objetivo</th>\n",
       "      <th>odd</th>\n",
       "      <th>m_criterio</th>\n",
       "    </tr>\n",
       "  </thead>\n",
       "  <tbody>\n",
       "  </tbody>\n",
       "</table>\n",
       "</div>"
      ],
      "text/plain": [
       "Empty DataFrame\n",
       "Columns: [date, hora, sport, area, league, team1, team2, objetivo, odd, m_criterio]\n",
       "Index: []"
      ]
     },
     "execution_count": 3,
     "metadata": {},
     "output_type": "execute_result"
    }
   ],
   "source": [
    "df_prediccion = dsp.load_data(tbl=\"tbl_prediccion_machinTAN_criterio\")\n",
    "dsp.daily_prediction_criterio(df_prediccion)"
   ]
  },
  {
   "cell_type": "markdown",
   "metadata": {},
   "source": [
    "### TAN!! SPECIAL SELECTION"
   ]
  },
  {
   "cell_type": "code",
   "execution_count": 4,
   "metadata": {},
   "outputs": [
    {
     "data": {
      "text/html": [
       "<div>\n",
       "<style scoped>\n",
       "    .dataframe tbody tr th:only-of-type {\n",
       "        vertical-align: middle;\n",
       "    }\n",
       "\n",
       "    .dataframe tbody tr th {\n",
       "        vertical-align: top;\n",
       "    }\n",
       "\n",
       "    .dataframe thead th {\n",
       "        text-align: right;\n",
       "    }\n",
       "</style>\n",
       "<table border=\"1\" class=\"dataframe\">\n",
       "  <thead>\n",
       "    <tr style=\"text-align: right;\">\n",
       "      <th></th>\n",
       "      <th>hora</th>\n",
       "      <th>date</th>\n",
       "      <th>area_league</th>\n",
       "      <th>team1</th>\n",
       "      <th>team2</th>\n",
       "      <th>team1_odds</th>\n",
       "      <th>draw_odds</th>\n",
       "      <th>team2_odds</th>\n",
       "      <th>objetivo</th>\n",
       "    </tr>\n",
       "  </thead>\n",
       "  <tbody>\n",
       "  </tbody>\n",
       "</table>\n",
       "</div>"
      ],
      "text/plain": [
       "Empty DataFrame\n",
       "Columns: [hora, date, area_league, team1, team2, team1_odds, draw_odds, team2_odds, objetivo]\n",
       "Index: []"
      ]
     },
     "execution_count": 4,
     "metadata": {},
     "output_type": "execute_result"
    }
   ],
   "source": [
    "df_prediccion = dsp.load_data(tbl=\"tbl_prediccion_machinTAN\")\n",
    "dsp.daily_prediction(df_prediccion)"
   ]
  },
  {
   "cell_type": "markdown",
   "metadata": {},
   "source": [
    "___"
   ]
  },
  {
   "cell_type": "code",
   "execution_count": 5,
   "metadata": {},
   "outputs": [
    {
     "data": {
      "text/html": [
       "<div>\n",
       "<style scoped>\n",
       "    .dataframe tbody tr th:only-of-type {\n",
       "        vertical-align: middle;\n",
       "    }\n",
       "\n",
       "    .dataframe tbody tr th {\n",
       "        vertical-align: top;\n",
       "    }\n",
       "\n",
       "    .dataframe thead th {\n",
       "        text-align: right;\n",
       "    }\n",
       "</style>\n",
       "<table border=\"1\" class=\"dataframe\">\n",
       "  <thead>\n",
       "    <tr style=\"text-align: right;\">\n",
       "      <th></th>\n",
       "      <th>hora</th>\n",
       "      <th>date</th>\n",
       "      <th>area_league</th>\n",
       "      <th>team1</th>\n",
       "      <th>team2</th>\n",
       "      <th>team1_odds</th>\n",
       "      <th>draw_odds</th>\n",
       "      <th>team2_odds</th>\n",
       "      <th>objetivo</th>\n",
       "    </tr>\n",
       "  </thead>\n",
       "  <tbody>\n",
       "  </tbody>\n",
       "</table>\n",
       "</div>"
      ],
      "text/plain": [
       "Empty DataFrame\n",
       "Columns: [hora, date, area_league, team1, team2, team1_odds, draw_odds, team2_odds, objetivo]\n",
       "Index: []"
      ]
     },
     "execution_count": 5,
     "metadata": {},
     "output_type": "execute_result"
    }
   ],
   "source": [
    "df_prediccion = dsp.load_data(tbl=\"tbl_prediccion_machinTAN11\")\n",
    "dsp.daily_prediction(df_prediccion)"
   ]
  },
  {
   "cell_type": "code",
   "execution_count": 6,
   "metadata": {},
   "outputs": [
    {
     "data": {
      "text/html": [
       "<div>\n",
       "<style scoped>\n",
       "    .dataframe tbody tr th:only-of-type {\n",
       "        vertical-align: middle;\n",
       "    }\n",
       "\n",
       "    .dataframe tbody tr th {\n",
       "        vertical-align: top;\n",
       "    }\n",
       "\n",
       "    .dataframe thead th {\n",
       "        text-align: right;\n",
       "    }\n",
       "</style>\n",
       "<table border=\"1\" class=\"dataframe\">\n",
       "  <thead>\n",
       "    <tr style=\"text-align: right;\">\n",
       "      <th></th>\n",
       "      <th>date</th>\n",
       "      <th>hora</th>\n",
       "      <th>sport</th>\n",
       "      <th>area</th>\n",
       "      <th>league</th>\n",
       "      <th>team1</th>\n",
       "      <th>team2</th>\n",
       "      <th>objetivo</th>\n",
       "      <th>odd</th>\n",
       "      <th>m_criterio</th>\n",
       "    </tr>\n",
       "  </thead>\n",
       "  <tbody>\n",
       "  </tbody>\n",
       "</table>\n",
       "</div>"
      ],
      "text/plain": [
       "Empty DataFrame\n",
       "Columns: [date, hora, sport, area, league, team1, team2, objetivo, odd, m_criterio]\n",
       "Index: []"
      ]
     },
     "execution_count": 6,
     "metadata": {},
     "output_type": "execute_result"
    }
   ],
   "source": [
    "df_prediccion = dsp.load_data(tbl=\"tbl_prediccion_machinTAN_criterio2\")\n",
    "dsp.daily_prediction_criterio(df_prediccion)"
   ]
  },
  {
   "cell_type": "code",
   "execution_count": 7,
   "metadata": {},
   "outputs": [
    {
     "data": {
      "text/html": [
       "<div>\n",
       "<style scoped>\n",
       "    .dataframe tbody tr th:only-of-type {\n",
       "        vertical-align: middle;\n",
       "    }\n",
       "\n",
       "    .dataframe tbody tr th {\n",
       "        vertical-align: top;\n",
       "    }\n",
       "\n",
       "    .dataframe thead th {\n",
       "        text-align: right;\n",
       "    }\n",
       "</style>\n",
       "<table border=\"1\" class=\"dataframe\">\n",
       "  <thead>\n",
       "    <tr style=\"text-align: right;\">\n",
       "      <th></th>\n",
       "      <th>date</th>\n",
       "      <th>hora</th>\n",
       "      <th>sport</th>\n",
       "      <th>area</th>\n",
       "      <th>league</th>\n",
       "      <th>team1</th>\n",
       "      <th>team2</th>\n",
       "      <th>objetivo</th>\n",
       "      <th>odd</th>\n",
       "      <th>m_criterio</th>\n",
       "    </tr>\n",
       "  </thead>\n",
       "  <tbody>\n",
       "  </tbody>\n",
       "</table>\n",
       "</div>"
      ],
      "text/plain": [
       "Empty DataFrame\n",
       "Columns: [date, hora, sport, area, league, team1, team2, objetivo, odd, m_criterio]\n",
       "Index: []"
      ]
     },
     "execution_count": 7,
     "metadata": {},
     "output_type": "execute_result"
    }
   ],
   "source": [
    "df_prediccion = dsp.load_data(tbl=\"tbl_prediccion_machinTAN_criterio3\")\n",
    "dsp.daily_prediction_criterio(df_prediccion)"
   ]
  },
  {
   "cell_type": "code",
   "execution_count": 8,
   "metadata": {},
   "outputs": [
    {
     "data": {
      "text/html": [
       "<div>\n",
       "<style scoped>\n",
       "    .dataframe tbody tr th:only-of-type {\n",
       "        vertical-align: middle;\n",
       "    }\n",
       "\n",
       "    .dataframe tbody tr th {\n",
       "        vertical-align: top;\n",
       "    }\n",
       "\n",
       "    .dataframe thead th {\n",
       "        text-align: right;\n",
       "    }\n",
       "</style>\n",
       "<table border=\"1\" class=\"dataframe\">\n",
       "  <thead>\n",
       "    <tr style=\"text-align: right;\">\n",
       "      <th></th>\n",
       "      <th>date</th>\n",
       "      <th>hora</th>\n",
       "      <th>sport</th>\n",
       "      <th>area</th>\n",
       "      <th>league</th>\n",
       "      <th>team1</th>\n",
       "      <th>team2</th>\n",
       "      <th>objetivo</th>\n",
       "      <th>odd</th>\n",
       "      <th>criterio</th>\n",
       "      <th>outcome</th>\n",
       "    </tr>\n",
       "  </thead>\n",
       "  <tbody>\n",
       "    <tr>\n",
       "      <th>337</th>\n",
       "      <td>2020-12-25</td>\n",
       "      <td>17:00</td>\n",
       "      <td>basketball</td>\n",
       "      <td>usa</td>\n",
       "      <td>nba</td>\n",
       "      <td>Miami Heat</td>\n",
       "      <td>New Orleans Pelicans</td>\n",
       "      <td>229.0</td>\n",
       "      <td>1.60</td>\n",
       "      <td>100</td>\n",
       "      <td>0.487926</td>\n",
       "    </tr>\n",
       "    <tr>\n",
       "      <th>338</th>\n",
       "      <td>2020-12-25</td>\n",
       "      <td>19:30</td>\n",
       "      <td>basketball</td>\n",
       "      <td>usa</td>\n",
       "      <td>nba</td>\n",
       "      <td>Milwaukee Bucks</td>\n",
       "      <td>Golden State Warriors</td>\n",
       "      <td>237.0</td>\n",
       "      <td>1.57</td>\n",
       "      <td>100</td>\n",
       "      <td>0.628546</td>\n",
       "    </tr>\n",
       "    <tr>\n",
       "      <th>339</th>\n",
       "      <td>2020-12-25</td>\n",
       "      <td>22:00</td>\n",
       "      <td>basketball</td>\n",
       "      <td>usa</td>\n",
       "      <td>nba</td>\n",
       "      <td>Boston Celtics</td>\n",
       "      <td>Brooklyn Nets</td>\n",
       "      <td>232.5</td>\n",
       "      <td>1.58</td>\n",
       "      <td>100</td>\n",
       "      <td>0.584658</td>\n",
       "    </tr>\n",
       "  </tbody>\n",
       "</table>\n",
       "</div>"
      ],
      "text/plain": [
       "           date   hora       sport area league            team1  \\\n",
       "337  2020-12-25  17:00  basketball  usa    nba       Miami Heat   \n",
       "338  2020-12-25  19:30  basketball  usa    nba  Milwaukee Bucks   \n",
       "339  2020-12-25  22:00  basketball  usa    nba   Boston Celtics   \n",
       "\n",
       "                     team2  objetivo   odd  criterio   outcome  \n",
       "337   New Orleans Pelicans     229.0  1.60       100  0.487926  \n",
       "338  Golden State Warriors     237.0  1.57       100  0.628546  \n",
       "339          Brooklyn Nets     232.5  1.58       100  0.584658  "
      ]
     },
     "execution_count": 8,
     "metadata": {},
     "output_type": "execute_result"
    }
   ],
   "source": [
    "df_prediccion = dsp.load_data(tbl=\"tbl_prediccion_base1\")\n",
    "dsp.daily_prediction_criterio(df_prediccion)"
   ]
  },
  {
   "cell_type": "markdown",
   "metadata": {},
   "source": [
    "### MLB"
   ]
  },
  {
   "cell_type": "code",
   "execution_count": 9,
   "metadata": {},
   "outputs": [
    {
     "data": {
      "text/html": [
       "<div>\n",
       "<style scoped>\n",
       "    .dataframe tbody tr th:only-of-type {\n",
       "        vertical-align: middle;\n",
       "    }\n",
       "\n",
       "    .dataframe tbody tr th {\n",
       "        vertical-align: top;\n",
       "    }\n",
       "\n",
       "    .dataframe thead th {\n",
       "        text-align: right;\n",
       "    }\n",
       "</style>\n",
       "<table border=\"1\" class=\"dataframe\">\n",
       "  <thead>\n",
       "    <tr style=\"text-align: right;\">\n",
       "      <th></th>\n",
       "      <th>hora</th>\n",
       "      <th>date</th>\n",
       "      <th>area_league</th>\n",
       "      <th>team1</th>\n",
       "      <th>team2</th>\n",
       "      <th>team1_odds</th>\n",
       "      <th>draw_odds</th>\n",
       "      <th>team2_odds</th>\n",
       "      <th>objetivo</th>\n",
       "    </tr>\n",
       "  </thead>\n",
       "  <tbody>\n",
       "  </tbody>\n",
       "</table>\n",
       "</div>"
      ],
      "text/plain": [
       "Empty DataFrame\n",
       "Columns: [hora, date, area_league, team1, team2, team1_odds, draw_odds, team2_odds, objetivo]\n",
       "Index: []"
      ]
     },
     "execution_count": 9,
     "metadata": {},
     "output_type": "execute_result"
    }
   ],
   "source": [
    "df_prediccion = dsp.load_data(tbl=\"tbl_prediccion_machin_base1\")\n",
    "dp = dsp.daily_prediction(df_prediccion)\n",
    "dp.sort_values(by=['hora'],ascending=True)"
   ]
  },
  {
   "cell_type": "markdown",
   "metadata": {},
   "source": [
    "### LIGA MX"
   ]
  },
  {
   "cell_type": "code",
   "execution_count": 10,
   "metadata": {},
   "outputs": [
    {
     "data": {
      "text/html": [
       "<div>\n",
       "<style scoped>\n",
       "    .dataframe tbody tr th:only-of-type {\n",
       "        vertical-align: middle;\n",
       "    }\n",
       "\n",
       "    .dataframe tbody tr th {\n",
       "        vertical-align: top;\n",
       "    }\n",
       "\n",
       "    .dataframe thead th {\n",
       "        text-align: right;\n",
       "    }\n",
       "</style>\n",
       "<table border=\"1\" class=\"dataframe\">\n",
       "  <thead>\n",
       "    <tr style=\"text-align: right;\">\n",
       "      <th></th>\n",
       "      <th>date</th>\n",
       "      <th>hora</th>\n",
       "      <th>sport</th>\n",
       "      <th>area</th>\n",
       "      <th>league</th>\n",
       "      <th>team1</th>\n",
       "      <th>team2</th>\n",
       "      <th>objetivo</th>\n",
       "      <th>outcome</th>\n",
       "      <th>odd</th>\n",
       "      <th>m_criterio</th>\n",
       "    </tr>\n",
       "  </thead>\n",
       "  <tbody>\n",
       "  </tbody>\n",
       "</table>\n",
       "</div>"
      ],
      "text/plain": [
       "Empty DataFrame\n",
       "Columns: [date, hora, sport, area, league, team1, team2, objetivo, outcome, odd, m_criterio]\n",
       "Index: []"
      ]
     },
     "execution_count": 10,
     "metadata": {},
     "output_type": "execute_result"
    }
   ],
   "source": [
    "df_prediccion = dsp.load_data(tbl=\"tbl_prediccion_machin_mx1\")\n",
    "dsp.daily_prediction_criterio(df_prediccion)"
   ]
  },
  {
   "cell_type": "markdown",
   "metadata": {},
   "source": [
    "### NFL"
   ]
  },
  {
   "cell_type": "code",
   "execution_count": 11,
   "metadata": {},
   "outputs": [
    {
     "data": {
      "text/html": [
       "<div>\n",
       "<style scoped>\n",
       "    .dataframe tbody tr th:only-of-type {\n",
       "        vertical-align: middle;\n",
       "    }\n",
       "\n",
       "    .dataframe tbody tr th {\n",
       "        vertical-align: top;\n",
       "    }\n",
       "\n",
       "    .dataframe thead th {\n",
       "        text-align: right;\n",
       "    }\n",
       "</style>\n",
       "<table border=\"1\" class=\"dataframe\">\n",
       "  <thead>\n",
       "    <tr style=\"text-align: right;\">\n",
       "      <th></th>\n",
       "      <th>date</th>\n",
       "      <th>hora</th>\n",
       "      <th>sport</th>\n",
       "      <th>area</th>\n",
       "      <th>league</th>\n",
       "      <th>team1</th>\n",
       "      <th>team2</th>\n",
       "      <th>objetivo</th>\n",
       "      <th>outcome</th>\n",
       "      <th>odd</th>\n",
       "      <th>m_criterio</th>\n",
       "    </tr>\n",
       "  </thead>\n",
       "  <tbody>\n",
       "    <tr>\n",
       "      <th>94</th>\n",
       "      <td>2020-12-25</td>\n",
       "      <td>21:30</td>\n",
       "      <td>american-football</td>\n",
       "      <td>usa</td>\n",
       "      <td>nfl</td>\n",
       "      <td>New Orleans Saints</td>\n",
       "      <td>Minnesota Vikings</td>\n",
       "      <td>TEAM1</td>\n",
       "      <td>0.603899</td>\n",
       "      <td>1.32</td>\n",
       "      <td>100</td>\n",
       "    </tr>\n",
       "  </tbody>\n",
       "</table>\n",
       "</div>"
      ],
      "text/plain": [
       "          date   hora              sport area league               team1  \\\n",
       "94  2020-12-25  21:30  american-football  usa    nfl  New Orleans Saints   \n",
       "\n",
       "                team2 objetivo   outcome   odd  m_criterio  \n",
       "94  Minnesota Vikings    TEAM1  0.603899  1.32         100  "
      ]
     },
     "execution_count": 11,
     "metadata": {},
     "output_type": "execute_result"
    }
   ],
   "source": [
    "df_prediccion = dsp.load_data(tbl=\"tbl_prediccion_machin_nfl1\")\n",
    "dsp.daily_prediction_criterio(df_prediccion)"
   ]
  },
  {
   "cell_type": "markdown",
   "metadata": {},
   "source": [
    "### Daily predictions machin3."
   ]
  },
  {
   "cell_type": "code",
   "execution_count": 12,
   "metadata": {},
   "outputs": [
    {
     "data": {
      "text/html": [
       "<div>\n",
       "<style scoped>\n",
       "    .dataframe tbody tr th:only-of-type {\n",
       "        vertical-align: middle;\n",
       "    }\n",
       "\n",
       "    .dataframe tbody tr th {\n",
       "        vertical-align: top;\n",
       "    }\n",
       "\n",
       "    .dataframe thead th {\n",
       "        text-align: right;\n",
       "    }\n",
       "</style>\n",
       "<table border=\"1\" class=\"dataframe\">\n",
       "  <thead>\n",
       "    <tr style=\"text-align: right;\">\n",
       "      <th></th>\n",
       "      <th>hora</th>\n",
       "      <th>date</th>\n",
       "      <th>area_league</th>\n",
       "      <th>team1</th>\n",
       "      <th>team2</th>\n",
       "      <th>team1_odds</th>\n",
       "      <th>draw_odds</th>\n",
       "      <th>team2_odds</th>\n",
       "      <th>objetivo</th>\n",
       "    </tr>\n",
       "  </thead>\n",
       "  <tbody>\n",
       "  </tbody>\n",
       "</table>\n",
       "</div>"
      ],
      "text/plain": [
       "Empty DataFrame\n",
       "Columns: [hora, date, area_league, team1, team2, team1_odds, draw_odds, team2_odds, objetivo]\n",
       "Index: []"
      ]
     },
     "execution_count": 12,
     "metadata": {},
     "output_type": "execute_result"
    }
   ],
   "source": [
    "df_prediccion = dsp.load_data(tbl=\"tbl_prediccion_machin3\")\n",
    "dsp.daily_prediction(df_prediccion)"
   ]
  },
  {
   "cell_type": "markdown",
   "metadata": {},
   "source": [
    "### Daily predictions machin6  "
   ]
  },
  {
   "cell_type": "markdown",
   "metadata": {},
   "source": [
    "Objetivo > .50 TEAM1  | Objetivo < .50 TEAM2"
   ]
  },
  {
   "cell_type": "code",
   "execution_count": 13,
   "metadata": {},
   "outputs": [
    {
     "data": {
      "text/html": [
       "<div>\n",
       "<style scoped>\n",
       "    .dataframe tbody tr th:only-of-type {\n",
       "        vertical-align: middle;\n",
       "    }\n",
       "\n",
       "    .dataframe tbody tr th {\n",
       "        vertical-align: top;\n",
       "    }\n",
       "\n",
       "    .dataframe thead th {\n",
       "        text-align: right;\n",
       "    }\n",
       "</style>\n",
       "<table border=\"1\" class=\"dataframe\">\n",
       "  <thead>\n",
       "    <tr style=\"text-align: right;\">\n",
       "      <th></th>\n",
       "      <th>hora</th>\n",
       "      <th>date</th>\n",
       "      <th>area_league</th>\n",
       "      <th>team1</th>\n",
       "      <th>team2</th>\n",
       "      <th>team1_odds</th>\n",
       "      <th>draw_odds</th>\n",
       "      <th>team2_odds</th>\n",
       "      <th>objetivo</th>\n",
       "    </tr>\n",
       "  </thead>\n",
       "  <tbody>\n",
       "  </tbody>\n",
       "</table>\n",
       "</div>"
      ],
      "text/plain": [
       "Empty DataFrame\n",
       "Columns: [hora, date, area_league, team1, team2, team1_odds, draw_odds, team2_odds, objetivo]\n",
       "Index: []"
      ]
     },
     "execution_count": 13,
     "metadata": {},
     "output_type": "execute_result"
    }
   ],
   "source": [
    "df_prediccion = dsp.load_data(tbl=\"tbl_prediccion_machin6\")\n",
    "dp = dsp.daily_prediction(df_prediccion)\n",
    "dp.sort_values(by=['objetivo'],ascending=False)"
   ]
  },
  {
   "cell_type": "markdown",
   "metadata": {},
   "source": [
    "___"
   ]
  },
  {
   "cell_type": "markdown",
   "metadata": {},
   "source": [
    "## EXPERIMENTAL "
   ]
  },
  {
   "cell_type": "markdown",
   "metadata": {},
   "source": [
    "### Daily model 53"
   ]
  },
  {
   "cell_type": "code",
   "execution_count": 14,
   "metadata": {},
   "outputs": [
    {
     "data": {
      "text/html": [
       "<div>\n",
       "<style scoped>\n",
       "    .dataframe tbody tr th:only-of-type {\n",
       "        vertical-align: middle;\n",
       "    }\n",
       "\n",
       "    .dataframe tbody tr th {\n",
       "        vertical-align: top;\n",
       "    }\n",
       "\n",
       "    .dataframe thead th {\n",
       "        text-align: right;\n",
       "    }\n",
       "</style>\n",
       "<table border=\"1\" class=\"dataframe\">\n",
       "  <thead>\n",
       "    <tr style=\"text-align: right;\">\n",
       "      <th></th>\n",
       "      <th>hora</th>\n",
       "      <th>date</th>\n",
       "      <th>area_league</th>\n",
       "      <th>team1</th>\n",
       "      <th>team2</th>\n",
       "      <th>team1_odds</th>\n",
       "      <th>draw_odds</th>\n",
       "      <th>team2_odds</th>\n",
       "      <th>objetivo</th>\n",
       "    </tr>\n",
       "  </thead>\n",
       "  <tbody>\n",
       "  </tbody>\n",
       "</table>\n",
       "</div>"
      ],
      "text/plain": [
       "Empty DataFrame\n",
       "Columns: [hora, date, area_league, team1, team2, team1_odds, draw_odds, team2_odds, objetivo]\n",
       "Index: []"
      ]
     },
     "execution_count": 14,
     "metadata": {},
     "output_type": "execute_result"
    }
   ],
   "source": [
    "df_prediccion = dsp.load_data(tbl=\"tbl_prediccion_53\")\n",
    "dsp.daily_prediction(df_prediccion)"
   ]
  },
  {
   "cell_type": "code",
   "execution_count": 15,
   "metadata": {},
   "outputs": [
    {
     "data": {
      "text/html": [
       "<div>\n",
       "<style scoped>\n",
       "    .dataframe tbody tr th:only-of-type {\n",
       "        vertical-align: middle;\n",
       "    }\n",
       "\n",
       "    .dataframe tbody tr th {\n",
       "        vertical-align: top;\n",
       "    }\n",
       "\n",
       "    .dataframe thead th {\n",
       "        text-align: right;\n",
       "    }\n",
       "</style>\n",
       "<table border=\"1\" class=\"dataframe\">\n",
       "  <thead>\n",
       "    <tr style=\"text-align: right;\">\n",
       "      <th></th>\n",
       "      <th>hora</th>\n",
       "      <th>date</th>\n",
       "      <th>area_league</th>\n",
       "      <th>team1</th>\n",
       "      <th>team2</th>\n",
       "      <th>team1_odds</th>\n",
       "      <th>draw_odds</th>\n",
       "      <th>team2_odds</th>\n",
       "      <th>objetivo</th>\n",
       "    </tr>\n",
       "  </thead>\n",
       "  <tbody>\n",
       "  </tbody>\n",
       "</table>\n",
       "</div>"
      ],
      "text/plain": [
       "Empty DataFrame\n",
       "Columns: [hora, date, area_league, team1, team2, team1_odds, draw_odds, team2_odds, objetivo]\n",
       "Index: []"
      ]
     },
     "execution_count": 15,
     "metadata": {},
     "output_type": "execute_result"
    }
   ],
   "source": [
    "df_prediccion = dsp.load_data(tbl=\"tbl_prediccion_50\")\n",
    "dsp.daily_prediction(df_prediccion)"
   ]
  },
  {
   "cell_type": "markdown",
   "metadata": {},
   "source": [
    "### Daily predictions machin4 EMPATE"
   ]
  },
  {
   "cell_type": "code",
   "execution_count": 16,
   "metadata": {},
   "outputs": [
    {
     "data": {
      "text/html": [
       "<div>\n",
       "<style scoped>\n",
       "    .dataframe tbody tr th:only-of-type {\n",
       "        vertical-align: middle;\n",
       "    }\n",
       "\n",
       "    .dataframe tbody tr th {\n",
       "        vertical-align: top;\n",
       "    }\n",
       "\n",
       "    .dataframe thead th {\n",
       "        text-align: right;\n",
       "    }\n",
       "</style>\n",
       "<table border=\"1\" class=\"dataframe\">\n",
       "  <thead>\n",
       "    <tr style=\"text-align: right;\">\n",
       "      <th></th>\n",
       "      <th>hora</th>\n",
       "      <th>date</th>\n",
       "      <th>area_league</th>\n",
       "      <th>team1</th>\n",
       "      <th>team2</th>\n",
       "      <th>team1_odds</th>\n",
       "      <th>draw_odds</th>\n",
       "      <th>team2_odds</th>\n",
       "      <th>objetivo</th>\n",
       "    </tr>\n",
       "  </thead>\n",
       "  <tbody>\n",
       "  </tbody>\n",
       "</table>\n",
       "</div>"
      ],
      "text/plain": [
       "Empty DataFrame\n",
       "Columns: [hora, date, area_league, team1, team2, team1_odds, draw_odds, team2_odds, objetivo]\n",
       "Index: []"
      ]
     },
     "execution_count": 16,
     "metadata": {},
     "output_type": "execute_result"
    }
   ],
   "source": [
    "df_prediccion = dsp.load_data(tbl=\"tbl_prediccion_machin4\")\n",
    "dsp.daily_prediction(df_prediccion)"
   ]
  },
  {
   "cell_type": "markdown",
   "metadata": {},
   "source": [
    "### Daily predictions machin5"
   ]
  },
  {
   "cell_type": "code",
   "execution_count": 17,
   "metadata": {},
   "outputs": [
    {
     "data": {
      "text/html": [
       "<div>\n",
       "<style scoped>\n",
       "    .dataframe tbody tr th:only-of-type {\n",
       "        vertical-align: middle;\n",
       "    }\n",
       "\n",
       "    .dataframe tbody tr th {\n",
       "        vertical-align: top;\n",
       "    }\n",
       "\n",
       "    .dataframe thead th {\n",
       "        text-align: right;\n",
       "    }\n",
       "</style>\n",
       "<table border=\"1\" class=\"dataframe\">\n",
       "  <thead>\n",
       "    <tr style=\"text-align: right;\">\n",
       "      <th></th>\n",
       "      <th>hora</th>\n",
       "      <th>date</th>\n",
       "      <th>area_league</th>\n",
       "      <th>team1</th>\n",
       "      <th>team2</th>\n",
       "      <th>team1_odds</th>\n",
       "      <th>draw_odds</th>\n",
       "      <th>team2_odds</th>\n",
       "      <th>objetivo</th>\n",
       "    </tr>\n",
       "  </thead>\n",
       "  <tbody>\n",
       "  </tbody>\n",
       "</table>\n",
       "</div>"
      ],
      "text/plain": [
       "Empty DataFrame\n",
       "Columns: [hora, date, area_league, team1, team2, team1_odds, draw_odds, team2_odds, objetivo]\n",
       "Index: []"
      ]
     },
     "execution_count": 17,
     "metadata": {},
     "output_type": "execute_result"
    }
   ],
   "source": [
    "df_prediccion = dsp.load_data(tbl=\"tbl_prediccion_machin5\")\n",
    "dsp.daily_prediction(df_prediccion)"
   ]
  },
  {
   "cell_type": "code",
   "execution_count": null,
   "metadata": {},
   "outputs": [],
   "source": []
  }
 ],
 "metadata": {
  "kernelspec": {
   "display_name": "Python 3",
   "language": "python",
   "name": "python3"
  },
  "language_info": {
   "codemirror_mode": {
    "name": "ipython",
    "version": 3
   },
   "file_extension": ".py",
   "mimetype": "text/x-python",
   "name": "python",
   "nbconvert_exporter": "python",
   "pygments_lexer": "ipython3",
   "version": "3.7.3"
  }
 },
 "nbformat": 4,
 "nbformat_minor": 2
}
