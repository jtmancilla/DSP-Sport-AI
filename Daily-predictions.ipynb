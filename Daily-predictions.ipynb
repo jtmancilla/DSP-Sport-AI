{
 "cells": [
  {
   "cell_type": "code",
   "execution_count": 1,
   "metadata": {},
   "outputs": [],
   "source": [
    "import os\n",
    "import pandas as pd\n",
    "import numpy as np\n",
    "import warnings\n",
    "warnings.filterwarnings('ignore')\n",
    "import datetime\n",
    "import dsp as dsp\n",
    "    "
   ]
  },
  {
   "cell_type": "markdown",
   "metadata": {},
   "source": [
    "### Daily predictions"
   ]
  },
  {
   "cell_type": "code",
   "execution_count": 2,
   "metadata": {},
   "outputs": [],
   "source": [
    "df_prediccion = dsp.load_data()"
   ]
  },
  {
   "cell_type": "code",
   "execution_count": 3,
   "metadata": {},
   "outputs": [
    {
     "data": {
      "text/html": [
       "<div>\n",
       "<style scoped>\n",
       "    .dataframe tbody tr th:only-of-type {\n",
       "        vertical-align: middle;\n",
       "    }\n",
       "\n",
       "    .dataframe tbody tr th {\n",
       "        vertical-align: top;\n",
       "    }\n",
       "\n",
       "    .dataframe thead th {\n",
       "        text-align: right;\n",
       "    }\n",
       "</style>\n",
       "<table border=\"1\" class=\"dataframe\">\n",
       "  <thead>\n",
       "    <tr style=\"text-align: right;\">\n",
       "      <th></th>\n",
       "      <th>hora</th>\n",
       "      <th>date</th>\n",
       "      <th>area_league</th>\n",
       "      <th>team1</th>\n",
       "      <th>team2</th>\n",
       "      <th>team1_odds</th>\n",
       "      <th>draw_odds</th>\n",
       "      <th>team2_odds</th>\n",
       "      <th>objetivo</th>\n",
       "    </tr>\n",
       "  </thead>\n",
       "  <tbody>\n",
       "    <tr>\n",
       "      <th>400</th>\n",
       "      <td>17:00</td>\n",
       "      <td>2020-06-23</td>\n",
       "      <td>/soccer/england/premier-league/leicester-brigh...</td>\n",
       "      <td>Leicester</td>\n",
       "      <td>Brighton</td>\n",
       "      <td>1.72</td>\n",
       "      <td>3.87</td>\n",
       "      <td>5.16</td>\n",
       "      <td>TEAM1</td>\n",
       "    </tr>\n",
       "    <tr>\n",
       "      <th>394</th>\n",
       "      <td>17:00</td>\n",
       "      <td>2020-06-23</td>\n",
       "      <td>/soccer/germany/3-liga/chemnitzer-braunschweig...</td>\n",
       "      <td>Chemnitzer</td>\n",
       "      <td>Braunschweig</td>\n",
       "      <td>3.34</td>\n",
       "      <td>3.61</td>\n",
       "      <td>2.07</td>\n",
       "      <td>TEAM1</td>\n",
       "    </tr>\n",
       "    <tr>\n",
       "      <th>397</th>\n",
       "      <td>17:00</td>\n",
       "      <td>2020-06-23</td>\n",
       "      <td>/soccer/germany/3-liga/chemnitzer-braunschweig...</td>\n",
       "      <td>Chemnitzer</td>\n",
       "      <td>Braunschweig</td>\n",
       "      <td>3.34</td>\n",
       "      <td>3.61</td>\n",
       "      <td>2.07</td>\n",
       "      <td>DRAW</td>\n",
       "    </tr>\n",
       "    <tr>\n",
       "      <th>402</th>\n",
       "      <td>17:30</td>\n",
       "      <td>2020-06-23</td>\n",
       "      <td>/soccer/spain/laliga2/lugo-malaga-0YV6cMbF/</td>\n",
       "      <td>Lugo</td>\n",
       "      <td>Malaga</td>\n",
       "      <td>3.20</td>\n",
       "      <td>2.85</td>\n",
       "      <td>2.54</td>\n",
       "      <td>TEAM1</td>\n",
       "    </tr>\n",
       "  </tbody>\n",
       "</table>\n",
       "</div>"
      ],
      "text/plain": [
       "      hora        date                                        area_league  \\\n",
       "400  17:00  2020-06-23  /soccer/england/premier-league/leicester-brigh...   \n",
       "394  17:00  2020-06-23  /soccer/germany/3-liga/chemnitzer-braunschweig...   \n",
       "397  17:00  2020-06-23  /soccer/germany/3-liga/chemnitzer-braunschweig...   \n",
       "402  17:30  2020-06-23        /soccer/spain/laliga2/lugo-malaga-0YV6cMbF/   \n",
       "\n",
       "          team1         team2  team1_odds  draw_odds  team2_odds objetivo  \n",
       "400   Leicester      Brighton        1.72       3.87        5.16    TEAM1  \n",
       "394  Chemnitzer  Braunschweig        3.34       3.61        2.07    TEAM1  \n",
       "397  Chemnitzer  Braunschweig        3.34       3.61        2.07     DRAW  \n",
       "402        Lugo        Malaga        3.20       2.85        2.54    TEAM1  "
      ]
     },
     "execution_count": 3,
     "metadata": {},
     "output_type": "execute_result"
    }
   ],
   "source": [
    "dsp.daily_prediction(df_prediccion)\n"
   ]
  },
  {
   "cell_type": "code",
   "execution_count": null,
   "metadata": {},
   "outputs": [],
   "source": []
  }
 ],
 "metadata": {
  "kernelspec": {
   "display_name": "Python 3",
   "language": "python",
   "name": "python3"
  },
  "language_info": {
   "codemirror_mode": {
    "name": "ipython",
    "version": 3
   },
   "file_extension": ".py",
   "mimetype": "text/x-python",
   "name": "python",
   "nbconvert_exporter": "python",
   "pygments_lexer": "ipython3",
   "version": "3.7.3"
  }
 },
 "nbformat": 4,
 "nbformat_minor": 2
}
